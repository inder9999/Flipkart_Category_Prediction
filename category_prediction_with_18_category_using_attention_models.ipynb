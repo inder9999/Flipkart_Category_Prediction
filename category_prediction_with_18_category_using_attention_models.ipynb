{
  "nbformat": 4,
  "nbformat_minor": 0,
  "metadata": {
    "colab": {
      "name": "category_prediction_with_18_category_using_attention_modelss.ipynb",
      "provenance": [],
      "collapsed_sections": []
    },
    "kernelspec": {
      "name": "python3",
      "display_name": "Python 3"
    },
    "language_info": {
      "name": "python"
    },
    "accelerator": "GPU"
  },
  "cells": [
    {
      "cell_type": "code",
      "metadata": {
        "id": "Aa83AQEWV2ys",
        "colab": {
          "base_uri": "https://localhost:8080/"
        },
        "outputId": "09dfeb08-04d5-4ba6-ba47-74e7eb8dbe35"
      },
      "source": [
        "'''Important Libraries and Modules that would be used throughout the task are imported'''\n",
        "from keras.layers import Embedding\n",
        "from keras.preprocessing.sequence import pad_sequences\n",
        "from keras.models import Sequential\n",
        "from keras.preprocessing.text import Tokenizer, text_to_word_sequence\n",
        "from keras.preprocessing.text import one_hot\n",
        "from keras.layers import LSTM\n",
        "from keras.layers import GRU\n",
        "from keras.layers import Dense\n",
        "from keras.layers import Input\n",
        "from keras.layers import Bidirectional\n",
        "from keras.layers import Dropout\n",
        "from keras.layers import concatenate\n",
        "from keras.layers import Flatten\n",
        "from keras.layers import Conv1D\n",
        "from keras.layers import Conv2D\n",
        "from keras.layers import MaxPooling1D\n",
        "from keras.layers import BatchNormalization\n",
        "from keras.models import Model\n",
        "from keras.layers import LeakyReLU\n",
        "from keras.layers import Lambda\n",
        "from keras.layers import Activation\n",
        "from keras.layers import Multiply\n",
        "from keras.layers import GlobalAveragePooling1D\n",
        "from keras.layers import GlobalMaxPooling1D\n",
        "import tensorflow as tf\n",
        "from tensorflow import keras\n",
        "from tensorflow.keras import layers\n",
        "import keras\n",
        "import keras.backend as K\n",
        "from keras.models import Sequential\n",
        "from keras.layers import Dense, Dropout, Activation, Reshape, Flatten, LSTM, Dense, Dropout, Embedding, Bidirectional, GRU\n",
        "from keras.optimizers import Adam\n",
        "from keras.layers import AveragePooling1D\n",
        "from keras.layers import TimeDistributed\n",
        "from keras.layers import Reshape\n",
        "import tensorflow as tf\n",
        "from keras.engine.topology import Layer\n",
        "from keras import initializers, regularizers\n",
        "from keras import optimizers\n",
        "from keras.engine.topology import Layer\n",
        "from keras import constraints\n",
        "import pandas as pd\n",
        "import nltk\n",
        "from nltk import tokenize\n",
        "import re\n",
        "from nltk.corpus import stopwords\n",
        "nltk.download('stopwords')\n",
        "nltk.download('punkt')\n",
        "from nltk.stem.porter import PorterStemmer\n",
        "import numpy as np\n",
        "from sklearn.model_selection import train_test_split\n",
        "from sklearn.metrics import accuracy_score\n",
        "from sklearn.metrics import classification_report\n",
        "from sklearn.metrics import confusion_matrix\n",
        "from keras.utils.vis_utils import plot_model\n",
        "from collections import Counter\n",
        "import matplotlib.pyplot as plt\n",
        "from sklearn.metrics import precision_score\n",
        "from sklearn.metrics import recall_score\n",
        "from sklearn.metrics import f1_score\n",
        "from sklearn.metrics import cohen_kappa_score\n",
        "from sklearn.metrics import roc_auc_score\n",
        "from sklearn.metrics import confusion_matrix\n",
        "from keras.callbacks import ModelCheckpoint\n",
        "from sklearn import preprocessing\n",
        "from keras.models import load_model\n",
        "import seaborn as sns"
      ],
      "execution_count": 2,
      "outputs": [
        {
          "output_type": "stream",
          "text": [
            "[nltk_data] Downloading package stopwords to /root/nltk_data...\n",
            "[nltk_data]   Package stopwords is already up-to-date!\n",
            "[nltk_data] Downloading package punkt to /root/nltk_data...\n",
            "[nltk_data]   Package punkt is already up-to-date!\n"
          ],
          "name": "stdout"
        }
      ]
    },
    {
      "cell_type": "code",
      "metadata": {
        "colab": {
          "base_uri": "https://localhost:8080/"
        },
        "id": "vy06ZDzcZbrO",
        "outputId": "6500019e-c6e1-4bc6-a17f-dd273dd94bca"
      },
      "source": [
        "from google.colab import drive\n",
        "drive.mount('/content/drive')"
      ],
      "execution_count": 3,
      "outputs": [
        {
          "output_type": "stream",
          "text": [
            "Mounted at /content/drive\n"
          ],
          "name": "stdout"
        }
      ]
    },
    {
      "cell_type": "code",
      "metadata": {
        "colab": {
          "base_uri": "https://localhost:8080/",
          "height": 221
        },
        "id": "5qCKfVjSXC62",
        "outputId": "a4ba2ef1-4a22-4351-f2a0-d4d0e4799af6"
      },
      "source": [
        "#Loading of Data in Pandas DataFrame from CSV file\n",
        "#Other Features were removed from the CSV as they are not used in the tasks \n",
        "data=pd.read_csv(\"/content/drive/MyDrive/IIIT_MIDAS/flipkart_com-ecommerce_sample.csv\", encoding= 'unicode_escape')\n",
        "print(len(data))\n",
        "data.head()"
      ],
      "execution_count": 4,
      "outputs": [
        {
          "output_type": "stream",
          "text": [
            "20000\n"
          ],
          "name": "stdout"
        },
        {
          "output_type": "execute_result",
          "data": {
            "text/html": [
              "<div>\n",
              "<style scoped>\n",
              "    .dataframe tbody tr th:only-of-type {\n",
              "        vertical-align: middle;\n",
              "    }\n",
              "\n",
              "    .dataframe tbody tr th {\n",
              "        vertical-align: top;\n",
              "    }\n",
              "\n",
              "    .dataframe thead th {\n",
              "        text-align: right;\n",
              "    }\n",
              "</style>\n",
              "<table border=\"1\" class=\"dataframe\">\n",
              "  <thead>\n",
              "    <tr style=\"text-align: right;\">\n",
              "      <th></th>\n",
              "      <th>product_category_tree</th>\n",
              "      <th>description</th>\n",
              "      <th>brand</th>\n",
              "    </tr>\n",
              "  </thead>\n",
              "  <tbody>\n",
              "    <tr>\n",
              "      <th>0</th>\n",
              "      <td>[\"Clothing &gt;&gt; Women's Clothing &gt;&gt; Lingerie, Sl...</td>\n",
              "      <td>Key Features of Alisha Solid Women's Cycling S...</td>\n",
              "      <td>Alisha</td>\n",
              "    </tr>\n",
              "    <tr>\n",
              "      <th>1</th>\n",
              "      <td>[\"Furniture &gt;&gt; Living Room Furniture &gt;&gt; Sofa B...</td>\n",
              "      <td>FabHomeDecor Fabric Double Sofa Bed (Finish Co...</td>\n",
              "      <td>FabHomeDecor</td>\n",
              "    </tr>\n",
              "    <tr>\n",
              "      <th>2</th>\n",
              "      <td>[\"Footwear &gt;&gt; Women's Footwear &gt;&gt; Ballerinas &gt;...</td>\n",
              "      <td>Key Features of AW Bellies Sandals Wedges Heel...</td>\n",
              "      <td>AW</td>\n",
              "    </tr>\n",
              "    <tr>\n",
              "      <th>3</th>\n",
              "      <td>[\"Clothing &gt;&gt; Women's Clothing &gt;&gt; Lingerie, Sl...</td>\n",
              "      <td>Key Features of Alisha Solid Women's Cycling S...</td>\n",
              "      <td>Alisha</td>\n",
              "    </tr>\n",
              "    <tr>\n",
              "      <th>4</th>\n",
              "      <td>[\"Pet Supplies &gt;&gt; Grooming &gt;&gt; Skin &amp; Coat Care...</td>\n",
              "      <td>Specifications of Sicons All Purpose Arnica Do...</td>\n",
              "      <td>Sicons</td>\n",
              "    </tr>\n",
              "  </tbody>\n",
              "</table>\n",
              "</div>"
            ],
            "text/plain": [
              "                               product_category_tree  ...         brand\n",
              "0  [\"Clothing >> Women's Clothing >> Lingerie, Sl...  ...        Alisha\n",
              "1  [\"Furniture >> Living Room Furniture >> Sofa B...  ...  FabHomeDecor\n",
              "2  [\"Footwear >> Women's Footwear >> Ballerinas >...  ...            AW\n",
              "3  [\"Clothing >> Women's Clothing >> Lingerie, Sl...  ...        Alisha\n",
              "4  [\"Pet Supplies >> Grooming >> Skin & Coat Care...  ...        Sicons\n",
              "\n",
              "[5 rows x 3 columns]"
            ]
          },
          "metadata": {
            "tags": []
          },
          "execution_count": 4
        }
      ]
    },
    {
      "cell_type": "code",
      "metadata": {
        "colab": {
          "base_uri": "https://localhost:8080/",
          "height": 103
        },
        "id": "svcm2XiGNM8R",
        "outputId": "87616bb7-3375-4a2b-e61d-bb40ebf6e9ce"
      },
      "source": [
        "data.description[1]"
      ],
      "execution_count": 5,
      "outputs": [
        {
          "output_type": "execute_result",
          "data": {
            "application/vnd.google.colaboratory.intrinsic+json": {
              "type": "string"
            },
            "text/plain": [
              "\"FabHomeDecor Fabric Double Sofa Bed (Finish Color - Leatherette Black Mechanism Type - Pull Out) Price: Rs. 22,646 \\x95 Fine deep seating experience \\x95 Save Space with the all new click clack Sofa Bed \\x95 Easy to fold and vice versa with simple click clack mechanism \\x95 Chrome legs with mango wood frame for long term durability \\x95 Double cushioned Sofa Bed to provide you with extra softness to make a fine seating experience \\x95 A double bed that can easily sleep two,Specifications of FabHomeDecor Fabric Double Sofa Bed (Finish Color - Leatherette Black Mechanism Type - Pull Out) Installation & Demo Installation & Demo Details Installation and demo for this product is done free of cost as part of this purchase. Our service partner will visit your location within 72 business hours from the delivery of the product. In The Box 1 Sofa Bed General Brand FabHomeDecor Mattress Included No Delivery Condition Knock Down Storage Included No Mechanism Type Pull Out Type Sofa Bed Style Contemporary & Modern Filling Material Microfiber Seating Capacity 3 Seater Upholstery Type NA Upholstery Included No Bed Size Double Shape Square Suitable For Living Room Model Number FHD112 Care Instructions Avoid outdoor use and exposure to water or prolonged moisture, Avoid exposure to direct heat or sunlight as this can cause the sofa colour to fade, Keep sharp objects away from your sofa, A little tear on the fabric cover may be hard to repair, Vacuum your sofas periodically with a soft bristled bru...View More Avoid outdoor use and exposure to water or prolonged moisture, Avoid exposure to direct heat or sunlight as this can cause the sofa colour to fade, Keep sharp objects away from your sofa, A little tear on the fabric cover may be hard to repair, Vacuum your sofas periodically with a soft bristled brush attachment or lightly brush them to keep general dirt and dust off the sofa and prevent any embedding between the fibres, Try to avoid food and drink spillage of any kind, If spills occur, do not leave unattended, In case of a stain, a water-free fabric cleaner can be used, However, avoid applying the cleaner directly on the stain as this can cause damage to the fabric and fade colour, Pour the cleaner onto a clean cloth and test its effect on a hidden area of the sofa before cleaning the stain with the cloth, A professional scotchguard treatment is one of the easiest and most effective options to protect against spills or stains and keep pet hair at bay, Getting your sofa professionally cleaned once every 6-8 months will not only take care of the nooks and corners that you can't reach, it will also make it more durable Finish Type Matte Important Note Cancellation NOT allowed for this product after 24 hrs of order booking. Warranty Covered in Warranty Warranty covers all kind of manufacturing defects. Concerned product will either be repaired or replaced based on discretion. Service Type Manufacturer Warranty Warranty Summary 6 Months Domestic Warranty Not Covered in Warranty Warranty does not cover for Improper Handling Dimensions Weight 40 kg Height 838 mm Width 1905 mm Depth 939 mm Disclaimer - The color of the product may vary slightly compared to the picture displayed on your screen. This is due to lighting, pixel quality and color settings - Please check the product's dimensions to ensure the product will fit in the desired location. Also, check if the product will fit through...View More - The color of the product may vary slightly compared to the picture displayed on your screen. This is due to lighting, pixel quality and color settings - Please check the product's dimensions to ensure the product will fit in the desired location. Also, check if the product will fit through the entrance(s) and door(s) of the premises - Please expect an unevenness of up to 5 mm in the product due to differences in surfaces and floor levels - Flipkart, or the Seller delivering the product, will not take up any type of civil work, such as drilling holes in the wall to mount the product. The product will only be assembled in case carpentry assembly is required - In case the product appears to lack shine, wiping the surface with a cloth will help clear the surface of dust particles Material & Color Upholstery Color Leatherette Black Primary Color Black Primary Material Fabric Secondary Material Subtype Mango Wood Secondary Material Foam Finish Color Leatherette Black Primary Material Subtype Foam\""
            ]
          },
          "metadata": {
            "tags": []
          },
          "execution_count": 5
        }
      ]
    },
    {
      "cell_type": "code",
      "metadata": {
        "colab": {
          "base_uri": "https://localhost:8080/",
          "height": 204
        },
        "id": "vQXVquHsXnhN",
        "outputId": "e2983346-39bb-497e-a1f1-e653a51e68b6"
      },
      "source": [
        "#Text Preprocessing\n",
        "category=[]\n",
        "description_sent=[]\n",
        "description=[]\n",
        "for i in range(len(data)):\n",
        "  if type(data['description'][i]) == str :\n",
        "    category.append(data[\"product_category_tree\"][i].split('>>')[0][2:-1]) #Primary Category is being extracted from the product category tree\n",
        "    des = re.sub('[^a-zA-Z]', ' ', data['description'][i])\n",
        "    des = re.sub('[/(){}\\[\\]\\|@,.;_]', ' ', des) #Removing the symbols that are not useful in classification task\n",
        "    des = des.lower() #Converting the text into lowercase \n",
        "    description.append(des)\n",
        "\n",
        "    sentences=[]\n",
        "    sentence = tokenize.sent_tokenize(data['description'][i])\n",
        "    for sent in sentence :\n",
        "      sent = re.sub('[^a-zA-Z]', ' ', sent)\n",
        "      sent = re.sub('[/(){}\\[\\]\\|@,.;_]', ' ', sent) #Removing the symbols that are not useful in classification task\n",
        "      sent = sent.lower() #Converting the text into lowercase \n",
        "      sentences.append(sent)\n",
        "    description_sent.append(sentences)\n",
        "\n",
        "data = pd.DataFrame()\n",
        "data[\"category\"]=category\n",
        "data[\"description\"]=description\n",
        "data.head()    \n"
      ],
      "execution_count": 6,
      "outputs": [
        {
          "output_type": "execute_result",
          "data": {
            "text/html": [
              "<div>\n",
              "<style scoped>\n",
              "    .dataframe tbody tr th:only-of-type {\n",
              "        vertical-align: middle;\n",
              "    }\n",
              "\n",
              "    .dataframe tbody tr th {\n",
              "        vertical-align: top;\n",
              "    }\n",
              "\n",
              "    .dataframe thead th {\n",
              "        text-align: right;\n",
              "    }\n",
              "</style>\n",
              "<table border=\"1\" class=\"dataframe\">\n",
              "  <thead>\n",
              "    <tr style=\"text-align: right;\">\n",
              "      <th></th>\n",
              "      <th>category</th>\n",
              "      <th>description</th>\n",
              "    </tr>\n",
              "  </thead>\n",
              "  <tbody>\n",
              "    <tr>\n",
              "      <th>0</th>\n",
              "      <td>Clothing</td>\n",
              "      <td>key features of alisha solid women s cycling s...</td>\n",
              "    </tr>\n",
              "    <tr>\n",
              "      <th>1</th>\n",
              "      <td>Furniture</td>\n",
              "      <td>fabhomedecor fabric double sofa bed  finish co...</td>\n",
              "    </tr>\n",
              "    <tr>\n",
              "      <th>2</th>\n",
              "      <td>Footwear</td>\n",
              "      <td>key features of aw bellies sandals wedges heel...</td>\n",
              "    </tr>\n",
              "    <tr>\n",
              "      <th>3</th>\n",
              "      <td>Clothing</td>\n",
              "      <td>key features of alisha solid women s cycling s...</td>\n",
              "    </tr>\n",
              "    <tr>\n",
              "      <th>4</th>\n",
              "      <td>Pet Supplies</td>\n",
              "      <td>specifications of sicons all purpose arnica do...</td>\n",
              "    </tr>\n",
              "  </tbody>\n",
              "</table>\n",
              "</div>"
            ],
            "text/plain": [
              "       category                                        description\n",
              "0      Clothing  key features of alisha solid women s cycling s...\n",
              "1     Furniture  fabhomedecor fabric double sofa bed  finish co...\n",
              "2      Footwear  key features of aw bellies sandals wedges heel...\n",
              "3      Clothing  key features of alisha solid women s cycling s...\n",
              "4  Pet Supplies  specifications of sicons all purpose arnica do..."
            ]
          },
          "metadata": {
            "tags": []
          },
          "execution_count": 6
        }
      ]
    },
    {
      "cell_type": "code",
      "metadata": {
        "colab": {
          "base_uri": "https://localhost:8080/",
          "height": 298
        },
        "id": "IR_eHbamvi-1",
        "outputId": "695699c9-9577-42dc-b371-b2ced3e7c9c8"
      },
      "source": [
        "# Distibution of data samples to the categories\n",
        "category_counts= Counter(category)\n",
        "print(f\"Total No. of Categories :\",len(category_counts.keys()))\n",
        "plt.bar(category_counts.keys(),category_counts.values() )\n",
        "plt.title(label='Distibution of data samples to the categories')\n",
        "plt.show() "
      ],
      "execution_count": 7,
      "outputs": [
        {
          "output_type": "stream",
          "text": [
            "Total No. of Categories : 266\n"
          ],
          "name": "stdout"
        },
        {
          "output_type": "display_data",
          "data": {
            "image/png": "[encoded data removed]",
            "text/plain": [
              "<Figure size 432x288 with 1 Axes>"
            ]
          },
          "metadata": {
            "tags": [],
            "needs_background": "light"
          }
        }
      ]
    },
    {
      "cell_type": "code",
      "metadata": {
        "colab": {
          "base_uri": "https://localhost:8080/",
          "height": 281
        },
        "id": "w-PePl27yZ-o",
        "outputId": "2354ab73-3c40-497c-b460-210da09be5e1"
      },
      "source": [
        "#only keeping the categories with more than 100 samples\n",
        "new_dict={}\n",
        "for key, value in category_counts.items():\n",
        "  if value>100:\n",
        "    new_dict[key]=value\n",
        "plt.bar(new_dict.keys(),new_dict.values())\n",
        "plt.title(label='Distibution of data samples to the categories having more than 100 samples')\n",
        "plt.show() "
      ],
      "execution_count": 8,
      "outputs": [
        {
          "output_type": "display_data",
          "data": {
            "image/png": "[encoded data removed]",
            "text/plain": [
              "<Figure size 432x288 with 1 Axes>"
            ]
          },
          "metadata": {
            "tags": [],
            "needs_background": "light"
          }
        }
      ]
    },
    {
      "cell_type": "code",
      "metadata": {
        "colab": {
          "base_uri": "https://localhost:8080/"
        },
        "id": "-g3KiGUa5Tlo",
        "outputId": "819cd0ae-bfa2-4c94-ed40-83672f821ef1"
      },
      "source": [
        "new_dict"
      ],
      "execution_count": 9,
      "outputs": [
        {
          "output_type": "execute_result",
          "data": {
            "text/plain": [
              "{'Automotive': 1012,\n",
              " 'Baby Care': 483,\n",
              " 'Bags, Wallets & Belts': 265,\n",
              " 'Beauty and Personal Care': 710,\n",
              " 'Clothing': 6197,\n",
              " 'Computers': 578,\n",
              " 'Footwear': 1227,\n",
              " 'Furniture': 180,\n",
              " 'Home Decor & Festive Needs': 929,\n",
              " 'Home Furnishing': 699,\n",
              " 'Jewellery': 3531,\n",
              " 'Kitchen & Dining': 647,\n",
              " 'Mobiles & Accessories': 1099,\n",
              " 'Pens & Stationery': 313,\n",
              " 'Sports & Fitness': 166,\n",
              " 'Tools & Hardware': 391,\n",
              " 'Toys & School Supplies': 330,\n",
              " 'Watches': 530}"
            ]
          },
          "metadata": {
            "tags": []
          },
          "execution_count": 9
        }
      ]
    },
    {
      "cell_type": "code",
      "metadata": {
        "colab": {
          "base_uri": "https://localhost:8080/",
          "height": 204
        },
        "id": "Xk0V1AMitU4d",
        "outputId": "34abe132-51c6-4158-eef0-0537ddd101e9"
      },
      "source": [
        "#Storing the description and category having more than 100 instances in dataframe\n",
        "new_description=[]\n",
        "new_category=[]\n",
        "new_description_sent=[]\n",
        "for i in range(len(description)):\n",
        "  if category[i] in new_dict.keys():\n",
        "    new_description.append(description[i])\n",
        "    new_category.append(category[i])\n",
        "    new_description_sent.append(description_sent[i])\n",
        "    \n",
        "new_df=pd.DataFrame()\n",
        "new_df[\"description\"]=new_description\n",
        "new_df[\"category\"]=new_category\n",
        "new_df.head()"
      ],
      "execution_count": 10,
      "outputs": [
        {
          "output_type": "execute_result",
          "data": {
            "text/html": [
              "<div>\n",
              "<style scoped>\n",
              "    .dataframe tbody tr th:only-of-type {\n",
              "        vertical-align: middle;\n",
              "    }\n",
              "\n",
              "    .dataframe tbody tr th {\n",
              "        vertical-align: top;\n",
              "    }\n",
              "\n",
              "    .dataframe thead th {\n",
              "        text-align: right;\n",
              "    }\n",
              "</style>\n",
              "<table border=\"1\" class=\"dataframe\">\n",
              "  <thead>\n",
              "    <tr style=\"text-align: right;\">\n",
              "      <th></th>\n",
              "      <th>description</th>\n",
              "      <th>category</th>\n",
              "    </tr>\n",
              "  </thead>\n",
              "  <tbody>\n",
              "    <tr>\n",
              "      <th>0</th>\n",
              "      <td>key features of alisha solid women s cycling s...</td>\n",
              "      <td>Clothing</td>\n",
              "    </tr>\n",
              "    <tr>\n",
              "      <th>1</th>\n",
              "      <td>fabhomedecor fabric double sofa bed  finish co...</td>\n",
              "      <td>Furniture</td>\n",
              "    </tr>\n",
              "    <tr>\n",
              "      <th>2</th>\n",
              "      <td>key features of aw bellies sandals wedges heel...</td>\n",
              "      <td>Footwear</td>\n",
              "    </tr>\n",
              "    <tr>\n",
              "      <th>3</th>\n",
              "      <td>key features of alisha solid women s cycling s...</td>\n",
              "      <td>Clothing</td>\n",
              "    </tr>\n",
              "    <tr>\n",
              "      <th>4</th>\n",
              "      <td>key features of alisha solid women s cycling s...</td>\n",
              "      <td>Clothing</td>\n",
              "    </tr>\n",
              "  </tbody>\n",
              "</table>\n",
              "</div>"
            ],
            "text/plain": [
              "                                         description   category\n",
              "0  key features of alisha solid women s cycling s...   Clothing\n",
              "1  fabhomedecor fabric double sofa bed  finish co...  Furniture\n",
              "2  key features of aw bellies sandals wedges heel...   Footwear\n",
              "3  key features of alisha solid women s cycling s...   Clothing\n",
              "4  key features of alisha solid women s cycling s...   Clothing"
            ]
          },
          "metadata": {
            "tags": []
          },
          "execution_count": 10
        }
      ]
    },
    {
      "cell_type": "code",
      "metadata": {
        "colab": {
          "base_uri": "https://localhost:8080/",
          "height": 204
        },
        "id": "aqefxHEOctc8",
        "outputId": "2221ee92-b672-4d62-dec9-be4924fd0c16"
      },
      "source": [
        "#Encoding the textual label to the integer labels\n",
        "lab_enc = preprocessing.LabelEncoder()\n",
        "lab_enc.fit(new_df.category)\n",
        "new_df['categorical_label'] = lab_enc.transform(new_df.category)\n",
        "new_df.head()"
      ],
      "execution_count": 11,
      "outputs": [
        {
          "output_type": "execute_result",
          "data": {
            "text/html": [
              "<div>\n",
              "<style scoped>\n",
              "    .dataframe tbody tr th:only-of-type {\n",
              "        vertical-align: middle;\n",
              "    }\n",
              "\n",
              "    .dataframe tbody tr th {\n",
              "        vertical-align: top;\n",
              "    }\n",
              "\n",
              "    .dataframe thead th {\n",
              "        text-align: right;\n",
              "    }\n",
              "</style>\n",
              "<table border=\"1\" class=\"dataframe\">\n",
              "  <thead>\n",
              "    <tr style=\"text-align: right;\">\n",
              "      <th></th>\n",
              "      <th>description</th>\n",
              "      <th>category</th>\n",
              "      <th>categorical_label</th>\n",
              "    </tr>\n",
              "  </thead>\n",
              "  <tbody>\n",
              "    <tr>\n",
              "      <th>0</th>\n",
              "      <td>key features of alisha solid women s cycling s...</td>\n",
              "      <td>Clothing</td>\n",
              "      <td>4</td>\n",
              "    </tr>\n",
              "    <tr>\n",
              "      <th>1</th>\n",
              "      <td>fabhomedecor fabric double sofa bed  finish co...</td>\n",
              "      <td>Furniture</td>\n",
              "      <td>7</td>\n",
              "    </tr>\n",
              "    <tr>\n",
              "      <th>2</th>\n",
              "      <td>key features of aw bellies sandals wedges heel...</td>\n",
              "      <td>Footwear</td>\n",
              "      <td>6</td>\n",
              "    </tr>\n",
              "    <tr>\n",
              "      <th>3</th>\n",
              "      <td>key features of alisha solid women s cycling s...</td>\n",
              "      <td>Clothing</td>\n",
              "      <td>4</td>\n",
              "    </tr>\n",
              "    <tr>\n",
              "      <th>4</th>\n",
              "      <td>key features of alisha solid women s cycling s...</td>\n",
              "      <td>Clothing</td>\n",
              "      <td>4</td>\n",
              "    </tr>\n",
              "  </tbody>\n",
              "</table>\n",
              "</div>"
            ],
            "text/plain": [
              "                                         description  ... categorical_label\n",
              "0  key features of alisha solid women s cycling s...  ...                 4\n",
              "1  fabhomedecor fabric double sofa bed  finish co...  ...                 7\n",
              "2  key features of aw bellies sandals wedges heel...  ...                 6\n",
              "3  key features of alisha solid women s cycling s...  ...                 4\n",
              "4  key features of alisha solid women s cycling s...  ...                 4\n",
              "\n",
              "[5 rows x 3 columns]"
            ]
          },
          "metadata": {
            "tags": []
          },
          "execution_count": 11
        }
      ]
    },
    {
      "cell_type": "code",
      "metadata": {
        "colab": {
          "base_uri": "https://localhost:8080/",
          "height": 281
        },
        "id": "Z4oYjqngCaSg",
        "outputId": "6008e29f-9f6a-4458-c488-4f6a45b18ffc"
      },
      "source": [
        "#analysing the sentence length of the description\n",
        "df=new_df[\"description\"]\n",
        "length=[]\n",
        "for i in range(len(df)) :\n",
        "  if type(df[i])==str:\n",
        "    length.append(len(nltk.word_tokenize(df[i])))\n",
        "c= Counter(length)\n",
        "plt.bar(c.keys(),c.values())\n",
        "plt.xlim(0,200)\n",
        "plt.title(label='Distrbution of the text length in descriptions')\n",
        "plt.show() "
      ],
      "execution_count": 12,
      "outputs": [
        {
          "output_type": "display_data",
          "data": {
            "image/png": "[encoded data removed]",
            "text/plain": [
              "<Figure size 432x288 with 1 Axes>"
            ]
          },
          "metadata": {
            "tags": [],
            "needs_background": "light"
          }
        }
      ]
    },
    {
      "cell_type": "code",
      "metadata": {
        "colab": {
          "base_uri": "https://localhost:8080/",
          "height": 281
        },
        "id": "R7-OMmB3BV4Q",
        "outputId": "da647bf4-fedb-4ed7-bf5c-c2a8f173abe4"
      },
      "source": [
        "no_sents=[]\n",
        "sent_length = []\n",
        "for text in new_description_sent:\n",
        "  no_sents.append(len(text))\n",
        "  for sent in text :\n",
        "    sent_length.append(len(sent))\n",
        "\n",
        "c= Counter(no_sents)\n",
        "plt.bar(c.keys(),c.values())\n",
        "plt.xlim(0,15)\n",
        "plt.title(label='Distrbution of the number of sentences in descriptions')\n",
        "plt.show()     "
      ],
      "execution_count": 13,
      "outputs": [
        {
          "output_type": "display_data",
          "data": {
            "image/png": "[encoded data removed]",
            "text/plain": [
              "<Figure size 432x288 with 1 Axes>"
            ]
          },
          "metadata": {
            "tags": [],
            "needs_background": "light"
          }
        }
      ]
    },
    {
      "cell_type": "code",
      "metadata": {
        "colab": {
          "base_uri": "https://localhost:8080/",
          "height": 281
        },
        "id": "ql3O2H72492b",
        "outputId": "1d4ed775-8399-4f74-f96d-fd7280149e82"
      },
      "source": [
        "c= Counter(sent_length)\n",
        "plt.bar(c.keys(),c.values())\n",
        "plt.xlim(0,100)\n",
        "plt.title(label='Distrbution of the sentence length in descriptions')\n",
        "plt.show() "
      ],
      "execution_count": 14,
      "outputs": [
        {
          "output_type": "display_data",
          "data": {
            "image/png": "[encoded data removed]",
            "text/plain": [
              "<Figure size 432x288 with 1 Axes>"
            ]
          },
          "metadata": {
            "tags": [],
            "needs_background": "light"
          }
        }
      ]
    },
    {
      "cell_type": "code",
      "metadata": {
        "id": "7LxrWznbVxG3"
      },
      "source": [
        "#Splitting the dataset into training, testing and validation data\n",
        "X_train, X_test, y_train, y_test, X_sent_train, X_sent_test = train_test_split(new_df[\"description\"], new_df[\"categorical_label\"], new_description_sent, test_size=0.3, random_state=42)\n",
        "X_test, X_val, y_test, y_val, X_sent_test, X_sent_val = train_test_split(X_test, y_test, X_sent_test, test_size=0.5, random_state=42)\n"
      ],
      "execution_count": 15,
      "outputs": []
    },
    {
      "cell_type": "code",
      "metadata": {
        "colab": {
          "base_uri": "https://localhost:8080/"
        },
        "id": "rV9JowD_QEyM",
        "outputId": "2663475c-5d79-4992-92c2-d3ff24b47e36"
      },
      "source": [
        "#Fitting the tokenizer on the trainig dataset \n",
        "sent_length=128\n",
        "tokenizer=Tokenizer()\n",
        "tokenizer.fit_on_texts(X_train)\n",
        "word_index = tokenizer.word_index\n",
        "voc_size = len(tokenizer.word_index) + 1\n",
        "print(\"Vocabulary Size:\", voc_size)\n"
      ],
      "execution_count": 16,
      "outputs": [
        {
          "output_type": "stream",
          "text": [
            "Vocabulary Size: 16399\n"
          ],
          "name": "stdout"
        }
      ]
    },
    {
      "cell_type": "code",
      "metadata": {
        "id": "OUsXTc1zwlSV"
      },
      "source": [
        "#Converting the Description in the training data to the tokens \n",
        "sequences = tokenizer.texts_to_sequences(X_train)\n",
        "embedded_docs=pad_sequences(sequences,padding='post',maxlen=sent_length)\n",
        "X_train=np.array(embedded_docs)"
      ],
      "execution_count": 17,
      "outputs": []
    },
    {
      "cell_type": "code",
      "metadata": {
        "id": "TjrZs-U0XXge"
      },
      "source": [
        "#Converting the Description in the testing data to the tokens \n",
        "sequences = tokenizer.texts_to_sequences(X_test)\n",
        "embedded_docs=pad_sequences(sequences,padding='post',maxlen=sent_length)\n",
        "X_test=np.array(embedded_docs)    "
      ],
      "execution_count": 18,
      "outputs": []
    },
    {
      "cell_type": "code",
      "metadata": {
        "id": "09jk36PKP0M3"
      },
      "source": [
        "#Converting the Description in the validation data to the tokens \n",
        "sequences = tokenizer.texts_to_sequences(X_val)\n",
        "embedded_docs=pad_sequences(sequences,padding='post',maxlen=sent_length)\n",
        "X_val=np.array(embedded_docs)  "
      ],
      "execution_count": 19,
      "outputs": []
    },
    {
      "cell_type": "code",
      "metadata": {
        "id": "GRO5mheXFWxG"
      },
      "source": [
        "max_sentences=10\n",
        "maxlen=50\n",
        "sent_train = np.zeros((len(X_sent_train ), 10, 50), dtype='int32')\n",
        "\n",
        "for i, sentences in enumerate(X_sent_train):\n",
        "    for j, sent in enumerate(sentences):\n",
        "        if j < max_sentences:\n",
        "            wordTokens = text_to_word_sequence(sent)\n",
        "            k = 0\n",
        "            for _, word in enumerate(wordTokens):\n",
        "                if k < maxlen :\n",
        "                    sent_train[i, j, k] = tokenizer.word_index[word]\n",
        "                    k = k + 1"
      ],
      "execution_count": 20,
      "outputs": []
    },
    {
      "cell_type": "code",
      "metadata": {
        "id": "Zeq_LE1QHxPU"
      },
      "source": [
        "max_sentences=10\n",
        "maxlen=50\n",
        "sent_test = np.zeros((len(X_sent_test ), 10, 50), dtype='int32')\n",
        "\n",
        "for i, sentences in enumerate(X_sent_test):\n",
        "    for j, sent in enumerate(sentences):\n",
        "        if j < max_sentences:\n",
        "            wordTokens = text_to_word_sequence(sent)\n",
        "            k = 0\n",
        "            for _, word in enumerate(wordTokens):\n",
        "                if k < maxlen  :\n",
        "                  if word in tokenizer.word_index.keys():\n",
        "                    sent_test[i, j, k] = tokenizer.word_index[word]\n",
        "                    k = k + 1 "
      ],
      "execution_count": 21,
      "outputs": []
    },
    {
      "cell_type": "code",
      "metadata": {
        "id": "5pM5eG64HHAA"
      },
      "source": [
        "max_sentences=10\n",
        "maxlen=50\n",
        "sent_val = np.zeros((len(X_sent_val ), 10, 50), dtype='int32')\n",
        "\n",
        "for i, sentences in enumerate(X_sent_val):\n",
        "    for j, sent in enumerate(sentences):\n",
        "        if j < max_sentences:\n",
        "            wordTokens = text_to_word_sequence(sent)\n",
        "            k = 0\n",
        "            for _, word in enumerate(wordTokens):\n",
        "                if k < maxlen  :\n",
        "                  if word in tokenizer.word_index.keys():\n",
        "                    sent_val[i, j, k] = tokenizer.word_index[word]\n",
        "                    k = k + 1 "
      ],
      "execution_count": 22,
      "outputs": []
    },
    {
      "cell_type": "code",
      "metadata": {
        "id": "pCNO1zms52Tk"
      },
      "source": [
        "#Defining Function for Attention Layer\n",
        "\n",
        "\n",
        "############################################## \n",
        "\"\"\"\n",
        "# ATTENTION LAYER\n",
        "Cite these works \n",
        "1. Yang et al. [https://www.cs.cmu.edu/~diyiy/docs/naacl16.pdf]\n",
        "\"Hierarchical Attention Networks for Document Classification\"\n",
        "accepted in NAACL 2016\n",
        "2. Winata, et al. https://arxiv.org/abs/1805.12307\n",
        "\"Attention-Based LSTM for Psychological Stress Detection from Spoken Language Using Distant Supervision.\" \n",
        "accepted in ICASSP 2018\n",
        "Using a context vector to assist the attention\n",
        "* How to use:\n",
        "Put return_sequences=True on the top of an RNN Layer (GRU/LSTM/SimpleRNN).\n",
        "The dimensions are inferred based on the output shape of the RNN.\n",
        "Example:\n",
        "\tmodel.add(LSTM(64, return_sequences=True))\n",
        "\tmodel.add(AttentionWithContext())\n",
        "\tmodel.add(Addition())\n",
        "\t# next add a Dense layer (for classification/regression) or whatever...\n",
        "\"\"\"\n",
        "##############################################\n",
        "\n",
        "def dot_product(x, kernel):\n",
        "\n",
        "\tif K.backend() == 'tensorflow':\n",
        "\t\treturn K.squeeze(K.dot(x, K.expand_dims(kernel)), axis=-1)\n",
        "\telse:\n",
        "\t\treturn K.dot(x, kernel)\n",
        "\n",
        "class AttentionWithContext(Layer):\n",
        "\n",
        "\n",
        "\tdef __init__(self,\n",
        "\t\t\t\t W_regularizer=None, u_regularizer=None, b_regularizer=None,\n",
        "\t\t\t\t W_constraint=None, u_constraint=None, b_constraint=None,\n",
        "\t\t\t\t bias=True, **kwargs):\n",
        "\n",
        "\t\tself.supports_masking = True\n",
        "\t\tself.init = initializers.get('glorot_uniform')\n",
        "\n",
        "\t\tself.W_regularizer = regularizers.get(W_regularizer)\n",
        "\t\tself.u_regularizer = regularizers.get(u_regularizer)\n",
        "\t\tself.b_regularizer = regularizers.get(b_regularizer)\n",
        "\n",
        "\t\tself.W_constraint = constraints.get(W_constraint)\n",
        "\t\tself.u_constraint = constraints.get(u_constraint)\n",
        "\t\tself.b_constraint = constraints.get(b_constraint)\n",
        "\n",
        "\t\tself.bias = bias\n",
        "\t\tsuper(AttentionWithContext, self).__init__(**kwargs)\n",
        "\n",
        "    \n",
        "\tdef build(self, input_shape):\n",
        "\t\tassert len(input_shape) == 3\n",
        "\n",
        "\t\tself.W = self.add_weight(shape = (input_shape[-1], input_shape[-1],),\n",
        "\t\t\t\t\t\t\t\t initializer=self.init,\n",
        "                 name='{}_W'.format(self.name),\n",
        "\t\t\t\t\t\t\t\t regularizer=self.W_regularizer,\n",
        "\t\t\t\t\t\t\t\t constraint=self.W_constraint)\n",
        "\t\tif self.bias:\n",
        "\t\t\tself.b = self.add_weight(shape = (input_shape[-1],),\n",
        "\t\t\t\t\t\t\t\t\t initializer='zero',\n",
        "                   name='{}_W'.format(self.name),\n",
        "\t\t\t\t\t\t\t\t\t regularizer=self.b_regularizer,\n",
        "\t\t\t\t\t\t\t\t\t constraint=self.b_constraint)\n",
        "\n",
        "\t\tself.u = self.add_weight(shape = (input_shape[-1],),\n",
        "\t\t\t\t\t\t\t\t initializer=self.init,\n",
        "                 name='{}_W'.format(self.name),\n",
        "\t\t\t\t\t\t\t\t regularizer=self.u_regularizer,\n",
        "\t\t\t\t\t\t\t\t constraint=self.u_constraint)\n",
        "\n",
        "\t\tsuper(AttentionWithContext, self).build(input_shape)\n",
        "\n",
        "\tdef compute_mask(self, input, input_mask=None):\n",
        "\t\t# do not pass the mask to the next layers\n",
        "\t\treturn None\n",
        "\n",
        "\tdef call(self, x, mask=None):\n",
        "\t\tuit = dot_product(x, self.W)\n",
        "\n",
        "\t\tif self.bias:\n",
        "\t\t\tuit += self.b\n",
        "\n",
        "\t\tuit = K.tanh(uit)\n",
        "\t\tait = dot_product(uit, self.u)\n",
        "\n",
        "\t\ta = K.exp(ait)\n",
        "\n",
        "\t\tif mask is not None:\n",
        "\t\t\ta *= K.cast(mask, K.floatx())\n",
        "\n",
        "\t\ta /= K.cast(K.sum(a, axis=1, keepdims=True) + K.epsilon(), K.floatx())\n",
        "\n",
        "\t\ta = K.expand_dims(a)\n",
        "\t\tweighted_input = x * a\n",
        "\t\t\n",
        "\t\treturn weighted_input\n",
        "\n",
        "\tdef compute_output_shape(self, input_shape):\n",
        "\t\treturn input_shape[0], input_shape[1], input_shape[2]\n",
        "\t\n",
        "class Addition(Layer):\n",
        "\n",
        "\tdef __init__(self, **kwargs):\n",
        "\t\tsuper(Addition, self).__init__(**kwargs)\n",
        "\n",
        "\tdef build(self, input_shape):\n",
        "\t\tself.output_dim = input_shape[-1]\n",
        "\t\tsuper(Addition, self).build(input_shape)\n",
        "\n",
        "\tdef call(self, x):\n",
        "\t\treturn K.sum(x, axis=1)\n",
        "\n",
        "\tdef compute_output_shape(self, input_shape):\n",
        "\t\treturn (input_shape[0], self.output_dim)"
      ],
      "execution_count": 23,
      "outputs": []
    },
    {
      "cell_type": "code",
      "metadata": {
        "colab": {
          "base_uri": "https://localhost:8080/"
        },
        "id": "atJs0yFp5f8A",
        "outputId": "59aa1fa5-a33e-45cf-e21e-575bf79edbf9"
      },
      "source": [
        "#Building the AttBiLSTM model\n",
        "input=Input(shape=(sent_length,)) \n",
        "x=Embedding(voc_size,100,input_length=sent_length)(input) \n",
        "x=Bidirectional(LSTM(64, return_sequences=True, dropout=0.2))(x) \n",
        "x=AttentionWithContext()(x) \n",
        "x=Addition()(x) \n",
        "x=Dense(18,activation='sigmoid')(x) \n",
        "model4=Model(inputs=input, outputs=x, name='AttBiLSTM') \n",
        "model4.compile(loss= 'sparse_categorical_crossentropy', optimizer='adam',metrics=['accuracy'])\n",
        "model4.summary()\n",
        "\n",
        "Att_BiLSTM_save = ModelCheckpoint('/content/drive/MyDrive/IIIT_MIDAS/saved_models/Att_BiLSTM.hdf5', save_best_only=True, monitor='val_loss', mode='min')"
      ],
      "execution_count": null,
      "outputs": [
        {
          "output_type": "stream",
          "text": [
            "Model: \"AttBiLSTM\"\n",
            "_________________________________________________________________\n",
            "Layer (type)                 Output Shape              Param #   \n",
            "=================================================================\n",
            "input_1 (InputLayer)         [(None, 128)]             0         \n",
            "_________________________________________________________________\n",
            "embedding_15 (Embedding)     (None, 128, 100)          1639900   \n",
            "_________________________________________________________________\n",
            "bidirectional_1 (Bidirection (None, 128, 128)          84480     \n",
            "_________________________________________________________________\n",
            "attention_with_context (Atte (None, 128, 128)          16640     \n",
            "_________________________________________________________________\n",
            "addition (Addition)          (None, 128)               0         \n",
            "_________________________________________________________________\n",
            "dense_28 (Dense)             (None, 18)                2322      \n",
            "=================================================================\n",
            "Total params: 1,743,342\n",
            "Trainable params: 1,743,342\n",
            "Non-trainable params: 0\n",
            "_________________________________________________________________\n"
          ],
          "name": "stdout"
        }
      ]
    },
    {
      "cell_type": "code",
      "metadata": {
        "colab": {
          "base_uri": "https://localhost:8080/"
        },
        "id": "VhuFFKzm_cF9",
        "outputId": "723f6a1c-8e0e-4421-a914-3f56b6433f4c"
      },
      "source": [
        "#Training the AttBiLSTM model\n",
        "model4.fit(x=X_train, y=y_train, validation_data=(X_val,y_val),  batch_size=64, epochs =10)"
      ],
      "execution_count": null,
      "outputs": [
        {
          "output_type": "stream",
          "text": [
            "Epoch 1/10\n",
            "211/211 [==============================] - 7s 32ms/step - loss: 0.3441 - accuracy: 0.9110 - val_loss: 0.2846 - val_accuracy: 0.9326\n",
            "Epoch 2/10\n",
            "211/211 [==============================] - 6s 30ms/step - loss: 0.1549 - accuracy: 0.9613 - val_loss: 0.2352 - val_accuracy: 0.9444\n",
            "Epoch 3/10\n",
            "211/211 [==============================] - 6s 30ms/step - loss: 0.0894 - accuracy: 0.9773 - val_loss: 0.1831 - val_accuracy: 0.9544\n",
            "Epoch 4/10\n",
            "211/211 [==============================] - 6s 30ms/step - loss: 0.0534 - accuracy: 0.9858 - val_loss: 0.1709 - val_accuracy: 0.9582\n",
            "Epoch 5/10\n",
            "211/211 [==============================] - 6s 31ms/step - loss: 0.0348 - accuracy: 0.9912 - val_loss: 0.1563 - val_accuracy: 0.9613\n",
            "Epoch 6/10\n",
            "211/211 [==============================] - 6s 30ms/step - loss: 0.0219 - accuracy: 0.9942 - val_loss: 0.1658 - val_accuracy: 0.9603\n",
            "Epoch 7/10\n",
            "211/211 [==============================] - 6s 30ms/step - loss: 0.0188 - accuracy: 0.9954 - val_loss: 0.1784 - val_accuracy: 0.9572\n",
            "Epoch 8/10\n",
            "211/211 [==============================] - 6s 31ms/step - loss: 0.0125 - accuracy: 0.9970 - val_loss: 0.1802 - val_accuracy: 0.9623\n",
            "Epoch 9/10\n",
            "211/211 [==============================] - 6s 31ms/step - loss: 0.0106 - accuracy: 0.9970 - val_loss: 0.1764 - val_accuracy: 0.9627\n",
            "Epoch 10/10\n",
            "211/211 [==============================] - 6s 30ms/step - loss: 0.0086 - accuracy: 0.9974 - val_loss: 0.1799 - val_accuracy: 0.9637\n"
          ],
          "name": "stdout"
        },
        {
          "output_type": "execute_result",
          "data": {
            "text/plain": [
              "<tensorflow.python.keras.callbacks.History at 0x7fb9487a9b10>"
            ]
          },
          "metadata": {
            "tags": []
          },
          "execution_count": 63
        }
      ]
    },
    {
      "cell_type": "code",
      "metadata": {
        "colab": {
          "base_uri": "https://localhost:8080/"
        },
        "id": "QKPcH3ZEDXMe",
        "outputId": "d838f3ed-0c21-4ada-8f6e-74195d1a5423"
      },
      "source": [
        "#Testing the AttBiLSTM model on test dataset\n",
        "print(\"FOR AttBiLSTM MODEL\")\n",
        "y_prob = model4.predict(X_test)\n",
        "y_pred = np.argmax(y_prob,axis=1)\n",
        "accuracy = accuracy_score(y_test, y_pred)\n",
        "print('Accuracy: %f' % accuracy)\n",
        "precision = precision_score(y_test, y_pred, average='macro')\n",
        "print('Precision: %f' % precision)\n",
        "recall = recall_score(y_test, y_pred,average='macro')\n",
        "print('Recall: %f' % recall)\n",
        "f1 = f1_score(y_test, y_pred,average='macro')\n",
        "print('F1 score: %f' % f1)"
      ],
      "execution_count": null,
      "outputs": [
        {
          "output_type": "stream",
          "text": [
            "FOR AttBiLSTM MODEL\n",
            "Accuracy: 0.966471\n",
            "Precision: 0.926901\n",
            "Recall: 0.925296\n",
            "F1 score: 0.924708\n"
          ],
          "name": "stdout"
        }
      ]
    },
    {
      "cell_type": "code",
      "metadata": {
        "colab": {
          "base_uri": "https://localhost:8080/",
          "height": 640
        },
        "id": "PBM6tN0zHn_J",
        "outputId": "81e3d056-f51f-4130-f944-3f9dbb1eff2d"
      },
      "source": [
        "#Plotting the Confusion Matrix\n",
        "conf_mat = confusion_matrix(lab_enc.inverse_transform(y_test), lab_enc.inverse_transform(y_pred))\n",
        "fig, ax = plt.subplots(figsize=(10,10))\n",
        "sns.heatmap(conf_mat, annot=True, cmap=\"Blues\", fmt='d')\n",
        "plt.ylabel('Actual')\n",
        "plt.xlabel('Predicted')\n",
        "plt.title(\"CONFUSION MATRIX - AttBiLSTM MODEL\", size=16)"
      ],
      "execution_count": null,
      "outputs": [
        {
          "output_type": "execute_result",
          "data": {
            "text/plain": [
              "Text(0.5, 1.0, 'CONFUSION MATRIX - AttBiLSTM MODEL')"
            ]
          },
          "metadata": {
            "tags": []
          },
          "execution_count": 65
        },
        {
          "output_type": "display_data",
          "data": {
            "image/png": "[encoded data removed]",
            "text/plain": [
              "<Figure size 720x720 with 2 Axes>"
            ]
          },
          "metadata": {
            "tags": [],
            "needs_background": "light"
          }
        }
      ]
    },
    {
      "cell_type": "code",
      "metadata": {
        "id": "AwDsXjhOuC9a"
      },
      "source": [
        "#Defining the Transformer Block\n",
        "class TransformerBlock(layers.Layer):\n",
        "    def __init__(self, embed_dim, num_heads, ff_dim, rate=0.1):\n",
        "        super(TransformerBlock, self).__init__()\n",
        "        self.att = layers.MultiHeadAttention(num_heads=num_heads, key_dim=embed_dim)\n",
        "        self.ffn = keras.Sequential(\n",
        "            [layers.Dense(ff_dim, activation=\"relu\"), layers.Dense(embed_dim),]\n",
        "        )\n",
        "        self.layernorm1 = layers.LayerNormalization(epsilon=1e-6)\n",
        "        self.layernorm2 = layers.LayerNormalization(epsilon=1e-6)\n",
        "        self.dropout1 = layers.Dropout(rate)\n",
        "        self.dropout2 = layers.Dropout(rate)\n",
        "\n",
        "    def call(self, inputs, training):\n",
        "        attn_output = self.att(inputs, inputs)\n",
        "        attn_output = self.dropout1(attn_output, training=training)\n",
        "        out1 = self.layernorm1(inputs + attn_output)\n",
        "        ffn_output = self.ffn(out1)\n",
        "        ffn_output = self.dropout2(ffn_output, training=training)\n",
        "        return self.layernorm2(out1 + ffn_output)"
      ],
      "execution_count": null,
      "outputs": []
    },
    {
      "cell_type": "code",
      "metadata": {
        "id": "Ih1yY78auHZL"
      },
      "source": [
        "#Defining function for special Token and Position based Embedding \n",
        "class TokenAndPositionEmbedding(layers.Layer):\n",
        "    def __init__(self, maxlen, vocab_size, embed_dim):\n",
        "        super(TokenAndPositionEmbedding, self).__init__()\n",
        "        self.token_emb = layers.Embedding(input_dim=vocab_size, output_dim=embed_dim)\n",
        "        self.pos_emb = layers.Embedding(input_dim=maxlen, output_dim=embed_dim)\n",
        "\n",
        "    def call(self, x):\n",
        "        maxlen = tf.shape(x)[-1]\n",
        "        positions = tf.range(start=0, limit=maxlen, delta=1)\n",
        "        positions = self.pos_emb(positions)\n",
        "        x = self.token_emb(x)\n",
        "        return x + positions"
      ],
      "execution_count": null,
      "outputs": []
    },
    {
      "cell_type": "code",
      "metadata": {
        "id": "5Pl1EES7uc1u",
        "colab": {
          "base_uri": "https://localhost:8080/"
        },
        "outputId": "3ee75ee4-a4ad-482f-94f5-a853f92a1086"
      },
      "source": [
        "#Transformer based Classifier \n",
        "embed_dim = 100  # Embedding size for each token\n",
        "num_heads = 4  # Number of attention heads\n",
        "ff_dim = 64  # Hidden layer size in feed forward network inside transformer\n",
        "\n",
        "inputs = layers.Input(shape=(sent_length,))\n",
        "embedding_layer = TokenAndPositionEmbedding(sent_length, voc_size, embed_dim)\n",
        "x = embedding_layer(inputs)\n",
        "transformer_block = TransformerBlock(embed_dim, num_heads, ff_dim)\n",
        "x = transformer_block(x)\n",
        "x = layers.GlobalAveragePooling1D()(x)\n",
        "x = layers.Dropout(0.4)(x)\n",
        "x = layers.Dense(64, activation=\"relu\")(x)\n",
        "x = layers.Dropout(0.4)(x)\n",
        "x = layers.Dense(18, activation=\"softmax\")(x)\n",
        "\n",
        "model5 = keras.Model(inputs=inputs, outputs=x, name='Transformer')\n",
        "model5.compile(\"adam\", \"sparse_categorical_crossentropy\", metrics=[\"accuracy\"])\n",
        "model5.summary()\n",
        "\n",
        "Transformer_save = ModelCheckpoint('/content/drive/MyDrive/IIIT_MIDAS/saved_models/Transformer.hdf5', save_best_only=True, monitor='val_loss', mode='min')"
      ],
      "execution_count": null,
      "outputs": [
        {
          "output_type": "stream",
          "text": [
            "Model: \"Transformer\"\n",
            "_________________________________________________________________\n",
            "Layer (type)                 Output Shape              Param #   \n",
            "=================================================================\n",
            "input_8 (InputLayer)         [(None, 128)]             0         \n",
            "_________________________________________________________________\n",
            "token_and_position_embedding (None, 128, 100)          1652700   \n",
            "_________________________________________________________________\n",
            "transformer_block_3 (Transfo (None, 128, 100)          174664    \n",
            "_________________________________________________________________\n",
            "global_average_pooling1d_3 ( (None, 100)               0         \n",
            "_________________________________________________________________\n",
            "dropout_23 (Dropout)         (None, 100)               0         \n",
            "_________________________________________________________________\n",
            "dense_36 (Dense)             (None, 64)                6464      \n",
            "_________________________________________________________________\n",
            "dropout_24 (Dropout)         (None, 64)                0         \n",
            "_________________________________________________________________\n",
            "dense_37 (Dense)             (None, 18)                1170      \n",
            "=================================================================\n",
            "Total params: 1,834,998\n",
            "Trainable params: 1,834,998\n",
            "Non-trainable params: 0\n",
            "_________________________________________________________________\n"
          ],
          "name": "stdout"
        }
      ]
    },
    {
      "cell_type": "code",
      "metadata": {
        "colab": {
          "base_uri": "https://localhost:8080/"
        },
        "id": "DJ77sDwvuqYH",
        "outputId": "86a25a15-35b8-4e16-b716-db3385ae734e"
      },
      "source": [
        "#fitting of tranformer based Classifier \n",
        "model5.fit(X_train, y_train, batch_size=64, epochs=10, validation_data=(X_val, y_val))"
      ],
      "execution_count": null,
      "outputs": [
        {
          "output_type": "stream",
          "text": [
            "Epoch 1/10\n",
            "211/211 [==============================] - 7s 31ms/step - loss: 0.3151 - accuracy: 0.9159 - val_loss: 0.1930 - val_accuracy: 0.9610\n",
            "Epoch 2/10\n",
            "211/211 [==============================] - 6s 30ms/step - loss: 0.1179 - accuracy: 0.9712 - val_loss: 0.1640 - val_accuracy: 0.9692\n",
            "Epoch 3/10\n",
            "211/211 [==============================] - 6s 30ms/step - loss: 0.0593 - accuracy: 0.9860 - val_loss: 0.1974 - val_accuracy: 0.9682\n",
            "Epoch 4/10\n",
            "211/211 [==============================] - 6s 30ms/step - loss: 0.0394 - accuracy: 0.9903 - val_loss: 0.2244 - val_accuracy: 0.9654\n",
            "Epoch 5/10\n",
            "211/211 [==============================] - 6s 30ms/step - loss: 0.0286 - accuracy: 0.9930 - val_loss: 0.2498 - val_accuracy: 0.9644\n",
            "Epoch 6/10\n",
            "211/211 [==============================] - 6s 30ms/step - loss: 0.0304 - accuracy: 0.9920 - val_loss: 0.2256 - val_accuracy: 0.9658\n",
            "Epoch 7/10\n",
            "211/211 [==============================] - 6s 30ms/step - loss: 0.0235 - accuracy: 0.9938 - val_loss: 0.2286 - val_accuracy: 0.9665\n",
            "Epoch 8/10\n",
            "211/211 [==============================] - 6s 30ms/step - loss: 0.0222 - accuracy: 0.9947 - val_loss: 0.2495 - val_accuracy: 0.9710\n",
            "Epoch 9/10\n",
            "211/211 [==============================] - 6s 30ms/step - loss: 0.0166 - accuracy: 0.9948 - val_loss: 0.2646 - val_accuracy: 0.9675\n",
            "Epoch 10/10\n",
            "211/211 [==============================] - 6s 31ms/step - loss: 0.0209 - accuracy: 0.9945 - val_loss: 0.3105 - val_accuracy: 0.9672\n"
          ],
          "name": "stdout"
        },
        {
          "output_type": "execute_result",
          "data": {
            "text/plain": [
              "<tensorflow.python.keras.callbacks.History at 0x7fb93a58ad10>"
            ]
          },
          "metadata": {
            "tags": []
          },
          "execution_count": 79
        }
      ]
    },
    {
      "cell_type": "code",
      "metadata": {
        "colab": {
          "base_uri": "https://localhost:8080/"
        },
        "id": "nmSyQBjFuzEp",
        "outputId": "11f9b557-add8-4621-d911-3c1a9f934477"
      },
      "source": [
        "#Testing the Transformer model on test dataset\n",
        "print(\"FOR Transformer MODEL\")\n",
        "y_prob = model5.predict(X_test)\n",
        "y_pred = np.argmax(y_prob,axis=1)\n",
        "accuracy = accuracy_score(y_test, y_pred)\n",
        "print('Accuracy: %f' % accuracy)\n",
        "precision = precision_score(y_test, y_pred, average='macro')\n",
        "print('Precision: %f' % precision)\n",
        "recall = recall_score(y_test, y_pred,average='macro')\n",
        "print('Recall: %f' % recall)\n",
        "f1 = f1_score(y_test, y_pred,average='macro')\n",
        "print('F1 score: %f' % f1)"
      ],
      "execution_count": null,
      "outputs": [
        {
          "output_type": "stream",
          "text": [
            "FOR Transformer MODEL\n",
            "Accuracy: 0.968545\n",
            "Precision: 0.926790\n",
            "Recall: 0.934337\n",
            "F1 score: 0.929941\n"
          ],
          "name": "stdout"
        }
      ]
    },
    {
      "cell_type": "code",
      "metadata": {
        "colab": {
          "base_uri": "https://localhost:8080/",
          "height": 646
        },
        "id": "124xnvjezLSj",
        "outputId": "3ae8b078-68e7-4410-ad65-fad250653063"
      },
      "source": [
        "#Plotting the Confusion Matrix\n",
        "conf_mat = confusion_matrix(lab_enc.inverse_transform(y_test), lab_enc.inverse_transform(y_pred))\n",
        "fig, ax = plt.subplots(figsize=(10,10))\n",
        "sns.heatmap(conf_mat, annot=True, cmap=\"Blues\", fmt='d')\n",
        "plt.ylabel('Actual')\n",
        "plt.xlabel('Predicted')\n",
        "plt.title(\"CONFUSION MATRIX - Transformer MODEL\", size=16)"
      ],
      "execution_count": null,
      "outputs": [
        {
          "output_type": "execute_result",
          "data": {
            "text/plain": [
              "Text(0.5, 1.0, 'CONFUSION MATRIX - Transformer MODEL')"
            ]
          },
          "metadata": {
            "tags": []
          },
          "execution_count": 83
        },
        {
          "output_type": "display_data",
          "data": {
            "image/png": "[encoded data removed]",
            "text/plain": [
              "<Figure size 720x720 with 2 Axes>"
            ]
          },
          "metadata": {
            "tags": []
          }
        }
      ]
    },
    {
      "cell_type": "code",
      "metadata": {
        "id": "W3Eo4XTUKk6I"
      },
      "source": [
        "class HierarchicalAttentionNetwork(Layer):\n",
        "    def __init__(self, attention_dim):\n",
        "        self.init = initializers.get('normal')\n",
        "        self.supports_masking = True\n",
        "        self.attention_dim = attention_dim\n",
        "        super(HierarchicalAttentionNetwork, self).__init__()\n",
        "\n",
        "    def build(self, input_shape):\n",
        "        assert len(input_shape) == 3\n",
        "        self.W = K.variable(self.init((input_shape[-1], self.attention_dim)))\n",
        "        self.b = K.variable(self.init((self.attention_dim,)))\n",
        "        self.u = K.variable(self.init((self.attention_dim, 1)))\n",
        "        self.trainable_weight = [self.W, self.b, self.u]\n",
        "        super(HierarchicalAttentionNetwork, self).build(input_shape)\n",
        "\n",
        "    def compute_mask(self, inputs, mask=None):\n",
        "        return mask\n",
        "\n",
        "    def call(self, x, mask=None):\n",
        "        # size of x :[batch_size, sel_len, attention_dim]\n",
        "        # size of u :[batch_size, attention_dim]\n",
        "        # uit = tanh(xW+b)\n",
        "        uit = K.tanh(K.bias_add(K.dot(x, self.W), self.b))\n",
        "\n",
        "        ait = K.exp(K.squeeze(K.dot(uit, self.u), -1))\n",
        "\n",
        "        if mask is not None:\n",
        "            # Cast the mask to floatX to avoid float64 upcasting\n",
        "            ait *= K.cast(mask, K.floatx())\n",
        "        ait /= K.cast(K.sum(ait, axis=1, keepdims=True) + K.epsilon(), K.floatx())\n",
        "        weighted_input = x * K.expand_dims(ait)\n",
        "        output = K.sum(weighted_input, axis=1)\n",
        "\n",
        "        return output\n",
        "\n",
        "    def compute_output_shape(self, input_shape):\n",
        "        return input_shape[0], input_shape[-1]"
      ],
      "execution_count": null,
      "outputs": []
    },
    {
      "cell_type": "code",
      "metadata": {
        "colab": {
          "base_uri": "https://localhost:8080/"
        },
        "id": "O_OwH-x6Jk9x",
        "outputId": "5fb113a3-705b-4aca-9947-796ee0014ad8"
      },
      "source": [
        "sentence_input = Input(shape=(maxlen,))\n",
        "embedded_sequences=Embedding(voc_size, 100, input_length=maxlen)(sentence_input)\n",
        "#embedded_sequences = embedding_layer(sentence_input)\n",
        "lstm_word = Bidirectional(GRU(64, return_sequences=True))(embedded_sequences)\n",
        "#attn_word=AttentionWithContext()(lstm_word) \n",
        "#x=Addition()(x) \n",
        "attn_word = HierarchicalAttentionNetwork(100)(lstm_word)\n",
        "sentenceEncoder = Model(sentence_input, attn_word)\n",
        "\n",
        "review_input = Input(shape=(max_sentences, maxlen))\n",
        "review_encoder = TimeDistributed(sentenceEncoder)(review_input)\n",
        "lstm_sentence = Bidirectional(GRU(64, return_sequences=True))(review_encoder)\n",
        "#attn_sentence=AttentionWithContext()(lstm_sentence)\n",
        "attn_sentence = HierarchicalAttentionNetwork(100)(lstm_sentence)\n",
        "preds = Dense(18, activation='softmax')(attn_sentence)\n",
        "model6 = Model(review_input, preds,name='HAN')\n",
        "\n",
        "model6.compile(loss='sparse_categorical_crossentropy', optimizer='adam', metrics=['acc'])\n",
        "model6.summary()"
      ],
      "execution_count": null,
      "outputs": [
        {
          "output_type": "stream",
          "text": [
            "Model: \"HAN\"\n",
            "_________________________________________________________________\n",
            "Layer (type)                 Output Shape              Param #   \n",
            "=================================================================\n",
            "input_12 (InputLayer)        [(None, 10, 50)]          0         \n",
            "_________________________________________________________________\n",
            "time_distributed_3 (TimeDist (None, 10, 128)           1716644   \n",
            "_________________________________________________________________\n",
            "bidirectional_9 (Bidirection (None, 10, 128)           74496     \n",
            "_________________________________________________________________\n",
            "hierarchical_attention_netwo (None, 128)               13000     \n",
            "_________________________________________________________________\n",
            "dense_2 (Dense)              (None, 18)                2322      \n",
            "=================================================================\n",
            "Total params: 1,806,462\n",
            "Trainable params: 1,806,462\n",
            "Non-trainable params: 0\n",
            "_________________________________________________________________\n"
          ],
          "name": "stdout"
        }
      ]
    },
    {
      "cell_type": "code",
      "metadata": {
        "colab": {
          "base_uri": "https://localhost:8080/"
        },
        "id": "N3nbhJFlK-D4",
        "outputId": "e2d817ae-e5f4-4dfe-eb77-abfc6316081b"
      },
      "source": [
        "model6.fit(sent_train, y_train, validation_data=(sent_val, y_val), epochs=10, batch_size=64)"
      ],
      "execution_count": null,
      "outputs": [
        {
          "output_type": "stream",
          "text": [
            "Epoch 1/10\n",
            "211/211 [==============================] - 16s 48ms/step - loss: 2.0519 - acc: 0.3981 - val_loss: 0.5178 - val_acc: 0.8670\n",
            "Epoch 2/10\n",
            "211/211 [==============================] - 8s 40ms/step - loss: 0.2912 - acc: 0.9276 - val_loss: 0.1868 - val_acc: 0.9520\n",
            "Epoch 3/10\n",
            "211/211 [==============================] - 8s 40ms/step - loss: 0.0768 - acc: 0.9802 - val_loss: 0.1647 - val_acc: 0.9620\n",
            "Epoch 4/10\n",
            "211/211 [==============================] - 8s 39ms/step - loss: 0.0331 - acc: 0.9921 - val_loss: 0.1716 - val_acc: 0.9620\n",
            "Epoch 5/10\n",
            "211/211 [==============================] - 8s 40ms/step - loss: 0.0220 - acc: 0.9931 - val_loss: 0.1559 - val_acc: 0.9644\n",
            "Epoch 6/10\n",
            "211/211 [==============================] - 8s 39ms/step - loss: 0.0126 - acc: 0.9967 - val_loss: 0.1735 - val_acc: 0.9599\n",
            "Epoch 7/10\n",
            "211/211 [==============================] - 8s 38ms/step - loss: 0.0095 - acc: 0.9978 - val_loss: 0.1830 - val_acc: 0.9637\n",
            "Epoch 8/10\n",
            "211/211 [==============================] - 8s 38ms/step - loss: 0.0063 - acc: 0.9988 - val_loss: 0.1779 - val_acc: 0.9637\n",
            "Epoch 9/10\n",
            "211/211 [==============================] - 8s 38ms/step - loss: 0.0060 - acc: 0.9986 - val_loss: 0.1923 - val_acc: 0.9606\n",
            "Epoch 10/10\n",
            "211/211 [==============================] - 8s 38ms/step - loss: 0.0045 - acc: 0.9991 - val_loss: 0.1938 - val_acc: 0.9616\n"
          ],
          "name": "stdout"
        },
        {
          "output_type": "execute_result",
          "data": {
            "text/plain": [
              "<tensorflow.python.keras.callbacks.History at 0x7fe5caaefad0>"
            ]
          },
          "metadata": {
            "tags": []
          },
          "execution_count": 109
        }
      ]
    },
    {
      "cell_type": "code",
      "metadata": {
        "id": "SBN8mv6XDXPa",
        "colab": {
          "base_uri": "https://localhost:8080/"
        },
        "outputId": "94dcd6fe-7ded-4837-c7f7-b30ebf0499cf"
      },
      "source": [
        "#Testing the HAN on test dataset\n",
        "print(\"FOR HAN\")\n",
        "y_prob = model6.predict(sent_test)\n",
        "y_pred = np.argmax(y_prob,axis=1)\n",
        "accuracy = accuracy_score(y_test, y_pred)\n",
        "print('Accuracy: %f' % accuracy)\n",
        "precision = precision_score(y_test, y_pred, average='macro')\n",
        "print('Precision: %f' % precision)\n",
        "recall = recall_score(y_test, y_pred,average='macro')\n",
        "print('Recall: %f' % recall)\n",
        "f1 = f1_score(y_test, y_pred,average='macro')\n",
        "print('F1 score: %f' % f1)"
      ],
      "execution_count": null,
      "outputs": [
        {
          "output_type": "stream",
          "text": [
            "FOR HAN\n",
            "Accuracy: 0.967508\n",
            "Precision: 0.929006\n",
            "Recall: 0.923889\n",
            "F1 score: 0.925701\n"
          ],
          "name": "stdout"
        }
      ]
    },
    {
      "cell_type": "code",
      "metadata": {
        "colab": {
          "base_uri": "https://localhost:8080/",
          "height": 640
        },
        "id": "5IBE3jSdNOpR",
        "outputId": "2aa0b120-2cd9-4973-efa1-e143e44eea86"
      },
      "source": [
        "#Plotting the Confusion Matrix\n",
        "conf_mat = confusion_matrix(lab_enc.inverse_transform(y_test), lab_enc.inverse_transform(y_pred))\n",
        "fig, ax = plt.subplots(figsize=(10,10))\n",
        "sns.heatmap(conf_mat, annot=True, cmap=\"Blues\", fmt='d')\n",
        "plt.ylabel('Actual')\n",
        "plt.xlabel('Predicted')\n",
        "plt.title(\"CONFUSION MATRIX - HAN\", size=16)"
      ],
      "execution_count": null,
      "outputs": [
        {
          "output_type": "execute_result",
          "data": {
            "text/plain": [
              "Text(0.5, 1.0, 'CONFUSION MATRIX - HAN')"
            ]
          },
          "metadata": {
            "tags": []
          },
          "execution_count": 112
        },
        {
          "output_type": "display_data",
          "data": {
            "image/png": "[encoded data removed]",
            "text/plain": [
              "<Figure size 720x720 with 2 Axes>"
            ]
          },
          "metadata": {
            "tags": [],
            "needs_background": "light"
          }
        }
      ]
    },
    {
      "cell_type": "code",
      "metadata": {
        "id": "9euDVFHGBc-A"
      },
      "source": [
        "#Attention Block for Densely Connected CNN with Multi-scale Feature Attention for Text Classification\n",
        "class att_model(Layer):\n",
        "\n",
        "    def __init__(self, output_dim, n, **kwargs):\n",
        "        self.output_dim = output_dim\n",
        "        self.n = n\n",
        "        super(att_model, self).__init__(**kwargs)\n",
        "\n",
        "    def build(self, input_shape=(512,)):\n",
        "        # Create a trainable weight variable for this layer.\n",
        "        self.reshape = Reshape((self.n,128))\n",
        "        self.avgpool1 = AveragePooling1D(pool_size=128, data_format='channels_first')\n",
        "        self.flat = Flatten()\n",
        "        self.dense1 = Dense(10,activation='relu')\n",
        "        self.dense2 = Dense(10,activation='relu')\n",
        "        self.dense3 = Dense(self.n,activation='relu')\n",
        "        self.mult = Multiply()\n",
        "        self.avgpool2 = AveragePooling1D(pool_size=self.n)\n",
        "        super(att_model, self).build(input_shape)  # Be sure to call this somewhere!\n",
        "\n",
        "    def call(self, x):\n",
        "        y_in=self.reshape(x)\n",
        "        y=self.avgpool1(y_in)\n",
        "        y=self.flat(y)\n",
        "        y=self.dense1(y)\n",
        "        y=self.dense2(y)\n",
        "        y=self.dense3(y)\n",
        "        y=self.flat(y)\n",
        "        y=self.mult([y_in,tf.expand_dims(y,axis=-1)])\n",
        "        y=self.avgpool2(y)\n",
        "        y=self.flat(y)\n",
        "        return y\n",
        "\n",
        "    def compute_output_shape(self, input_shape):\n",
        "        return (input_shape[0], self.output_dim)"
      ],
      "execution_count": null,
      "outputs": []
    },
    {
      "cell_type": "code",
      "metadata": {
        "colab": {
          "base_uri": "https://localhost:8080/"
        },
        "id": "1XdAHyONgp6Y",
        "outputId": "45acc56d-010e-4e5a-9bbf-873f769d7c79"
      },
      "source": [
        "# Implementing (Densely Connected CNN with Multi-scale Feature Attention for Text Classification) with two features.\n",
        "\n",
        "embedding_vector_features=100\n",
        "input=Input(shape=(sent_length,), name='inputs')\n",
        "embedd=Embedding(voc_size,embedding_vector_features,input_length=sent_length)(input)\n",
        "x1=Conv1D(128, 3, padding='same', activation='relu' )(embedd)\n",
        "x1=MaxPooling1D(pool_size=2,strides=None)(x1)\n",
        "x2=Conv1D(128, 3, padding='same', activation='relu' )(x1)\n",
        "x1=MaxPooling1D(pool_size=2,strides=None)(x1)\n",
        "x2=MaxPooling1D(pool_size=2,strides=None)(x2)\n",
        "xn=concatenate([x1,x2],axis=-1)\n",
        "x_att=TimeDistributed(att_model(128,2))(xn)\n",
        "y_=Flatten()(x_att)\n",
        "y_=Dropout(0.4)(y_)\n",
        "y_=Dense(256,activation='relu')(y_)\n",
        "truth=Dense(64,activation='relu')(y_)\n",
        "truth=Dense(18,activation='softmax',name='truth_')(truth)\n",
        "model4=Model(inputs=input, outputs=truth)\n",
        "model4.compile(loss= 'sparse_categorical_crossentropy', optimizer='adam',metrics=['accuracy'])\n",
        "model4.summary()\n",
        "#plot_model(model2,show_layer_names=True,show_shapes=True,to_file='multichannel.png')\n",
        "\n",
        "#Multi_CNN_save = ModelCheckpoint('/content/drive/MyDrive/IIIT_MIDAS/saved_models/'+'Multi_CNN.hdf5', save_best_only=True, monitor='val_loss', mode='min')\n"
      ],
      "execution_count": null,
      "outputs": [
        {
          "output_type": "stream",
          "text": [
            "Model: \"model_11\"\n",
            "__________________________________________________________________________________________________\n",
            "Layer (type)                    Output Shape         Param #     Connected to                     \n",
            "==================================================================================================\n",
            "inputs (InputLayer)             [(None, 128)]        0                                            \n",
            "__________________________________________________________________________________________________\n",
            "embedding_11 (Embedding)        (None, 128, 100)     1639900     inputs[0][0]                     \n",
            "__________________________________________________________________________________________________\n",
            "conv1d_28 (Conv1D)              (None, 128, 128)     38528       embedding_11[0][0]               \n",
            "__________________________________________________________________________________________________\n",
            "max_pooling1d_53 (MaxPooling1D) (None, 64, 128)      0           conv1d_28[0][0]                  \n",
            "__________________________________________________________________________________________________\n",
            "conv1d_29 (Conv1D)              (None, 64, 128)      49280       max_pooling1d_53[0][0]           \n",
            "__________________________________________________________________________________________________\n",
            "max_pooling1d_54 (MaxPooling1D) (None, 32, 128)      0           max_pooling1d_53[0][0]           \n",
            "__________________________________________________________________________________________________\n",
            "max_pooling1d_55 (MaxPooling1D) (None, 32, 128)      0           conv1d_29[0][0]                  \n",
            "__________________________________________________________________________________________________\n",
            "concatenate_17 (Concatenate)    (None, 32, 256)      0           max_pooling1d_54[0][0]           \n",
            "                                                                 max_pooling1d_55[0][0]           \n",
            "__________________________________________________________________________________________________\n",
            "time_distributed_11 (TimeDistri (None, 32, 128)      162         concatenate_17[0][0]             \n",
            "__________________________________________________________________________________________________\n",
            "flatten_11 (Flatten)            (None, 4096)         0           time_distributed_11[0][0]        \n",
            "__________________________________________________________________________________________________\n",
            "dropout_11 (Dropout)            (None, 4096)         0           flatten_11[0][0]                 \n",
            "__________________________________________________________________________________________________\n",
            "dense_22 (Dense)                (None, 256)          1048832     dropout_11[0][0]                 \n",
            "__________________________________________________________________________________________________\n",
            "dense_23 (Dense)                (None, 64)           16448       dense_22[0][0]                   \n",
            "__________________________________________________________________________________________________\n",
            "truth_ (Dense)                  (None, 18)           1170        dense_23[0][0]                   \n",
            "==================================================================================================\n",
            "Total params: 2,794,320\n",
            "Trainable params: 2,794,320\n",
            "Non-trainable params: 0\n",
            "__________________________________________________________________________________________________\n"
          ],
          "name": "stdout"
        }
      ]
    },
    {
      "cell_type": "code",
      "metadata": {
        "colab": {
          "base_uri": "https://localhost:8080/"
        },
        "id": "uBqolz5miqpc",
        "outputId": "2c01b6cc-16cb-4c3a-c269-4d5c6072094e"
      },
      "source": [
        "#Training (Densely Connected CNN with Multi-scale Feature Attention for Text Classification) with two features\n",
        "model4.fit(x=X_train, y=y_train, validation_data=(X_val,y_val), batch_size=64, epochs=30)"
      ],
      "execution_count": null,
      "outputs": [
        {
          "output_type": "stream",
          "text": [
            "Epoch 1/30\n",
            "211/211 [==============================] - 6s 23ms/step - loss: 2.0410 - accuracy: 0.4067 - val_loss: 1.1081 - val_accuracy: 0.6776\n",
            "Epoch 2/30\n",
            "211/211 [==============================] - 5s 22ms/step - loss: 0.8841 - accuracy: 0.7263 - val_loss: 0.7645 - val_accuracy: 0.7837\n",
            "Epoch 3/30\n",
            "211/211 [==============================] - 5s 22ms/step - loss: 0.4869 - accuracy: 0.8434 - val_loss: 0.6812 - val_accuracy: 0.8411\n",
            "Epoch 4/30\n",
            "211/211 [==============================] - 5s 22ms/step - loss: 0.2624 - accuracy: 0.9182 - val_loss: 0.6184 - val_accuracy: 0.8770\n",
            "Epoch 5/30\n",
            "211/211 [==============================] - 5s 22ms/step - loss: 0.1505 - accuracy: 0.9537 - val_loss: 0.6140 - val_accuracy: 0.8870\n",
            "Epoch 6/30\n",
            "211/211 [==============================] - 5s 21ms/step - loss: 0.0862 - accuracy: 0.9752 - val_loss: 0.5961 - val_accuracy: 0.8936\n",
            "Epoch 7/30\n",
            "211/211 [==============================] - 5s 21ms/step - loss: 0.0654 - accuracy: 0.9804 - val_loss: 0.7333 - val_accuracy: 0.8860\n",
            "Epoch 8/30\n",
            "211/211 [==============================] - 5s 22ms/step - loss: 0.0510 - accuracy: 0.9855 - val_loss: 0.7318 - val_accuracy: 0.8981\n",
            "Epoch 9/30\n",
            "211/211 [==============================] - 5s 21ms/step - loss: 0.0269 - accuracy: 0.9920 - val_loss: 0.7309 - val_accuracy: 0.9036\n",
            "Epoch 10/30\n",
            "211/211 [==============================] - 5s 22ms/step - loss: 0.0317 - accuracy: 0.9890 - val_loss: 0.7265 - val_accuracy: 0.9064\n",
            "Epoch 11/30\n",
            "211/211 [==============================] - 5s 21ms/step - loss: 0.0265 - accuracy: 0.9931 - val_loss: 0.7046 - val_accuracy: 0.9077\n",
            "Epoch 12/30\n",
            "211/211 [==============================] - 5s 22ms/step - loss: 0.0284 - accuracy: 0.9907 - val_loss: 0.6965 - val_accuracy: 0.9122\n",
            "Epoch 13/30\n",
            "211/211 [==============================] - 5s 22ms/step - loss: 0.0171 - accuracy: 0.9953 - val_loss: 0.7730 - val_accuracy: 0.9153\n",
            "Epoch 14/30\n",
            "211/211 [==============================] - 5s 22ms/step - loss: 0.0170 - accuracy: 0.9962 - val_loss: 0.7677 - val_accuracy: 0.9081\n",
            "Epoch 15/30\n",
            "211/211 [==============================] - 5s 22ms/step - loss: 0.0176 - accuracy: 0.9952 - val_loss: 0.8284 - val_accuracy: 0.9060\n",
            "Epoch 16/30\n",
            "211/211 [==============================] - 5s 22ms/step - loss: 0.0102 - accuracy: 0.9968 - val_loss: 0.8292 - val_accuracy: 0.9119\n",
            "Epoch 17/30\n",
            "211/211 [==============================] - 5s 22ms/step - loss: 0.0123 - accuracy: 0.9973 - val_loss: 0.8449 - val_accuracy: 0.9088\n",
            "Epoch 18/30\n",
            "211/211 [==============================] - 5s 22ms/step - loss: 0.0190 - accuracy: 0.9934 - val_loss: 0.7445 - val_accuracy: 0.9198\n",
            "Epoch 19/30\n",
            "211/211 [==============================] - 5s 22ms/step - loss: 0.0202 - accuracy: 0.9945 - val_loss: 0.8183 - val_accuracy: 0.9122\n",
            "Epoch 20/30\n",
            "211/211 [==============================] - 5s 21ms/step - loss: 0.0133 - accuracy: 0.9964 - val_loss: 0.6580 - val_accuracy: 0.9115\n",
            "Epoch 21/30\n",
            "211/211 [==============================] - 5s 22ms/step - loss: 0.0092 - accuracy: 0.9966 - val_loss: 0.7665 - val_accuracy: 0.9171\n",
            "Epoch 22/30\n",
            "211/211 [==============================] - 4s 21ms/step - loss: 0.0067 - accuracy: 0.9982 - val_loss: 0.7463 - val_accuracy: 0.9171\n",
            "Epoch 23/30\n",
            "211/211 [==============================] - 5s 22ms/step - loss: 0.0145 - accuracy: 0.9958 - val_loss: 0.8589 - val_accuracy: 0.9143\n",
            "Epoch 24/30\n",
            "211/211 [==============================] - 4s 21ms/step - loss: 0.0165 - accuracy: 0.9938 - val_loss: 0.7856 - val_accuracy: 0.9202\n",
            "Epoch 25/30\n",
            "211/211 [==============================] - 5s 22ms/step - loss: 0.0213 - accuracy: 0.9940 - val_loss: 0.7000 - val_accuracy: 0.9205\n",
            "Epoch 26/30\n",
            "211/211 [==============================] - 5s 22ms/step - loss: 0.0095 - accuracy: 0.9975 - val_loss: 0.7421 - val_accuracy: 0.9205\n",
            "Epoch 27/30\n",
            "211/211 [==============================] - 5s 22ms/step - loss: 0.0048 - accuracy: 0.9990 - val_loss: 0.7482 - val_accuracy: 0.9202\n",
            "Epoch 28/30\n",
            "211/211 [==============================] - 5s 22ms/step - loss: 0.0044 - accuracy: 0.9985 - val_loss: 0.7947 - val_accuracy: 0.9243\n",
            "Epoch 29/30\n",
            "211/211 [==============================] - 5s 21ms/step - loss: 0.0049 - accuracy: 0.9980 - val_loss: 0.8543 - val_accuracy: 0.9223\n",
            "Epoch 30/30\n",
            "211/211 [==============================] - 5s 22ms/step - loss: 0.0074 - accuracy: 0.9980 - val_loss: 0.6751 - val_accuracy: 0.9209\n"
          ],
          "name": "stdout"
        },
        {
          "output_type": "execute_result",
          "data": {
            "text/plain": [
              "<tensorflow.python.keras.callbacks.History at 0x7f575e774c50>"
            ]
          },
          "metadata": {
            "tags": []
          },
          "execution_count": 51
        }
      ]
    },
    {
      "cell_type": "code",
      "metadata": {
        "colab": {
          "base_uri": "https://localhost:8080/"
        },
        "id": "0TQl9eObkh2a",
        "outputId": "a9a2cb98-5a4f-470b-fdba-1d089bb3d023"
      },
      "source": [
        "#Testing (Densely Connected CNN with Multi-scale Feature Attention for Text Classification) with two features on test dataset\n",
        "#print(\"FOR Transformer MODEL\")\n",
        "y_prob = model4.predict(X_test)\n",
        "y_pred = np.argmax(y_prob,axis=1)\n",
        "accuracy = accuracy_score(y_test, y_pred)\n",
        "print('Accuracy: %f' % accuracy)\n",
        "precision = precision_score(y_test, y_pred, average='macro')\n",
        "print('Precision: %f' % precision)\n",
        "recall = recall_score(y_test, y_pred,average='macro')\n",
        "print('Recall: %f' % recall)\n",
        "f1 = f1_score(y_test, y_pred,average='macro')\n",
        "print('F1 score: %f' % f1)"
      ],
      "execution_count": null,
      "outputs": [
        {
          "output_type": "stream",
          "text": [
            "Accuracy: 0.926028\n",
            "Precision: 0.838566\n",
            "Recall: 0.841508\n",
            "F1 score: 0.837366\n"
          ],
          "name": "stdout"
        }
      ]
    },
    {
      "cell_type": "code",
      "metadata": {
        "colab": {
          "base_uri": "https://localhost:8080/"
        },
        "id": "itnON9cndBlh",
        "outputId": "e2982f9e-1687-4c4a-f110-e930610054f8"
      },
      "source": [
        "# Implementing (Densely Connected CNN with Multi-scale Feature Attention for Text Classification) with three features.\n",
        "\n",
        "embedding_vector_features=100\n",
        "input=Input(shape=(sent_length,), name='inputs')\n",
        "embedd=Embedding(voc_size,embedding_vector_features,input_length=sent_length)(input)\n",
        "x1=Conv1D(128, 3, padding='same', activation='relu' )(embedd)\n",
        "x1=MaxPooling1D(pool_size=2,strides=None)(x1)\n",
        "x2=Conv1D(128, 3, padding='same', activation='relu' )(x1)\n",
        "x1=MaxPooling1D(pool_size=2,strides=None)(x1)\n",
        "x2=MaxPooling1D(pool_size=2,strides=None)(x2)\n",
        "x3=Conv1D(128, 3, padding='same', activation='relu' )(concatenate([x1,x2]))\n",
        "x1=MaxPooling1D(pool_size=2,strides=None)(x1)\n",
        "x2=MaxPooling1D(pool_size=2,strides=None)(x2)\n",
        "x3=MaxPooling1D(pool_size=2,strides=None)(x3)\n",
        "#x4=Conv1D(128, 3, padding='same', activation='relu' )(concatenate([x1,x2,x3]))\n",
        "xn=concatenate([x1,x2,x3],axis=-1)\n",
        "x_att=TimeDistributed(att_model(128,3))(xn)\n",
        "y_=Flatten()(x_att)\n",
        "y_=Dropout(0.4)(y_)\n",
        "y_=Dense(256,activation='relu')(y_)\n",
        "truth=Dense(64,activation='relu')(y_)\n",
        "truth=Dense(18,activation='softmax',name='truth_')(truth)\n",
        "model4=Model(inputs=input, outputs=truth)\n",
        "model4.compile(loss= 'sparse_categorical_crossentropy', optimizer='adam',metrics=['accuracy'])\n",
        "model4.summary()\n",
        "#plot_model(model2,show_layer_names=True,show_shapes=True,to_file='multichannel.png')\n",
        "\n",
        "#Multi_CNN_save = ModelCheckpoint('/content/drive/MyDrive/IIIT_MIDAS/saved_models/'+'Multi_CNN.hdf5', save_best_only=True, monitor='val_loss', mode='min')\n"
      ],
      "execution_count": null,
      "outputs": [
        {
          "output_type": "stream",
          "text": [
            "Model: \"model_12\"\n",
            "__________________________________________________________________________________________________\n",
            "Layer (type)                    Output Shape         Param #     Connected to                     \n",
            "==================================================================================================\n",
            "inputs (InputLayer)             [(None, 128)]        0                                            \n",
            "__________________________________________________________________________________________________\n",
            "embedding_12 (Embedding)        (None, 128, 100)     1639900     inputs[0][0]                     \n",
            "__________________________________________________________________________________________________\n",
            "conv1d_30 (Conv1D)              (None, 128, 128)     38528       embedding_12[0][0]               \n",
            "__________________________________________________________________________________________________\n",
            "max_pooling1d_56 (MaxPooling1D) (None, 64, 128)      0           conv1d_30[0][0]                  \n",
            "__________________________________________________________________________________________________\n",
            "conv1d_31 (Conv1D)              (None, 64, 128)      49280       max_pooling1d_56[0][0]           \n",
            "__________________________________________________________________________________________________\n",
            "max_pooling1d_57 (MaxPooling1D) (None, 32, 128)      0           max_pooling1d_56[0][0]           \n",
            "__________________________________________________________________________________________________\n",
            "max_pooling1d_58 (MaxPooling1D) (None, 32, 128)      0           conv1d_31[0][0]                  \n",
            "__________________________________________________________________________________________________\n",
            "concatenate_18 (Concatenate)    (None, 32, 256)      0           max_pooling1d_57[0][0]           \n",
            "                                                                 max_pooling1d_58[0][0]           \n",
            "__________________________________________________________________________________________________\n",
            "conv1d_32 (Conv1D)              (None, 32, 128)      98432       concatenate_18[0][0]             \n",
            "__________________________________________________________________________________________________\n",
            "max_pooling1d_59 (MaxPooling1D) (None, 16, 128)      0           max_pooling1d_57[0][0]           \n",
            "__________________________________________________________________________________________________\n",
            "max_pooling1d_60 (MaxPooling1D) (None, 16, 128)      0           max_pooling1d_58[0][0]           \n",
            "__________________________________________________________________________________________________\n",
            "max_pooling1d_61 (MaxPooling1D) (None, 16, 128)      0           conv1d_32[0][0]                  \n",
            "__________________________________________________________________________________________________\n",
            "concatenate_19 (Concatenate)    (None, 16, 384)      0           max_pooling1d_59[0][0]           \n",
            "                                                                 max_pooling1d_60[0][0]           \n",
            "                                                                 max_pooling1d_61[0][0]           \n",
            "__________________________________________________________________________________________________\n",
            "time_distributed_12 (TimeDistri (None, 16, 128)      183         concatenate_19[0][0]             \n",
            "__________________________________________________________________________________________________\n",
            "flatten_12 (Flatten)            (None, 2048)         0           time_distributed_12[0][0]        \n",
            "__________________________________________________________________________________________________\n",
            "dropout_12 (Dropout)            (None, 2048)         0           flatten_12[0][0]                 \n",
            "__________________________________________________________________________________________________\n",
            "dense_24 (Dense)                (None, 256)          524544      dropout_12[0][0]                 \n",
            "__________________________________________________________________________________________________\n",
            "dense_25 (Dense)                (None, 64)           16448       dense_24[0][0]                   \n",
            "__________________________________________________________________________________________________\n",
            "truth_ (Dense)                  (None, 18)           1170        dense_25[0][0]                   \n",
            "==================================================================================================\n",
            "Total params: 2,368,485\n",
            "Trainable params: 2,368,485\n",
            "Non-trainable params: 0\n",
            "__________________________________________________________________________________________________\n"
          ],
          "name": "stdout"
        }
      ]
    },
    {
      "cell_type": "code",
      "metadata": {
        "colab": {
          "base_uri": "https://localhost:8080/"
        },
        "id": "4Us2aTzNDKo1",
        "outputId": "5a5b27b4-ba3a-44f5-bf21-f412f8a95835"
      },
      "source": [
        "#Training (Densely Connected CNN with Multi-scale Feature Attention for Text Classification) with three features\n",
        "model4.fit(x=X_train, y=y_train, validation_data=(X_val,y_val), batch_size=64, epochs=30)"
      ],
      "execution_count": null,
      "outputs": [
        {
          "output_type": "stream",
          "text": [
            "Epoch 1/30\n",
            "211/211 [==============================] - 6s 25ms/step - loss: 2.0801 - accuracy: 0.3757 - val_loss: 1.1295 - val_accuracy: 0.6531\n",
            "Epoch 2/30\n",
            "211/211 [==============================] - 5s 24ms/step - loss: 0.9107 - accuracy: 0.7251 - val_loss: 0.5567 - val_accuracy: 0.8483\n",
            "Epoch 3/30\n",
            "211/211 [==============================] - 5s 23ms/step - loss: 0.3353 - accuracy: 0.8944 - val_loss: 0.3308 - val_accuracy: 0.9157\n",
            "Epoch 4/30\n",
            "211/211 [==============================] - 5s 24ms/step - loss: 0.1218 - accuracy: 0.9611 - val_loss: 0.3688 - val_accuracy: 0.9323\n",
            "Epoch 5/30\n",
            "211/211 [==============================] - 5s 24ms/step - loss: 0.0656 - accuracy: 0.9804 - val_loss: 0.3549 - val_accuracy: 0.9361\n",
            "Epoch 6/30\n",
            "211/211 [==============================] - 5s 23ms/step - loss: 0.0429 - accuracy: 0.9876 - val_loss: 0.3663 - val_accuracy: 0.9426\n",
            "Epoch 7/30\n",
            "211/211 [==============================] - 5s 24ms/step - loss: 0.0343 - accuracy: 0.9897 - val_loss: 0.4022 - val_accuracy: 0.9395\n",
            "Epoch 8/30\n",
            "211/211 [==============================] - 5s 24ms/step - loss: 0.0228 - accuracy: 0.9930 - val_loss: 0.4072 - val_accuracy: 0.9406\n",
            "Epoch 9/30\n",
            "211/211 [==============================] - 5s 24ms/step - loss: 0.0157 - accuracy: 0.9956 - val_loss: 0.4285 - val_accuracy: 0.9413\n",
            "Epoch 10/30\n",
            "211/211 [==============================] - 5s 24ms/step - loss: 0.0162 - accuracy: 0.9956 - val_loss: 0.4601 - val_accuracy: 0.9416\n",
            "Epoch 11/30\n",
            "211/211 [==============================] - 5s 23ms/step - loss: 0.0171 - accuracy: 0.9937 - val_loss: 0.4877 - val_accuracy: 0.9402\n",
            "Epoch 12/30\n",
            "211/211 [==============================] - 5s 24ms/step - loss: 0.0171 - accuracy: 0.9958 - val_loss: 0.5214 - val_accuracy: 0.9406\n",
            "Epoch 13/30\n",
            "211/211 [==============================] - 5s 24ms/step - loss: 0.0207 - accuracy: 0.9937 - val_loss: 0.4640 - val_accuracy: 0.9433\n",
            "Epoch 14/30\n",
            "211/211 [==============================] - 5s 23ms/step - loss: 0.0147 - accuracy: 0.9958 - val_loss: 0.4507 - val_accuracy: 0.9451\n",
            "Epoch 15/30\n",
            "211/211 [==============================] - 5s 24ms/step - loss: 0.0125 - accuracy: 0.9960 - val_loss: 0.4182 - val_accuracy: 0.9440\n",
            "Epoch 16/30\n",
            "211/211 [==============================] - 5s 24ms/step - loss: 0.0107 - accuracy: 0.9966 - val_loss: 0.4824 - val_accuracy: 0.9451\n",
            "Epoch 17/30\n",
            "211/211 [==============================] - 5s 23ms/step - loss: 0.0215 - accuracy: 0.9936 - val_loss: 0.4335 - val_accuracy: 0.9478\n",
            "Epoch 18/30\n",
            "211/211 [==============================] - 5s 23ms/step - loss: 0.0071 - accuracy: 0.9979 - val_loss: 0.5001 - val_accuracy: 0.9464\n",
            "Epoch 19/30\n",
            "211/211 [==============================] - 5s 24ms/step - loss: 0.0070 - accuracy: 0.9982 - val_loss: 0.5764 - val_accuracy: 0.9406\n",
            "Epoch 20/30\n",
            "211/211 [==============================] - 5s 24ms/step - loss: 0.0129 - accuracy: 0.9959 - val_loss: 0.5226 - val_accuracy: 0.9468\n",
            "Epoch 21/30\n",
            "211/211 [==============================] - 5s 24ms/step - loss: 0.0102 - accuracy: 0.9970 - val_loss: 0.5180 - val_accuracy: 0.9454\n",
            "Epoch 22/30\n",
            "211/211 [==============================] - 5s 24ms/step - loss: 0.0113 - accuracy: 0.9966 - val_loss: 0.5046 - val_accuracy: 0.9413\n",
            "Epoch 23/30\n",
            "211/211 [==============================] - 5s 24ms/step - loss: 0.0166 - accuracy: 0.9954 - val_loss: 0.5219 - val_accuracy: 0.9402\n",
            "Epoch 24/30\n",
            "211/211 [==============================] - 5s 23ms/step - loss: 0.0107 - accuracy: 0.9958 - val_loss: 0.5053 - val_accuracy: 0.9489\n",
            "Epoch 25/30\n",
            "211/211 [==============================] - 5s 24ms/step - loss: 0.0084 - accuracy: 0.9978 - val_loss: 0.4585 - val_accuracy: 0.9489\n",
            "Epoch 26/30\n",
            "211/211 [==============================] - 5s 24ms/step - loss: 0.0037 - accuracy: 0.9988 - val_loss: 0.5358 - val_accuracy: 0.9482\n",
            "Epoch 27/30\n",
            "211/211 [==============================] - 5s 24ms/step - loss: 0.0075 - accuracy: 0.9979 - val_loss: 0.5177 - val_accuracy: 0.9485\n",
            "Epoch 28/30\n",
            "211/211 [==============================] - 5s 24ms/step - loss: 0.0176 - accuracy: 0.9965 - val_loss: 0.4706 - val_accuracy: 0.9454\n",
            "Epoch 29/30\n",
            "211/211 [==============================] - 5s 23ms/step - loss: 0.0059 - accuracy: 0.9979 - val_loss: 0.4635 - val_accuracy: 0.9482\n",
            "Epoch 30/30\n",
            "211/211 [==============================] - 5s 24ms/step - loss: 0.0082 - accuracy: 0.9986 - val_loss: 0.4744 - val_accuracy: 0.9509\n"
          ],
          "name": "stdout"
        },
        {
          "output_type": "execute_result",
          "data": {
            "text/plain": [
              "<tensorflow.python.keras.callbacks.History at 0x7f575e41bd10>"
            ]
          },
          "metadata": {
            "tags": []
          },
          "execution_count": 54
        }
      ]
    },
    {
      "cell_type": "code",
      "metadata": {
        "id": "6SqcLDj2kcJo",
        "colab": {
          "base_uri": "https://localhost:8080/"
        },
        "outputId": "9e5d8612-cc4e-4563-e9dd-0f802855b46b"
      },
      "source": [
        "#Testing (Densely Connected CNN with Multi-scale Feature Attention for Text Classification) with three features on test dataset\n",
        "#print(\"FOR Transformer MODEL\")\n",
        "y_prob = model4.predict(X_test)\n",
        "y_pred = np.argmax(y_prob,axis=1)\n",
        "accuracy = accuracy_score(y_test, y_pred)\n",
        "print('Accuracy: %f' % accuracy)\n",
        "precision = precision_score(y_test, y_pred, average='macro')\n",
        "print('Precision: %f' % precision)\n",
        "recall = recall_score(y_test, y_pred,average='macro')\n",
        "print('Recall: %f' % recall)\n",
        "f1 = f1_score(y_test, y_pred,average='macro')\n",
        "print('F1 score: %f' % f1)"
      ],
      "execution_count": null,
      "outputs": [
        {
          "output_type": "stream",
          "text": [
            "Accuracy: 0.954373\n",
            "Precision: 0.899549\n",
            "Recall: 0.895788\n",
            "F1 score: 0.895478\n"
          ],
          "name": "stdout"
        }
      ]
    },
    {
      "cell_type": "code",
      "metadata": {
        "id": "4JjcbOEp5sZ3",
        "colab": {
          "base_uri": "https://localhost:8080/"
        },
        "outputId": "3109ad7f-ec78-4dad-c647-130db309d4cf"
      },
      "source": [
        "# Implementing (Densely Connected CNN with Multi-scale Feature Attention for Text Classification) with four features.\n",
        "\n",
        "embedding_vector_features=100\n",
        "input=Input(shape=(sent_length,), name='inputs')\n",
        "embedd=Embedding(voc_size,embedding_vector_features,input_length=sent_length)(input)\n",
        "x1=Conv1D(128, 3, padding='same', activation='relu' )(embedd)\n",
        "x1=MaxPooling1D(pool_size=2,strides=None)(x1)\n",
        "x2=Conv1D(128, 3, padding='same', activation='relu' )(x1)\n",
        "x1=MaxPooling1D(pool_size=2,strides=None)(x1)\n",
        "x2=MaxPooling1D(pool_size=2,strides=None)(x2)\n",
        "x3=Conv1D(128, 3, padding='same', activation='relu' )(concatenate([x1,x2]))\n",
        "x1=MaxPooling1D(pool_size=2,strides=None)(x1)\n",
        "x2=MaxPooling1D(pool_size=2,strides=None)(x2)\n",
        "x3=MaxPooling1D(pool_size=2,strides=None)(x3)\n",
        "x4=Conv1D(128, 3, padding='same', activation='relu' )(concatenate([x1,x2,x3]))\n",
        "x1=MaxPooling1D(pool_size=2,strides=None)(x1)\n",
        "x2=MaxPooling1D(pool_size=2,strides=None)(x2)\n",
        "x3=MaxPooling1D(pool_size=2,strides=None)(x3)\n",
        "x4=MaxPooling1D(pool_size=2,strides=None)(x4)\n",
        "xn=concatenate([x1,x2,x3,x4],axis=-1)\n",
        "x_att=TimeDistributed(att_model(128,4))(xn)\n",
        "y_=Flatten()(x_att)\n",
        "y_=Dropout(0.4)(y_)\n",
        "y_=Dense(256,activation='relu')(y_)\n",
        "truth=Dense(64,activation='relu')(y_)\n",
        "truth=Dense(18,activation='softmax',name='truth_')(truth)\n",
        "model4=Model(inputs=input, outputs=truth)\n",
        "model4.compile(loss= 'sparse_categorical_crossentropy', optimizer='adam',metrics=['accuracy'])\n",
        "model4.summary()\n",
        "#plot_model(model2,show_layer_names=True,show_shapes=True,to_file='multichannel.png')\n",
        "\n",
        "#Multi_CNN_save = ModelCheckpoint('/content/drive/MyDrive/IIIT_MIDAS/saved_models/'+'Multi_CNN.hdf5', save_best_only=True, monitor='val_loss', mode='min')\n"
      ],
      "execution_count": null,
      "outputs": [
        {
          "output_type": "stream",
          "text": [
            "Model: \"model_13\"\n",
            "__________________________________________________________________________________________________\n",
            "Layer (type)                    Output Shape         Param #     Connected to                     \n",
            "==================================================================================================\n",
            "inputs (InputLayer)             [(None, 128)]        0                                            \n",
            "__________________________________________________________________________________________________\n",
            "embedding_13 (Embedding)        (None, 128, 100)     1639900     inputs[0][0]                     \n",
            "__________________________________________________________________________________________________\n",
            "conv1d_33 (Conv1D)              (None, 128, 128)     38528       embedding_13[0][0]               \n",
            "__________________________________________________________________________________________________\n",
            "max_pooling1d_62 (MaxPooling1D) (None, 64, 128)      0           conv1d_33[0][0]                  \n",
            "__________________________________________________________________________________________________\n",
            "conv1d_34 (Conv1D)              (None, 64, 128)      49280       max_pooling1d_62[0][0]           \n",
            "__________________________________________________________________________________________________\n",
            "max_pooling1d_63 (MaxPooling1D) (None, 32, 128)      0           max_pooling1d_62[0][0]           \n",
            "__________________________________________________________________________________________________\n",
            "max_pooling1d_64 (MaxPooling1D) (None, 32, 128)      0           conv1d_34[0][0]                  \n",
            "__________________________________________________________________________________________________\n",
            "concatenate_20 (Concatenate)    (None, 32, 256)      0           max_pooling1d_63[0][0]           \n",
            "                                                                 max_pooling1d_64[0][0]           \n",
            "__________________________________________________________________________________________________\n",
            "conv1d_35 (Conv1D)              (None, 32, 128)      98432       concatenate_20[0][0]             \n",
            "__________________________________________________________________________________________________\n",
            "max_pooling1d_65 (MaxPooling1D) (None, 16, 128)      0           max_pooling1d_63[0][0]           \n",
            "__________________________________________________________________________________________________\n",
            "max_pooling1d_66 (MaxPooling1D) (None, 16, 128)      0           max_pooling1d_64[0][0]           \n",
            "__________________________________________________________________________________________________\n",
            "max_pooling1d_67 (MaxPooling1D) (None, 16, 128)      0           conv1d_35[0][0]                  \n",
            "__________________________________________________________________________________________________\n",
            "concatenate_21 (Concatenate)    (None, 16, 384)      0           max_pooling1d_65[0][0]           \n",
            "                                                                 max_pooling1d_66[0][0]           \n",
            "                                                                 max_pooling1d_67[0][0]           \n",
            "__________________________________________________________________________________________________\n",
            "conv1d_36 (Conv1D)              (None, 16, 128)      147584      concatenate_21[0][0]             \n",
            "__________________________________________________________________________________________________\n",
            "max_pooling1d_68 (MaxPooling1D) (None, 8, 128)       0           max_pooling1d_65[0][0]           \n",
            "__________________________________________________________________________________________________\n",
            "max_pooling1d_69 (MaxPooling1D) (None, 8, 128)       0           max_pooling1d_66[0][0]           \n",
            "__________________________________________________________________________________________________\n",
            "max_pooling1d_70 (MaxPooling1D) (None, 8, 128)       0           max_pooling1d_67[0][0]           \n",
            "__________________________________________________________________________________________________\n",
            "max_pooling1d_71 (MaxPooling1D) (None, 8, 128)       0           conv1d_36[0][0]                  \n",
            "__________________________________________________________________________________________________\n",
            "concatenate_22 (Concatenate)    (None, 8, 512)       0           max_pooling1d_68[0][0]           \n",
            "                                                                 max_pooling1d_69[0][0]           \n",
            "                                                                 max_pooling1d_70[0][0]           \n",
            "                                                                 max_pooling1d_71[0][0]           \n",
            "__________________________________________________________________________________________________\n",
            "time_distributed_13 (TimeDistri (None, 8, 128)       204         concatenate_22[0][0]             \n",
            "__________________________________________________________________________________________________\n",
            "flatten_13 (Flatten)            (None, 1024)         0           time_distributed_13[0][0]        \n",
            "__________________________________________________________________________________________________\n",
            "dropout_13 (Dropout)            (None, 1024)         0           flatten_13[0][0]                 \n",
            "__________________________________________________________________________________________________\n",
            "dense_26 (Dense)                (None, 256)          262400      dropout_13[0][0]                 \n",
            "__________________________________________________________________________________________________\n",
            "dense_27 (Dense)                (None, 64)           16448       dense_26[0][0]                   \n",
            "__________________________________________________________________________________________________\n",
            "truth_ (Dense)                  (None, 18)           1170        dense_27[0][0]                   \n",
            "==================================================================================================\n",
            "Total params: 2,253,946\n",
            "Trainable params: 2,253,946\n",
            "Non-trainable params: 0\n",
            "__________________________________________________________________________________________________\n"
          ],
          "name": "stdout"
        }
      ]
    },
    {
      "cell_type": "code",
      "metadata": {
        "colab": {
          "base_uri": "https://localhost:8080/"
        },
        "id": "maNSrUzIpPL-",
        "outputId": "66e52800-c78c-4a41-cb90-5a2bcd3b4c18"
      },
      "source": [
        "#Training (Densely Connected CNN with Multi-scale Feature Attention for Text Classification) with four features\n",
        "model4.fit(x=X_train, y=y_train, validation_data=(X_val,y_val), batch_size=64, epochs=30)"
      ],
      "execution_count": null,
      "outputs": [
        {
          "output_type": "stream",
          "text": [
            "Epoch 1/30\n",
            "211/211 [==============================] - 7s 27ms/step - loss: 2.0572 - accuracy: 0.3924 - val_loss: 1.2233 - val_accuracy: 0.6189\n",
            "Epoch 2/30\n",
            "211/211 [==============================] - 5s 25ms/step - loss: 1.0343 - accuracy: 0.6593 - val_loss: 0.8293 - val_accuracy: 0.7505\n",
            "Epoch 3/30\n",
            "211/211 [==============================] - 5s 25ms/step - loss: 0.6244 - accuracy: 0.7951 - val_loss: 0.5924 - val_accuracy: 0.8417\n",
            "Epoch 4/30\n",
            "211/211 [==============================] - 5s 24ms/step - loss: 0.3616 - accuracy: 0.8822 - val_loss: 0.4886 - val_accuracy: 0.8863\n",
            "Epoch 5/30\n",
            "211/211 [==============================] - 5s 24ms/step - loss: 0.2060 - accuracy: 0.9317 - val_loss: 0.4822 - val_accuracy: 0.8922\n",
            "Epoch 6/30\n",
            "211/211 [==============================] - 5s 24ms/step - loss: 0.1377 - accuracy: 0.9580 - val_loss: 0.4569 - val_accuracy: 0.9067\n",
            "Epoch 7/30\n",
            "211/211 [==============================] - 5s 24ms/step - loss: 0.1004 - accuracy: 0.9672 - val_loss: 0.5144 - val_accuracy: 0.9126\n",
            "Epoch 8/30\n",
            "211/211 [==============================] - 5s 24ms/step - loss: 0.0805 - accuracy: 0.9748 - val_loss: 0.5559 - val_accuracy: 0.9157\n",
            "Epoch 9/30\n",
            "211/211 [==============================] - 5s 24ms/step - loss: 0.0583 - accuracy: 0.9811 - val_loss: 0.5484 - val_accuracy: 0.9226\n",
            "Epoch 10/30\n",
            "211/211 [==============================] - 5s 24ms/step - loss: 0.0386 - accuracy: 0.9892 - val_loss: 0.6185 - val_accuracy: 0.9157\n",
            "Epoch 11/30\n",
            "211/211 [==============================] - 5s 24ms/step - loss: 0.0340 - accuracy: 0.9899 - val_loss: 0.6008 - val_accuracy: 0.9195\n",
            "Epoch 12/30\n",
            "211/211 [==============================] - 5s 24ms/step - loss: 0.0427 - accuracy: 0.9877 - val_loss: 0.5668 - val_accuracy: 0.9216\n",
            "Epoch 13/30\n",
            "211/211 [==============================] - 5s 24ms/step - loss: 0.0310 - accuracy: 0.9905 - val_loss: 0.5753 - val_accuracy: 0.9178\n",
            "Epoch 14/30\n",
            "211/211 [==============================] - 5s 24ms/step - loss: 0.0302 - accuracy: 0.9902 - val_loss: 0.5845 - val_accuracy: 0.9229\n",
            "Epoch 15/30\n",
            "211/211 [==============================] - 5s 23ms/step - loss: 0.0222 - accuracy: 0.9934 - val_loss: 0.6025 - val_accuracy: 0.9250\n",
            "Epoch 16/30\n",
            "211/211 [==============================] - 5s 24ms/step - loss: 0.0284 - accuracy: 0.9912 - val_loss: 0.6551 - val_accuracy: 0.9288\n",
            "Epoch 17/30\n",
            "211/211 [==============================] - 5s 24ms/step - loss: 0.0221 - accuracy: 0.9940 - val_loss: 0.5689 - val_accuracy: 0.9247\n",
            "Epoch 18/30\n",
            "211/211 [==============================] - 5s 24ms/step - loss: 0.0169 - accuracy: 0.9947 - val_loss: 0.5061 - val_accuracy: 0.9288\n",
            "Epoch 19/30\n",
            "211/211 [==============================] - 5s 24ms/step - loss: 0.0174 - accuracy: 0.9944 - val_loss: 0.6248 - val_accuracy: 0.9202\n",
            "Epoch 20/30\n",
            "211/211 [==============================] - 5s 24ms/step - loss: 0.0234 - accuracy: 0.9922 - val_loss: 0.6032 - val_accuracy: 0.9226\n",
            "Epoch 21/30\n",
            "211/211 [==============================] - 5s 25ms/step - loss: 0.0165 - accuracy: 0.9955 - val_loss: 0.5296 - val_accuracy: 0.9264\n",
            "Epoch 22/30\n",
            "211/211 [==============================] - 5s 26ms/step - loss: 0.0108 - accuracy: 0.9969 - val_loss: 0.4989 - val_accuracy: 0.9337\n",
            "Epoch 23/30\n",
            "211/211 [==============================] - 5s 25ms/step - loss: 0.0167 - accuracy: 0.9957 - val_loss: 0.4671 - val_accuracy: 0.9312\n",
            "Epoch 24/30\n",
            "211/211 [==============================] - 5s 25ms/step - loss: 0.0124 - accuracy: 0.9961 - val_loss: 0.5036 - val_accuracy: 0.9305\n",
            "Epoch 25/30\n",
            "211/211 [==============================] - 5s 25ms/step - loss: 0.0167 - accuracy: 0.9951 - val_loss: 0.4976 - val_accuracy: 0.9299\n",
            "Epoch 26/30\n",
            "211/211 [==============================] - 5s 24ms/step - loss: 0.0093 - accuracy: 0.9972 - val_loss: 0.5312 - val_accuracy: 0.9316\n",
            "Epoch 27/30\n",
            " 98/211 [============>.................] - ETA: 2s - loss: 0.0049 - accuracy: 0.9986"
          ],
          "name": "stdout"
        }
      ]
    },
    {
      "cell_type": "code",
      "metadata": {
        "colab": {
          "base_uri": "https://localhost:8080/"
        },
        "id": "Nl9E4G6vqEeW",
        "outputId": "830c28a4-e319-40a6-b3fd-9f898f126d9a"
      },
      "source": [
        "#Testing (Densely Connected CNN with Multi-scale Feature Attention for Text Classification) with four features on test dataset\n",
        "#print(\"FOR Transformer MODEL\")\n",
        "y_prob = model4.predict(X_test)\n",
        "y_pred = np.argmax(y_prob,axis=1)\n",
        "accuracy = accuracy_score(y_test, y_pred)\n",
        "print('Accuracy: %f' % accuracy)\n",
        "precision = precision_score(y_test, y_pred, average='macro')\n",
        "print('Precision: %f' % precision)\n",
        "recall = recall_score(y_test, y_pred,average='macro')\n",
        "print('Recall: %f' % recall)\n",
        "f1 = f1_score(y_test, y_pred,average='macro')\n",
        "print('F1 score: %f' % f1)"
      ],
      "execution_count": null,
      "outputs": [
        {
          "output_type": "stream",
          "text": [
            "Accuracy: 0.942620\n",
            "Precision: 0.867146\n",
            "Recall: 0.880980\n",
            "F1 score: 0.871206\n"
          ],
          "name": "stdout"
        }
      ]
    },
    {
      "cell_type": "code",
      "metadata": {
        "id": "W7Fb0UHm2KrH"
      },
      "source": [
        "#Defining ABCDM model\n",
        "inp = Input(shape = (sent_length,), name = 'our-inp')\n",
        "embd1 = Embedding(voc_size, 100, input_length=sent_length)(inp)\n",
        "\n",
        "x_gru = Bidirectional(GRU(64, return_sequences = True))(embd1)\n",
        "x_gru = Dropout(0.2)(x_gru)\n",
        "x = AttentionWithContext()(x_gru)\n",
        "\n",
        "x2 = Conv1D(32, kernel_size=4, padding='valid')(x_gru)\n",
        "avg_pool1_gru = GlobalAveragePooling1D()(x2)\n",
        "max_pool1_gru = GlobalMaxPooling1D()(x2)\n",
        "\n",
        "x3 = Conv1D(32, kernel_size=6, padding='valid')(x_gru)\n",
        "avg_pool3_gru = GlobalAveragePooling1D()(x3)\n",
        "max_pool3_gru = GlobalMaxPooling1D()(x3)\n",
        "\n",
        "x_lstm = Bidirectional(LSTM(64, return_sequences = True))(embd1)\n",
        "x_gru = Dropout(0.2)(x_lstm)\n",
        "x = AttentionWithContext()(x_lstm)\n",
        "\n",
        "x1 = Conv1D(32, kernel_size=4, padding='valid')(x_lstm)\n",
        "avg_pool1_lstm = GlobalAveragePooling1D()(x1)\n",
        "max_pool1_lstm = GlobalMaxPooling1D()(x1)\n",
        "\n",
        "x3 = Conv1D(32, kernel_size=6, padding='valid', kernel_initializer='he_uniform')(x_lstm)\n",
        "avg_pool3_lstm = GlobalAveragePooling1D()(x3)\n",
        "max_pool3_lstm = GlobalMaxPooling1D()(x3)\n",
        "\n",
        "x = concatenate([avg_pool1_gru, max_pool1_gru, avg_pool3_gru, max_pool3_gru, avg_pool1_lstm, max_pool1_lstm,avg_pool3_lstm,max_pool3_lstm])\n",
        "x = BatchNormalization()(x)\n",
        "x = Dense(64, activation='relu') (x)\n",
        "x = Dropout(0.2)(x)\n",
        "x = BatchNormalization()(x)\n",
        "x = Dropout(0.2)(x)\n",
        "x = Dense(int(64 ), activation='relu') (x)\n",
        "x = Dense(18, activation = \"softmax\")(x)\n",
        "model5 = Model(inputs = inp, outputs = x)\n",
        "model5.compile(loss = \"sparse_categorical_crossentropy\", optimizer ='adam', metrics = [\"accuracy\"])"
      ],
      "execution_count": null,
      "outputs": []
    },
    {
      "cell_type": "code",
      "metadata": {
        "colab": {
          "base_uri": "https://localhost:8080/"
        },
        "id": "zPMEltxC20md",
        "outputId": "2031d6bc-7a79-4d80-ef66-8269b1963101"
      },
      "source": [
        "#Training ABCDN model\n",
        "model5.fit(X_train, y_train, batch_size=64, epochs=20, validation_data=(X_val, y_val))\n"
      ],
      "execution_count": null,
      "outputs": [
        {
          "output_type": "stream",
          "text": [
            "Epoch 1/20\n",
            "211/211 [==============================] - 18s 55ms/step - loss: 1.3928 - accuracy: 0.6146 - val_loss: 1.7356 - val_accuracy: 0.6938\n",
            "Epoch 2/20\n",
            "211/211 [==============================] - 9s 44ms/step - loss: 0.1669 - accuracy: 0.9600 - val_loss: 0.4270 - val_accuracy: 0.9323\n",
            "Epoch 3/20\n",
            "211/211 [==============================] - 9s 44ms/step - loss: 0.0647 - accuracy: 0.9849 - val_loss: 0.1427 - val_accuracy: 0.9651\n",
            "Epoch 4/20\n",
            "211/211 [==============================] - 9s 44ms/step - loss: 0.0428 - accuracy: 0.9880 - val_loss: 0.1603 - val_accuracy: 0.9637\n",
            "Epoch 5/20\n",
            "211/211 [==============================] - 9s 44ms/step - loss: 0.0245 - accuracy: 0.9942 - val_loss: 0.1713 - val_accuracy: 0.9665\n",
            "Epoch 6/20\n",
            "211/211 [==============================] - 9s 44ms/step - loss: 0.0221 - accuracy: 0.9943 - val_loss: 0.1527 - val_accuracy: 0.9710\n",
            "Epoch 7/20\n",
            "211/211 [==============================] - 9s 44ms/step - loss: 0.0217 - accuracy: 0.9943 - val_loss: 0.1551 - val_accuracy: 0.9706\n",
            "Epoch 8/20\n",
            "211/211 [==============================] - 9s 44ms/step - loss: 0.0147 - accuracy: 0.9962 - val_loss: 0.2137 - val_accuracy: 0.9575\n",
            "Epoch 9/20\n",
            "211/211 [==============================] - 9s 44ms/step - loss: 0.0180 - accuracy: 0.9950 - val_loss: 0.1618 - val_accuracy: 0.9713\n",
            "Epoch 10/20\n",
            "211/211 [==============================] - 9s 44ms/step - loss: 0.0141 - accuracy: 0.9954 - val_loss: 0.1843 - val_accuracy: 0.9672\n",
            "Epoch 11/20\n",
            "211/211 [==============================] - 9s 45ms/step - loss: 0.0130 - accuracy: 0.9965 - val_loss: 0.2215 - val_accuracy: 0.9572\n",
            "Epoch 12/20\n",
            "211/211 [==============================] - 9s 45ms/step - loss: 0.0119 - accuracy: 0.9971 - val_loss: 0.1738 - val_accuracy: 0.9724\n",
            "Epoch 13/20\n",
            "211/211 [==============================] - 9s 44ms/step - loss: 0.0125 - accuracy: 0.9970 - val_loss: 0.2272 - val_accuracy: 0.9592\n",
            "Epoch 14/20\n",
            "211/211 [==============================] - 9s 44ms/step - loss: 0.0286 - accuracy: 0.9906 - val_loss: 0.1720 - val_accuracy: 0.9748\n",
            "Epoch 15/20\n",
            "211/211 [==============================] - 9s 45ms/step - loss: 0.0156 - accuracy: 0.9956 - val_loss: 0.1773 - val_accuracy: 0.9713\n",
            "Epoch 16/20\n",
            "211/211 [==============================] - 9s 45ms/step - loss: 0.0122 - accuracy: 0.9964 - val_loss: 0.2417 - val_accuracy: 0.9644\n",
            "Epoch 17/20\n",
            "211/211 [==============================] - 9s 44ms/step - loss: 0.0122 - accuracy: 0.9968 - val_loss: 0.1882 - val_accuracy: 0.9730\n",
            "Epoch 18/20\n",
            "211/211 [==============================] - 9s 45ms/step - loss: 0.0130 - accuracy: 0.9964 - val_loss: 0.1968 - val_accuracy: 0.9699\n",
            "Epoch 19/20\n",
            "211/211 [==============================] - 9s 44ms/step - loss: 0.0131 - accuracy: 0.9960 - val_loss: 0.1815 - val_accuracy: 0.9737\n",
            "Epoch 20/20\n",
            "211/211 [==============================] - 9s 45ms/step - loss: 0.0143 - accuracy: 0.9956 - val_loss: 0.2030 - val_accuracy: 0.9706\n"
          ],
          "name": "stdout"
        },
        {
          "output_type": "execute_result",
          "data": {
            "text/plain": [
              "<tensorflow.python.keras.callbacks.History at 0x7f57c2d68510>"
            ]
          },
          "metadata": {
            "tags": []
          },
          "execution_count": 71
        }
      ]
    },
    {
      "cell_type": "code",
      "metadata": {
        "colab": {
          "base_uri": "https://localhost:8080/"
        },
        "id": "wShXFfMo66ed",
        "outputId": "3d8b5875-a0d4-4ef6-ffdd-c2266da4af6a"
      },
      "source": [
        "#Testing the ABCDM model on test dataset\n",
        "#print(\"FOR ABCDM MODEL\")\n",
        "y_prob = model5.predict(X_test)\n",
        "y_pred = np.argmax(y_prob,axis=1)\n",
        "accuracy = accuracy_score(y_test, y_pred)\n",
        "print('Accuracy: %f' % accuracy)\n",
        "precision = precision_score(y_test, y_pred, average='macro')\n",
        "print('Precision: %f' % precision)\n",
        "recall = recall_score(y_test, y_pred,average='macro')\n",
        "print('Recall: %f' % recall)\n",
        "f1 = f1_score(y_test, y_pred,average='macro')\n",
        "print('F1 score: %f' % f1)"
      ],
      "execution_count": null,
      "outputs": [
        {
          "output_type": "stream",
          "text": [
            "Accuracy: 0.975112\n",
            "Precision: 0.953300\n",
            "Recall: 0.935564\n",
            "F1 score: 0.943674\n"
          ],
          "name": "stdout"
        }
      ]
    },
    {
      "cell_type": "code",
      "metadata": {
        "colab": {
          "base_uri": "https://localhost:8080/"
        },
        "id": "ql-xSxA23eok",
        "outputId": "5ae60cfc-ae1c-48a7-ecdf-377754594d6e"
      },
      "source": [
        "#Building ACBiLSTM model \n",
        "input = Input(shape=(sent_length,))\n",
        "embd1 = Embedding(voc_size, 100, input_length=sent_length)(input)\n",
        "x = Conv1D(filters=100, kernel_size=5, padding='valid', activation='relu')(embd1)\n",
        "x = MaxPooling1D(pool_size=2,strides=None)(x)\n",
        "x = Bidirectional(LSTM(64, return_sequences=True))(x)\n",
        "x = AttentionWithContext()(x)\n",
        "x = Flatten()(x)\n",
        "x=Dense(256,activation='relu')(x)\n",
        "x=Dropout(0.4)(x)\n",
        "x=Dense(64,activation='relu')(x)\n",
        "x = Dense(18,activation='softmax')(x)\n",
        "model6 = Model(inputs=input, outputs=x, name='ACBiLSTM')\n",
        "model6.compile(loss='sparse_categorical_crossentropy', optimizer='adam', metrics=['accuracy'])\n",
        "model6.summary()"
      ],
      "execution_count": 42,
      "outputs": [
        {
          "output_type": "stream",
          "text": [
            "Model: \"ACBiLSTM\"\n",
            "_________________________________________________________________\n",
            "Layer (type)                 Output Shape              Param #   \n",
            "=================================================================\n",
            "input_12 (InputLayer)        [(None, 128)]             0         \n",
            "_________________________________________________________________\n",
            "embedding_11 (Embedding)     (None, 128, 100)          1639900   \n",
            "_________________________________________________________________\n",
            "conv1d_19 (Conv1D)           (None, 124, 100)          50100     \n",
            "_________________________________________________________________\n",
            "max_pooling1d_1 (MaxPooling1 (None, 62, 100)           0         \n",
            "_________________________________________________________________\n",
            "bidirectional_10 (Bidirectio (None, 62, 128)           84480     \n",
            "_________________________________________________________________\n",
            "attention_with_context_9 (At (None, 62, 128)           16640     \n",
            "_________________________________________________________________\n",
            "flatten_1 (Flatten)          (None, 7936)              0         \n",
            "_________________________________________________________________\n",
            "dense_15 (Dense)             (None, 256)               2031872   \n",
            "_________________________________________________________________\n",
            "dropout_1 (Dropout)          (None, 256)               0         \n",
            "_________________________________________________________________\n",
            "dense_16 (Dense)             (None, 64)                16448     \n",
            "_________________________________________________________________\n",
            "dense_17 (Dense)             (None, 18)                1170      \n",
            "=================================================================\n",
            "Total params: 3,840,610\n",
            "Trainable params: 3,840,610\n",
            "Non-trainable params: 0\n",
            "_________________________________________________________________\n"
          ],
          "name": "stdout"
        }
      ]
    },
    {
      "cell_type": "code",
      "metadata": {
        "id": "r6kwfupEAB8I",
        "colab": {
          "base_uri": "https://localhost:8080/"
        },
        "outputId": "a9b985b2-10d9-41d4-d5d5-28aeee111b63"
      },
      "source": [
        "# Trining ACBiLSTM model \n",
        "model6.fit(X_train, y_train, batch_size=64, epochs=10, validation_data=(X_val, y_val))\n"
      ],
      "execution_count": 44,
      "outputs": [
        {
          "output_type": "stream",
          "text": [
            "Epoch 1/10\n",
            "211/211 [==============================] - 6s 30ms/step - loss: 0.0346 - accuracy: 0.9908 - val_loss: 0.5373 - val_accuracy: 0.9036\n",
            "Epoch 2/10\n",
            "211/211 [==============================] - 6s 28ms/step - loss: 0.0239 - accuracy: 0.9927 - val_loss: 0.5991 - val_accuracy: 0.9077\n",
            "Epoch 3/10\n",
            "211/211 [==============================] - 6s 29ms/step - loss: 0.0242 - accuracy: 0.9928 - val_loss: 0.5284 - val_accuracy: 0.9140\n",
            "Epoch 4/10\n",
            "211/211 [==============================] - 6s 28ms/step - loss: 0.0188 - accuracy: 0.9942 - val_loss: 0.5601 - val_accuracy: 0.9081\n",
            "Epoch 5/10\n",
            "211/211 [==============================] - 6s 28ms/step - loss: 0.0232 - accuracy: 0.9939 - val_loss: 0.5568 - val_accuracy: 0.9109\n",
            "Epoch 6/10\n",
            "211/211 [==============================] - 6s 27ms/step - loss: 0.0213 - accuracy: 0.9942 - val_loss: 0.5817 - val_accuracy: 0.9091\n",
            "Epoch 7/10\n",
            "211/211 [==============================] - 6s 28ms/step - loss: 0.0139 - accuracy: 0.9966 - val_loss: 0.5548 - val_accuracy: 0.9095\n",
            "Epoch 8/10\n",
            "211/211 [==============================] - 6s 29ms/step - loss: 0.0099 - accuracy: 0.9972 - val_loss: 0.6071 - val_accuracy: 0.9129\n",
            "Epoch 9/10\n",
            "211/211 [==============================] - 6s 28ms/step - loss: 0.0089 - accuracy: 0.9974 - val_loss: 0.5918 - val_accuracy: 0.9153\n",
            "Epoch 10/10\n",
            "211/211 [==============================] - 6s 28ms/step - loss: 0.0108 - accuracy: 0.9964 - val_loss: 0.5738 - val_accuracy: 0.9140\n"
          ],
          "name": "stdout"
        },
        {
          "output_type": "execute_result",
          "data": {
            "text/plain": [
              "<tensorflow.python.keras.callbacks.History at 0x7f7eec66d710>"
            ]
          },
          "metadata": {
            "tags": []
          },
          "execution_count": 44
        }
      ]
    },
    {
      "cell_type": "code",
      "metadata": {
        "colab": {
          "base_uri": "https://localhost:8080/"
        },
        "id": "mQX2B_L34ZLQ",
        "outputId": "95812d34-7f66-4e97-a80c-e8afaaf0dd7a"
      },
      "source": [
        "#Testing the ACBiLSTM model on test dataset\n",
        "print(\"FOR ACBiLSTM MODEL\")\n",
        "y_prob = model6.predict(X_test)\n",
        "y_pred = np.argmax(y_prob,axis=1)\n",
        "accuracy = accuracy_score(y_test, y_pred)\n",
        "print('Accuracy: %f' % accuracy)\n",
        "precision = precision_score(y_test, y_pred, average='macro')\n",
        "print('Precision: %f' % precision)\n",
        "recall = recall_score(y_test, y_pred,average='macro')\n",
        "print('Recall: %f' % recall)\n",
        "f1 = f1_score(y_test, y_pred,average='macro')\n",
        "print('F1 score: %f' % f1)"
      ],
      "execution_count": 45,
      "outputs": [
        {
          "output_type": "stream",
          "text": [
            "FOR ACBiLSTM MODEL\n",
            "Accuracy: 0.922572\n",
            "Precision: 0.836408\n",
            "Recall: 0.844718\n",
            "F1 score: 0.838712\n"
          ],
          "name": "stdout"
        }
      ]
    },
    {
      "cell_type": "code",
      "metadata": {
        "id": "iYdaCgoeO4_e",
        "colab": {
          "base_uri": "https://localhost:8080/"
        },
        "outputId": "914d45e9-257b-4151-c425-b5064b38d8e5"
      },
      "source": [
        "# Building ARC model (attention based RCNN model)\n",
        "input = Input(shape=(sent_length,))\n",
        "embd = Embedding(voc_size, 100, input_length=sent_length)(input)\n",
        "\n",
        "x = Bidirectional(LSTM(64, return_sequences = True))(embd)\n",
        "x = AttentionWithContext()(x)\n",
        "\n",
        "\n",
        "#x = Lambda(lambda t: tf.expand_dims(t, 2))(x)\n",
        "\n",
        "\n",
        "#x = Conv1D(100, kernel_size=3, padding='valid')(x)\n",
        "x = Conv1D(100, kernel_size=5, padding='valid')(x)\n",
        "x = Conv1D(100, kernel_size=7, padding='valid')(x)\n",
        "\n",
        "x = GlobalMaxPooling1D()(x)\n",
        "x5 = Dense(64, activation=\"relu\")(x)\n",
        "output = Dense(18,activation='softmax')(x)\n",
        "\n",
        "model7 = Model(inputs=input, outputs=output)\n",
        "model7.compile(loss='sparse_categorical_crossentropy', optimizer='adam', metrics=['accuracy'])\n",
        "model7.summary()"
      ],
      "execution_count": 37,
      "outputs": [
        {
          "output_type": "stream",
          "text": [
            "Model: \"model_4\"\n",
            "_________________________________________________________________\n",
            "Layer (type)                 Output Shape              Param #   \n",
            "=================================================================\n",
            "input_10 (InputLayer)        [(None, 128)]             0         \n",
            "_________________________________________________________________\n",
            "embedding_9 (Embedding)      (None, 128, 100)          1639900   \n",
            "_________________________________________________________________\n",
            "bidirectional_8 (Bidirection (None, 128, 128)          84480     \n",
            "_________________________________________________________________\n",
            "attention_with_context_7 (At (None, 128, 128)          16640     \n",
            "_________________________________________________________________\n",
            "conv1d_16 (Conv1D)           (None, 124, 100)          64100     \n",
            "_________________________________________________________________\n",
            "conv1d_17 (Conv1D)           (None, 118, 100)          70100     \n",
            "_________________________________________________________________\n",
            "global_max_pooling1d_5 (Glob (None, 100)               0         \n",
            "_________________________________________________________________\n",
            "dense_11 (Dense)             (None, 18)                1818      \n",
            "=================================================================\n",
            "Total params: 1,877,038\n",
            "Trainable params: 1,877,038\n",
            "Non-trainable params: 0\n",
            "_________________________________________________________________\n"
          ],
          "name": "stdout"
        }
      ]
    },
    {
      "cell_type": "code",
      "metadata": {
        "colab": {
          "base_uri": "https://localhost:8080/"
        },
        "id": "d-yfHhVisnnw",
        "outputId": "dee6efc0-bd22-4f90-d6dc-3becd79cae98"
      },
      "source": [
        "#Training ARC model\n",
        "model7.fit(X_train, y_train, batch_size=64, epochs=15, validation_data=(X_val, y_val))\n"
      ],
      "execution_count": 38,
      "outputs": [
        {
          "output_type": "stream",
          "text": [
            "Epoch 1/15\n",
            "211/211 [==============================] - 12s 40ms/step - loss: 2.1270 - accuracy: 0.3804 - val_loss: 0.8545 - val_accuracy: 0.7405\n",
            "Epoch 2/15\n",
            "211/211 [==============================] - 7s 32ms/step - loss: 0.6361 - accuracy: 0.8093 - val_loss: 0.4919 - val_accuracy: 0.8680\n",
            "Epoch 3/15\n",
            "211/211 [==============================] - 7s 33ms/step - loss: 0.2449 - accuracy: 0.9271 - val_loss: 0.3541 - val_accuracy: 0.9112\n",
            "Epoch 4/15\n",
            "211/211 [==============================] - 7s 33ms/step - loss: 0.1395 - accuracy: 0.9604 - val_loss: 0.3787 - val_accuracy: 0.9005\n",
            "Epoch 5/15\n",
            "211/211 [==============================] - 7s 34ms/step - loss: 0.1245 - accuracy: 0.9652 - val_loss: 0.3035 - val_accuracy: 0.9299\n",
            "Epoch 6/15\n",
            "211/211 [==============================] - 7s 33ms/step - loss: 0.0556 - accuracy: 0.9853 - val_loss: 0.2787 - val_accuracy: 0.9385\n",
            "Epoch 7/15\n",
            "211/211 [==============================] - 7s 33ms/step - loss: 0.0402 - accuracy: 0.9884 - val_loss: 0.3347 - val_accuracy: 0.9395\n",
            "Epoch 8/15\n",
            "211/211 [==============================] - 7s 33ms/step - loss: 0.0302 - accuracy: 0.9913 - val_loss: 0.3141 - val_accuracy: 0.9406\n",
            "Epoch 9/15\n",
            "211/211 [==============================] - 7s 34ms/step - loss: 0.0254 - accuracy: 0.9932 - val_loss: 0.3102 - val_accuracy: 0.9451\n",
            "Epoch 10/15\n",
            "211/211 [==============================] - 7s 33ms/step - loss: 0.0225 - accuracy: 0.9923 - val_loss: 0.3314 - val_accuracy: 0.9419\n",
            "Epoch 11/15\n",
            "211/211 [==============================] - 7s 33ms/step - loss: 0.0177 - accuracy: 0.9951 - val_loss: 0.3068 - val_accuracy: 0.9447\n",
            "Epoch 12/15\n",
            "211/211 [==============================] - 7s 32ms/step - loss: 0.0263 - accuracy: 0.9943 - val_loss: 0.3074 - val_accuracy: 0.9496\n",
            "Epoch 13/15\n",
            "211/211 [==============================] - 7s 33ms/step - loss: 0.0093 - accuracy: 0.9966 - val_loss: 0.3338 - val_accuracy: 0.9430\n",
            "Epoch 14/15\n",
            "211/211 [==============================] - 7s 33ms/step - loss: 0.0114 - accuracy: 0.9967 - val_loss: 0.3290 - val_accuracy: 0.9468\n",
            "Epoch 15/15\n",
            "211/211 [==============================] - 7s 33ms/step - loss: 0.0057 - accuracy: 0.9983 - val_loss: 0.3558 - val_accuracy: 0.9454\n"
          ],
          "name": "stdout"
        },
        {
          "output_type": "execute_result",
          "data": {
            "text/plain": [
              "<tensorflow.python.keras.callbacks.History at 0x7f7f7c13bbd0>"
            ]
          },
          "metadata": {
            "tags": []
          },
          "execution_count": 38
        }
      ]
    },
    {
      "cell_type": "code",
      "metadata": {
        "colab": {
          "base_uri": "https://localhost:8080/"
        },
        "id": "B57wrU-WtRG2",
        "outputId": "ae0f5d17-43f0-492b-e43e-f2b0e049811a"
      },
      "source": [
        "#Testing the ARC model on test dataset\n",
        "print(\"FOR ARC MODEL\")\n",
        "y_prob = model7.predict(X_test)\n",
        "y_pred = np.argmax(y_prob,axis=1)\n",
        "accuracy = accuracy_score(y_test, y_pred)\n",
        "print('Accuracy: %f' % accuracy)\n",
        "precision = precision_score(y_test, y_pred, average='macro')\n",
        "print('Precision: %f' % precision)\n",
        "recall = recall_score(y_test, y_pred,average='macro')\n",
        "print('Recall: %f' % recall)\n",
        "f1 = f1_score(y_test, y_pred,average='macro')\n",
        "print('F1 score: %f' % f1)"
      ],
      "execution_count": 40,
      "outputs": [
        {
          "output_type": "stream",
          "text": [
            "FOR ARC MODEL\n",
            "Accuracy: 0.947805\n",
            "Precision: 0.898541\n",
            "Recall: 0.878522\n",
            "F1 score: 0.883940\n"
          ],
          "name": "stdout"
        }
      ]
    },
    {
      "cell_type": "code",
      "metadata": {
        "id": "R8Y2cVQNyBlJ"
      },
      "source": [
        ""
      ],
      "execution_count": null,
      "outputs": []
    }
  ]
}