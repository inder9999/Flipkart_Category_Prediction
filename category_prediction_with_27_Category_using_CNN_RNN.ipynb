{
  "nbformat": 4,
  "nbformat_minor": 0,
  "metadata": {
    "colab": {
      "name": "category_prediction_with_27_Category_using_CNN_RNN.ipynb",
      "provenance": [],
      "collapsed_sections": []
    },
    "kernelspec": {
      "name": "python3",
      "display_name": "Python 3"
    },
    "language_info": {
      "name": "python"
    },
    "accelerator": "GPU"
  },
  "cells": [
    {
      "cell_type": "code",
      "metadata": {
        "id": "Aa83AQEWV2ys",
        "colab": {
          "base_uri": "https://localhost:8080/"
        },
        "outputId": "810017ba-53f2-4f3d-b836-e9a6ed08dfb4"
      },
      "source": [
        "from keras.layers import Embedding\n",
        "from keras.preprocessing.sequence import pad_sequences\n",
        "from keras.models import Sequential\n",
        "from keras.preprocessing.text import Tokenizer\n",
        "from keras.preprocessing.text import one_hot\n",
        "from keras.layers import LSTM\n",
        "from keras.layers import GRU\n",
        "from keras.layers import Dense\n",
        "from keras.layers import Input\n",
        "from keras.layers import Bidirectional\n",
        "from keras.layers import Dropout\n",
        "from keras.layers import concatenate\n",
        "from keras.layers import Flatten\n",
        "from keras.layers import Conv1D\n",
        "from keras.layers import MaxPooling1D\n",
        "from keras.layers import BatchNormalization\n",
        "from keras.models import Model\n",
        "from keras.layers import LeakyReLU\n",
        "import pandas as pd\n",
        "import nltk\n",
        "import re\n",
        "from nltk.corpus import stopwords\n",
        "nltk.download('stopwords')\n",
        "nltk.download('punkt')\n",
        "from nltk.stem.porter import PorterStemmer\n",
        "import numpy as np\n",
        "from sklearn.model_selection import train_test_split\n",
        "from sklearn.metrics import accuracy_score\n",
        "from sklearn.metrics import classification_report\n",
        "from sklearn.metrics import confusion_matrix\n",
        "from keras.utils.vis_utils import plot_model\n",
        "from collections import Counter\n",
        "import matplotlib.pyplot as plt\n",
        "from sklearn.metrics import precision_score\n",
        "from sklearn.metrics import recall_score\n",
        "from sklearn.metrics import f1_score\n",
        "from sklearn.metrics import cohen_kappa_score\n",
        "from sklearn.metrics import roc_auc_score\n",
        "from sklearn.metrics import confusion_matrix\n",
        "from keras.callbacks import ModelCheckpoint\n",
        "from sklearn import preprocessing\n",
        "from keras.models import load_model\n",
        "import seaborn as sns"
      ],
      "execution_count": 2,
      "outputs": [
        {
          "output_type": "stream",
          "text": [
            "[nltk_data] Downloading package stopwords to /root/nltk_data...\n",
            "[nltk_data]   Package stopwords is already up-to-date!\n",
            "[nltk_data] Downloading package punkt to /root/nltk_data...\n",
            "[nltk_data]   Package punkt is already up-to-date!\n"
          ],
          "name": "stdout"
        }
      ]
    },
    {
      "cell_type": "code",
      "metadata": {
        "colab": {
          "base_uri": "https://localhost:8080/",
          "height": 212
        },
        "id": "5qCKfVjSXC62",
        "outputId": "e7b43755-62b8-419b-bdb2-e21d62e78272"
      },
      "source": [
        "#data loading\n",
        "data=pd.read_csv(\"/content/drive/MyDrive/IIIT_MIDAS/flipkart_com-ecommerce_sample.csv\", encoding= 'unicode_escape')\n",
        "print(len(data))\n",
        "data.head()"
      ],
      "execution_count": 17,
      "outputs": [
        {
          "output_type": "stream",
          "text": [
            "20000\n"
          ],
          "name": "stdout"
        },
        {
          "output_type": "execute_result",
          "data": {
            "text/html": [
              "<div>\n",
              "<style scoped>\n",
              "    .dataframe tbody tr th:only-of-type {\n",
              "        vertical-align: middle;\n",
              "    }\n",
              "\n",
              "    .dataframe tbody tr th {\n",
              "        vertical-align: top;\n",
              "    }\n",
              "\n",
              "    .dataframe thead th {\n",
              "        text-align: right;\n",
              "    }\n",
              "</style>\n",
              "<table border=\"1\" class=\"dataframe\">\n",
              "  <thead>\n",
              "    <tr style=\"text-align: right;\">\n",
              "      <th></th>\n",
              "      <th>product_category_tree</th>\n",
              "      <th>description</th>\n",
              "      <th>brand</th>\n",
              "    </tr>\n",
              "  </thead>\n",
              "  <tbody>\n",
              "    <tr>\n",
              "      <th>0</th>\n",
              "      <td>[\"Clothing &gt;&gt; Women's Clothing &gt;&gt; Lingerie, Sl...</td>\n",
              "      <td>Key Features of Alisha Solid Women's Cycling S...</td>\n",
              "      <td>Alisha</td>\n",
              "    </tr>\n",
              "    <tr>\n",
              "      <th>1</th>\n",
              "      <td>[\"Furniture &gt;&gt; Living Room Furniture &gt;&gt; Sofa B...</td>\n",
              "      <td>FabHomeDecor Fabric Double Sofa Bed (Finish Co...</td>\n",
              "      <td>FabHomeDecor</td>\n",
              "    </tr>\n",
              "    <tr>\n",
              "      <th>2</th>\n",
              "      <td>[\"Footwear &gt;&gt; Women's Footwear &gt;&gt; Ballerinas &gt;...</td>\n",
              "      <td>Key Features of AW Bellies Sandals Wedges Heel...</td>\n",
              "      <td>AW</td>\n",
              "    </tr>\n",
              "    <tr>\n",
              "      <th>3</th>\n",
              "      <td>[\"Clothing &gt;&gt; Women's Clothing &gt;&gt; Lingerie, Sl...</td>\n",
              "      <td>Key Features of Alisha Solid Women's Cycling S...</td>\n",
              "      <td>Alisha</td>\n",
              "    </tr>\n",
              "    <tr>\n",
              "      <th>4</th>\n",
              "      <td>[\"Pet Supplies &gt;&gt; Grooming &gt;&gt; Skin &amp; Coat Care...</td>\n",
              "      <td>Specifications of Sicons All Purpose Arnica Do...</td>\n",
              "      <td>Sicons</td>\n",
              "    </tr>\n",
              "  </tbody>\n",
              "</table>\n",
              "</div>"
            ],
            "text/plain": [
              "                               product_category_tree  ...         brand\n",
              "0  [\"Clothing >> Women's Clothing >> Lingerie, Sl...  ...        Alisha\n",
              "1  [\"Furniture >> Living Room Furniture >> Sofa B...  ...  FabHomeDecor\n",
              "2  [\"Footwear >> Women's Footwear >> Ballerinas >...  ...            AW\n",
              "3  [\"Clothing >> Women's Clothing >> Lingerie, Sl...  ...        Alisha\n",
              "4  [\"Pet Supplies >> Grooming >> Skin & Coat Care...  ...        Sicons\n",
              "\n",
              "[5 rows x 3 columns]"
            ]
          },
          "metadata": {
            "tags": []
          },
          "execution_count": 17
        }
      ]
    },
    {
      "cell_type": "code",
      "metadata": {
        "colab": {
          "base_uri": "https://localhost:8080/",
          "height": 194
        },
        "id": "vQXVquHsXnhN",
        "outputId": "7998755d-0216-4e1c-9802-a875d46a6073"
      },
      "source": [
        "#Text Cleaning and Preprocessing\n",
        "category=[]\n",
        "description=[]\n",
        "for i in range(len(data)):\n",
        "  if type(data['description'][i]) == str :\n",
        "    category.append(data[\"product_category_tree\"][i].split('>>')[0][2:-1])\n",
        "    des = re.sub('[^a-zA-Z]', ' ', data['description'][i])\n",
        "    des = re.sub('[/(){}\\[\\]\\|@,.;_]', ' ', des)\n",
        "    des = des.lower()\n",
        "    description.append(des) \n",
        "\n",
        "data = pd.DataFrame()\n",
        "data[\"category\"]=category\n",
        "data[\"description\"]=description\n",
        "data.head()    \n"
      ],
      "execution_count": 18,
      "outputs": [
        {
          "output_type": "execute_result",
          "data": {
            "text/html": [
              "<div>\n",
              "<style scoped>\n",
              "    .dataframe tbody tr th:only-of-type {\n",
              "        vertical-align: middle;\n",
              "    }\n",
              "\n",
              "    .dataframe tbody tr th {\n",
              "        vertical-align: top;\n",
              "    }\n",
              "\n",
              "    .dataframe thead th {\n",
              "        text-align: right;\n",
              "    }\n",
              "</style>\n",
              "<table border=\"1\" class=\"dataframe\">\n",
              "  <thead>\n",
              "    <tr style=\"text-align: right;\">\n",
              "      <th></th>\n",
              "      <th>category</th>\n",
              "      <th>description</th>\n",
              "    </tr>\n",
              "  </thead>\n",
              "  <tbody>\n",
              "    <tr>\n",
              "      <th>0</th>\n",
              "      <td>Clothing</td>\n",
              "      <td>key features of alisha solid women s cycling s...</td>\n",
              "    </tr>\n",
              "    <tr>\n",
              "      <th>1</th>\n",
              "      <td>Furniture</td>\n",
              "      <td>fabhomedecor fabric double sofa bed  finish co...</td>\n",
              "    </tr>\n",
              "    <tr>\n",
              "      <th>2</th>\n",
              "      <td>Footwear</td>\n",
              "      <td>key features of aw bellies sandals wedges heel...</td>\n",
              "    </tr>\n",
              "    <tr>\n",
              "      <th>3</th>\n",
              "      <td>Clothing</td>\n",
              "      <td>key features of alisha solid women s cycling s...</td>\n",
              "    </tr>\n",
              "    <tr>\n",
              "      <th>4</th>\n",
              "      <td>Pet Supplies</td>\n",
              "      <td>specifications of sicons all purpose arnica do...</td>\n",
              "    </tr>\n",
              "  </tbody>\n",
              "</table>\n",
              "</div>"
            ],
            "text/plain": [
              "       category                                        description\n",
              "0      Clothing  key features of alisha solid women s cycling s...\n",
              "1     Furniture  fabhomedecor fabric double sofa bed  finish co...\n",
              "2      Footwear  key features of aw bellies sandals wedges heel...\n",
              "3      Clothing  key features of alisha solid women s cycling s...\n",
              "4  Pet Supplies  specifications of sicons all purpose arnica do..."
            ]
          },
          "metadata": {
            "tags": []
          },
          "execution_count": 18
        }
      ]
    },
    {
      "cell_type": "code",
      "metadata": {
        "id": "IR_eHbamvi-1",
        "colab": {
          "base_uri": "https://localhost:8080/",
          "height": 283
        },
        "outputId": "6efcd1e8-2f7d-4e5d-debd-638f3083d69c"
      },
      "source": [
        "category_counts= Counter(category)\n",
        "print(f\"Total No. of Categories :\",len(category_counts.keys()))\n",
        "plt.bar(category_counts.keys(),category_counts.values())\n",
        "plt.show() "
      ],
      "execution_count": 19,
      "outputs": [
        {
          "output_type": "stream",
          "text": [
            "Total No. of Categories : 266\n"
          ],
          "name": "stdout"
        },
        {
          "output_type": "display_data",
          "data": {
            "image/png": "[encoded data removed]",
            "text/plain": [
              "<Figure size 432x288 with 1 Axes>"
            ]
          },
          "metadata": {
            "tags": [],
            "needs_background": "light"
          }
        }
      ]
    },
    {
      "cell_type": "code",
      "metadata": {
        "id": "w-PePl27yZ-o",
        "colab": {
          "base_uri": "https://localhost:8080/",
          "height": 265
        },
        "outputId": "e5f7b991-f81e-4e07-803f-8e725e09f207"
      },
      "source": [
        "#only keeping the categories with more than 10 samples\n",
        "new_dict={}\n",
        "for key, value in category_counts.items():\n",
        "  if value>10:\n",
        "    new_dict[key]=value\n",
        "plt.bar(new_dict.keys(),new_dict.values())\n",
        "plt.show() "
      ],
      "execution_count": 20,
      "outputs": [
        {
          "output_type": "display_data",
          "data": {
            "image/png": "[encoded data removed]",
            "text/plain": [
              "<Figure size 432x288 with 1 Axes>"
            ]
          },
          "metadata": {
            "tags": [],
            "needs_background": "light"
          }
        }
      ]
    },
    {
      "cell_type": "code",
      "metadata": {
        "id": "-g3KiGUa5Tlo",
        "colab": {
          "base_uri": "https://localhost:8080/"
        },
        "outputId": "90c1b74c-18ac-4cf7-cedd-e5ad90a2577e"
      },
      "source": [
        "print(\"total categories:\", len(new_dict))\n",
        "new_dict"
      ],
      "execution_count": 21,
      "outputs": [
        {
          "output_type": "stream",
          "text": [
            "total categories: 27\n"
          ],
          "name": "stdout"
        },
        {
          "output_type": "execute_result",
          "data": {
            "text/plain": [
              "{'Automotive': 1012,\n",
              " 'Baby Care': 483,\n",
              " 'Bags, Wallets & Belts': 265,\n",
              " 'Beauty and Personal Care': 710,\n",
              " 'Cameras & Accessories': 82,\n",
              " 'Clothing': 6197,\n",
              " 'Computers': 578,\n",
              " 'Footwear': 1227,\n",
              " 'Furniture': 180,\n",
              " 'Gaming': 35,\n",
              " 'Health & Personal Care Appliances': 43,\n",
              " 'Home & Kitchen': 24,\n",
              " 'Home Decor & Festive Needs': 929,\n",
              " 'Home Entertainment': 19,\n",
              " 'Home Furnishing': 699,\n",
              " 'Home Improvement': 81,\n",
              " 'Jewellery': 3531,\n",
              " 'Kitchen & Dining': 647,\n",
              " 'Mobiles & Accessories': 1099,\n",
              " 'Pens & Stationery': 313,\n",
              " 'Pet Supplies': 30,\n",
              " 'Sports & Fitness': 166,\n",
              " 'Sunglasses': 35,\n",
              " 'Tools & Hardware': 391,\n",
              " 'Toys & School Supplies': 330,\n",
              " 'Watches': 530,\n",
              " 'eBooks': 15}"
            ]
          },
          "metadata": {
            "tags": []
          },
          "execution_count": 21
        }
      ]
    },
    {
      "cell_type": "code",
      "metadata": {
        "id": "Xk0V1AMitU4d",
        "colab": {
          "base_uri": "https://localhost:8080/",
          "height": 194
        },
        "outputId": "73d31f58-74f5-449b-d535-06a5ee16618a"
      },
      "source": [
        "new_description=[]\n",
        "new_category=[]\n",
        "for i in range(len(description)):\n",
        "  if category[i] in new_dict.keys():\n",
        "    new_description.append(description[i])\n",
        "    new_category.append(category[i])\n",
        "    \n",
        "new_df=pd.DataFrame()\n",
        "new_df[\"description\"]=new_description\n",
        "new_df[\"category\"]=new_category\n",
        "new_df.head()"
      ],
      "execution_count": 22,
      "outputs": [
        {
          "output_type": "execute_result",
          "data": {
            "text/html": [
              "<div>\n",
              "<style scoped>\n",
              "    .dataframe tbody tr th:only-of-type {\n",
              "        vertical-align: middle;\n",
              "    }\n",
              "\n",
              "    .dataframe tbody tr th {\n",
              "        vertical-align: top;\n",
              "    }\n",
              "\n",
              "    .dataframe thead th {\n",
              "        text-align: right;\n",
              "    }\n",
              "</style>\n",
              "<table border=\"1\" class=\"dataframe\">\n",
              "  <thead>\n",
              "    <tr style=\"text-align: right;\">\n",
              "      <th></th>\n",
              "      <th>description</th>\n",
              "      <th>category</th>\n",
              "    </tr>\n",
              "  </thead>\n",
              "  <tbody>\n",
              "    <tr>\n",
              "      <th>0</th>\n",
              "      <td>key features of alisha solid women s cycling s...</td>\n",
              "      <td>Clothing</td>\n",
              "    </tr>\n",
              "    <tr>\n",
              "      <th>1</th>\n",
              "      <td>fabhomedecor fabric double sofa bed  finish co...</td>\n",
              "      <td>Furniture</td>\n",
              "    </tr>\n",
              "    <tr>\n",
              "      <th>2</th>\n",
              "      <td>key features of aw bellies sandals wedges heel...</td>\n",
              "      <td>Footwear</td>\n",
              "    </tr>\n",
              "    <tr>\n",
              "      <th>3</th>\n",
              "      <td>key features of alisha solid women s cycling s...</td>\n",
              "      <td>Clothing</td>\n",
              "    </tr>\n",
              "    <tr>\n",
              "      <th>4</th>\n",
              "      <td>specifications of sicons all purpose arnica do...</td>\n",
              "      <td>Pet Supplies</td>\n",
              "    </tr>\n",
              "  </tbody>\n",
              "</table>\n",
              "</div>"
            ],
            "text/plain": [
              "                                         description      category\n",
              "0  key features of alisha solid women s cycling s...      Clothing\n",
              "1  fabhomedecor fabric double sofa bed  finish co...     Furniture\n",
              "2  key features of aw bellies sandals wedges heel...      Footwear\n",
              "3  key features of alisha solid women s cycling s...      Clothing\n",
              "4  specifications of sicons all purpose arnica do...  Pet Supplies"
            ]
          },
          "metadata": {
            "tags": []
          },
          "execution_count": 22
        }
      ]
    },
    {
      "cell_type": "code",
      "metadata": {
        "id": "aqefxHEOctc8",
        "colab": {
          "base_uri": "https://localhost:8080/",
          "height": 194
        },
        "outputId": "bab1198f-2109-474b-fb75-720796c97c8b"
      },
      "source": [
        "lab_enc = preprocessing.LabelEncoder()\n",
        "lab_enc.fit(new_df.category)\n",
        "new_df['categorical_label'] = lab_enc.transform(new_df.category)\n",
        "new_df.head()"
      ],
      "execution_count": 23,
      "outputs": [
        {
          "output_type": "execute_result",
          "data": {
            "text/html": [
              "<div>\n",
              "<style scoped>\n",
              "    .dataframe tbody tr th:only-of-type {\n",
              "        vertical-align: middle;\n",
              "    }\n",
              "\n",
              "    .dataframe tbody tr th {\n",
              "        vertical-align: top;\n",
              "    }\n",
              "\n",
              "    .dataframe thead th {\n",
              "        text-align: right;\n",
              "    }\n",
              "</style>\n",
              "<table border=\"1\" class=\"dataframe\">\n",
              "  <thead>\n",
              "    <tr style=\"text-align: right;\">\n",
              "      <th></th>\n",
              "      <th>description</th>\n",
              "      <th>category</th>\n",
              "      <th>categorical_label</th>\n",
              "    </tr>\n",
              "  </thead>\n",
              "  <tbody>\n",
              "    <tr>\n",
              "      <th>0</th>\n",
              "      <td>key features of alisha solid women s cycling s...</td>\n",
              "      <td>Clothing</td>\n",
              "      <td>5</td>\n",
              "    </tr>\n",
              "    <tr>\n",
              "      <th>1</th>\n",
              "      <td>fabhomedecor fabric double sofa bed  finish co...</td>\n",
              "      <td>Furniture</td>\n",
              "      <td>8</td>\n",
              "    </tr>\n",
              "    <tr>\n",
              "      <th>2</th>\n",
              "      <td>key features of aw bellies sandals wedges heel...</td>\n",
              "      <td>Footwear</td>\n",
              "      <td>7</td>\n",
              "    </tr>\n",
              "    <tr>\n",
              "      <th>3</th>\n",
              "      <td>key features of alisha solid women s cycling s...</td>\n",
              "      <td>Clothing</td>\n",
              "      <td>5</td>\n",
              "    </tr>\n",
              "    <tr>\n",
              "      <th>4</th>\n",
              "      <td>specifications of sicons all purpose arnica do...</td>\n",
              "      <td>Pet Supplies</td>\n",
              "      <td>20</td>\n",
              "    </tr>\n",
              "  </tbody>\n",
              "</table>\n",
              "</div>"
            ],
            "text/plain": [
              "                                         description  ... categorical_label\n",
              "0  key features of alisha solid women s cycling s...  ...                 5\n",
              "1  fabhomedecor fabric double sofa bed  finish co...  ...                 8\n",
              "2  key features of aw bellies sandals wedges heel...  ...                 7\n",
              "3  key features of alisha solid women s cycling s...  ...                 5\n",
              "4  specifications of sicons all purpose arnica do...  ...                20\n",
              "\n",
              "[5 rows x 3 columns]"
            ]
          },
          "metadata": {
            "tags": []
          },
          "execution_count": 23
        }
      ]
    },
    {
      "cell_type": "code",
      "metadata": {
        "id": "Z4oYjqngCaSg",
        "colab": {
          "base_uri": "https://localhost:8080/",
          "height": 265
        },
        "outputId": "ffde56ef-b15c-47f6-8f2b-e8aa95a5c471"
      },
      "source": [
        "df=new_df[\"description\"]\n",
        "length=[]\n",
        "for i in range(len(df)) :\n",
        "  if type(df[i])==str:\n",
        "    length.append(len(nltk.word_tokenize(df[i])))\n",
        "c= Counter(length)\n",
        "plt.bar(c.keys(),c.values())\n",
        "plt.xlim(0,200)\n",
        "plt.show() "
      ],
      "execution_count": 24,
      "outputs": [
        {
          "output_type": "display_data",
          "data": {
            "image/png": "[encoded data removed]",
            "text/plain": [
              "<Figure size 432x288 with 1 Axes>"
            ]
          },
          "metadata": {
            "tags": [],
            "needs_background": "light"
          }
        }
      ]
    },
    {
      "cell_type": "code",
      "metadata": {
        "id": "7LxrWznbVxG3"
      },
      "source": [
        "X_train, X_test, y_train, y_test = train_test_split(new_df[\"description\"], new_df[\"categorical_label\"], test_size=0.3, random_state=42)\n",
        "X_test, X_val, y_test, y_val = train_test_split(X_test, y_test, test_size=0.5, random_state=42)"
      ],
      "execution_count": 25,
      "outputs": []
    },
    {
      "cell_type": "code",
      "metadata": {
        "id": "rV9JowD_QEyM",
        "colab": {
          "base_uri": "https://localhost:8080/"
        },
        "outputId": "ea80cfa3-afbd-4912-c4d6-0f20e888867c"
      },
      "source": [
        "sent_length=128\n",
        "tokenizer=Tokenizer()\n",
        "tokenizer.fit_on_texts(X_train)\n",
        "sequences = tokenizer.texts_to_sequences(X_train)\n",
        "word_index = tokenizer.word_index\n",
        "voc_size = len(tokenizer.word_index) + 1\n",
        "print(\"Vocabulary Size:\", voc_size)\n",
        "embedded_docs=pad_sequences(sequences,padding='post',maxlen=sent_length)\n",
        "X_train=np.array(embedded_docs)"
      ],
      "execution_count": 26,
      "outputs": [
        {
          "output_type": "stream",
          "text": [
            "Vocabulary Size: 16950\n"
          ],
          "name": "stdout"
        }
      ]
    },
    {
      "cell_type": "code",
      "metadata": {
        "id": "TjrZs-U0XXge"
      },
      "source": [
        "sequences = tokenizer.texts_to_sequences(X_test)\n",
        "embedded_docs=pad_sequences(sequences,padding='post',maxlen=sent_length)\n",
        "X_test=np.array(embedded_docs)    "
      ],
      "execution_count": 27,
      "outputs": []
    },
    {
      "cell_type": "code",
      "metadata": {
        "id": "09jk36PKP0M3"
      },
      "source": [
        "sequences = tokenizer.texts_to_sequences(X_val)\n",
        "embedded_docs=pad_sequences(sequences,padding='post',maxlen=sent_length)\n",
        "X_val=np.array(embedded_docs)  "
      ],
      "execution_count": 28,
      "outputs": []
    },
    {
      "cell_type": "code",
      "metadata": {
        "id": "9tfCXo3yXhtv",
        "colab": {
          "base_uri": "https://localhost:8080/"
        },
        "outputId": "89a15bc9-3bf4-4d33-f59e-a04af56e8cd1"
      },
      "source": [
        "embedding_vector_features=100\n",
        "input=Input(shape=(sent_length,), name='inputs')\n",
        "x=Embedding(voc_size,embedding_vector_features,input_length=sent_length)(input)\n",
        "x=Bidirectional(LSTM(64))(x)\n",
        "x=BatchNormalization()(x)\n",
        "x=Dense(256,activation='relu')(x)\n",
        "x=Dropout(0.4)(x)\n",
        "truth=Dense(64,activation='relu')(x)\n",
        "truth=Dense(27,activation='softmax',name='truth_')(truth)\n",
        "model1=Model(inputs=input, outputs=truth)\n",
        "model1.compile(loss= 'sparse_categorical_crossentropy', optimizer='adam',metrics=['accuracy'])\n",
        "model1.summary()\n",
        "#plot_model(model1,show_layer_names=True,show_shapes=True)\n",
        "\n",
        "LSTM_save = ModelCheckpoint('/content/drive/MyDrive/IIIT_MIDAS/saved_models/'+'LSTM_27.hdf5', save_best_only=True, monitor='val_loss', mode='min')"
      ],
      "execution_count": 30,
      "outputs": [
        {
          "output_type": "stream",
          "text": [
            "Model: \"model_2\"\n",
            "_________________________________________________________________\n",
            "Layer (type)                 Output Shape              Param #   \n",
            "=================================================================\n",
            "inputs (InputLayer)          [(None, 128)]             0         \n",
            "_________________________________________________________________\n",
            "embedding_2 (Embedding)      (None, 128, 100)          1695000   \n",
            "_________________________________________________________________\n",
            "bidirectional_2 (Bidirection (None, 128)               84480     \n",
            "_________________________________________________________________\n",
            "batch_normalization_2 (Batch (None, 128)               512       \n",
            "_________________________________________________________________\n",
            "dense_4 (Dense)              (None, 256)               33024     \n",
            "_________________________________________________________________\n",
            "dropout_2 (Dropout)          (None, 256)               0         \n",
            "_________________________________________________________________\n",
            "dense_5 (Dense)              (None, 64)                16448     \n",
            "_________________________________________________________________\n",
            "truth_ (Dense)               (None, 27)                1755      \n",
            "=================================================================\n",
            "Total params: 1,831,219\n",
            "Trainable params: 1,830,963\n",
            "Non-trainable params: 256\n",
            "_________________________________________________________________\n"
          ],
          "name": "stdout"
        }
      ]
    },
    {
      "cell_type": "code",
      "metadata": {
        "id": "1ZWlut5MecqO",
        "colab": {
          "base_uri": "https://localhost:8080/"
        },
        "outputId": "cd926b63-c459-46a1-84e5-9a83a5828d9a"
      },
      "source": [
        "model1.fit(x=X_train, y=y_train, validation_data=(X_val,y_val), callbacks=LSTM_save, batch_size=64, epochs=10)"
      ],
      "execution_count": 31,
      "outputs": [
        {
          "output_type": "stream",
          "text": [
            "Epoch 1/10\n",
            "215/215 [==============================] - 41s 36ms/step - loss: 1.5156 - accuracy: 0.6217 - val_loss: 1.2788 - val_accuracy: 0.8755\n",
            "Epoch 2/10\n",
            "215/215 [==============================] - 7s 31ms/step - loss: 0.1920 - accuracy: 0.9482 - val_loss: 0.2994 - val_accuracy: 0.9464\n",
            "Epoch 3/10\n",
            "215/215 [==============================] - 7s 30ms/step - loss: 0.0722 - accuracy: 0.9814 - val_loss: 0.1835 - val_accuracy: 0.9528\n",
            "Epoch 4/10\n",
            "215/215 [==============================] - 7s 31ms/step - loss: 0.0491 - accuracy: 0.9847 - val_loss: 0.2126 - val_accuracy: 0.9525\n",
            "Epoch 5/10\n",
            "215/215 [==============================] - 7s 31ms/step - loss: 0.0269 - accuracy: 0.9920 - val_loss: 0.2474 - val_accuracy: 0.9532\n",
            "Epoch 6/10\n",
            "215/215 [==============================] - 6s 30ms/step - loss: 0.0288 - accuracy: 0.9906 - val_loss: 0.2545 - val_accuracy: 0.9528\n",
            "Epoch 7/10\n",
            "215/215 [==============================] - 6s 30ms/step - loss: 0.0263 - accuracy: 0.9930 - val_loss: 0.2493 - val_accuracy: 0.9566\n",
            "Epoch 8/10\n",
            "215/215 [==============================] - 7s 30ms/step - loss: 0.0102 - accuracy: 0.9971 - val_loss: 0.2995 - val_accuracy: 0.9522\n",
            "Epoch 9/10\n",
            "215/215 [==============================] - 6s 30ms/step - loss: 0.0143 - accuracy: 0.9951 - val_loss: 0.3879 - val_accuracy: 0.9430\n",
            "Epoch 10/10\n",
            "215/215 [==============================] - 7s 31ms/step - loss: 0.0157 - accuracy: 0.9953 - val_loss: 0.2924 - val_accuracy: 0.9508\n"
          ],
          "name": "stdout"
        },
        {
          "output_type": "execute_result",
          "data": {
            "text/plain": [
              "<tensorflow.python.keras.callbacks.History at 0x7fc0210a7690>"
            ]
          },
          "metadata": {
            "tags": []
          },
          "execution_count": 31
        }
      ]
    },
    {
      "cell_type": "code",
      "metadata": {
        "id": "yZFupwZYh8PK",
        "colab": {
          "base_uri": "https://localhost:8080/"
        },
        "outputId": "1d996ea9-b725-45e6-80ef-ab636c6927e7"
      },
      "source": [
        "print(\"FOR LSTM MODEL\")\n",
        "saved_model=load_model('/content/drive/MyDrive/IIIT_MIDAS/saved_models/'+'LSTM_27.hdf5')\n",
        "y_prob = saved_model.predict(X_test)\n",
        "y_pred = np.argmax(y_prob,axis=1)\n",
        "accuracy = accuracy_score(y_test, y_pred)\n",
        "print('Accuracy: %f' % accuracy)\n",
        "precision = precision_score(y_test, y_pred, average='macro')\n",
        "print('Precision: %f' % precision)\n",
        "recall = recall_score(y_test, y_pred,average='macro')\n",
        "print('Recall: %f' % recall)\n",
        "f1 = f1_score(y_test, y_pred,average='macro')\n",
        "print('F1 score: %f' % f1)"
      ],
      "execution_count": 32,
      "outputs": [
        {
          "output_type": "stream",
          "text": [
            "FOR LSTM MODEL\n",
            "Accuracy: 0.945387\n",
            "Precision: 0.753877\n",
            "Recall: 0.747607\n",
            "F1 score: 0.746605\n"
          ],
          "name": "stdout"
        },
        {
          "output_type": "stream",
          "text": [
            "/usr/local/lib/python3.7/dist-packages/sklearn/metrics/_classification.py:1272: UndefinedMetricWarning: Precision is ill-defined and being set to 0.0 in labels with no predicted samples. Use `zero_division` parameter to control this behavior.\n",
            "  _warn_prf(average, modifier, msg_start, len(result))\n"
          ],
          "name": "stderr"
        }
      ]
    },
    {
      "cell_type": "code",
      "metadata": {
        "id": "zmO1dPXq_nCP",
        "colab": {
          "base_uri": "https://localhost:8080/",
          "height": 641
        },
        "outputId": "123733c5-d60d-41f0-a289-4f4a1cfab79f"
      },
      "source": [
        "\n",
        "conf_mat = confusion_matrix(lab_enc.inverse_transform(y_test), lab_enc.inverse_transform(y_pred))\n",
        "fig, ax = plt.subplots(figsize=(10,10))\n",
        "sns.heatmap(conf_mat, annot=True, cmap=\"Blues\", fmt='d')\n",
        "plt.ylabel('Actual')\n",
        "plt.xlabel('Predicted')\n",
        "plt.title(\"CONFUSION MATRIX - LSTM MODEL\", size=16)"
      ],
      "execution_count": 33,
      "outputs": [
        {
          "output_type": "execute_result",
          "data": {
            "text/plain": [
              "Text(0.5, 1.0, 'CONFUSION MATRIX - LSTM MODEL')"
            ]
          },
          "metadata": {
            "tags": []
          },
          "execution_count": 33
        },
        {
          "output_type": "display_data",
          "data": {
            "image/png": "[encoded data removed]",
            "text/plain": [
              "<Figure size 720x720 with 2 Axes>"
            ]
          },
          "metadata": {
            "tags": [],
            "needs_background": "light"
          }
        }
      ]
    },
    {
      "cell_type": "code",
      "metadata": {
        "id": "LsGTVWrfh0dF",
        "colab": {
          "base_uri": "https://localhost:8080/"
        },
        "outputId": "94856980-a6b1-4cce-8921-943b4313d55b"
      },
      "source": [
        "input=Input(shape=(sent_length,), name='inputs')\n",
        "x=Embedding(voc_size,embedding_vector_features,input_length=sent_length)(input)\n",
        "x=Conv1D(128, 5, padding='same', activation='relu' )(x)\n",
        "x=MaxPooling1D(pool_size=2,strides=None)(x)\n",
        "x=BatchNormalization()(x)\n",
        "x=Flatten()(x)\n",
        "x=Dense(256,activation='relu')(x)\n",
        "x=Dropout(0.4)(x)\n",
        "truth=Dense(64,activation='relu')(x)\n",
        "truth=Dense(27,activation='softmax',name='truth_')(truth)\n",
        "model2=Model(inputs=input, outputs=truth)\n",
        "model2.compile(loss= 'sparse_categorical_crossentropy', optimizer='adam',metrics=['accuracy'])\n",
        "model2.summary()\n",
        "#plot_model(model3,show_layer_names=True,show_shapes=True)\n",
        "\n",
        "CNN_save = ModelCheckpoint('/content/drive/MyDrive/IIIT_MIDAS/saved_models/'+'CNN_27.hdf5', save_best_only=True, monitor='val_loss', mode='min')\n"
      ],
      "execution_count": 34,
      "outputs": [
        {
          "output_type": "stream",
          "text": [
            "Model: \"model_3\"\n",
            "_________________________________________________________________\n",
            "Layer (type)                 Output Shape              Param #   \n",
            "=================================================================\n",
            "inputs (InputLayer)          [(None, 128)]             0         \n",
            "_________________________________________________________________\n",
            "embedding_3 (Embedding)      (None, 128, 100)          1695000   \n",
            "_________________________________________________________________\n",
            "conv1d (Conv1D)              (None, 128, 128)          64128     \n",
            "_________________________________________________________________\n",
            "max_pooling1d (MaxPooling1D) (None, 64, 128)           0         \n",
            "_________________________________________________________________\n",
            "batch_normalization_3 (Batch (None, 64, 128)           512       \n",
            "_________________________________________________________________\n",
            "flatten (Flatten)            (None, 8192)              0         \n",
            "_________________________________________________________________\n",
            "dense_6 (Dense)              (None, 256)               2097408   \n",
            "_________________________________________________________________\n",
            "dropout_3 (Dropout)          (None, 256)               0         \n",
            "_________________________________________________________________\n",
            "dense_7 (Dense)              (None, 64)                16448     \n",
            "_________________________________________________________________\n",
            "truth_ (Dense)               (None, 27)                1755      \n",
            "=================================================================\n",
            "Total params: 3,875,251\n",
            "Trainable params: 3,874,995\n",
            "Non-trainable params: 256\n",
            "_________________________________________________________________\n"
          ],
          "name": "stdout"
        }
      ]
    },
    {
      "cell_type": "code",
      "metadata": {
        "id": "hCGhVzVnoJlW",
        "colab": {
          "base_uri": "https://localhost:8080/"
        },
        "outputId": "6c9f1cfe-6926-441e-8913-b8ca1807936c"
      },
      "source": [
        "model2.fit(x=X_train, y=y_train, validation_data=(X_val,y_val), callbacks=CNN_save, batch_size=64, epochs =10)"
      ],
      "execution_count": 35,
      "outputs": [
        {
          "output_type": "stream",
          "text": [
            "Epoch 1/10\n",
            "215/215 [==============================] - 6s 22ms/step - loss: 1.3665 - accuracy: 0.6477 - val_loss: 1.7332 - val_accuracy: 0.8820\n",
            "Epoch 2/10\n",
            "215/215 [==============================] - 5s 21ms/step - loss: 0.1421 - accuracy: 0.9587 - val_loss: 0.4064 - val_accuracy: 0.9454\n",
            "Epoch 3/10\n",
            "215/215 [==============================] - 4s 21ms/step - loss: 0.0428 - accuracy: 0.9886 - val_loss: 0.1772 - val_accuracy: 0.9556\n",
            "Epoch 4/10\n",
            "215/215 [==============================] - 5s 21ms/step - loss: 0.0197 - accuracy: 0.9946 - val_loss: 0.2299 - val_accuracy: 0.9556\n",
            "Epoch 5/10\n",
            "215/215 [==============================] - 5s 22ms/step - loss: 0.0132 - accuracy: 0.9960 - val_loss: 0.2038 - val_accuracy: 0.9556\n",
            "Epoch 6/10\n",
            "215/215 [==============================] - 4s 20ms/step - loss: 0.0130 - accuracy: 0.9969 - val_loss: 0.2057 - val_accuracy: 0.9579\n",
            "Epoch 7/10\n",
            "215/215 [==============================] - 4s 21ms/step - loss: 0.0092 - accuracy: 0.9968 - val_loss: 0.2050 - val_accuracy: 0.9610\n",
            "Epoch 8/10\n",
            "215/215 [==============================] - 4s 21ms/step - loss: 0.0086 - accuracy: 0.9976 - val_loss: 0.2365 - val_accuracy: 0.9549\n",
            "Epoch 9/10\n",
            "215/215 [==============================] - 4s 21ms/step - loss: 0.0108 - accuracy: 0.9965 - val_loss: 0.3281 - val_accuracy: 0.9491\n",
            "Epoch 10/10\n",
            "215/215 [==============================] - 4s 21ms/step - loss: 0.0561 - accuracy: 0.9850 - val_loss: 0.4474 - val_accuracy: 0.9386\n"
          ],
          "name": "stdout"
        },
        {
          "output_type": "execute_result",
          "data": {
            "text/plain": [
              "<tensorflow.python.keras.callbacks.History at 0x7fbfcc4f7890>"
            ]
          },
          "metadata": {
            "tags": []
          },
          "execution_count": 35
        }
      ]
    },
    {
      "cell_type": "code",
      "metadata": {
        "id": "KZhdb125oxvo",
        "colab": {
          "base_uri": "https://localhost:8080/"
        },
        "outputId": "e1c70b49-31e9-4b1d-dda6-c94bdfd599b3"
      },
      "source": [
        "print(\"FOR CNN MODEL\")\n",
        "saved_model=load_model('/content/drive/MyDrive/IIIT_MIDAS/saved_models/'+'CNN_27.hdf5')\n",
        "y_prob = saved_model.predict(X_test)\n",
        "y_pred = np.argmax(y_prob,axis=1)\n",
        "accuracy = accuracy_score(y_test, y_pred)\n",
        "print('Accuracy: %f' % accuracy)\n",
        "precision = precision_score(y_test, y_pred, average='macro')\n",
        "print('Precision: %f' % precision)\n",
        "recall = recall_score(y_test, y_pred,average='macro')\n",
        "print('Recall: %f' % recall)\n",
        "f1 = f1_score(y_test, y_pred,average='macro')\n",
        "print('F1 score: %f' % f1)"
      ],
      "execution_count": 40,
      "outputs": [
        {
          "output_type": "stream",
          "text": [
            "FOR CNN MODEL\n",
            "Accuracy: 0.952849\n",
            "Precision: 0.778632\n",
            "Recall: 0.767037\n",
            "F1 score: 0.765889\n"
          ],
          "name": "stdout"
        },
        {
          "output_type": "stream",
          "text": [
            "/usr/local/lib/python3.7/dist-packages/sklearn/metrics/_classification.py:1272: UndefinedMetricWarning: Precision is ill-defined and being set to 0.0 in labels with no predicted samples. Use `zero_division` parameter to control this behavior.\n",
            "  _warn_prf(average, modifier, msg_start, len(result))\n"
          ],
          "name": "stderr"
        }
      ]
    },
    {
      "cell_type": "code",
      "metadata": {
        "id": "mAJdOb2QI34S",
        "colab": {
          "base_uri": "https://localhost:8080/",
          "height": 641
        },
        "outputId": "7bc78edd-383e-4323-d1ec-62ea89fd9874"
      },
      "source": [
        "conf_mat = confusion_matrix(lab_enc.inverse_transform(y_test), lab_enc.inverse_transform(y_pred))\n",
        "fig, ax = plt.subplots(figsize=(10,10))\n",
        "sns.heatmap(conf_mat, annot=True, cmap=\"Blues\", fmt='d')\n",
        "plt.ylabel('Actual')\n",
        "plt.xlabel('Predicted')\n",
        "plt.title(\"CONFUSION MATRIX - CNN MODEL\", size=16)"
      ],
      "execution_count": 41,
      "outputs": [
        {
          "output_type": "execute_result",
          "data": {
            "text/plain": [
              "Text(0.5, 1.0, 'CONFUSION MATRIX - CNN MODEL')"
            ]
          },
          "metadata": {
            "tags": []
          },
          "execution_count": 41
        },
        {
          "output_type": "display_data",
          "data": {
            "image/png": "[encoded data removed]",
            "text/plain": [
              "<Figure size 720x720 with 2 Axes>"
            ]
          },
          "metadata": {
            "tags": [],
            "needs_background": "light"
          }
        }
      ]
    },
    {
      "cell_type": "code",
      "metadata": {
        "id": "ryi2lakII_nX",
        "colab": {
          "base_uri": "https://localhost:8080/"
        },
        "outputId": "3b538c13-8f1d-46be-f05d-98fa86637232"
      },
      "source": [
        "input=Input(shape=(sent_length,), name='inputs')\n",
        "x=Embedding(voc_size,embedding_vector_features,input_length=sent_length)(input)\n",
        "x=Conv1D(128, 5, padding='same', activation='relu' )(x)\n",
        "x=MaxPooling1D(pool_size=2,strides=None)(x)\n",
        "x=Bidirectional(LSTM(64))(x)\n",
        "x=BatchNormalization()(x)\n",
        "x=Flatten()(x)\n",
        "x=Dense(256,activation='relu')(x)\n",
        "x=Dropout(0.4)(x)\n",
        "truth=Dense(64,activation='relu')(x)\n",
        "truth=Dense(27,activation='softmax',name='truth_')(truth)\n",
        "model3=Model(inputs=input, outputs=truth)\n",
        "model3.compile(loss= 'sparse_categorical_crossentropy', optimizer='adam',metrics=['accuracy'])\n",
        "model3.summary()\n",
        "#plot_model(model5,show_layer_names=True,show_shapes=True)\n",
        "\n",
        "CNN_LSTM_save = ModelCheckpoint('/content/drive/MyDrive/IIIT_MIDAS/saved_models/'+'CNN_LSTM_27.hdf5', save_best_only=True, monitor='val_loss', mode='min')\n"
      ],
      "execution_count": 38,
      "outputs": [
        {
          "output_type": "stream",
          "text": [
            "Model: \"model_4\"\n",
            "_________________________________________________________________\n",
            "Layer (type)                 Output Shape              Param #   \n",
            "=================================================================\n",
            "inputs (InputLayer)          [(None, 128)]             0         \n",
            "_________________________________________________________________\n",
            "embedding_4 (Embedding)      (None, 128, 100)          1695000   \n",
            "_________________________________________________________________\n",
            "conv1d_1 (Conv1D)            (None, 128, 128)          64128     \n",
            "_________________________________________________________________\n",
            "max_pooling1d_1 (MaxPooling1 (None, 64, 128)           0         \n",
            "_________________________________________________________________\n",
            "bidirectional_3 (Bidirection (None, 128)               98816     \n",
            "_________________________________________________________________\n",
            "batch_normalization_4 (Batch (None, 128)               512       \n",
            "_________________________________________________________________\n",
            "flatten_1 (Flatten)          (None, 128)               0         \n",
            "_________________________________________________________________\n",
            "dense_8 (Dense)              (None, 256)               33024     \n",
            "_________________________________________________________________\n",
            "dropout_4 (Dropout)          (None, 256)               0         \n",
            "_________________________________________________________________\n",
            "dense_9 (Dense)              (None, 64)                16448     \n",
            "_________________________________________________________________\n",
            "truth_ (Dense)               (None, 27)                1755      \n",
            "=================================================================\n",
            "Total params: 1,909,683\n",
            "Trainable params: 1,909,427\n",
            "Non-trainable params: 256\n",
            "_________________________________________________________________\n"
          ],
          "name": "stdout"
        }
      ]
    },
    {
      "cell_type": "code",
      "metadata": {
        "id": "N-9zg27oKrBr",
        "colab": {
          "base_uri": "https://localhost:8080/"
        },
        "outputId": "5344c5ce-84f1-4216-d02c-699e7981a1b7"
      },
      "source": [
        "model3.fit(x=X_train, y=y_train, validation_data=(X_val,y_val), callbacks=CNN_LSTM_save, batch_size=64, epochs =10)"
      ],
      "execution_count": 39,
      "outputs": [
        {
          "output_type": "stream",
          "text": [
            "Epoch 1/10\n",
            "215/215 [==============================] - 10s 33ms/step - loss: 1.4130 - accuracy: 0.6307 - val_loss: 1.1150 - val_accuracy: 0.8898\n",
            "Epoch 2/10\n",
            "215/215 [==============================] - 6s 29ms/step - loss: 0.1885 - accuracy: 0.9478 - val_loss: 0.1950 - val_accuracy: 0.9525\n",
            "Epoch 3/10\n",
            "215/215 [==============================] - 6s 29ms/step - loss: 0.0671 - accuracy: 0.9814 - val_loss: 0.1862 - val_accuracy: 0.9535\n",
            "Epoch 4/10\n",
            "215/215 [==============================] - 6s 28ms/step - loss: 0.0350 - accuracy: 0.9897 - val_loss: 0.1837 - val_accuracy: 0.9590\n",
            "Epoch 5/10\n",
            "215/215 [==============================] - 6s 30ms/step - loss: 0.0271 - accuracy: 0.9922 - val_loss: 0.2034 - val_accuracy: 0.9559\n",
            "Epoch 6/10\n",
            "215/215 [==============================] - 6s 29ms/step - loss: 0.0276 - accuracy: 0.9923 - val_loss: 0.3098 - val_accuracy: 0.9501\n",
            "Epoch 7/10\n",
            "215/215 [==============================] - 6s 29ms/step - loss: 0.0252 - accuracy: 0.9925 - val_loss: 0.2178 - val_accuracy: 0.9613\n",
            "Epoch 8/10\n",
            "215/215 [==============================] - 6s 27ms/step - loss: 0.0100 - accuracy: 0.9974 - val_loss: 0.2252 - val_accuracy: 0.9620\n",
            "Epoch 9/10\n",
            "215/215 [==============================] - 6s 28ms/step - loss: 0.0191 - accuracy: 0.9940 - val_loss: 0.2968 - val_accuracy: 0.9498\n",
            "Epoch 10/10\n",
            "215/215 [==============================] - 6s 28ms/step - loss: 0.0406 - accuracy: 0.9898 - val_loss: 0.2240 - val_accuracy: 0.9593\n"
          ],
          "name": "stdout"
        },
        {
          "output_type": "execute_result",
          "data": {
            "text/plain": [
              "<tensorflow.python.keras.callbacks.History at 0x7fbfcdd20b10>"
            ]
          },
          "metadata": {
            "tags": []
          },
          "execution_count": 39
        }
      ]
    },
    {
      "cell_type": "code",
      "metadata": {
        "id": "RBzAW-tsKyJ1",
        "colab": {
          "base_uri": "https://localhost:8080/"
        },
        "outputId": "72da7598-1016-46c1-f5c5-e04a482b2914"
      },
      "source": [
        "print(\"FOR C-LSTMMODEL\")\n",
        "saved_model=load_model('/content/drive/MyDrive/IIIT_MIDAS/saved_models/'+'CNN_LSTM_27.hdf5')\n",
        "y_prob = saved_model.predict(X_test)\n",
        "y_pred = np.argmax(y_prob,axis=1)\n",
        "accuracy = accuracy_score(y_test, y_pred)\n",
        "print('Accuracy: %f' % accuracy)\n",
        "precision = precision_score(y_test, y_pred, average='macro')\n",
        "print('Precision: %f' % precision)\n",
        "recall = recall_score(y_test, y_pred,average='macro')\n",
        "print('Recall: %f' % recall)\n",
        "f1 = f1_score(y_test, y_pred,average='macro')\n",
        "print('F1 score: %f' % f1)"
      ],
      "execution_count": 42,
      "outputs": [
        {
          "output_type": "stream",
          "text": [
            "FOR C-LSTMMODEL\n",
            "Accuracy: 0.953189\n",
            "Precision: 0.864591\n",
            "Recall: 0.774949\n",
            "F1 score: 0.801812\n"
          ],
          "name": "stdout"
        }
      ]
    },
    {
      "cell_type": "code",
      "metadata": {
        "id": "2BpNuSrbLMov",
        "colab": {
          "base_uri": "https://localhost:8080/",
          "height": 641
        },
        "outputId": "c3e9143c-7ef0-431c-f5a6-6bb6ae78e849"
      },
      "source": [
        "conf_mat = confusion_matrix(lab_enc.inverse_transform(y_test), lab_enc.inverse_transform(y_pred))\n",
        "fig, ax = plt.subplots(figsize=(10,10))\n",
        "sns.heatmap(conf_mat, annot=True, cmap=\"Blues\", fmt='d')\n",
        "plt.ylabel('Actual')\n",
        "plt.xlabel('Predicted')\n",
        "plt.title(\"CONFUSION MATRIX - LSTM MODEL\", size=16)"
      ],
      "execution_count": 44,
      "outputs": [
        {
          "output_type": "execute_result",
          "data": {
            "text/plain": [
              "Text(0.5, 1.0, 'CONFUSION MATRIX - LSTM MODEL')"
            ]
          },
          "metadata": {
            "tags": []
          },
          "execution_count": 44
        },
        {
          "output_type": "display_data",
          "data": {
            "image/png": "[encoded data removed]",
            "text/plain": [
              "<Figure size 720x720 with 2 Axes>"
            ]
          },
          "metadata": {
            "tags": [],
            "needs_background": "light"
          }
        }
      ]
    },
    {
      "cell_type": "code",
      "metadata": {
        "id": "9IOeo85iLPvH"
      },
      "source": [
        ""
      ],
      "execution_count": null,
      "outputs": []
    }
  ]
}