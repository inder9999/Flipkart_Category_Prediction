{
  "nbformat": 4,
  "nbformat_minor": 0,
  "metadata": {
    "colab": {
      "name": "category_prediction_with_18_category_using_ML_models.ipynb",
      "provenance": []
    },
    "kernelspec": {
      "name": "python3",
      "display_name": "Python 3"
    },
    "language_info": {
      "name": "python"
    }
  },
  "cells": [
    {
      "cell_type": "code",
      "metadata": {
        "id": "_fXq3PABr88d"
      },
      "source": [
        "import pandas as pd\n",
        "from sklearn.feature_extraction.text import TfidfVectorizer, CountVectorizer\n",
        "from sklearn.model_selection import train_test_split\n",
        "from sklearn.metrics import accuracy_score, confusion_matrix\n",
        "from sklearn.pipeline import Pipeline\n",
        "from sklearn.feature_extraction.text import TfidfTransformer\n",
        "from sklearn.metrics import classification_report\n",
        "import sklearn\n",
        "from sklearn.model_selection import GridSearchCV\n",
        "import matplotlib.pyplot as plt\n",
        "import joblib\n",
        "import seaborn as sns\n",
        "import pickle\n",
        "import numpy as np\n",
        "import nltk\n",
        "from collections import Counter\n",
        "import re\n",
        "from sklearn import preprocessing\n",
        "from imblearn.pipeline import make_pipeline\n",
        "from sklearn.metrics import precision_score\n",
        "from sklearn.metrics import recall_score\n",
        "from sklearn.metrics import f1_score\n",
        "from sklearn.metrics import accuracy_score\n",
        "from sklearn.naive_bayes import MultinomialNB\n",
        "from sklearn.linear_model import SGDClassifier\n",
        "from sklearn.linear_model import LogisticRegression\n"
      ],
      "execution_count": 31,
      "outputs": []
    },
    {
      "cell_type": "code",
      "metadata": {
        "colab": {
          "base_uri": "https://localhost:8080/"
        },
        "id": "Q7Pl1zlasZkl",
        "outputId": "80846d16-bd2c-4efb-9088-445720267e15"
      },
      "source": [
        "from google.colab import drive\n",
        "drive.mount('/content/drive')"
      ],
      "execution_count": 1,
      "outputs": [
        {
          "output_type": "stream",
          "text": [
            "Mounted at /content/drive\n"
          ],
          "name": "stdout"
        }
      ]
    },
    {
      "cell_type": "code",
      "metadata": {
        "colab": {
          "base_uri": "https://localhost:8080/",
          "height": 212
        },
        "id": "QSnnKYYLsaU4",
        "outputId": "95711292-b4a9-461d-9aa5-c946cd12e2dd"
      },
      "source": [
        "#Loading of Data in Pandas DataFrame from CSV file\n",
        "#Other Features were removed from the CSV as they are not used in the tasks \n",
        "data=pd.read_csv(\"/content/drive/MyDrive/IIIT_MIDAS/flipkart_com-ecommerce_sample.csv\", encoding= 'unicode_escape')\n",
        "print(len(data))\n",
        "data.head()"
      ],
      "execution_count": 4,
      "outputs": [
        {
          "output_type": "stream",
          "text": [
            "20000\n"
          ],
          "name": "stdout"
        },
        {
          "output_type": "execute_result",
          "data": {
            "text/html": [
              "<div>\n",
              "<style scoped>\n",
              "    .dataframe tbody tr th:only-of-type {\n",
              "        vertical-align: middle;\n",
              "    }\n",
              "\n",
              "    .dataframe tbody tr th {\n",
              "        vertical-align: top;\n",
              "    }\n",
              "\n",
              "    .dataframe thead th {\n",
              "        text-align: right;\n",
              "    }\n",
              "</style>\n",
              "<table border=\"1\" class=\"dataframe\">\n",
              "  <thead>\n",
              "    <tr style=\"text-align: right;\">\n",
              "      <th></th>\n",
              "      <th>product_category_tree</th>\n",
              "      <th>description</th>\n",
              "      <th>brand</th>\n",
              "    </tr>\n",
              "  </thead>\n",
              "  <tbody>\n",
              "    <tr>\n",
              "      <th>0</th>\n",
              "      <td>[\"Clothing &gt;&gt; Women's Clothing &gt;&gt; Lingerie, Sl...</td>\n",
              "      <td>Key Features of Alisha Solid Women's Cycling S...</td>\n",
              "      <td>Alisha</td>\n",
              "    </tr>\n",
              "    <tr>\n",
              "      <th>1</th>\n",
              "      <td>[\"Furniture &gt;&gt; Living Room Furniture &gt;&gt; Sofa B...</td>\n",
              "      <td>FabHomeDecor Fabric Double Sofa Bed (Finish Co...</td>\n",
              "      <td>FabHomeDecor</td>\n",
              "    </tr>\n",
              "    <tr>\n",
              "      <th>2</th>\n",
              "      <td>[\"Footwear &gt;&gt; Women's Footwear &gt;&gt; Ballerinas &gt;...</td>\n",
              "      <td>Key Features of AW Bellies Sandals Wedges Heel...</td>\n",
              "      <td>AW</td>\n",
              "    </tr>\n",
              "    <tr>\n",
              "      <th>3</th>\n",
              "      <td>[\"Clothing &gt;&gt; Women's Clothing &gt;&gt; Lingerie, Sl...</td>\n",
              "      <td>Key Features of Alisha Solid Women's Cycling S...</td>\n",
              "      <td>Alisha</td>\n",
              "    </tr>\n",
              "    <tr>\n",
              "      <th>4</th>\n",
              "      <td>[\"Pet Supplies &gt;&gt; Grooming &gt;&gt; Skin &amp; Coat Care...</td>\n",
              "      <td>Specifications of Sicons All Purpose Arnica Do...</td>\n",
              "      <td>Sicons</td>\n",
              "    </tr>\n",
              "  </tbody>\n",
              "</table>\n",
              "</div>"
            ],
            "text/plain": [
              "                               product_category_tree  ...         brand\n",
              "0  [\"Clothing >> Women's Clothing >> Lingerie, Sl...  ...        Alisha\n",
              "1  [\"Furniture >> Living Room Furniture >> Sofa B...  ...  FabHomeDecor\n",
              "2  [\"Footwear >> Women's Footwear >> Ballerinas >...  ...            AW\n",
              "3  [\"Clothing >> Women's Clothing >> Lingerie, Sl...  ...        Alisha\n",
              "4  [\"Pet Supplies >> Grooming >> Skin & Coat Care...  ...        Sicons\n",
              "\n",
              "[5 rows x 3 columns]"
            ]
          },
          "metadata": {
            "tags": []
          },
          "execution_count": 4
        }
      ]
    },
    {
      "cell_type": "code",
      "metadata": {
        "colab": {
          "base_uri": "https://localhost:8080/",
          "height": 195
        },
        "id": "og0ZoWnmvIhI",
        "outputId": "cd5a0b26-3e71-4251-9dc8-c52b818df55e"
      },
      "source": [
        "#Text Preprocessing\n",
        "category=[]\n",
        "description=[]\n",
        "for i in range(len(data)):\n",
        "  if type(data['description'][i]) == str :\n",
        "    category.append(data[\"product_category_tree\"][i].split('>>')[0][2:-1]) #Primary Category is being extracted from the product category tree\n",
        "    des = re.sub('[^a-zA-Z]', ' ', data['description'][i])\n",
        "    des = re.sub('[/(){}\\[\\]\\|@,.;_]', ' ', des) #Removing the symbols that are not useful in classification task\n",
        "    des = des.lower() #Converting the text into lowercase \n",
        "    description.append(des) \n",
        "\n",
        "data = pd.DataFrame()\n",
        "data[\"category\"]=category\n",
        "data[\"description\"]=description\n",
        "data.head()    \n"
      ],
      "execution_count": 5,
      "outputs": [
        {
          "output_type": "execute_result",
          "data": {
            "text/html": [
              "<div>\n",
              "<style scoped>\n",
              "    .dataframe tbody tr th:only-of-type {\n",
              "        vertical-align: middle;\n",
              "    }\n",
              "\n",
              "    .dataframe tbody tr th {\n",
              "        vertical-align: top;\n",
              "    }\n",
              "\n",
              "    .dataframe thead th {\n",
              "        text-align: right;\n",
              "    }\n",
              "</style>\n",
              "<table border=\"1\" class=\"dataframe\">\n",
              "  <thead>\n",
              "    <tr style=\"text-align: right;\">\n",
              "      <th></th>\n",
              "      <th>category</th>\n",
              "      <th>description</th>\n",
              "    </tr>\n",
              "  </thead>\n",
              "  <tbody>\n",
              "    <tr>\n",
              "      <th>0</th>\n",
              "      <td>Clothing</td>\n",
              "      <td>key features of alisha solid women s cycling s...</td>\n",
              "    </tr>\n",
              "    <tr>\n",
              "      <th>1</th>\n",
              "      <td>Furniture</td>\n",
              "      <td>fabhomedecor fabric double sofa bed  finish co...</td>\n",
              "    </tr>\n",
              "    <tr>\n",
              "      <th>2</th>\n",
              "      <td>Footwear</td>\n",
              "      <td>key features of aw bellies sandals wedges heel...</td>\n",
              "    </tr>\n",
              "    <tr>\n",
              "      <th>3</th>\n",
              "      <td>Clothing</td>\n",
              "      <td>key features of alisha solid women s cycling s...</td>\n",
              "    </tr>\n",
              "    <tr>\n",
              "      <th>4</th>\n",
              "      <td>Pet Supplies</td>\n",
              "      <td>specifications of sicons all purpose arnica do...</td>\n",
              "    </tr>\n",
              "  </tbody>\n",
              "</table>\n",
              "</div>"
            ],
            "text/plain": [
              "       category                                        description\n",
              "0      Clothing  key features of alisha solid women s cycling s...\n",
              "1     Furniture  fabhomedecor fabric double sofa bed  finish co...\n",
              "2      Footwear  key features of aw bellies sandals wedges heel...\n",
              "3      Clothing  key features of alisha solid women s cycling s...\n",
              "4  Pet Supplies  specifications of sicons all purpose arnica do..."
            ]
          },
          "metadata": {
            "tags": []
          },
          "execution_count": 5
        }
      ]
    },
    {
      "cell_type": "code",
      "metadata": {
        "id": "DX5Gn_e4vNCt"
      },
      "source": [
        ""
      ],
      "execution_count": null,
      "outputs": []
    },
    {
      "cell_type": "code",
      "metadata": {
        "colab": {
          "base_uri": "https://localhost:8080/",
          "height": 298
        },
        "id": "IR_eHbamvi-1",
        "outputId": "897bdf1c-0268-40e2-b57f-96d44754cd73"
      },
      "source": [
        "# Distibution of data samples to the categories\n",
        "category_counts= Counter(category)\n",
        "print(f\"Total No. of Categories :\",len(category_counts.keys()))\n",
        "plt.bar(category_counts.keys(),category_counts.values() )\n",
        "plt.title(label='Distibution of data samples to the categories')\n",
        "plt.show() "
      ],
      "execution_count": 6,
      "outputs": [
        {
          "output_type": "stream",
          "text": [
            "Total No. of Categories : 266\n"
          ],
          "name": "stdout"
        },
        {
          "output_type": "display_data",
          "data": {
            "image/png": "[encoded data removed]",
            "text/plain": [
              "<Figure size 432x288 with 1 Axes>"
            ]
          },
          "metadata": {
            "tags": [],
            "needs_background": "light"
          }
        }
      ]
    },
    {
      "cell_type": "code",
      "metadata": {
        "colab": {
          "base_uri": "https://localhost:8080/",
          "height": 281
        },
        "id": "w-PePl27yZ-o",
        "outputId": "a7643cec-5840-478d-b080-90b7486de56d"
      },
      "source": [
        "#only keeping the categories with more than 100 samples\n",
        "new_dict={}\n",
        "for key, value in category_counts.items():\n",
        "  if value>100:\n",
        "    new_dict[key]=value\n",
        "plt.bar(new_dict.keys(),new_dict.values())\n",
        "plt.title(label='Distibution of data samples to the categories having more than 100 samples')\n",
        "plt.show() "
      ],
      "execution_count": 7,
      "outputs": [
        {
          "output_type": "display_data",
          "data": {
            "image/png": "[encoded data removed]",
            "text/plain": [
              "<Figure size 432x288 with 1 Axes>"
            ]
          },
          "metadata": {
            "tags": [],
            "needs_background": "light"
          }
        }
      ]
    },
    {
      "cell_type": "code",
      "metadata": {
        "colab": {
          "base_uri": "https://localhost:8080/"
        },
        "id": "-g3KiGUa5Tlo",
        "outputId": "b0f9482f-67a7-49be-8b50-a0969bc2a597"
      },
      "source": [
        "new_dict"
      ],
      "execution_count": 8,
      "outputs": [
        {
          "output_type": "execute_result",
          "data": {
            "text/plain": [
              "{'Automotive': 1012,\n",
              " 'Baby Care': 483,\n",
              " 'Bags, Wallets & Belts': 265,\n",
              " 'Beauty and Personal Care': 710,\n",
              " 'Clothing': 6197,\n",
              " 'Computers': 578,\n",
              " 'Footwear': 1227,\n",
              " 'Furniture': 180,\n",
              " 'Home Decor & Festive Needs': 929,\n",
              " 'Home Furnishing': 699,\n",
              " 'Jewellery': 3531,\n",
              " 'Kitchen & Dining': 647,\n",
              " 'Mobiles & Accessories': 1099,\n",
              " 'Pens & Stationery': 313,\n",
              " 'Sports & Fitness': 166,\n",
              " 'Tools & Hardware': 391,\n",
              " 'Toys & School Supplies': 330,\n",
              " 'Watches': 530}"
            ]
          },
          "metadata": {
            "tags": []
          },
          "execution_count": 8
        }
      ]
    },
    {
      "cell_type": "code",
      "metadata": {
        "colab": {
          "base_uri": "https://localhost:8080/",
          "height": 195
        },
        "id": "Xk0V1AMitU4d",
        "outputId": "76e8c63d-d986-4ea3-8653-05181d3b7532"
      },
      "source": [
        "#Storing the description and category having more than 100 instances in dataframe\n",
        "new_description=[]\n",
        "new_category=[]\n",
        "for i in range(len(description)):\n",
        "  if category[i] in new_dict.keys():\n",
        "    new_description.append(description[i])\n",
        "    new_category.append(category[i])\n",
        "    \n",
        "new_df=pd.DataFrame()\n",
        "new_df[\"description\"]=new_description\n",
        "new_df[\"category\"]=new_category\n",
        "new_df.head()"
      ],
      "execution_count": 9,
      "outputs": [
        {
          "output_type": "execute_result",
          "data": {
            "text/html": [
              "<div>\n",
              "<style scoped>\n",
              "    .dataframe tbody tr th:only-of-type {\n",
              "        vertical-align: middle;\n",
              "    }\n",
              "\n",
              "    .dataframe tbody tr th {\n",
              "        vertical-align: top;\n",
              "    }\n",
              "\n",
              "    .dataframe thead th {\n",
              "        text-align: right;\n",
              "    }\n",
              "</style>\n",
              "<table border=\"1\" class=\"dataframe\">\n",
              "  <thead>\n",
              "    <tr style=\"text-align: right;\">\n",
              "      <th></th>\n",
              "      <th>description</th>\n",
              "      <th>category</th>\n",
              "    </tr>\n",
              "  </thead>\n",
              "  <tbody>\n",
              "    <tr>\n",
              "      <th>0</th>\n",
              "      <td>key features of alisha solid women s cycling s...</td>\n",
              "      <td>Clothing</td>\n",
              "    </tr>\n",
              "    <tr>\n",
              "      <th>1</th>\n",
              "      <td>fabhomedecor fabric double sofa bed  finish co...</td>\n",
              "      <td>Furniture</td>\n",
              "    </tr>\n",
              "    <tr>\n",
              "      <th>2</th>\n",
              "      <td>key features of aw bellies sandals wedges heel...</td>\n",
              "      <td>Footwear</td>\n",
              "    </tr>\n",
              "    <tr>\n",
              "      <th>3</th>\n",
              "      <td>key features of alisha solid women s cycling s...</td>\n",
              "      <td>Clothing</td>\n",
              "    </tr>\n",
              "    <tr>\n",
              "      <th>4</th>\n",
              "      <td>key features of alisha solid women s cycling s...</td>\n",
              "      <td>Clothing</td>\n",
              "    </tr>\n",
              "  </tbody>\n",
              "</table>\n",
              "</div>"
            ],
            "text/plain": [
              "                                         description   category\n",
              "0  key features of alisha solid women s cycling s...   Clothing\n",
              "1  fabhomedecor fabric double sofa bed  finish co...  Furniture\n",
              "2  key features of aw bellies sandals wedges heel...   Footwear\n",
              "3  key features of alisha solid women s cycling s...   Clothing\n",
              "4  key features of alisha solid women s cycling s...   Clothing"
            ]
          },
          "metadata": {
            "tags": []
          },
          "execution_count": 9
        }
      ]
    },
    {
      "cell_type": "code",
      "metadata": {
        "colab": {
          "base_uri": "https://localhost:8080/",
          "height": 195
        },
        "id": "aqefxHEOctc8",
        "outputId": "90eb6ed9-80f3-4146-f2ad-ea8810d45c02"
      },
      "source": [
        "#Encoding the textual label to the integer labels\n",
        "lab_enc = preprocessing.LabelEncoder()\n",
        "lab_enc.fit(new_df.category)\n",
        "new_df['categorical_label'] = lab_enc.transform(new_df.category)\n",
        "new_df.head()"
      ],
      "execution_count": 12,
      "outputs": [
        {
          "output_type": "execute_result",
          "data": {
            "text/html": [
              "<div>\n",
              "<style scoped>\n",
              "    .dataframe tbody tr th:only-of-type {\n",
              "        vertical-align: middle;\n",
              "    }\n",
              "\n",
              "    .dataframe tbody tr th {\n",
              "        vertical-align: top;\n",
              "    }\n",
              "\n",
              "    .dataframe thead th {\n",
              "        text-align: right;\n",
              "    }\n",
              "</style>\n",
              "<table border=\"1\" class=\"dataframe\">\n",
              "  <thead>\n",
              "    <tr style=\"text-align: right;\">\n",
              "      <th></th>\n",
              "      <th>description</th>\n",
              "      <th>category</th>\n",
              "      <th>categorical_label</th>\n",
              "    </tr>\n",
              "  </thead>\n",
              "  <tbody>\n",
              "    <tr>\n",
              "      <th>0</th>\n",
              "      <td>key features of alisha solid women s cycling s...</td>\n",
              "      <td>Clothing</td>\n",
              "      <td>4</td>\n",
              "    </tr>\n",
              "    <tr>\n",
              "      <th>1</th>\n",
              "      <td>fabhomedecor fabric double sofa bed  finish co...</td>\n",
              "      <td>Furniture</td>\n",
              "      <td>7</td>\n",
              "    </tr>\n",
              "    <tr>\n",
              "      <th>2</th>\n",
              "      <td>key features of aw bellies sandals wedges heel...</td>\n",
              "      <td>Footwear</td>\n",
              "      <td>6</td>\n",
              "    </tr>\n",
              "    <tr>\n",
              "      <th>3</th>\n",
              "      <td>key features of alisha solid women s cycling s...</td>\n",
              "      <td>Clothing</td>\n",
              "      <td>4</td>\n",
              "    </tr>\n",
              "    <tr>\n",
              "      <th>4</th>\n",
              "      <td>key features of alisha solid women s cycling s...</td>\n",
              "      <td>Clothing</td>\n",
              "      <td>4</td>\n",
              "    </tr>\n",
              "  </tbody>\n",
              "</table>\n",
              "</div>"
            ],
            "text/plain": [
              "                                         description  ... categorical_label\n",
              "0  key features of alisha solid women s cycling s...  ...                 4\n",
              "1  fabhomedecor fabric double sofa bed  finish co...  ...                 7\n",
              "2  key features of aw bellies sandals wedges heel...  ...                 6\n",
              "3  key features of alisha solid women s cycling s...  ...                 4\n",
              "4  key features of alisha solid women s cycling s...  ...                 4\n",
              "\n",
              "[5 rows x 3 columns]"
            ]
          },
          "metadata": {
            "tags": []
          },
          "execution_count": 12
        }
      ]
    },
    {
      "cell_type": "code",
      "metadata": {
        "id": "PplNEXRY66i5"
      },
      "source": [
        "#Spliting Dataset into training and testing Data\n",
        "X_train, X_test, y_train, y_test = train_test_split(new_df['description'], new_df['categorical_label'], test_size=0.15, random_state = 42)"
      ],
      "execution_count": 17,
      "outputs": []
    },
    {
      "cell_type": "code",
      "metadata": {
        "colab": {
          "base_uri": "https://localhost:8080/"
        },
        "id": "WF9bd5Yk5bLm",
        "outputId": "883441f8-347f-445c-cff1-9b2892cf7d5b"
      },
      "source": [
        "#Creating Pipeline for naivebias classifier\n",
        "nb = Pipeline([('vect', CountVectorizer()),\n",
        "               ('tfidf', TfidfTransformer()),\n",
        "               ('clf', MultinomialNB()),\n",
        "              ])"
      ],
      "execution_count": 19,
      "outputs": [
        {
          "output_type": "execute_result",
          "data": {
            "text/plain": [
              "Pipeline(memory=None,\n",
              "         steps=[('vect',\n",
              "                 CountVectorizer(analyzer='word', binary=False,\n",
              "                                 decode_error='strict',\n",
              "                                 dtype=<class 'numpy.int64'>, encoding='utf-8',\n",
              "                                 input='content', lowercase=True, max_df=1.0,\n",
              "                                 max_features=None, min_df=1,\n",
              "                                 ngram_range=(1, 1), preprocessor=None,\n",
              "                                 stop_words=None, strip_accents=None,\n",
              "                                 token_pattern='(?u)\\\\b\\\\w\\\\w+\\\\b',\n",
              "                                 tokenizer=None, vocabulary=None)),\n",
              "                ('tfidf',\n",
              "                 TfidfTransformer(norm='l2', smooth_idf=True,\n",
              "                                  sublinear_tf=False, use_idf=True)),\n",
              "                ('clf',\n",
              "                 MultinomialNB(alpha=1.0, class_prior=None, fit_prior=True))],\n",
              "         verbose=False)"
            ]
          },
          "metadata": {
            "tags": []
          },
          "execution_count": 19
        }
      ]
    },
    {
      "cell_type": "code",
      "metadata": {
        "id": "y0cuea7MDPZk"
      },
      "source": [
        "#model fitting\n",
        "nb.fit(X_train, y_train)"
      ],
      "execution_count": null,
      "outputs": []
    },
    {
      "cell_type": "code",
      "metadata": {
        "colab": {
          "base_uri": "https://localhost:8080/"
        },
        "id": "Jy-f5w-GAuoG",
        "outputId": "8bfa6d65-0f98-4b5e-fa8b-ec68d616d715"
      },
      "source": [
        "#evaluation on test data\n",
        "y_pred = nb.predict(X_test)\n",
        "accuracy = accuracy_score(y_test, y_pred)\n",
        "print('Accuracy: %f' % accuracy)\n",
        "precision = precision_score(y_test, y_pred, average='macro')\n",
        "print('Precision: %f' % precision)\n",
        "recall = recall_score(y_test, y_pred,average='macro')\n",
        "print('Recall: %f' % recall)\n",
        "f1 = f1_score(y_test, y_pred,average='macro')\n",
        "print('F1 score: %f' % f1)"
      ],
      "execution_count": 24,
      "outputs": [
        {
          "output_type": "stream",
          "text": [
            "Accuracy: 0.857982\n",
            "Precision: 0.876661\n",
            "Recall: 0.630680\n",
            "F1 score: 0.684261\n"
          ],
          "name": "stdout"
        },
        {
          "output_type": "stream",
          "text": [
            "/usr/local/lib/python3.7/dist-packages/sklearn/metrics/_classification.py:1272: UndefinedMetricWarning: Precision is ill-defined and being set to 0.0 in labels with no predicted samples. Use `zero_division` parameter to control this behavior.\n",
            "  _warn_prf(average, modifier, msg_start, len(result))\n"
          ],
          "name": "stderr"
        }
      ]
    },
    {
      "cell_type": "code",
      "metadata": {
        "id": "kCUDx7qEA3gd"
      },
      "source": [
        "#Creating Pipeline for SGD Classifier\n",
        "sgd = Pipeline([('vect', CountVectorizer()),\n",
        "                ('tfidf', TfidfTransformer()),\n",
        "                ('clf', SGDClassifier(loss='hinge', penalty='l2',alpha=1e-3, random_state=42, max_iter=5, tol=None)),\n",
        "               ])\n"
      ],
      "execution_count": 32,
      "outputs": []
    },
    {
      "cell_type": "code",
      "metadata": {
        "colab": {
          "base_uri": "https://localhost:8080/"
        },
        "id": "PSIghQWLBuUm",
        "outputId": "4247c3e0-1325-4953-e49e-47bbfde02e23"
      },
      "source": [
        "#Model fitting\n",
        "sgd.fit(X_train, y_train)"
      ],
      "execution_count": 26,
      "outputs": [
        {
          "output_type": "execute_result",
          "data": {
            "text/plain": [
              "Pipeline(memory=None,\n",
              "         steps=[('vect',\n",
              "                 CountVectorizer(analyzer='word', binary=False,\n",
              "                                 decode_error='strict',\n",
              "                                 dtype=<class 'numpy.int64'>, encoding='utf-8',\n",
              "                                 input='content', lowercase=True, max_df=1.0,\n",
              "                                 max_features=None, min_df=1,\n",
              "                                 ngram_range=(1, 1), preprocessor=None,\n",
              "                                 stop_words=None, strip_accents=None,\n",
              "                                 token_pattern='(?u)\\\\b\\\\w\\\\w+\\\\b',\n",
              "                                 tokenizer=None, vocabulary=Non...\n",
              "                ('clf',\n",
              "                 SGDClassifier(alpha=0.001, average=False, class_weight=None,\n",
              "                               early_stopping=False, epsilon=0.1, eta0=0.0,\n",
              "                               fit_intercept=True, l1_ratio=0.15,\n",
              "                               learning_rate='optimal', loss='hinge',\n",
              "                               max_iter=5, n_iter_no_change=5, n_jobs=None,\n",
              "                               penalty='l2', power_t=0.5, random_state=42,\n",
              "                               shuffle=True, tol=None, validation_fraction=0.1,\n",
              "                               verbose=0, warm_start=False))],\n",
              "         verbose=False)"
            ]
          },
          "metadata": {
            "tags": []
          },
          "execution_count": 26
        }
      ]
    },
    {
      "cell_type": "code",
      "metadata": {
        "colab": {
          "base_uri": "https://localhost:8080/"
        },
        "id": "r5dXirGZBwzA",
        "outputId": "bd68802a-177b-4484-a568-b95d493a2757"
      },
      "source": [
        "#Evalution on test data\n",
        "y_pred = sgd.predict(X_test)\n",
        "accuracy = accuracy_score(y_test, y_pred)\n",
        "print('Accuracy: %f' % accuracy)\n",
        "precision = precision_score(y_test, y_pred, average='macro')\n",
        "print('Precision: %f' % precision)\n",
        "recall = recall_score(y_test, y_pred,average='macro')\n",
        "print('Recall: %f' % recall)\n",
        "f1 = f1_score(y_test, y_pred,average='macro')\n",
        "print('F1 score: %f' % f1)"
      ],
      "execution_count": 27,
      "outputs": [
        {
          "output_type": "stream",
          "text": [
            "Accuracy: 0.948169\n",
            "Precision: 0.934205\n",
            "Recall: 0.873745\n",
            "F1 score: 0.894174\n"
          ],
          "name": "stdout"
        }
      ]
    },
    {
      "cell_type": "code",
      "metadata": {
        "id": "484OfnGtCB5q"
      },
      "source": [
        "#Creating Pipeline for Logistic Regression\n",
        "logreg = Pipeline([('vect', CountVectorizer()),\n",
        "                ('tfidf', TfidfTransformer()),\n",
        "                ('clf', LogisticRegression(n_jobs=1, C=1e5)),\n",
        "               ])"
      ],
      "execution_count": 28,
      "outputs": []
    },
    {
      "cell_type": "code",
      "metadata": {
        "colab": {
          "base_uri": "https://localhost:8080/"
        },
        "id": "xgNhWFqLCEBm",
        "outputId": "e436c938-4435-454e-a0ba-e6b3e416207e"
      },
      "source": [
        "#model fitting\n",
        "logreg.fit(X_train, y_train)"
      ],
      "execution_count": 29,
      "outputs": [
        {
          "output_type": "stream",
          "text": [
            "/usr/local/lib/python3.7/dist-packages/sklearn/linear_model/_logistic.py:940: ConvergenceWarning: lbfgs failed to converge (status=1):\n",
            "STOP: TOTAL NO. of ITERATIONS REACHED LIMIT.\n",
            "\n",
            "Increase the number of iterations (max_iter) or scale the data as shown in:\n",
            "    https://scikit-learn.org/stable/modules/preprocessing.html\n",
            "Please also refer to the documentation for alternative solver options:\n",
            "    https://scikit-learn.org/stable/modules/linear_model.html#logistic-regression\n",
            "  extra_warning_msg=_LOGISTIC_SOLVER_CONVERGENCE_MSG)\n"
          ],
          "name": "stderr"
        },
        {
          "output_type": "execute_result",
          "data": {
            "text/plain": [
              "Pipeline(memory=None,\n",
              "         steps=[('vect',\n",
              "                 CountVectorizer(analyzer='word', binary=False,\n",
              "                                 decode_error='strict',\n",
              "                                 dtype=<class 'numpy.int64'>, encoding='utf-8',\n",
              "                                 input='content', lowercase=True, max_df=1.0,\n",
              "                                 max_features=None, min_df=1,\n",
              "                                 ngram_range=(1, 1), preprocessor=None,\n",
              "                                 stop_words=None, strip_accents=None,\n",
              "                                 token_pattern='(?u)\\\\b\\\\w\\\\w+\\\\b',\n",
              "                                 tokenizer=None, vocabulary=None)),\n",
              "                ('tfidf',\n",
              "                 TfidfTransformer(norm='l2', smooth_idf=True,\n",
              "                                  sublinear_tf=False, use_idf=True)),\n",
              "                ('clf',\n",
              "                 LogisticRegression(C=100000.0, class_weight=None, dual=False,\n",
              "                                    fit_intercept=True, intercept_scaling=1,\n",
              "                                    l1_ratio=None, max_iter=100,\n",
              "                                    multi_class='auto', n_jobs=1, penalty='l2',\n",
              "                                    random_state=None, solver='lbfgs',\n",
              "                                    tol=0.0001, verbose=0, warm_start=False))],\n",
              "         verbose=False)"
            ]
          },
          "metadata": {
            "tags": []
          },
          "execution_count": 29
        }
      ]
    },
    {
      "cell_type": "code",
      "metadata": {
        "colab": {
          "base_uri": "https://localhost:8080/"
        },
        "id": "DnpS0m-kCGjr",
        "outputId": "4c5d74ff-de76-4640-a443-bc8513a871f0"
      },
      "source": [
        "#Evaluation on test data\n",
        "y_pred = logreg.predict(X_test)\n",
        "accuracy = accuracy_score(y_test, y_pred)\n",
        "print('Accuracy: %f' % accuracy)\n",
        "precision = precision_score(y_test, y_pred, average='macro')\n",
        "print('Precision: %f' % precision)\n",
        "recall = recall_score(y_test, y_pred,average='macro')\n",
        "print('Recall: %f' % recall)\n",
        "f1 = f1_score(y_test, y_pred,average='macro')\n",
        "print('F1 score: %f' % f1)"
      ],
      "execution_count": 30,
      "outputs": [
        {
          "output_type": "stream",
          "text": [
            "Accuracy: 0.977885\n",
            "Precision: 0.962267\n",
            "Recall: 0.956002\n",
            "F1 score: 0.958655\n"
          ],
          "name": "stdout"
        }
      ]
    },
    {
      "cell_type": "code",
      "metadata": {
        "id": "brr0QYK2xan1"
      },
      "source": [
        ""
      ],
      "execution_count": null,
      "outputs": []
    }
  ]
}