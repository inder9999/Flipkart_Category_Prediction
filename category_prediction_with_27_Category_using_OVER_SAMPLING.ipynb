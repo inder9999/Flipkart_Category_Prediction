{
  "nbformat": 4,
  "nbformat_minor": 0,
  "metadata": {
    "colab": {
      "name": "category_prediction_with_27_Category_using_OVER_SAMPLING.ipynb",
      "provenance": [],
      "collapsed_sections": []
    },
    "kernelspec": {
      "name": "python3",
      "display_name": "Python 3"
    },
    "language_info": {
      "name": "python"
    },
    "accelerator": "GPU"
  },
  "cells": [
    {
      "cell_type": "code",
      "metadata": {
        "id": "Aa83AQEWV2ys",
        "colab": {
          "base_uri": "https://localhost:8080/"
        },
        "outputId": "1b3a70c1-ae16-4dd9-c7af-2c35fca372a4"
      },
      "source": [
        "from keras.layers import Embedding\n",
        "from keras.preprocessing.sequence import pad_sequences\n",
        "from keras.models import Sequential\n",
        "from keras.preprocessing.text import Tokenizer\n",
        "from keras.preprocessing.text import one_hot\n",
        "from keras.layers import LSTM\n",
        "from keras.layers import GRU\n",
        "from keras.layers import Dense\n",
        "from keras.layers import Input\n",
        "from keras.layers import Bidirectional\n",
        "from keras.layers import Dropout\n",
        "from keras.layers import concatenate\n",
        "from keras.layers import Flatten\n",
        "from keras.layers import Conv1D\n",
        "from keras.layers import MaxPooling1D\n",
        "from keras.layers import BatchNormalization\n",
        "from keras.models import Model\n",
        "from keras.layers import LeakyReLU\n",
        "import pandas as pd\n",
        "import nltk\n",
        "import re\n",
        "from nltk.corpus import stopwords\n",
        "nltk.download('stopwords')\n",
        "nltk.download('punkt')\n",
        "from nltk.stem.porter import PorterStemmer\n",
        "import numpy as np\n",
        "from sklearn.model_selection import train_test_split\n",
        "from sklearn.metrics import accuracy_score\n",
        "from sklearn.metrics import classification_report\n",
        "from sklearn.metrics import confusion_matrix\n",
        "from keras.utils.vis_utils import plot_model\n",
        "from collections import Counter\n",
        "import matplotlib.pyplot as plt\n",
        "from sklearn.metrics import precision_score\n",
        "from sklearn.metrics import recall_score\n",
        "from sklearn.metrics import f1_score\n",
        "from sklearn.metrics import cohen_kappa_score\n",
        "from sklearn.metrics import roc_auc_score\n",
        "from sklearn.metrics import confusion_matrix\n",
        "from keras.callbacks import ModelCheckpoint\n",
        "from sklearn import preprocessing\n",
        "from keras.models import load_model\n",
        "import seaborn as sns\n",
        "from imblearn.over_sampling import RandomOverSampler"
      ],
      "execution_count": 31,
      "outputs": [
        {
          "output_type": "stream",
          "text": [
            "[nltk_data] Downloading package stopwords to /root/nltk_data...\n",
            "[nltk_data]   Package stopwords is already up-to-date!\n",
            "[nltk_data] Downloading package punkt to /root/nltk_data...\n",
            "[nltk_data]   Package punkt is already up-to-date!\n"
          ],
          "name": "stdout"
        }
      ]
    },
    {
      "cell_type": "code",
      "metadata": {
        "colab": {
          "base_uri": "https://localhost:8080/",
          "height": 212
        },
        "id": "5qCKfVjSXC62",
        "outputId": "e2db7c9c-4ea2-49ba-99a0-31f7833192b8"
      },
      "source": [
        "#data loading\n",
        "data=pd.read_csv(\"/content/drive/MyDrive/IIIT_MIDAS/flipkart_com-ecommerce_sample.csv\", encoding= 'unicode_escape')\n",
        "print(len(data))\n",
        "data.head()"
      ],
      "execution_count": 32,
      "outputs": [
        {
          "output_type": "stream",
          "text": [
            "20000\n"
          ],
          "name": "stdout"
        },
        {
          "output_type": "execute_result",
          "data": {
            "text/html": [
              "<div>\n",
              "<style scoped>\n",
              "    .dataframe tbody tr th:only-of-type {\n",
              "        vertical-align: middle;\n",
              "    }\n",
              "\n",
              "    .dataframe tbody tr th {\n",
              "        vertical-align: top;\n",
              "    }\n",
              "\n",
              "    .dataframe thead th {\n",
              "        text-align: right;\n",
              "    }\n",
              "</style>\n",
              "<table border=\"1\" class=\"dataframe\">\n",
              "  <thead>\n",
              "    <tr style=\"text-align: right;\">\n",
              "      <th></th>\n",
              "      <th>product_category_tree</th>\n",
              "      <th>description</th>\n",
              "      <th>brand</th>\n",
              "    </tr>\n",
              "  </thead>\n",
              "  <tbody>\n",
              "    <tr>\n",
              "      <th>0</th>\n",
              "      <td>[\"Clothing &gt;&gt; Women's Clothing &gt;&gt; Lingerie, Sl...</td>\n",
              "      <td>Key Features of Alisha Solid Women's Cycling S...</td>\n",
              "      <td>Alisha</td>\n",
              "    </tr>\n",
              "    <tr>\n",
              "      <th>1</th>\n",
              "      <td>[\"Furniture &gt;&gt; Living Room Furniture &gt;&gt; Sofa B...</td>\n",
              "      <td>FabHomeDecor Fabric Double Sofa Bed (Finish Co...</td>\n",
              "      <td>FabHomeDecor</td>\n",
              "    </tr>\n",
              "    <tr>\n",
              "      <th>2</th>\n",
              "      <td>[\"Footwear &gt;&gt; Women's Footwear &gt;&gt; Ballerinas &gt;...</td>\n",
              "      <td>Key Features of AW Bellies Sandals Wedges Heel...</td>\n",
              "      <td>AW</td>\n",
              "    </tr>\n",
              "    <tr>\n",
              "      <th>3</th>\n",
              "      <td>[\"Clothing &gt;&gt; Women's Clothing &gt;&gt; Lingerie, Sl...</td>\n",
              "      <td>Key Features of Alisha Solid Women's Cycling S...</td>\n",
              "      <td>Alisha</td>\n",
              "    </tr>\n",
              "    <tr>\n",
              "      <th>4</th>\n",
              "      <td>[\"Pet Supplies &gt;&gt; Grooming &gt;&gt; Skin &amp; Coat Care...</td>\n",
              "      <td>Specifications of Sicons All Purpose Arnica Do...</td>\n",
              "      <td>Sicons</td>\n",
              "    </tr>\n",
              "  </tbody>\n",
              "</table>\n",
              "</div>"
            ],
            "text/plain": [
              "                               product_category_tree  ...         brand\n",
              "0  [\"Clothing >> Women's Clothing >> Lingerie, Sl...  ...        Alisha\n",
              "1  [\"Furniture >> Living Room Furniture >> Sofa B...  ...  FabHomeDecor\n",
              "2  [\"Footwear >> Women's Footwear >> Ballerinas >...  ...            AW\n",
              "3  [\"Clothing >> Women's Clothing >> Lingerie, Sl...  ...        Alisha\n",
              "4  [\"Pet Supplies >> Grooming >> Skin & Coat Care...  ...        Sicons\n",
              "\n",
              "[5 rows x 3 columns]"
            ]
          },
          "metadata": {
            "tags": []
          },
          "execution_count": 32
        }
      ]
    },
    {
      "cell_type": "code",
      "metadata": {
        "colab": {
          "base_uri": "https://localhost:8080/",
          "height": 194
        },
        "id": "vQXVquHsXnhN",
        "outputId": "6145ba45-5ea6-43d1-af93-b1d7578c5bed"
      },
      "source": [
        "#Text Cleaning and Preprocessing\n",
        "category=[]\n",
        "description=[]\n",
        "for i in range(len(data)):\n",
        "  if type(data['description'][i]) == str :\n",
        "    category.append(data[\"product_category_tree\"][i].split('>>')[0][2:-1])\n",
        "    des = re.sub('[^a-zA-Z]', ' ', data['description'][i])\n",
        "    des = re.sub('[/(){}\\[\\]\\|@,.;_]', ' ', des)\n",
        "    des = des.lower()\n",
        "    description.append(des) \n",
        "\n",
        "data = pd.DataFrame()\n",
        "data[\"category\"]=category\n",
        "data[\"description\"]=description\n",
        "data.head()    \n"
      ],
      "execution_count": 33,
      "outputs": [
        {
          "output_type": "execute_result",
          "data": {
            "text/html": [
              "<div>\n",
              "<style scoped>\n",
              "    .dataframe tbody tr th:only-of-type {\n",
              "        vertical-align: middle;\n",
              "    }\n",
              "\n",
              "    .dataframe tbody tr th {\n",
              "        vertical-align: top;\n",
              "    }\n",
              "\n",
              "    .dataframe thead th {\n",
              "        text-align: right;\n",
              "    }\n",
              "</style>\n",
              "<table border=\"1\" class=\"dataframe\">\n",
              "  <thead>\n",
              "    <tr style=\"text-align: right;\">\n",
              "      <th></th>\n",
              "      <th>category</th>\n",
              "      <th>description</th>\n",
              "    </tr>\n",
              "  </thead>\n",
              "  <tbody>\n",
              "    <tr>\n",
              "      <th>0</th>\n",
              "      <td>Clothing</td>\n",
              "      <td>key features of alisha solid women s cycling s...</td>\n",
              "    </tr>\n",
              "    <tr>\n",
              "      <th>1</th>\n",
              "      <td>Furniture</td>\n",
              "      <td>fabhomedecor fabric double sofa bed  finish co...</td>\n",
              "    </tr>\n",
              "    <tr>\n",
              "      <th>2</th>\n",
              "      <td>Footwear</td>\n",
              "      <td>key features of aw bellies sandals wedges heel...</td>\n",
              "    </tr>\n",
              "    <tr>\n",
              "      <th>3</th>\n",
              "      <td>Clothing</td>\n",
              "      <td>key features of alisha solid women s cycling s...</td>\n",
              "    </tr>\n",
              "    <tr>\n",
              "      <th>4</th>\n",
              "      <td>Pet Supplies</td>\n",
              "      <td>specifications of sicons all purpose arnica do...</td>\n",
              "    </tr>\n",
              "  </tbody>\n",
              "</table>\n",
              "</div>"
            ],
            "text/plain": [
              "       category                                        description\n",
              "0      Clothing  key features of alisha solid women s cycling s...\n",
              "1     Furniture  fabhomedecor fabric double sofa bed  finish co...\n",
              "2      Footwear  key features of aw bellies sandals wedges heel...\n",
              "3      Clothing  key features of alisha solid women s cycling s...\n",
              "4  Pet Supplies  specifications of sicons all purpose arnica do..."
            ]
          },
          "metadata": {
            "tags": []
          },
          "execution_count": 33
        }
      ]
    },
    {
      "cell_type": "code",
      "metadata": {
        "id": "IR_eHbamvi-1",
        "colab": {
          "base_uri": "https://localhost:8080/",
          "height": 283
        },
        "outputId": "30709d96-82d9-4018-840d-08c435efc051"
      },
      "source": [
        "category_counts= Counter(category)\n",
        "print(f\"Total No. of Categories :\",len(category_counts.keys()))\n",
        "plt.bar(category_counts.keys(),category_counts.values())\n",
        "plt.show() "
      ],
      "execution_count": 34,
      "outputs": [
        {
          "output_type": "stream",
          "text": [
            "Total No. of Categories : 266\n"
          ],
          "name": "stdout"
        },
        {
          "output_type": "display_data",
          "data": {
            "image/png": "[encoded data removed]",
            "text/plain": [
              "<Figure size 432x288 with 1 Axes>"
            ]
          },
          "metadata": {
            "tags": [],
            "needs_background": "light"
          }
        }
      ]
    },
    {
      "cell_type": "code",
      "metadata": {
        "id": "w-PePl27yZ-o"
      },
      "source": [
        "#only keeping the categories with more than 10 samples\n",
        "new_dict={}\n",
        "for key, value in category_counts.items():\n",
        "  if value>10:\n",
        "    new_dict[key]=value\n",
        "#plt.bar(new_dict.keys(),new_dict.values())\n",
        "#plt.show() "
      ],
      "execution_count": 35,
      "outputs": []
    },
    {
      "cell_type": "code",
      "metadata": {
        "id": "-g3KiGUa5Tlo",
        "colab": {
          "base_uri": "https://localhost:8080/"
        },
        "outputId": "cba759bc-d235-4499-dfab-23c0729574b7"
      },
      "source": [
        "print(\"total categories:\", len(new_dict))\n",
        "new_dict"
      ],
      "execution_count": 36,
      "outputs": [
        {
          "output_type": "stream",
          "text": [
            "total categories: 27\n"
          ],
          "name": "stdout"
        },
        {
          "output_type": "execute_result",
          "data": {
            "text/plain": [
              "{'Automotive': 1012,\n",
              " 'Baby Care': 483,\n",
              " 'Bags, Wallets & Belts': 265,\n",
              " 'Beauty and Personal Care': 710,\n",
              " 'Cameras & Accessories': 82,\n",
              " 'Clothing': 6197,\n",
              " 'Computers': 578,\n",
              " 'Footwear': 1227,\n",
              " 'Furniture': 180,\n",
              " 'Gaming': 35,\n",
              " 'Health & Personal Care Appliances': 43,\n",
              " 'Home & Kitchen': 24,\n",
              " 'Home Decor & Festive Needs': 929,\n",
              " 'Home Entertainment': 19,\n",
              " 'Home Furnishing': 699,\n",
              " 'Home Improvement': 81,\n",
              " 'Jewellery': 3531,\n",
              " 'Kitchen & Dining': 647,\n",
              " 'Mobiles & Accessories': 1099,\n",
              " 'Pens & Stationery': 313,\n",
              " 'Pet Supplies': 30,\n",
              " 'Sports & Fitness': 166,\n",
              " 'Sunglasses': 35,\n",
              " 'Tools & Hardware': 391,\n",
              " 'Toys & School Supplies': 330,\n",
              " 'Watches': 530,\n",
              " 'eBooks': 15}"
            ]
          },
          "metadata": {
            "tags": []
          },
          "execution_count": 36
        }
      ]
    },
    {
      "cell_type": "code",
      "metadata": {
        "id": "Xk0V1AMitU4d",
        "colab": {
          "base_uri": "https://localhost:8080/",
          "height": 194
        },
        "outputId": "98094dcf-51eb-4081-ad7d-038933d0789f"
      },
      "source": [
        "new_description=[]\n",
        "new_category=[]\n",
        "for i in range(len(description)):\n",
        "  if category[i] in new_dict.keys():\n",
        "    new_description.append(description[i])\n",
        "    new_category.append(category[i])\n",
        "    \n",
        "new_df=pd.DataFrame()\n",
        "new_df[\"description\"]=new_description\n",
        "new_df[\"category\"]=new_category\n",
        "new_df.head()"
      ],
      "execution_count": 37,
      "outputs": [
        {
          "output_type": "execute_result",
          "data": {
            "text/html": [
              "<div>\n",
              "<style scoped>\n",
              "    .dataframe tbody tr th:only-of-type {\n",
              "        vertical-align: middle;\n",
              "    }\n",
              "\n",
              "    .dataframe tbody tr th {\n",
              "        vertical-align: top;\n",
              "    }\n",
              "\n",
              "    .dataframe thead th {\n",
              "        text-align: right;\n",
              "    }\n",
              "</style>\n",
              "<table border=\"1\" class=\"dataframe\">\n",
              "  <thead>\n",
              "    <tr style=\"text-align: right;\">\n",
              "      <th></th>\n",
              "      <th>description</th>\n",
              "      <th>category</th>\n",
              "    </tr>\n",
              "  </thead>\n",
              "  <tbody>\n",
              "    <tr>\n",
              "      <th>0</th>\n",
              "      <td>key features of alisha solid women s cycling s...</td>\n",
              "      <td>Clothing</td>\n",
              "    </tr>\n",
              "    <tr>\n",
              "      <th>1</th>\n",
              "      <td>fabhomedecor fabric double sofa bed  finish co...</td>\n",
              "      <td>Furniture</td>\n",
              "    </tr>\n",
              "    <tr>\n",
              "      <th>2</th>\n",
              "      <td>key features of aw bellies sandals wedges heel...</td>\n",
              "      <td>Footwear</td>\n",
              "    </tr>\n",
              "    <tr>\n",
              "      <th>3</th>\n",
              "      <td>key features of alisha solid women s cycling s...</td>\n",
              "      <td>Clothing</td>\n",
              "    </tr>\n",
              "    <tr>\n",
              "      <th>4</th>\n",
              "      <td>specifications of sicons all purpose arnica do...</td>\n",
              "      <td>Pet Supplies</td>\n",
              "    </tr>\n",
              "  </tbody>\n",
              "</table>\n",
              "</div>"
            ],
            "text/plain": [
              "                                         description      category\n",
              "0  key features of alisha solid women s cycling s...      Clothing\n",
              "1  fabhomedecor fabric double sofa bed  finish co...     Furniture\n",
              "2  key features of aw bellies sandals wedges heel...      Footwear\n",
              "3  key features of alisha solid women s cycling s...      Clothing\n",
              "4  specifications of sicons all purpose arnica do...  Pet Supplies"
            ]
          },
          "metadata": {
            "tags": []
          },
          "execution_count": 37
        }
      ]
    },
    {
      "cell_type": "code",
      "metadata": {
        "id": "aqefxHEOctc8",
        "colab": {
          "base_uri": "https://localhost:8080/",
          "height": 194
        },
        "outputId": "44359214-3b1c-439e-ec84-8232418b758a"
      },
      "source": [
        "lab_enc = preprocessing.LabelEncoder()\n",
        "lab_enc.fit(new_df.category)\n",
        "new_df['categorical_label'] = lab_enc.transform(new_df.category)\n",
        "new_df.head()"
      ],
      "execution_count": 38,
      "outputs": [
        {
          "output_type": "execute_result",
          "data": {
            "text/html": [
              "<div>\n",
              "<style scoped>\n",
              "    .dataframe tbody tr th:only-of-type {\n",
              "        vertical-align: middle;\n",
              "    }\n",
              "\n",
              "    .dataframe tbody tr th {\n",
              "        vertical-align: top;\n",
              "    }\n",
              "\n",
              "    .dataframe thead th {\n",
              "        text-align: right;\n",
              "    }\n",
              "</style>\n",
              "<table border=\"1\" class=\"dataframe\">\n",
              "  <thead>\n",
              "    <tr style=\"text-align: right;\">\n",
              "      <th></th>\n",
              "      <th>description</th>\n",
              "      <th>category</th>\n",
              "      <th>categorical_label</th>\n",
              "    </tr>\n",
              "  </thead>\n",
              "  <tbody>\n",
              "    <tr>\n",
              "      <th>0</th>\n",
              "      <td>key features of alisha solid women s cycling s...</td>\n",
              "      <td>Clothing</td>\n",
              "      <td>5</td>\n",
              "    </tr>\n",
              "    <tr>\n",
              "      <th>1</th>\n",
              "      <td>fabhomedecor fabric double sofa bed  finish co...</td>\n",
              "      <td>Furniture</td>\n",
              "      <td>8</td>\n",
              "    </tr>\n",
              "    <tr>\n",
              "      <th>2</th>\n",
              "      <td>key features of aw bellies sandals wedges heel...</td>\n",
              "      <td>Footwear</td>\n",
              "      <td>7</td>\n",
              "    </tr>\n",
              "    <tr>\n",
              "      <th>3</th>\n",
              "      <td>key features of alisha solid women s cycling s...</td>\n",
              "      <td>Clothing</td>\n",
              "      <td>5</td>\n",
              "    </tr>\n",
              "    <tr>\n",
              "      <th>4</th>\n",
              "      <td>specifications of sicons all purpose arnica do...</td>\n",
              "      <td>Pet Supplies</td>\n",
              "      <td>20</td>\n",
              "    </tr>\n",
              "  </tbody>\n",
              "</table>\n",
              "</div>"
            ],
            "text/plain": [
              "                                         description  ... categorical_label\n",
              "0  key features of alisha solid women s cycling s...  ...                 5\n",
              "1  fabhomedecor fabric double sofa bed  finish co...  ...                 8\n",
              "2  key features of aw bellies sandals wedges heel...  ...                 7\n",
              "3  key features of alisha solid women s cycling s...  ...                 5\n",
              "4  specifications of sicons all purpose arnica do...  ...                20\n",
              "\n",
              "[5 rows x 3 columns]"
            ]
          },
          "metadata": {
            "tags": []
          },
          "execution_count": 38
        }
      ]
    },
    {
      "cell_type": "code",
      "metadata": {
        "colab": {
          "base_uri": "https://localhost:8080/",
          "height": 265
        },
        "id": "38euXFDNcm2r",
        "outputId": "cfca2f70-a53d-4070-b149-350bcacb8960"
      },
      "source": [
        "c=Counter(new_df['categorical_label'])\n",
        "plt.bar(c.keys(),c.values())\n",
        "plt.show() "
      ],
      "execution_count": 39,
      "outputs": [
        {
          "output_type": "display_data",
          "data": {
            "image/png": "[encoded data removed]",
            "text/plain": [
              "<Figure size 432x288 with 1 Axes>"
            ]
          },
          "metadata": {
            "tags": [],
            "needs_background": "light"
          }
        }
      ]
    },
    {
      "cell_type": "code",
      "metadata": {
        "id": "Z4oYjqngCaSg",
        "colab": {
          "base_uri": "https://localhost:8080/",
          "height": 265
        },
        "outputId": "ae2c0fe5-d8d4-42e9-caca-211966709a32"
      },
      "source": [
        "df=new_df[\"description\"]\n",
        "length=[]\n",
        "for i in range(len(df)) :\n",
        "  if type(df[i])==str:\n",
        "    length.append(len(nltk.word_tokenize(df[i])))\n",
        "c= Counter(length)\n",
        "plt.bar(c.keys(),c.values())\n",
        "plt.xlim(0,200)\n",
        "plt.show() "
      ],
      "execution_count": 40,
      "outputs": [
        {
          "output_type": "display_data",
          "data": {
            "image/png": "[encoded data removed]",
            "text/plain": [
              "<Figure size 432x288 with 1 Axes>"
            ]
          },
          "metadata": {
            "tags": [],
            "needs_background": "light"
          }
        }
      ]
    },
    {
      "cell_type": "code",
      "metadata": {
        "id": "yZ9Z2PCdk7B_"
      },
      "source": [
        "X_train, X_test, y_train, y_test = train_test_split(new_df[\"description\"], new_df[\"categorical_label\"], test_size=0.15, random_state=42)\n",
        "#X_test, X_val, y_test, y_val = train_test_split(X_test, y_test, test_size=0.5, random_state=42)"
      ],
      "execution_count": 41,
      "outputs": []
    },
    {
      "cell_type": "code",
      "metadata": {
        "colab": {
          "base_uri": "https://localhost:8080/"
        },
        "id": "OGgEtF6-cLxH",
        "outputId": "56425c99-3863-46eb-f54f-ebb77fad9ca5"
      },
      "source": [
        "strategy={0:2500,1:2500,2:2500,3:2500,4:2500,5:5500,6:2500,7:2500,8:2500,9:2500,10:2500,11:2500,12:2500,13:2500,14:2500,15:2500,16:4000,17:2500,18:2500,19:2500,20:2500,21:2500,22:2500,23:2500,24:2500,25:2500,26:2500}\n",
        "Rand_over_sampling = RandomOverSampler(sampling_strategy=strategy)\n",
        "X_train, y_train = Rand_over_sampling.fit_resample(np.array(X_train).reshape(-1,1), y_train)"
      ],
      "execution_count": 42,
      "outputs": [
        {
          "output_type": "stream",
          "text": [
            "/usr/local/lib/python3.7/dist-packages/imblearn/utils/_validation.py:257: UserWarning: After over-sampling, the number of samples (5500) in class 5 will be larger than the number of samples in the majority class (class #5 -> 5298)\n",
            "  n_samples_majority))\n",
            "/usr/local/lib/python3.7/dist-packages/sklearn/utils/deprecation.py:87: FutureWarning: Function safe_indexing is deprecated; safe_indexing is deprecated in version 0.22 and will be removed in version 0.24.\n",
            "  warnings.warn(msg, category=FutureWarning)\n"
          ],
          "name": "stderr"
        }
      ]
    },
    {
      "cell_type": "code",
      "metadata": {
        "colab": {
          "base_uri": "https://localhost:8080/",
          "height": 265
        },
        "id": "v5OQepyrg46B",
        "outputId": "f70e8c20-3ad3-4106-9e33-319aa365a18a"
      },
      "source": [
        "c=Counter(y_train)\n",
        "plt.bar(c.keys(),c.values())\n",
        "plt.show() "
      ],
      "execution_count": 43,
      "outputs": [
        {
          "output_type": "display_data",
          "data": {
            "image/png": "[encoded data removed]",
            "text/plain": [
              "<Figure size 432x288 with 1 Axes>"
            ]
          },
          "metadata": {
            "tags": [],
            "needs_background": "light"
          }
        }
      ]
    },
    {
      "cell_type": "code",
      "metadata": {
        "id": "QEYdhgtYmYrJ"
      },
      "source": [
        "X_train, X_val, y_train, y_val = train_test_split(X_train, y_train, test_size=0.2, random_state=42)"
      ],
      "execution_count": 44,
      "outputs": []
    },
    {
      "cell_type": "code",
      "metadata": {
        "id": "rV9JowD_QEyM",
        "colab": {
          "base_uri": "https://localhost:8080/"
        },
        "outputId": "d2b1c903-5a22-47ec-ec00-a2e1560dde45"
      },
      "source": [
        "sent_length=128\n",
        "tokenizer=Tokenizer()\n",
        "tokenizer.fit_on_texts(X_train.reshape(-1))\n",
        "sequences = tokenizer.texts_to_sequences(X_train.reshape(-1))\n",
        "word_index = tokenizer.word_index\n",
        "voc_size = len(tokenizer.word_index) + 1\n",
        "print(\"Vocabulary Size:\", voc_size)\n",
        "embedded_docs=pad_sequences(sequences,padding='post',maxlen=sent_length)\n",
        "X_train=np.array(embedded_docs)"
      ],
      "execution_count": 45,
      "outputs": [
        {
          "output_type": "stream",
          "text": [
            "Vocabulary Size: 17750\n"
          ],
          "name": "stdout"
        }
      ]
    },
    {
      "cell_type": "code",
      "metadata": {
        "id": "TjrZs-U0XXge"
      },
      "source": [
        "sequences = tokenizer.texts_to_sequences(X_test)\n",
        "embedded_docs=pad_sequences(sequences,padding='post',maxlen=sent_length)\n",
        "X_test=np.array(embedded_docs)    "
      ],
      "execution_count": 46,
      "outputs": []
    },
    {
      "cell_type": "code",
      "metadata": {
        "id": "09jk36PKP0M3"
      },
      "source": [
        "sequences = tokenizer.texts_to_sequences(X_val.reshape(-1))\n",
        "embedded_docs=pad_sequences(sequences,padding='post',maxlen=sent_length)\n",
        "X_val=np.array(embedded_docs)  "
      ],
      "execution_count": 47,
      "outputs": []
    },
    {
      "cell_type": "code",
      "metadata": {
        "id": "9tfCXo3yXhtv",
        "colab": {
          "base_uri": "https://localhost:8080/"
        },
        "outputId": "7c45e01b-c761-4d54-8eb9-706617a74bc9"
      },
      "source": [
        "embedding_vector_features=100\n",
        "input=Input(shape=(sent_length,), name='inputs')\n",
        "x=Embedding(voc_size,embedding_vector_features,input_length=sent_length)(input)\n",
        "x=Bidirectional(LSTM(64))(x)\n",
        "x=BatchNormalization()(x)\n",
        "x=Dense(256,activation='relu')(x)\n",
        "x=Dropout(0.4)(x)\n",
        "truth=Dense(64,activation='relu')(x)\n",
        "truth=Dense(27,activation='softmax',name='truth_')(truth)\n",
        "model1=Model(inputs=input, outputs=truth)\n",
        "model1.compile(loss= 'sparse_categorical_crossentropy', optimizer='adam',metrics=['accuracy'])\n",
        "model1.summary()\n",
        "#plot_model(model1,show_layer_names=True,show_shapes=True)\n",
        "\n",
        "LSTM_save = ModelCheckpoint('/content/drive/MyDrive/IIIT_MIDAS/saved_models/'+'OS_LSTM_27.hdf5', save_best_only=True, monitor='val_loss', mode='min')"
      ],
      "execution_count": 20,
      "outputs": [
        {
          "output_type": "stream",
          "text": [
            "Model: \"model_1\"\n",
            "_________________________________________________________________\n",
            "Layer (type)                 Output Shape              Param #   \n",
            "=================================================================\n",
            "inputs (InputLayer)          [(None, 128)]             0         \n",
            "_________________________________________________________________\n",
            "embedding_1 (Embedding)      (None, 128, 100)          1772600   \n",
            "_________________________________________________________________\n",
            "bidirectional_1 (Bidirection (None, 128)               84480     \n",
            "_________________________________________________________________\n",
            "batch_normalization_1 (Batch (None, 128)               512       \n",
            "_________________________________________________________________\n",
            "dense_2 (Dense)              (None, 256)               33024     \n",
            "_________________________________________________________________\n",
            "dropout_1 (Dropout)          (None, 256)               0         \n",
            "_________________________________________________________________\n",
            "dense_3 (Dense)              (None, 64)                16448     \n",
            "_________________________________________________________________\n",
            "truth_ (Dense)               (None, 27)                1755      \n",
            "=================================================================\n",
            "Total params: 1,908,819\n",
            "Trainable params: 1,908,563\n",
            "Non-trainable params: 256\n",
            "_________________________________________________________________\n"
          ],
          "name": "stdout"
        }
      ]
    },
    {
      "cell_type": "code",
      "metadata": {
        "id": "1ZWlut5MecqO",
        "colab": {
          "base_uri": "https://localhost:8080/"
        },
        "outputId": "985635c9-53b4-4e79-b629-94e58e568a72"
      },
      "source": [
        "model1.fit(x=X_train, y=y_train, validation_data=(X_val,y_val), callbacks=LSTM_save, batch_size=64, epochs=4)"
      ],
      "execution_count": 21,
      "outputs": [
        {
          "output_type": "stream",
          "text": [
            "Epoch 1/4\n",
            "900/900 [==============================] - 88s 94ms/step - loss: 0.8138 - accuracy: 0.7831 - val_loss: 0.0341 - val_accuracy: 0.9908\n",
            "Epoch 2/4\n",
            "900/900 [==============================] - 84s 93ms/step - loss: 0.0210 - accuracy: 0.9935 - val_loss: 0.0262 - val_accuracy: 0.9937\n",
            "Epoch 3/4\n",
            "900/900 [==============================] - 84s 93ms/step - loss: 0.0213 - accuracy: 0.9931 - val_loss: 0.0356 - val_accuracy: 0.9910\n",
            "Epoch 4/4\n",
            "900/900 [==============================] - 84s 93ms/step - loss: 0.0281 - accuracy: 0.9913 - val_loss: 0.0333 - val_accuracy: 0.9917\n"
          ],
          "name": "stdout"
        },
        {
          "output_type": "execute_result",
          "data": {
            "text/plain": [
              "<tensorflow.python.keras.callbacks.History at 0x7facd0010250>"
            ]
          },
          "metadata": {
            "tags": []
          },
          "execution_count": 21
        }
      ]
    },
    {
      "cell_type": "code",
      "metadata": {
        "id": "yZFupwZYh8PK",
        "colab": {
          "base_uri": "https://localhost:8080/"
        },
        "outputId": "7baf592c-8e03-4386-d201-d8739025551a"
      },
      "source": [
        "print(\"FOR LSTM MODEL\")\n",
        "saved_model=load_model('/content/drive/MyDrive/IIIT_MIDAS/saved_models/'+'OS_LSTM_27.hdf5')\n",
        "y_prob = saved_model.predict(X_test)\n",
        "y_pred = np.argmax(y_prob,axis=1)\n",
        "accuracy = accuracy_score(y_test, y_pred)\n",
        "print('Accuracy: %f' % accuracy)\n",
        "precision = precision_score(y_test, y_pred, average='macro')\n",
        "print('Precision: %f' % precision)\n",
        "recall = recall_score(y_test, y_pred,average='macro')\n",
        "print('Recall: %f' % recall)\n",
        "f1 = f1_score(y_test, y_pred,average='macro')\n",
        "print('F1 score: %f' % f1)"
      ],
      "execution_count": 22,
      "outputs": [
        {
          "output_type": "stream",
          "text": [
            "FOR LSTM MODEL\n",
            "Accuracy: 0.951153\n",
            "Precision: 0.820101\n",
            "Recall: 0.798510\n",
            "F1 score: 0.805993\n"
          ],
          "name": "stdout"
        }
      ]
    },
    {
      "cell_type": "code",
      "metadata": {
        "id": "zmO1dPXq_nCP",
        "colab": {
          "base_uri": "https://localhost:8080/",
          "height": 641
        },
        "outputId": "d41bae7e-e728-43e1-9673-ceac3a4ea024"
      },
      "source": [
        "conf_mat = confusion_matrix(lab_enc.inverse_transform(y_test), lab_enc.inverse_transform(y_pred))\n",
        "fig, ax = plt.subplots(figsize=(10,10))\n",
        "sns.heatmap(conf_mat, annot=True, cmap=\"Blues\", fmt='d')\n",
        "plt.ylabel('Actual')\n",
        "plt.xlabel('Predicted')\n",
        "plt.title(\"CONFUSION MATRIX - LSTM MODEL\", size=16)"
      ],
      "execution_count": 23,
      "outputs": [
        {
          "output_type": "execute_result",
          "data": {
            "text/plain": [
              "Text(0.5, 1.0, 'CONFUSION MATRIX - LSTM MODEL')"
            ]
          },
          "metadata": {
            "tags": []
          },
          "execution_count": 23
        },
        {
          "output_type": "display_data",
          "data": {
            "image/png": "[encoded data removed]",
            "text/plain": [
              "<Figure size 720x720 with 2 Axes>"
            ]
          },
          "metadata": {
            "tags": [],
            "needs_background": "light"
          }
        }
      ]
    },
    {
      "cell_type": "code",
      "metadata": {
        "id": "LsGTVWrfh0dF",
        "colab": {
          "base_uri": "https://localhost:8080/"
        },
        "outputId": "e630fb9b-5bae-4bbe-b9a4-208ccc024ca3"
      },
      "source": [
        "input=Input(shape=(sent_length,), name='inputs')\n",
        "x=Embedding(voc_size,embedding_vector_features,input_length=sent_length)(input)\n",
        "x=Conv1D(128, 5, padding='same', activation='relu' )(x)\n",
        "x=MaxPooling1D(pool_size=2,strides=None)(x)\n",
        "x=BatchNormalization()(x)\n",
        "x=Flatten()(x)\n",
        "x=Dense(256,activation='relu')(x)\n",
        "x=Dropout(0.4)(x)\n",
        "truth=Dense(64,activation='relu')(x)\n",
        "truth=Dense(27,activation='softmax',name='truth_')(truth)\n",
        "model2=Model(inputs=input, outputs=truth)\n",
        "model2.compile(loss= 'sparse_categorical_crossentropy', optimizer='adam',metrics=['accuracy'])\n",
        "model2.summary()\n",
        "#plot_model(model3,show_layer_names=True,show_shapes=True)\n",
        "\n",
        "CNN_save = ModelCheckpoint('/content/drive/MyDrive/IIIT_MIDAS/saved_models/'+'OS_CNN_27.hdf5', save_best_only=True, monitor='val_loss', mode='min')\n"
      ],
      "execution_count": 24,
      "outputs": [
        {
          "output_type": "stream",
          "text": [
            "Model: \"model_2\"\n",
            "_________________________________________________________________\n",
            "Layer (type)                 Output Shape              Param #   \n",
            "=================================================================\n",
            "inputs (InputLayer)          [(None, 128)]             0         \n",
            "_________________________________________________________________\n",
            "embedding_2 (Embedding)      (None, 128, 100)          1772600   \n",
            "_________________________________________________________________\n",
            "conv1d (Conv1D)              (None, 128, 128)          64128     \n",
            "_________________________________________________________________\n",
            "max_pooling1d (MaxPooling1D) (None, 64, 128)           0         \n",
            "_________________________________________________________________\n",
            "batch_normalization_2 (Batch (None, 64, 128)           512       \n",
            "_________________________________________________________________\n",
            "flatten (Flatten)            (None, 8192)              0         \n",
            "_________________________________________________________________\n",
            "dense_4 (Dense)              (None, 256)               2097408   \n",
            "_________________________________________________________________\n",
            "dropout_2 (Dropout)          (None, 256)               0         \n",
            "_________________________________________________________________\n",
            "dense_5 (Dense)              (None, 64)                16448     \n",
            "_________________________________________________________________\n",
            "truth_ (Dense)               (None, 27)                1755      \n",
            "=================================================================\n",
            "Total params: 3,952,851\n",
            "Trainable params: 3,952,595\n",
            "Non-trainable params: 256\n",
            "_________________________________________________________________\n"
          ],
          "name": "stdout"
        }
      ]
    },
    {
      "cell_type": "code",
      "metadata": {
        "id": "hCGhVzVnoJlW",
        "colab": {
          "base_uri": "https://localhost:8080/"
        },
        "outputId": "019734e4-c376-4bd1-fe6c-1bc7af6614b9"
      },
      "source": [
        "model2.fit(x=X_train, y=y_train, validation_data=(X_val,y_val), callbacks=CNN_save, batch_size=64, epochs =5)"
      ],
      "execution_count": 25,
      "outputs": [
        {
          "output_type": "stream",
          "text": [
            "Epoch 1/5\n",
            "900/900 [==============================] - 31s 33ms/step - loss: 0.7372 - accuracy: 0.8031 - val_loss: 0.0269 - val_accuracy: 0.9924\n",
            "Epoch 2/5\n",
            "900/900 [==============================] - 29s 32ms/step - loss: 0.0177 - accuracy: 0.9944 - val_loss: 0.0247 - val_accuracy: 0.9938\n",
            "Epoch 3/5\n",
            "900/900 [==============================] - 29s 32ms/step - loss: 0.0320 - accuracy: 0.9907 - val_loss: 0.0342 - val_accuracy: 0.9929\n",
            "Epoch 4/5\n",
            "900/900 [==============================] - 28s 31ms/step - loss: 0.0380 - accuracy: 0.9901 - val_loss: 0.0263 - val_accuracy: 0.9953\n",
            "Epoch 5/5\n",
            "900/900 [==============================] - 29s 32ms/step - loss: 0.0188 - accuracy: 0.9951 - val_loss: 0.0253 - val_accuracy: 0.9931\n"
          ],
          "name": "stdout"
        },
        {
          "output_type": "execute_result",
          "data": {
            "text/plain": [
              "<tensorflow.python.keras.callbacks.History at 0x7fac23210c10>"
            ]
          },
          "metadata": {
            "tags": []
          },
          "execution_count": 25
        }
      ]
    },
    {
      "cell_type": "code",
      "metadata": {
        "id": "KZhdb125oxvo",
        "colab": {
          "base_uri": "https://localhost:8080/"
        },
        "outputId": "c27e0a71-8b61-4a72-cc72-e0f332c5e2f7"
      },
      "source": [
        "print(\"FOR CNN MODEL\")\n",
        "saved_model=load_model('/content/drive/MyDrive/IIIT_MIDAS/saved_models/'+'OS_CNN_27.hdf5')\n",
        "y_prob = saved_model.predict(X_test)\n",
        "y_pred = np.argmax(y_prob,axis=1)\n",
        "accuracy = accuracy_score(y_test, y_pred)\n",
        "print('Accuracy: %f' % accuracy)\n",
        "precision = precision_score(y_test, y_pred, average='macro')\n",
        "print('Precision: %f' % precision)\n",
        "recall = recall_score(y_test, y_pred,average='macro')\n",
        "print('Recall: %f' % recall)\n",
        "f1 = f1_score(y_test, y_pred,average='macro')\n",
        "print('F1 score: %f' % f1)"
      ],
      "execution_count": 26,
      "outputs": [
        {
          "output_type": "stream",
          "text": [
            "FOR CNN MODEL\n",
            "Accuracy: 0.960312\n",
            "Precision: 0.808049\n",
            "Recall: 0.772137\n",
            "F1 score: 0.784594\n"
          ],
          "name": "stdout"
        },
        {
          "output_type": "stream",
          "text": [
            "/usr/local/lib/python3.7/dist-packages/sklearn/metrics/_classification.py:1272: UndefinedMetricWarning: Precision is ill-defined and being set to 0.0 in labels with no predicted samples. Use `zero_division` parameter to control this behavior.\n",
            "  _warn_prf(average, modifier, msg_start, len(result))\n"
          ],
          "name": "stderr"
        }
      ]
    },
    {
      "cell_type": "code",
      "metadata": {
        "id": "mAJdOb2QI34S",
        "colab": {
          "base_uri": "https://localhost:8080/",
          "height": 641
        },
        "outputId": "1c42679e-bab1-495d-a298-1add3498edec"
      },
      "source": [
        "conf_mat = confusion_matrix(lab_enc.inverse_transform(y_test), lab_enc.inverse_transform(y_pred))\n",
        "fig, ax = plt.subplots(figsize=(10,10))\n",
        "sns.heatmap(conf_mat, annot=True, cmap=\"Blues\", fmt='d')\n",
        "plt.ylabel('Actual')\n",
        "plt.xlabel('Predicted')\n",
        "plt.title(\"CONFUSION MATRIX - CNN MODEL\", size=16)"
      ],
      "execution_count": 28,
      "outputs": [
        {
          "output_type": "execute_result",
          "data": {
            "text/plain": [
              "Text(0.5, 1.0, 'CONFUSION MATRIX - CNN MODEL')"
            ]
          },
          "metadata": {
            "tags": []
          },
          "execution_count": 28
        },
        {
          "output_type": "display_data",
          "data": {
            "image/png": "[encoded data removed]",
            "text/plain": [
              "<Figure size 720x720 with 2 Axes>"
            ]
          },
          "metadata": {
            "tags": [],
            "needs_background": "light"
          }
        }
      ]
    },
    {
      "cell_type": "code",
      "metadata": {
        "id": "ryi2lakII_nX",
        "colab": {
          "base_uri": "https://localhost:8080/"
        },
        "outputId": "b9c867f0-d726-44cf-a98f-822b00e2cdc3"
      },
      "source": [
        "input=Input(shape=(sent_length,), name='inputs')\n",
        "x=Embedding(voc_size,embedding_vector_features,input_length=sent_length)(input)\n",
        "x=Conv1D(128, 5, padding='same', activation='relu' )(x)\n",
        "x=MaxPooling1D(pool_size=2,strides=None)(x)\n",
        "x=Bidirectional(LSTM(64))(x)\n",
        "x=BatchNormalization()(x)\n",
        "x=Flatten()(x)\n",
        "x=Dense(256,activation='relu')(x)\n",
        "x=Dropout(0.4)(x)\n",
        "truth=Dense(64,activation='relu')(x)\n",
        "truth=Dense(27,activation='softmax',name='truth_')(truth)\n",
        "model3=Model(inputs=input, outputs=truth)\n",
        "model3.compile(loss= 'sparse_categorical_crossentropy', optimizer='adam',metrics=['accuracy'])\n",
        "model3.summary()\n",
        "#plot_model(model5,show_layer_names=True,show_shapes=True)\n",
        "\n",
        "CNN_LSTM_save = ModelCheckpoint('/content/drive/MyDrive/IIIT_MIDAS/saved_models/'+'OS_CNN_LSTM_27.hdf5', save_best_only=True, monitor='val_loss', mode='min')\n"
      ],
      "execution_count": 48,
      "outputs": [
        {
          "output_type": "stream",
          "text": [
            "Model: \"model_4\"\n",
            "_________________________________________________________________\n",
            "Layer (type)                 Output Shape              Param #   \n",
            "=================================================================\n",
            "inputs (InputLayer)          [(None, 128)]             0         \n",
            "_________________________________________________________________\n",
            "embedding_4 (Embedding)      (None, 128, 100)          1775000   \n",
            "_________________________________________________________________\n",
            "conv1d_2 (Conv1D)            (None, 128, 128)          64128     \n",
            "_________________________________________________________________\n",
            "max_pooling1d_2 (MaxPooling1 (None, 64, 128)           0         \n",
            "_________________________________________________________________\n",
            "bidirectional_3 (Bidirection (None, 128)               98816     \n",
            "_________________________________________________________________\n",
            "batch_normalization_4 (Batch (None, 128)               512       \n",
            "_________________________________________________________________\n",
            "flatten_2 (Flatten)          (None, 128)               0         \n",
            "_________________________________________________________________\n",
            "dense_8 (Dense)              (None, 256)               33024     \n",
            "_________________________________________________________________\n",
            "dropout_4 (Dropout)          (None, 256)               0         \n",
            "_________________________________________________________________\n",
            "dense_9 (Dense)              (None, 64)                16448     \n",
            "_________________________________________________________________\n",
            "truth_ (Dense)               (None, 27)                1755      \n",
            "=================================================================\n",
            "Total params: 1,989,683\n",
            "Trainable params: 1,989,427\n",
            "Non-trainable params: 256\n",
            "_________________________________________________________________\n"
          ],
          "name": "stdout"
        }
      ]
    },
    {
      "cell_type": "code",
      "metadata": {
        "id": "N-9zg27oKrBr",
        "colab": {
          "base_uri": "https://localhost:8080/"
        },
        "outputId": "145fc27d-b412-4ec8-86e3-99a4871de434"
      },
      "source": [
        "model3.fit(x=X_train, y=y_train, validation_data=(X_val,y_val), callbacks=CNN_LSTM_save, batch_size=64, epochs =5)"
      ],
      "execution_count": null,
      "outputs": [
        {
          "output_type": "stream",
          "text": [
            "Epoch 1/5\n",
            "900/900 [==============================] - 68s 72ms/step - loss: 0.7193 - accuracy: 0.8071 - val_loss: 0.0254 - val_accuracy: 0.9924\n",
            "Epoch 2/5\n",
            "900/900 [==============================] - 64s 71ms/step - loss: 0.0222 - accuracy: 0.9935 - val_loss: 0.0197 - val_accuracy: 0.9946\n",
            "Epoch 3/5\n",
            "900/900 [==============================] - 64s 71ms/step - loss: 0.0270 - accuracy: 0.9918 - val_loss: 0.0375 - val_accuracy: 0.9910\n",
            "Epoch 4/5\n",
            "900/900 [==============================] - 64s 71ms/step - loss: 0.0180 - accuracy: 0.9946 - val_loss: 0.0195 - val_accuracy: 0.9953\n",
            "Epoch 5/5\n",
            "495/900 [===============>..............] - ETA: 27s - loss: 0.0117 - accuracy: 0.9957"
          ],
          "name": "stdout"
        }
      ]
    },
    {
      "cell_type": "code",
      "metadata": {
        "id": "RBzAW-tsKyJ1",
        "colab": {
          "base_uri": "https://localhost:8080/",
          "height": 657
        },
        "outputId": "cb6bb48c-b4ea-453b-dc78-6ae48a6782c4"
      },
      "source": [
        "print(\"FOR CNN LSTM MODEL\")\n",
        "saved_model=load_model('/content/drive/MyDrive/IIIT_MIDAS/saved_models/'+'OS_CNN_LSTM_27.hdf5')\n",
        "y_prob = saved_model.predict(X_test)\n",
        "yhat_classes = np.argmax(y_prob,axis=1)\n",
        "conf_mat = confusion_matrix(lab_enc.inverse_transform(y_test), lab_enc.inverse_transform(yhat_classes))\n",
        "fig, ax = plt.subplots(figsize=(10,10))\n",
        "sns.heatmap(conf_mat, annot=True, cmap=\"Blues\", fmt='d')\n",
        "plt.ylabel('Actual')\n",
        "plt.xlabel('Predicted')\n",
        "plt.title(\"CONFUSION MATRIX - IRIS DATASET\", size=16)"
      ],
      "execution_count": null,
      "outputs": [
        {
          "output_type": "stream",
          "text": [
            "FOR CNN LSTM MODEL\n"
          ],
          "name": "stdout"
        },
        {
          "output_type": "execute_result",
          "data": {
            "text/plain": [
              "Text(0.5, 1.0, 'CONFUSION MATRIX - IRIS DATASET')"
            ]
          },
          "metadata": {
            "tags": []
          },
          "execution_count": 83
        },
        {
          "output_type": "display_data",
          "data": {
            "image/png": "[encoded data removed]",
            "text/plain": [
              "<Figure size 720x720 with 2 Axes>"
            ]
          },
          "metadata": {
            "tags": [],
            "needs_background": "light"
          }
        }
      ]
    },
    {
      "cell_type": "code",
      "metadata": {
        "id": "2BpNuSrbLMov",
        "colab": {
          "base_uri": "https://localhost:8080/"
        },
        "outputId": "b3e9212a-bb6f-4898-e23f-87fbf8839768"
      },
      "source": [
        "from sklearn.metrics import classification_report\n",
        "print(classification_report(y_test,yhat_classes))"
      ],
      "execution_count": null,
      "outputs": [
        {
          "output_type": "stream",
          "text": [
            "              precision    recall  f1-score   support\n",
            "\n",
            "           0       0.99      0.96      0.98       147\n",
            "           1       0.90      0.75      0.82        76\n",
            "           2       0.91      0.91      0.91        45\n",
            "           3       0.98      0.95      0.96       112\n",
            "           4       0.67      0.91      0.77        11\n",
            "           5       0.98      0.99      0.99       899\n",
            "           6       1.00      0.91      0.95        96\n",
            "           7       1.00      0.98      0.99       195\n",
            "           8       0.80      1.00      0.89        24\n",
            "           9       1.00      0.86      0.92         7\n",
            "          10       0.83      0.62      0.71         8\n",
            "          11       0.00      0.00      0.00         4\n",
            "          12       0.94      0.99      0.96       139\n",
            "          13       0.20      0.67      0.31         3\n",
            "          14       0.97      0.93      0.95       104\n",
            "          15       1.00      0.78      0.88         9\n",
            "          16       0.99      0.99      0.99       529\n",
            "          17       0.96      0.96      0.96       105\n",
            "          18       0.94      0.97      0.95       167\n",
            "          19       0.70      0.73      0.71        41\n",
            "          20       1.00      0.80      0.89         5\n",
            "          21       0.88      0.88      0.88        25\n",
            "          22       1.00      0.80      0.89        10\n",
            "          23       0.92      0.94      0.93        52\n",
            "          24       0.73      0.77      0.75        52\n",
            "          25       1.00      1.00      1.00        81\n",
            "          26       0.00      0.00      0.00         2\n",
            "\n",
            "    accuracy                           0.96      2948\n",
            "   macro avg       0.83      0.82      0.81      2948\n",
            "weighted avg       0.96      0.96      0.96      2948\n",
            "\n"
          ],
          "name": "stdout"
        },
        {
          "output_type": "stream",
          "text": [
            "/usr/local/lib/python3.7/dist-packages/sklearn/metrics/_classification.py:1272: UndefinedMetricWarning: Precision and F-score are ill-defined and being set to 0.0 in labels with no predicted samples. Use `zero_division` parameter to control this behavior.\n",
            "  _warn_prf(average, modifier, msg_start, len(result))\n"
          ],
          "name": "stderr"
        }
      ]
    },
    {
      "cell_type": "code",
      "metadata": {
        "id": "9IOeo85iLPvH"
      },
      "source": [
        ""
      ],
      "execution_count": null,
      "outputs": []
    }
  ]
}