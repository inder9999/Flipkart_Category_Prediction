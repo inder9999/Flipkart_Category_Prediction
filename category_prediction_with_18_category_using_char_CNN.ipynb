{
  "nbformat": 4,
  "nbformat_minor": 0,
  "metadata": {
    "accelerator": "GPU",
    "colab": {
      "name": "char_level_CNN.ipynb",
      "provenance": [],
      "collapsed_sections": []
    },
    "kernelspec": {
      "display_name": "Python 3",
      "name": "python3"
    },
    "language_info": {
      "name": "python"
    }
  },
  "cells": [
    {
      "cell_type": "code",
      "metadata": {
        "colab": {
          "base_uri": "https://localhost:8080/"
        },
        "id": "6XPxALyWv9Up",
        "outputId": "54bbc259-ecbd-425e-e23e-4f954e0213da"
      },
      "source": [
        "import keras\n",
        "from keras.layers import Embedding\n",
        "from keras.preprocessing.sequence import pad_sequences\n",
        "from keras.models import Sequential\n",
        "from keras.preprocessing.text import Tokenizer\n",
        "from keras.preprocessing.text import one_hot\n",
        "from keras.layers import LSTM\n",
        "from keras.layers import GRU\n",
        "from keras.layers import Dense\n",
        "from keras.layers import Input\n",
        "from keras.layers import Bidirectional\n",
        "from keras.layers import Dropout\n",
        "from keras.layers import concatenate\n",
        "from keras.layers import Flatten\n",
        "from keras.layers import Conv1D\n",
        "from keras.layers import Conv2D\n",
        "from keras.layers import MaxPooling1D\n",
        "from keras.layers import BatchNormalization\n",
        "from keras.models import Model\n",
        "from keras.layers import LeakyReLU\n",
        "from keras.layers import Lambda\n",
        "from keras.layers import Activation\n",
        "from keras.layers import Multiply\n",
        "import pandas as pd\n",
        "import nltk\n",
        "from nltk import tokenize\n",
        "import re\n",
        "from nltk.corpus import stopwords\n",
        "nltk.download('stopwords')\n",
        "nltk.download('punkt')\n",
        "from nltk.stem.porter import PorterStemmer\n",
        "import numpy as np\n",
        "from sklearn.model_selection import train_test_split\n",
        "from sklearn.metrics import accuracy_score\n",
        "from sklearn.metrics import classification_report\n",
        "from sklearn.metrics import confusion_matrix\n",
        "from keras.utils.vis_utils import plot_model\n",
        "from collections import Counter\n",
        "import matplotlib.pyplot as plt\n",
        "from sklearn.metrics import precision_score\n",
        "from sklearn.metrics import recall_score\n",
        "from sklearn.metrics import f1_score\n",
        "from sklearn.metrics import cohen_kappa_score\n",
        "from sklearn.metrics import roc_auc_score\n",
        "from sklearn.metrics import confusion_matrix\n",
        "from keras.callbacks import ModelCheckpoint\n",
        "from sklearn import preprocessing\n",
        "from keras.models import load_model\n",
        "import seaborn as sns"
      ],
      "execution_count": 2,
      "outputs": [
        {
          "output_type": "stream",
          "text": [
            "[nltk_data] Downloading package stopwords to /root/nltk_data...\n",
            "[nltk_data]   Unzipping corpora/stopwords.zip.\n",
            "[nltk_data] Downloading package punkt to /root/nltk_data...\n",
            "[nltk_data]   Unzipping tokenizers/punkt.zip.\n"
          ],
          "name": "stdout"
        }
      ]
    },
    {
      "cell_type": "code",
      "metadata": {
        "colab": {
          "base_uri": "https://localhost:8080/",
          "height": 212
        },
        "id": "7ltXbOcnzvNQ",
        "outputId": "55531f0f-221d-4dd0-cd20-e4a94a601b4e"
      },
      "source": [
        "data=pd.read_csv(\"/content/drive/MyDrive/IIIT_MIDAS/flipkart_com-ecommerce_sample.csv\", encoding= 'unicode_escape')\n",
        "print(len(data))\n",
        "data.head()"
      ],
      "execution_count": 3,
      "outputs": [
        {
          "output_type": "stream",
          "text": [
            "20000\n"
          ],
          "name": "stdout"
        },
        {
          "output_type": "execute_result",
          "data": {
            "text/html": [
              "<div>\n",
              "<style scoped>\n",
              "    .dataframe tbody tr th:only-of-type {\n",
              "        vertical-align: middle;\n",
              "    }\n",
              "\n",
              "    .dataframe tbody tr th {\n",
              "        vertical-align: top;\n",
              "    }\n",
              "\n",
              "    .dataframe thead th {\n",
              "        text-align: right;\n",
              "    }\n",
              "</style>\n",
              "<table border=\"1\" class=\"dataframe\">\n",
              "  <thead>\n",
              "    <tr style=\"text-align: right;\">\n",
              "      <th></th>\n",
              "      <th>product_category_tree</th>\n",
              "      <th>description</th>\n",
              "      <th>brand</th>\n",
              "    </tr>\n",
              "  </thead>\n",
              "  <tbody>\n",
              "    <tr>\n",
              "      <th>0</th>\n",
              "      <td>[\"Clothing &gt;&gt; Women's Clothing &gt;&gt; Lingerie, Sl...</td>\n",
              "      <td>Key Features of Alisha Solid Women's Cycling S...</td>\n",
              "      <td>Alisha</td>\n",
              "    </tr>\n",
              "    <tr>\n",
              "      <th>1</th>\n",
              "      <td>[\"Furniture &gt;&gt; Living Room Furniture &gt;&gt; Sofa B...</td>\n",
              "      <td>FabHomeDecor Fabric Double Sofa Bed (Finish Co...</td>\n",
              "      <td>FabHomeDecor</td>\n",
              "    </tr>\n",
              "    <tr>\n",
              "      <th>2</th>\n",
              "      <td>[\"Footwear &gt;&gt; Women's Footwear &gt;&gt; Ballerinas &gt;...</td>\n",
              "      <td>Key Features of AW Bellies Sandals Wedges Heel...</td>\n",
              "      <td>AW</td>\n",
              "    </tr>\n",
              "    <tr>\n",
              "      <th>3</th>\n",
              "      <td>[\"Clothing &gt;&gt; Women's Clothing &gt;&gt; Lingerie, Sl...</td>\n",
              "      <td>Key Features of Alisha Solid Women's Cycling S...</td>\n",
              "      <td>Alisha</td>\n",
              "    </tr>\n",
              "    <tr>\n",
              "      <th>4</th>\n",
              "      <td>[\"Pet Supplies &gt;&gt; Grooming &gt;&gt; Skin &amp; Coat Care...</td>\n",
              "      <td>Specifications of Sicons All Purpose Arnica Do...</td>\n",
              "      <td>Sicons</td>\n",
              "    </tr>\n",
              "  </tbody>\n",
              "</table>\n",
              "</div>"
            ],
            "text/plain": [
              "                               product_category_tree  ...         brand\n",
              "0  [\"Clothing >> Women's Clothing >> Lingerie, Sl...  ...        Alisha\n",
              "1  [\"Furniture >> Living Room Furniture >> Sofa B...  ...  FabHomeDecor\n",
              "2  [\"Footwear >> Women's Footwear >> Ballerinas >...  ...            AW\n",
              "3  [\"Clothing >> Women's Clothing >> Lingerie, Sl...  ...        Alisha\n",
              "4  [\"Pet Supplies >> Grooming >> Skin & Coat Care...  ...        Sicons\n",
              "\n",
              "[5 rows x 3 columns]"
            ]
          },
          "metadata": {
            "tags": []
          },
          "execution_count": 3
        }
      ]
    },
    {
      "cell_type": "code",
      "metadata": {
        "id": "ZwV6ik0xzxUs"
      },
      "source": [
        "category=[]\n",
        "description=[]\n",
        "for i in range(len(data)):\n",
        "  if type(data['description'][i]) == str :\n",
        "    category.append(data[\"product_category_tree\"][i].split('>>')[0][2:-1])\n",
        "    description.append(data['description'][i]) \n"
      ],
      "execution_count": 4,
      "outputs": []
    },
    {
      "cell_type": "code",
      "metadata": {
        "colab": {
          "base_uri": "https://localhost:8080/",
          "height": 195
        },
        "id": "d1d4Ayts0wu1",
        "outputId": "9134d7e7-4f16-4e7b-d83c-7a517d542c33"
      },
      "source": [
        "data = pd.DataFrame()\n",
        "data[\"category\"]=category\n",
        "data[\"description\"]=description\n",
        "data.head()    \n"
      ],
      "execution_count": 6,
      "outputs": [
        {
          "output_type": "execute_result",
          "data": {
            "text/html": [
              "<div>\n",
              "<style scoped>\n",
              "    .dataframe tbody tr th:only-of-type {\n",
              "        vertical-align: middle;\n",
              "    }\n",
              "\n",
              "    .dataframe tbody tr th {\n",
              "        vertical-align: top;\n",
              "    }\n",
              "\n",
              "    .dataframe thead th {\n",
              "        text-align: right;\n",
              "    }\n",
              "</style>\n",
              "<table border=\"1\" class=\"dataframe\">\n",
              "  <thead>\n",
              "    <tr style=\"text-align: right;\">\n",
              "      <th></th>\n",
              "      <th>category</th>\n",
              "      <th>description</th>\n",
              "    </tr>\n",
              "  </thead>\n",
              "  <tbody>\n",
              "    <tr>\n",
              "      <th>0</th>\n",
              "      <td>Clothing</td>\n",
              "      <td>Key Features of Alisha Solid Women's Cycling S...</td>\n",
              "    </tr>\n",
              "    <tr>\n",
              "      <th>1</th>\n",
              "      <td>Furniture</td>\n",
              "      <td>FabHomeDecor Fabric Double Sofa Bed (Finish Co...</td>\n",
              "    </tr>\n",
              "    <tr>\n",
              "      <th>2</th>\n",
              "      <td>Footwear</td>\n",
              "      <td>Key Features of AW Bellies Sandals Wedges Heel...</td>\n",
              "    </tr>\n",
              "    <tr>\n",
              "      <th>3</th>\n",
              "      <td>Clothing</td>\n",
              "      <td>Key Features of Alisha Solid Women's Cycling S...</td>\n",
              "    </tr>\n",
              "    <tr>\n",
              "      <th>4</th>\n",
              "      <td>Pet Supplies</td>\n",
              "      <td>Specifications of Sicons All Purpose Arnica Do...</td>\n",
              "    </tr>\n",
              "  </tbody>\n",
              "</table>\n",
              "</div>"
            ],
            "text/plain": [
              "       category                                        description\n",
              "0      Clothing  Key Features of Alisha Solid Women's Cycling S...\n",
              "1     Furniture  FabHomeDecor Fabric Double Sofa Bed (Finish Co...\n",
              "2      Footwear  Key Features of AW Bellies Sandals Wedges Heel...\n",
              "3      Clothing  Key Features of Alisha Solid Women's Cycling S...\n",
              "4  Pet Supplies  Specifications of Sicons All Purpose Arnica Do..."
            ]
          },
          "metadata": {
            "tags": []
          },
          "execution_count": 6
        }
      ]
    },
    {
      "cell_type": "code",
      "metadata": {
        "colab": {
          "base_uri": "https://localhost:8080/",
          "height": 282
        },
        "id": "kSqOuRWB2H_D",
        "outputId": "d6e0ed56-5978-4c54-bd83-18cd5a56ba91"
      },
      "source": [
        "category_counts= Counter(category)\n",
        "print(f\"Total No. of Categories :\",len(category_counts.keys()))\n",
        "plt.bar(category_counts.keys(),category_counts.values())\n",
        "plt.show() "
      ],
      "execution_count": 7,
      "outputs": [
        {
          "output_type": "stream",
          "text": [
            "Total No. of Categories : 266\n"
          ],
          "name": "stdout"
        },
        {
          "output_type": "display_data",
          "data": {
            "image/png": "[encoded data removed]",
            "text/plain": [
              "<Figure size 432x288 with 1 Axes>"
            ]
          },
          "metadata": {
            "tags": [],
            "needs_background": "light"
          }
        }
      ]
    },
    {
      "cell_type": "code",
      "metadata": {
        "colab": {
          "base_uri": "https://localhost:8080/",
          "height": 265
        },
        "id": "Gz8UckjC0x63",
        "outputId": "68e506bf-9487-4529-ced2-e73f22ccae3f"
      },
      "source": [
        "new_dict={}\n",
        "for key, value in category_counts.items():\n",
        "  if value>100:\n",
        "    new_dict[key]=value\n",
        "plt.bar(new_dict.keys(),new_dict.values())\n",
        "plt.show() "
      ],
      "execution_count": 8,
      "outputs": [
        {
          "output_type": "display_data",
          "data": {
            "image/png": "[encoded data removed]",
            "text/plain": [
              "<Figure size 432x288 with 1 Axes>"
            ]
          },
          "metadata": {
            "tags": [],
            "needs_background": "light"
          }
        }
      ]
    },
    {
      "cell_type": "code",
      "metadata": {
        "colab": {
          "base_uri": "https://localhost:8080/",
          "height": 195
        },
        "id": "FrJ9vm1U2EGT",
        "outputId": "bd915564-d69d-4a10-edd8-0848d88c7ec7"
      },
      "source": [
        "new_description=[]\n",
        "new_category=[]\n",
        "for i in range(len(description)):\n",
        "  if category[i] in new_dict.keys():\n",
        "    new_description.append(description[i])\n",
        "    new_category.append(category[i])\n",
        "    \n",
        "new_df=pd.DataFrame()\n",
        "new_df[\"description\"]=new_description\n",
        "new_df[\"category\"]=new_category\n",
        "new_df.head()"
      ],
      "execution_count": 9,
      "outputs": [
        {
          "output_type": "execute_result",
          "data": {
            "text/html": [
              "<div>\n",
              "<style scoped>\n",
              "    .dataframe tbody tr th:only-of-type {\n",
              "        vertical-align: middle;\n",
              "    }\n",
              "\n",
              "    .dataframe tbody tr th {\n",
              "        vertical-align: top;\n",
              "    }\n",
              "\n",
              "    .dataframe thead th {\n",
              "        text-align: right;\n",
              "    }\n",
              "</style>\n",
              "<table border=\"1\" class=\"dataframe\">\n",
              "  <thead>\n",
              "    <tr style=\"text-align: right;\">\n",
              "      <th></th>\n",
              "      <th>description</th>\n",
              "      <th>category</th>\n",
              "    </tr>\n",
              "  </thead>\n",
              "  <tbody>\n",
              "    <tr>\n",
              "      <th>0</th>\n",
              "      <td>Key Features of Alisha Solid Women's Cycling S...</td>\n",
              "      <td>Clothing</td>\n",
              "    </tr>\n",
              "    <tr>\n",
              "      <th>1</th>\n",
              "      <td>FabHomeDecor Fabric Double Sofa Bed (Finish Co...</td>\n",
              "      <td>Furniture</td>\n",
              "    </tr>\n",
              "    <tr>\n",
              "      <th>2</th>\n",
              "      <td>Key Features of AW Bellies Sandals Wedges Heel...</td>\n",
              "      <td>Footwear</td>\n",
              "    </tr>\n",
              "    <tr>\n",
              "      <th>3</th>\n",
              "      <td>Key Features of Alisha Solid Women's Cycling S...</td>\n",
              "      <td>Clothing</td>\n",
              "    </tr>\n",
              "    <tr>\n",
              "      <th>4</th>\n",
              "      <td>Key Features of Alisha Solid Women's Cycling S...</td>\n",
              "      <td>Clothing</td>\n",
              "    </tr>\n",
              "  </tbody>\n",
              "</table>\n",
              "</div>"
            ],
            "text/plain": [
              "                                         description   category\n",
              "0  Key Features of Alisha Solid Women's Cycling S...   Clothing\n",
              "1  FabHomeDecor Fabric Double Sofa Bed (Finish Co...  Furniture\n",
              "2  Key Features of AW Bellies Sandals Wedges Heel...   Footwear\n",
              "3  Key Features of Alisha Solid Women's Cycling S...   Clothing\n",
              "4  Key Features of Alisha Solid Women's Cycling S...   Clothing"
            ]
          },
          "metadata": {
            "tags": []
          },
          "execution_count": 9
        }
      ]
    },
    {
      "cell_type": "code",
      "metadata": {
        "colab": {
          "base_uri": "https://localhost:8080/",
          "height": 195
        },
        "id": "WbxwJGYK2Sgu",
        "outputId": "3165e273-875e-493d-cec7-b4f3c150369b"
      },
      "source": [
        "lab_enc = preprocessing.LabelEncoder()\n",
        "lab_enc.fit(new_df.category)\n",
        "new_df['categorical_label'] = lab_enc.transform(new_df.category)\n",
        "new_df.head()"
      ],
      "execution_count": 10,
      "outputs": [
        {
          "output_type": "execute_result",
          "data": {
            "text/html": [
              "<div>\n",
              "<style scoped>\n",
              "    .dataframe tbody tr th:only-of-type {\n",
              "        vertical-align: middle;\n",
              "    }\n",
              "\n",
              "    .dataframe tbody tr th {\n",
              "        vertical-align: top;\n",
              "    }\n",
              "\n",
              "    .dataframe thead th {\n",
              "        text-align: right;\n",
              "    }\n",
              "</style>\n",
              "<table border=\"1\" class=\"dataframe\">\n",
              "  <thead>\n",
              "    <tr style=\"text-align: right;\">\n",
              "      <th></th>\n",
              "      <th>description</th>\n",
              "      <th>category</th>\n",
              "      <th>categorical_label</th>\n",
              "    </tr>\n",
              "  </thead>\n",
              "  <tbody>\n",
              "    <tr>\n",
              "      <th>0</th>\n",
              "      <td>Key Features of Alisha Solid Women's Cycling S...</td>\n",
              "      <td>Clothing</td>\n",
              "      <td>4</td>\n",
              "    </tr>\n",
              "    <tr>\n",
              "      <th>1</th>\n",
              "      <td>FabHomeDecor Fabric Double Sofa Bed (Finish Co...</td>\n",
              "      <td>Furniture</td>\n",
              "      <td>7</td>\n",
              "    </tr>\n",
              "    <tr>\n",
              "      <th>2</th>\n",
              "      <td>Key Features of AW Bellies Sandals Wedges Heel...</td>\n",
              "      <td>Footwear</td>\n",
              "      <td>6</td>\n",
              "    </tr>\n",
              "    <tr>\n",
              "      <th>3</th>\n",
              "      <td>Key Features of Alisha Solid Women's Cycling S...</td>\n",
              "      <td>Clothing</td>\n",
              "      <td>4</td>\n",
              "    </tr>\n",
              "    <tr>\n",
              "      <th>4</th>\n",
              "      <td>Key Features of Alisha Solid Women's Cycling S...</td>\n",
              "      <td>Clothing</td>\n",
              "      <td>4</td>\n",
              "    </tr>\n",
              "  </tbody>\n",
              "</table>\n",
              "</div>"
            ],
            "text/plain": [
              "                                         description  ... categorical_label\n",
              "0  Key Features of Alisha Solid Women's Cycling S...  ...                 4\n",
              "1  FabHomeDecor Fabric Double Sofa Bed (Finish Co...  ...                 7\n",
              "2  Key Features of AW Bellies Sandals Wedges Heel...  ...                 6\n",
              "3  Key Features of Alisha Solid Women's Cycling S...  ...                 4\n",
              "4  Key Features of Alisha Solid Women's Cycling S...  ...                 4\n",
              "\n",
              "[5 rows x 3 columns]"
            ]
          },
          "metadata": {
            "tags": []
          },
          "execution_count": 10
        }
      ]
    },
    {
      "cell_type": "code",
      "metadata": {
        "id": "kVM6rajd2VdE"
      },
      "source": [
        "X_train, X_test, y_train, y_test = train_test_split(new_description, np.array(new_df[\"categorical_label\"]), test_size=0.3, random_state=42)\n",
        "X_test, X_val, y_test, y_val = train_test_split(X_test, y_test, test_size=0.5, random_state=42)\n"
      ],
      "execution_count": 11,
      "outputs": []
    },
    {
      "cell_type": "code",
      "metadata": {
        "id": "X6ob-5cL-Lb7"
      },
      "source": [
        "chartokenizer = Tokenizer(num_words=None, char_level=True, oov_token='UNK')\n",
        "chartokenizer.fit_on_texts(X_train)"
      ],
      "execution_count": 12,
      "outputs": []
    },
    {
      "cell_type": "code",
      "metadata": {
        "colab": {
          "base_uri": "https://localhost:8080/"
        },
        "id": "SDtQ1HDtNfRW",
        "outputId": "b723603b-a528-4080-9c1f-13d4e1da94f7"
      },
      "source": [
        "chartokenizer.word_index"
      ],
      "execution_count": 13,
      "outputs": [
        {
          "output_type": "execute_result",
          "data": {
            "text/plain": [
              "{'\\t': 28,\n",
              " '\\n': 32,\n",
              " ' ': 2,\n",
              " '!': 48,\n",
              " '\"': 51,\n",
              " '#': 56,\n",
              " '%': 52,\n",
              " '&': 49,\n",
              " \"'\": 38,\n",
              " '(': 44,\n",
              " ')': 43,\n",
              " '*': 55,\n",
              " '+': 60,\n",
              " ',': 26,\n",
              " '-': 29,\n",
              " '.': 22,\n",
              " '/': 50,\n",
              " '0': 27,\n",
              " '1': 30,\n",
              " '2': 35,\n",
              " '3': 33,\n",
              " '4': 39,\n",
              " '5': 36,\n",
              " '6': 45,\n",
              " '7': 47,\n",
              " '8': 42,\n",
              " '9': 31,\n",
              " ':': 34,\n",
              " ';': 59,\n",
              " '=': 62,\n",
              " '>': 92,\n",
              " '?': 58,\n",
              " '@': 64,\n",
              " 'UNK': 1,\n",
              " '[': 76,\n",
              " '\\\\': 84,\n",
              " ']': 75,\n",
              " '_': 53,\n",
              " '`': 83,\n",
              " 'a': 4,\n",
              " 'b': 21,\n",
              " 'c': 12,\n",
              " 'd': 13,\n",
              " 'e': 3,\n",
              " 'f': 17,\n",
              " 'g': 20,\n",
              " 'h': 14,\n",
              " 'i': 8,\n",
              " 'j': 40,\n",
              " 'k': 24,\n",
              " 'l': 11,\n",
              " 'm': 18,\n",
              " 'n': 9,\n",
              " 'o': 5,\n",
              " 'p': 15,\n",
              " 'q': 46,\n",
              " 'r': 7,\n",
              " 's': 10,\n",
              " 't': 6,\n",
              " 'u': 16,\n",
              " 'v': 25,\n",
              " 'w': 23,\n",
              " 'x': 37,\n",
              " 'y': 19,\n",
              " 'z': 41,\n",
              " '{': 81,\n",
              " '|': 63,\n",
              " '}': 82,\n",
              " '~': 79,\n",
              " '\\x80': 72,\n",
              " '\\x85': 69,\n",
              " '\\x91': 80,\n",
              " '\\x92': 57,\n",
              " '\\x93': 67,\n",
              " '\\x94': 66,\n",
              " '\\x95': 61,\n",
              " '\\x96': 68,\n",
              " '\\x97': 87,\n",
              " '\\x99': 77,\n",
              " '\\x9c': 90,\n",
              " '\\x9d': 91,\n",
              " '\\xa0': 54,\n",
              " '¡': 78,\n",
              " '¢': 73,\n",
              " '®': 74,\n",
              " '¯': 85,\n",
              " '°': 70,\n",
              " '±': 95,\n",
              " '·': 88,\n",
              " 'º': 96,\n",
              " '¾': 94,\n",
              " 'â': 71,\n",
              " 'ã': 86,\n",
              " 'è': 89,\n",
              " 'é': 65,\n",
              " 'ñ': 93}"
            ]
          },
          "metadata": {
            "tags": []
          },
          "execution_count": 13
        }
      ]
    },
    {
      "cell_type": "code",
      "metadata": {
        "id": "FgIeT6DF-WLj"
      },
      "source": [
        "# Convert string to index\n",
        "X_train = chartokenizer.texts_to_sequences(X_train)\n",
        "X_val = chartokenizer.texts_to_sequences(X_val)\n",
        "X_test = chartokenizer.texts_to_sequences(X_test)\n",
        "\n"
      ],
      "execution_count": 14,
      "outputs": []
    },
    {
      "cell_type": "code",
      "metadata": {
        "colab": {
          "base_uri": "https://localhost:8080/",
          "height": 265
        },
        "id": "YP8J_xaZ-38e",
        "outputId": "86147699-2c99-496a-946d-1708f132593f"
      },
      "source": [
        "df=X_train\n",
        "length=[]\n",
        "for i in range(len(df)) :\n",
        "  #if len(df[i])!=0:\n",
        "  length.append(len(df[i]))\n",
        "c= Counter(length)\n",
        "plt.bar(c.keys(),c.values())\n",
        "plt.xlim(0,1000)\n",
        "plt.show() "
      ],
      "execution_count": 15,
      "outputs": [
        {
          "output_type": "display_data",
          "data": {
            "image/png": "[encoded data removed]",
            "text/plain": [
              "<Figure size 432x288 with 1 Axes>"
            ]
          },
          "metadata": {
            "tags": [],
            "needs_background": "light"
          }
        }
      ]
    },
    {
      "cell_type": "code",
      "metadata": {
        "id": "lT8JZRBGBLFV"
      },
      "source": [
        "vocab_size=len(chartokenizer.word_index)"
      ],
      "execution_count": 16,
      "outputs": []
    },
    {
      "cell_type": "code",
      "metadata": {
        "id": "mdjJ0CF1-vxR"
      },
      "source": [
        "# Padding\n",
        "X_train = pad_sequences(X_train, maxlen=512, padding='post')\n",
        "X_val = pad_sequences(X_val, maxlen=512, padding='post')\n",
        "X_test = pad_sequences(X_test, maxlen=512, padding='post')\n",
        "\n",
        "# Convert to numpy array\n",
        "X_train = np.array(X_train, dtype='float32')\n",
        "X_val = np.array(X_val, dtype='float32')\n",
        "X_test = np.array(X_test, dtype='float32')"
      ],
      "execution_count": 17,
      "outputs": []
    },
    {
      "cell_type": "code",
      "metadata": {
        "colab": {
          "base_uri": "https://localhost:8080/"
        },
        "id": "3WhcNglkARtF",
        "outputId": "e6d6adba-3c6e-4100-ef88-082fa6d4aede"
      },
      "source": [
        "embeddings_weights = []\n",
        "embeddings_weights.append(np.zeros(vocab_size))\n",
        "\n",
        "for char, i in chartokenizer.word_index.items() :\n",
        "  onehotss = np.zeros(vocab_size)\n",
        "  onehotss[i-1]=1\n",
        "  embeddings_weights.append(onehotss)\n",
        "embeddings_weights = np.array(embeddings_weights)  \n",
        "print(embeddings_weights)"
      ],
      "execution_count": 19,
      "outputs": [
        {
          "output_type": "stream",
          "text": [
            "[[0. 0. 0. ... 0. 0. 0.]\n",
            " [1. 0. 0. ... 0. 0. 0.]\n",
            " [0. 1. 0. ... 0. 0. 0.]\n",
            " ...\n",
            " [0. 0. 0. ... 1. 0. 0.]\n",
            " [0. 0. 0. ... 0. 1. 0.]\n",
            " [0. 0. 0. ... 0. 0. 1.]]\n"
          ],
          "name": "stdout"
        }
      ]
    },
    {
      "cell_type": "code",
      "metadata": {
        "colab": {
          "base_uri": "https://localhost:8080/"
        },
        "id": "vI9Ofe_fC-rg",
        "outputId": "6a1d87a7-9bc7-4034-f959-7723ad44849a"
      },
      "source": [
        "model = keras.Sequential()\n",
        "model.add(Input(shape=(512,)))\n",
        "model.add(Embedding(vocab_size+1,vocab_size,input_length=512,weights=[embeddings_weights]))\n",
        "n_filters=[128,256,256]\n",
        "filter_size=[9,7,5]\n",
        "for i in range(3):\n",
        "  model.add(Conv1D(n_filters[i],filter_size[i],padding='same',activation='relu'))\n",
        "  model.add(BatchNormalization())\n",
        "  #model.add(Conv1D(n_filters[i],filter_size[i],padding='same',activation='relu'))\n",
        "  #model.add(BatchNormalization())\n",
        "  model.add(MaxPooling1D(3))\n",
        "model.add(Flatten())\n",
        "model.add(Dense(1024,activation='relu'))\n",
        "model.add(Dropout(0.4)) \n",
        "model.add(Dense(256,activation='relu'))\n",
        "model.add(Dropout(0.4))\n",
        "model.add(Dense(18,activation='softmax'))\n",
        "model.compile(optimizer='adam',loss='sparse_categorical_crossentropy',metrics=['accuracy'])  \n",
        "model.summary()"
      ],
      "execution_count": 41,
      "outputs": [
        {
          "output_type": "stream",
          "text": [
            "Model: \"sequential_8\"\n",
            "_________________________________________________________________\n",
            "Layer (type)                 Output Shape              Param #   \n",
            "=================================================================\n",
            "embedding_8 (Embedding)      (None, 512, 96)           9312      \n",
            "_________________________________________________________________\n",
            "conv1d_27 (Conv1D)           (None, 512, 128)          110720    \n",
            "_________________________________________________________________\n",
            "batch_normalization_27 (Batc (None, 512, 128)          512       \n",
            "_________________________________________________________________\n",
            "max_pooling1d_21 (MaxPooling (None, 170, 128)          0         \n",
            "_________________________________________________________________\n",
            "conv1d_28 (Conv1D)           (None, 170, 256)          229632    \n",
            "_________________________________________________________________\n",
            "batch_normalization_28 (Batc (None, 170, 256)          1024      \n",
            "_________________________________________________________________\n",
            "max_pooling1d_22 (MaxPooling (None, 56, 256)           0         \n",
            "_________________________________________________________________\n",
            "conv1d_29 (Conv1D)           (None, 56, 256)           327936    \n",
            "_________________________________________________________________\n",
            "batch_normalization_29 (Batc (None, 56, 256)           1024      \n",
            "_________________________________________________________________\n",
            "max_pooling1d_23 (MaxPooling (None, 18, 256)           0         \n",
            "_________________________________________________________________\n",
            "flatten_8 (Flatten)          (None, 4608)              0         \n",
            "_________________________________________________________________\n",
            "dense_24 (Dense)             (None, 1024)              4719616   \n",
            "_________________________________________________________________\n",
            "dropout_16 (Dropout)         (None, 1024)              0         \n",
            "_________________________________________________________________\n",
            "dense_25 (Dense)             (None, 256)               262400    \n",
            "_________________________________________________________________\n",
            "dropout_17 (Dropout)         (None, 256)               0         \n",
            "_________________________________________________________________\n",
            "dense_26 (Dense)             (None, 18)                4626      \n",
            "=================================================================\n",
            "Total params: 5,666,802\n",
            "Trainable params: 5,665,522\n",
            "Non-trainable params: 1,280\n",
            "_________________________________________________________________\n"
          ],
          "name": "stdout"
        }
      ]
    },
    {
      "cell_type": "code",
      "metadata": {
        "colab": {
          "base_uri": "https://localhost:8080/"
        },
        "id": "GMBzQu3OC-tu",
        "outputId": "cf535dcb-a906-43aa-a5a0-77cc7e86b38d"
      },
      "source": [
        "model.fit(x=X_train, y=np.array(y_train), validation_data=(X_val,np.array(y_val)), batch_size=64, epochs = 15)"
      ],
      "execution_count": 42,
      "outputs": [
        {
          "output_type": "stream",
          "text": [
            "Epoch 1/15\n",
            "211/211 [==============================] - 8s 31ms/step - loss: 2.6110 - accuracy: 0.3663 - val_loss: 32.9027 - val_accuracy: 0.1959\n",
            "Epoch 2/15\n",
            "211/211 [==============================] - 6s 29ms/step - loss: 1.1207 - accuracy: 0.6625 - val_loss: 28.6009 - val_accuracy: 0.1959\n",
            "Epoch 3/15\n",
            "211/211 [==============================] - 6s 29ms/step - loss: 0.7752 - accuracy: 0.7626 - val_loss: 1.8791 - val_accuracy: 0.6489\n",
            "Epoch 4/15\n",
            "211/211 [==============================] - 6s 30ms/step - loss: 0.4881 - accuracy: 0.8481 - val_loss: 0.5742 - val_accuracy: 0.8369\n",
            "Epoch 5/15\n",
            "211/211 [==============================] - 6s 30ms/step - loss: 0.3764 - accuracy: 0.8855 - val_loss: 0.5060 - val_accuracy: 0.8538\n",
            "Epoch 6/15\n",
            "211/211 [==============================] - 6s 30ms/step - loss: 0.2642 - accuracy: 0.9173 - val_loss: 0.4221 - val_accuracy: 0.8801\n",
            "Epoch 7/15\n",
            "211/211 [==============================] - 6s 30ms/step - loss: 0.1957 - accuracy: 0.9418 - val_loss: 0.5648 - val_accuracy: 0.8556\n",
            "Epoch 8/15\n",
            "211/211 [==============================] - 6s 30ms/step - loss: 0.1762 - accuracy: 0.9464 - val_loss: 0.4278 - val_accuracy: 0.8922\n",
            "Epoch 9/15\n",
            "211/211 [==============================] - 6s 30ms/step - loss: 0.1457 - accuracy: 0.9582 - val_loss: 0.4471 - val_accuracy: 0.9133\n",
            "Epoch 10/15\n",
            "211/211 [==============================] - 6s 30ms/step - loss: 0.1055 - accuracy: 0.9681 - val_loss: 0.3574 - val_accuracy: 0.9292\n",
            "Epoch 11/15\n",
            "211/211 [==============================] - 6s 30ms/step - loss: 0.0784 - accuracy: 0.9756 - val_loss: 0.4774 - val_accuracy: 0.9095\n",
            "Epoch 12/15\n",
            "211/211 [==============================] - 6s 30ms/step - loss: 0.0935 - accuracy: 0.9721 - val_loss: 0.4884 - val_accuracy: 0.9195\n",
            "Epoch 13/15\n",
            "211/211 [==============================] - 6s 30ms/step - loss: 0.0735 - accuracy: 0.9788 - val_loss: 0.4637 - val_accuracy: 0.9229\n",
            "Epoch 14/15\n",
            "211/211 [==============================] - 6s 30ms/step - loss: 0.0797 - accuracy: 0.9753 - val_loss: 0.4397 - val_accuracy: 0.9126\n",
            "Epoch 15/15\n",
            "211/211 [==============================] - 6s 30ms/step - loss: 0.1020 - accuracy: 0.9736 - val_loss: 0.4354 - val_accuracy: 0.9223\n"
          ],
          "name": "stdout"
        },
        {
          "output_type": "execute_result",
          "data": {
            "text/plain": [
              "<tensorflow.python.keras.callbacks.History at 0x7f2590297a10>"
            ]
          },
          "metadata": {
            "tags": []
          },
          "execution_count": 42
        }
      ]
    },
    {
      "cell_type": "code",
      "metadata": {
        "id": "3hZmRxyjY_D1",
        "colab": {
          "base_uri": "https://localhost:8080/"
        },
        "outputId": "e097ecb0-e7bc-4f16-abe7-cb69a159a0e3"
      },
      "source": [
        "#training Char level CNN\n",
        "print('For Char CNN')\n",
        "y=model.predict(X_test)\n",
        "y_pred = np.argmax(y,axis=1)\n",
        "accuracy = accuracy_score(y_test, y_pred)\n",
        "print('Accuracy: %f' % accuracy)\n",
        "precision = precision_score(y_test, y_pred, average='macro')\n",
        "print('Precision: %f' % precision)\n",
        "recall = recall_score(y_test, y_pred,average='macro')\n",
        "print('Recall: %f' % recall)\n",
        "f1 = f1_score(y_test, y_pred,average='macro')\n",
        "print('F1 score: %f' % f1)"
      ],
      "execution_count": 43,
      "outputs": [
        {
          "output_type": "stream",
          "text": [
            "For Char CNN\n",
            "Accuracy: 0.931905\n",
            "Precision: 0.850635\n",
            "Recall: 0.857766\n",
            "F1 score: 0.846252\n"
          ],
          "name": "stdout"
        }
      ]
    },
    {
      "cell_type": "code",
      "metadata": {
        "id": "CjqyQi0DZCMN"
      },
      "source": [
        "description"
      ],
      "execution_count": null,
      "outputs": []
    },
    {
      "cell_type": "code",
      "metadata": {
        "id": "KBoHvXdmC-v5",
        "colab": {
          "base_uri": "https://localhost:8080/",
          "height": 640
        },
        "outputId": "9ac9591a-aafc-42ee-d41e-e266fe182a5c"
      },
      "source": [
        "conf_mat = confusion_matrix(lab_enc.inverse_transform(y_test), lab_enc.inverse_transform(y_pred))\n",
        "fig, ax = plt.subplots(figsize=(10,10))\n",
        "sns.heatmap(conf_mat, annot=True, cmap=\"Blues\", fmt='d')\n",
        "plt.ylabel('Actual')\n",
        "plt.xlabel('Predicted')\n",
        "plt.title(\"CONFUSION MATRIX - char CNN\", size=16)"
      ],
      "execution_count": 44,
      "outputs": [
        {
          "output_type": "execute_result",
          "data": {
            "text/plain": [
              "Text(0.5, 1.0, 'CONFUSION MATRIX - char CNN')"
            ]
          },
          "metadata": {
            "tags": []
          },
          "execution_count": 44
        },
        {
          "output_type": "display_data",
          "data": {
            "image/png": "[encoded data removed]",
            "text/plain": [
              "<Figure size 720x720 with 2 Axes>"
            ]
          },
          "metadata": {
            "tags": [],
            "needs_background": "light"
          }
        }
      ]
    }
  ]
}