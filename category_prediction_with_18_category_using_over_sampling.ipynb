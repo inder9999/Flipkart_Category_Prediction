{
  "nbformat": 4,
  "nbformat_minor": 0,
  "metadata": {
    "colab": {
      "name": "category_prediction_with_18_category_using_over_sampling.ipynb",
      "provenance": []
    },
    "kernelspec": {
      "name": "python3",
      "display_name": "Python 3"
    },
    "language_info": {
      "name": "python"
    },
    "accelerator": "GPU"
  },
  "cells": [
    {
      "cell_type": "code",
      "metadata": {
        "id": "Aa83AQEWV2ys",
        "colab": {
          "base_uri": "https://localhost:8080/"
        },
        "outputId": "874e1a96-a994-4c59-aced-28ed9208c948"
      },
      "source": [
        "from keras.layers import Embedding\n",
        "from keras.preprocessing.sequence import pad_sequences\n",
        "from keras.models import Sequential\n",
        "from keras.preprocessing.text import Tokenizer\n",
        "from keras.preprocessing.text import one_hot\n",
        "from keras.layers import LSTM\n",
        "from keras.layers import GRU\n",
        "from keras.layers import Dense\n",
        "from keras.layers import Input\n",
        "from keras.layers import Bidirectional\n",
        "from keras.layers import Dropout\n",
        "from keras.layers import concatenate\n",
        "from keras.layers import Flatten\n",
        "from keras.layers import Conv1D\n",
        "from keras.layers import Conv2D\n",
        "from keras.layers import MaxPooling1D\n",
        "from keras.layers import BatchNormalization\n",
        "from keras.models import Model\n",
        "from keras.layers import LeakyReLU\n",
        "from keras.layers import Lambda\n",
        "from keras.layers import Activation\n",
        "from keras.layers import Multiply\n",
        "from keras.layers import GlobalAveragePooling1D\n",
        "from keras.layers import GlobalMaxPooling1D\n",
        "import tensorflow as tf\n",
        "from tensorflow import keras\n",
        "from tensorflow.keras import layers\n",
        "import keras\n",
        "import keras.backend as K\n",
        "from keras.models import Sequential\n",
        "from keras.layers import Dense, Dropout, Activation, Reshape, Flatten, LSTM, Dense, Dropout, Embedding, Bidirectional, GRU\n",
        "from keras.optimizers import Adam\n",
        "from keras.layers import AveragePooling1D\n",
        "from keras.layers import TimeDistributed\n",
        "from keras.layers import Reshape\n",
        "import tensorflow as tf\n",
        "from keras.engine.topology import Layer\n",
        "from keras import initializers, regularizers\n",
        "from keras import optimizers\n",
        "from keras.engine.topology import Layer\n",
        "from keras import constraints\n",
        "import pandas as pd\n",
        "import nltk\n",
        "from nltk import tokenize\n",
        "import re\n",
        "from nltk.corpus import stopwords\n",
        "nltk.download('stopwords')\n",
        "nltk.download('punkt')\n",
        "from nltk.stem.porter import PorterStemmer\n",
        "import numpy as np\n",
        "from sklearn.model_selection import train_test_split\n",
        "from sklearn.metrics import accuracy_score\n",
        "from sklearn.metrics import classification_report\n",
        "from sklearn.metrics import confusion_matrix\n",
        "from keras.utils.vis_utils import plot_model\n",
        "from collections import Counter\n",
        "import matplotlib.pyplot as plt\n",
        "from sklearn.metrics import precision_score\n",
        "from sklearn.metrics import recall_score\n",
        "from sklearn.metrics import f1_score\n",
        "from sklearn.metrics import cohen_kappa_score\n",
        "from sklearn.metrics import roc_auc_score\n",
        "from sklearn.metrics import confusion_matrix\n",
        "from keras.callbacks import ModelCheckpoint\n",
        "from sklearn import preprocessing\n",
        "from keras.models import load_model\n",
        "import seaborn as sns"
      ],
      "execution_count": 27,
      "outputs": [
        {
          "output_type": "stream",
          "text": [
            "[nltk_data] Downloading package stopwords to /root/nltk_data...\n",
            "[nltk_data]   Package stopwords is already up-to-date!\n",
            "[nltk_data] Downloading package punkt to /root/nltk_data...\n",
            "[nltk_data]   Package punkt is already up-to-date!\n"
          ],
          "name": "stdout"
        }
      ]
    },
    {
      "cell_type": "code",
      "metadata": {
        "colab": {
          "base_uri": "https://localhost:8080/",
          "height": 212
        },
        "id": "5qCKfVjSXC62",
        "outputId": "0804ca38-439c-48f6-f366-80da6cc7dbf0"
      },
      "source": [
        "#data loading\n",
        "data=pd.read_csv(\"/content/drive/MyDrive/IIIT_MIDAS/flipkart_com-ecommerce_sample.csv\", encoding= 'unicode_escape')\n",
        "print(len(data))\n",
        "data.head()"
      ],
      "execution_count": 2,
      "outputs": [
        {
          "output_type": "stream",
          "text": [
            "20000\n"
          ],
          "name": "stdout"
        },
        {
          "output_type": "execute_result",
          "data": {
            "text/html": [
              "<div>\n",
              "<style scoped>\n",
              "    .dataframe tbody tr th:only-of-type {\n",
              "        vertical-align: middle;\n",
              "    }\n",
              "\n",
              "    .dataframe tbody tr th {\n",
              "        vertical-align: top;\n",
              "    }\n",
              "\n",
              "    .dataframe thead th {\n",
              "        text-align: right;\n",
              "    }\n",
              "</style>\n",
              "<table border=\"1\" class=\"dataframe\">\n",
              "  <thead>\n",
              "    <tr style=\"text-align: right;\">\n",
              "      <th></th>\n",
              "      <th>product_category_tree</th>\n",
              "      <th>description</th>\n",
              "      <th>brand</th>\n",
              "    </tr>\n",
              "  </thead>\n",
              "  <tbody>\n",
              "    <tr>\n",
              "      <th>0</th>\n",
              "      <td>[\"Clothing &gt;&gt; Women's Clothing &gt;&gt; Lingerie, Sl...</td>\n",
              "      <td>Key Features of Alisha Solid Women's Cycling S...</td>\n",
              "      <td>Alisha</td>\n",
              "    </tr>\n",
              "    <tr>\n",
              "      <th>1</th>\n",
              "      <td>[\"Furniture &gt;&gt; Living Room Furniture &gt;&gt; Sofa B...</td>\n",
              "      <td>FabHomeDecor Fabric Double Sofa Bed (Finish Co...</td>\n",
              "      <td>FabHomeDecor</td>\n",
              "    </tr>\n",
              "    <tr>\n",
              "      <th>2</th>\n",
              "      <td>[\"Footwear &gt;&gt; Women's Footwear &gt;&gt; Ballerinas &gt;...</td>\n",
              "      <td>Key Features of AW Bellies Sandals Wedges Heel...</td>\n",
              "      <td>AW</td>\n",
              "    </tr>\n",
              "    <tr>\n",
              "      <th>3</th>\n",
              "      <td>[\"Clothing &gt;&gt; Women's Clothing &gt;&gt; Lingerie, Sl...</td>\n",
              "      <td>Key Features of Alisha Solid Women's Cycling S...</td>\n",
              "      <td>Alisha</td>\n",
              "    </tr>\n",
              "    <tr>\n",
              "      <th>4</th>\n",
              "      <td>[\"Pet Supplies &gt;&gt; Grooming &gt;&gt; Skin &amp; Coat Care...</td>\n",
              "      <td>Specifications of Sicons All Purpose Arnica Do...</td>\n",
              "      <td>Sicons</td>\n",
              "    </tr>\n",
              "  </tbody>\n",
              "</table>\n",
              "</div>"
            ],
            "text/plain": [
              "                               product_category_tree  ...         brand\n",
              "0  [\"Clothing >> Women's Clothing >> Lingerie, Sl...  ...        Alisha\n",
              "1  [\"Furniture >> Living Room Furniture >> Sofa B...  ...  FabHomeDecor\n",
              "2  [\"Footwear >> Women's Footwear >> Ballerinas >...  ...            AW\n",
              "3  [\"Clothing >> Women's Clothing >> Lingerie, Sl...  ...        Alisha\n",
              "4  [\"Pet Supplies >> Grooming >> Skin & Coat Care...  ...        Sicons\n",
              "\n",
              "[5 rows x 3 columns]"
            ]
          },
          "metadata": {
            "tags": []
          },
          "execution_count": 2
        }
      ]
    },
    {
      "cell_type": "code",
      "metadata": {
        "id": "8K8tkj_KzlnM"
      },
      "source": [
        ""
      ],
      "execution_count": null,
      "outputs": []
    },
    {
      "cell_type": "code",
      "metadata": {
        "colab": {
          "base_uri": "https://localhost:8080/",
          "height": 195
        },
        "id": "vQXVquHsXnhN",
        "outputId": "38448557-983e-49a1-bbd1-220bae1a221f"
      },
      "source": [
        "#Text Preprocessing\n",
        "category=[]\n",
        "description=[]\n",
        "for i in range(len(data)):\n",
        "  if type(data['description'][i]) == str :\n",
        "    category.append(data[\"product_category_tree\"][i].split('>>')[0][2:-1])\n",
        "    des = re.sub('[^a-zA-Z]', ' ', data['description'][i])\n",
        "    des = re.sub('[/(){}\\[\\]\\|@,.;_]', ' ', des)\n",
        "    des = des.lower()\n",
        "    description.append(des) \n",
        "\n",
        "data = pd.DataFrame()\n",
        "data[\"category\"]=category\n",
        "data[\"description\"]=description\n",
        "data.head()    \n"
      ],
      "execution_count": 3,
      "outputs": [
        {
          "output_type": "execute_result",
          "data": {
            "text/html": [
              "<div>\n",
              "<style scoped>\n",
              "    .dataframe tbody tr th:only-of-type {\n",
              "        vertical-align: middle;\n",
              "    }\n",
              "\n",
              "    .dataframe tbody tr th {\n",
              "        vertical-align: top;\n",
              "    }\n",
              "\n",
              "    .dataframe thead th {\n",
              "        text-align: right;\n",
              "    }\n",
              "</style>\n",
              "<table border=\"1\" class=\"dataframe\">\n",
              "  <thead>\n",
              "    <tr style=\"text-align: right;\">\n",
              "      <th></th>\n",
              "      <th>category</th>\n",
              "      <th>description</th>\n",
              "    </tr>\n",
              "  </thead>\n",
              "  <tbody>\n",
              "    <tr>\n",
              "      <th>0</th>\n",
              "      <td>Clothing</td>\n",
              "      <td>key features of alisha solid women s cycling s...</td>\n",
              "    </tr>\n",
              "    <tr>\n",
              "      <th>1</th>\n",
              "      <td>Furniture</td>\n",
              "      <td>fabhomedecor fabric double sofa bed  finish co...</td>\n",
              "    </tr>\n",
              "    <tr>\n",
              "      <th>2</th>\n",
              "      <td>Footwear</td>\n",
              "      <td>key features of aw bellies sandals wedges heel...</td>\n",
              "    </tr>\n",
              "    <tr>\n",
              "      <th>3</th>\n",
              "      <td>Clothing</td>\n",
              "      <td>key features of alisha solid women s cycling s...</td>\n",
              "    </tr>\n",
              "    <tr>\n",
              "      <th>4</th>\n",
              "      <td>Pet Supplies</td>\n",
              "      <td>specifications of sicons all purpose arnica do...</td>\n",
              "    </tr>\n",
              "  </tbody>\n",
              "</table>\n",
              "</div>"
            ],
            "text/plain": [
              "       category                                        description\n",
              "0      Clothing  key features of alisha solid women s cycling s...\n",
              "1     Furniture  fabhomedecor fabric double sofa bed  finish co...\n",
              "2      Footwear  key features of aw bellies sandals wedges heel...\n",
              "3      Clothing  key features of alisha solid women s cycling s...\n",
              "4  Pet Supplies  specifications of sicons all purpose arnica do..."
            ]
          },
          "metadata": {
            "tags": []
          },
          "execution_count": 3
        }
      ]
    },
    {
      "cell_type": "code",
      "metadata": {
        "colab": {
          "base_uri": "https://localhost:8080/",
          "height": 282
        },
        "id": "IR_eHbamvi-1",
        "outputId": "cbb0cbd4-db0b-48c7-b90e-0dbc3f361148"
      },
      "source": [
        "category_counts= Counter(category)\n",
        "print(f\"Total No. of Categories :\",len(category_counts.keys()))\n",
        "plt.bar(category_counts.keys(),category_counts.values())\n",
        "plt.show() "
      ],
      "execution_count": 4,
      "outputs": [
        {
          "output_type": "stream",
          "text": [
            "Total No. of Categories : 266\n"
          ],
          "name": "stdout"
        },
        {
          "output_type": "display_data",
          "data": {
            "image/png": "[encoded data removed]",
            "text/plain": [
              "<Figure size 432x288 with 1 Axes>"
            ]
          },
          "metadata": {
            "tags": [],
            "needs_background": "light"
          }
        }
      ]
    },
    {
      "cell_type": "code",
      "metadata": {
        "colab": {
          "base_uri": "https://localhost:8080/",
          "height": 265
        },
        "id": "w-PePl27yZ-o",
        "outputId": "84ec3389-cd7d-45d3-e8ae-1fa72e7f5120"
      },
      "source": [
        "#only keeping the categories with more than 100 samples\n",
        "new_dict={}\n",
        "for key, value in category_counts.items():\n",
        "  if value>100:\n",
        "    new_dict[key]=value\n",
        "plt.bar(new_dict.keys(),new_dict.values())\n",
        "plt.show() "
      ],
      "execution_count": 5,
      "outputs": [
        {
          "output_type": "display_data",
          "data": {
            "image/png": "[encoded data removed]",
            "text/plain": [
              "<Figure size 432x288 with 1 Axes>"
            ]
          },
          "metadata": {
            "tags": [],
            "needs_background": "light"
          }
        }
      ]
    },
    {
      "cell_type": "code",
      "metadata": {
        "colab": {
          "base_uri": "https://localhost:8080/"
        },
        "id": "-g3KiGUa5Tlo",
        "outputId": "13e0d1e8-e61d-4ca6-c44c-8c99f26c4639"
      },
      "source": [
        "new_dict"
      ],
      "execution_count": 6,
      "outputs": [
        {
          "output_type": "execute_result",
          "data": {
            "text/plain": [
              "{'Automotive': 1012,\n",
              " 'Baby Care': 483,\n",
              " 'Bags, Wallets & Belts': 265,\n",
              " 'Beauty and Personal Care': 710,\n",
              " 'Clothing': 6197,\n",
              " 'Computers': 578,\n",
              " 'Footwear': 1227,\n",
              " 'Furniture': 180,\n",
              " 'Home Decor & Festive Needs': 929,\n",
              " 'Home Furnishing': 699,\n",
              " 'Jewellery': 3531,\n",
              " 'Kitchen & Dining': 647,\n",
              " 'Mobiles & Accessories': 1099,\n",
              " 'Pens & Stationery': 313,\n",
              " 'Sports & Fitness': 166,\n",
              " 'Tools & Hardware': 391,\n",
              " 'Toys & School Supplies': 330,\n",
              " 'Watches': 530}"
            ]
          },
          "metadata": {
            "tags": []
          },
          "execution_count": 6
        }
      ]
    },
    {
      "cell_type": "code",
      "metadata": {
        "colab": {
          "base_uri": "https://localhost:8080/",
          "height": 195
        },
        "id": "Xk0V1AMitU4d",
        "outputId": "5e9dad45-6ab1-4dd9-a440-2afb79684848"
      },
      "source": [
        "new_description=[]\n",
        "new_category=[]\n",
        "for i in range(len(description)):\n",
        "  if category[i] in new_dict.keys():\n",
        "    new_description.append(description[i])\n",
        "    new_category.append(category[i])\n",
        "    \n",
        "new_df=pd.DataFrame()\n",
        "new_df[\"description\"]=new_description\n",
        "new_df[\"category\"]=new_category\n",
        "new_df.head()"
      ],
      "execution_count": 7,
      "outputs": [
        {
          "output_type": "execute_result",
          "data": {
            "text/html": [
              "<div>\n",
              "<style scoped>\n",
              "    .dataframe tbody tr th:only-of-type {\n",
              "        vertical-align: middle;\n",
              "    }\n",
              "\n",
              "    .dataframe tbody tr th {\n",
              "        vertical-align: top;\n",
              "    }\n",
              "\n",
              "    .dataframe thead th {\n",
              "        text-align: right;\n",
              "    }\n",
              "</style>\n",
              "<table border=\"1\" class=\"dataframe\">\n",
              "  <thead>\n",
              "    <tr style=\"text-align: right;\">\n",
              "      <th></th>\n",
              "      <th>description</th>\n",
              "      <th>category</th>\n",
              "    </tr>\n",
              "  </thead>\n",
              "  <tbody>\n",
              "    <tr>\n",
              "      <th>0</th>\n",
              "      <td>key features of alisha solid women s cycling s...</td>\n",
              "      <td>Clothing</td>\n",
              "    </tr>\n",
              "    <tr>\n",
              "      <th>1</th>\n",
              "      <td>fabhomedecor fabric double sofa bed  finish co...</td>\n",
              "      <td>Furniture</td>\n",
              "    </tr>\n",
              "    <tr>\n",
              "      <th>2</th>\n",
              "      <td>key features of aw bellies sandals wedges heel...</td>\n",
              "      <td>Footwear</td>\n",
              "    </tr>\n",
              "    <tr>\n",
              "      <th>3</th>\n",
              "      <td>key features of alisha solid women s cycling s...</td>\n",
              "      <td>Clothing</td>\n",
              "    </tr>\n",
              "    <tr>\n",
              "      <th>4</th>\n",
              "      <td>key features of alisha solid women s cycling s...</td>\n",
              "      <td>Clothing</td>\n",
              "    </tr>\n",
              "  </tbody>\n",
              "</table>\n",
              "</div>"
            ],
            "text/plain": [
              "                                         description   category\n",
              "0  key features of alisha solid women s cycling s...   Clothing\n",
              "1  fabhomedecor fabric double sofa bed  finish co...  Furniture\n",
              "2  key features of aw bellies sandals wedges heel...   Footwear\n",
              "3  key features of alisha solid women s cycling s...   Clothing\n",
              "4  key features of alisha solid women s cycling s...   Clothing"
            ]
          },
          "metadata": {
            "tags": []
          },
          "execution_count": 7
        }
      ]
    },
    {
      "cell_type": "code",
      "metadata": {
        "colab": {
          "base_uri": "https://localhost:8080/",
          "height": 195
        },
        "id": "aqefxHEOctc8",
        "outputId": "47a1fd01-5776-4592-a8bf-ae7c51a44aa0"
      },
      "source": [
        "lab_enc = preprocessing.LabelEncoder()\n",
        "lab_enc.fit(new_df.category)\n",
        "new_df['categorical_label'] = lab_enc.transform(new_df.category)\n",
        "new_df.head()"
      ],
      "execution_count": 8,
      "outputs": [
        {
          "output_type": "execute_result",
          "data": {
            "text/html": [
              "<div>\n",
              "<style scoped>\n",
              "    .dataframe tbody tr th:only-of-type {\n",
              "        vertical-align: middle;\n",
              "    }\n",
              "\n",
              "    .dataframe tbody tr th {\n",
              "        vertical-align: top;\n",
              "    }\n",
              "\n",
              "    .dataframe thead th {\n",
              "        text-align: right;\n",
              "    }\n",
              "</style>\n",
              "<table border=\"1\" class=\"dataframe\">\n",
              "  <thead>\n",
              "    <tr style=\"text-align: right;\">\n",
              "      <th></th>\n",
              "      <th>description</th>\n",
              "      <th>category</th>\n",
              "      <th>categorical_label</th>\n",
              "    </tr>\n",
              "  </thead>\n",
              "  <tbody>\n",
              "    <tr>\n",
              "      <th>0</th>\n",
              "      <td>key features of alisha solid women s cycling s...</td>\n",
              "      <td>Clothing</td>\n",
              "      <td>4</td>\n",
              "    </tr>\n",
              "    <tr>\n",
              "      <th>1</th>\n",
              "      <td>fabhomedecor fabric double sofa bed  finish co...</td>\n",
              "      <td>Furniture</td>\n",
              "      <td>7</td>\n",
              "    </tr>\n",
              "    <tr>\n",
              "      <th>2</th>\n",
              "      <td>key features of aw bellies sandals wedges heel...</td>\n",
              "      <td>Footwear</td>\n",
              "      <td>6</td>\n",
              "    </tr>\n",
              "    <tr>\n",
              "      <th>3</th>\n",
              "      <td>key features of alisha solid women s cycling s...</td>\n",
              "      <td>Clothing</td>\n",
              "      <td>4</td>\n",
              "    </tr>\n",
              "    <tr>\n",
              "      <th>4</th>\n",
              "      <td>key features of alisha solid women s cycling s...</td>\n",
              "      <td>Clothing</td>\n",
              "      <td>4</td>\n",
              "    </tr>\n",
              "  </tbody>\n",
              "</table>\n",
              "</div>"
            ],
            "text/plain": [
              "                                         description  ... categorical_label\n",
              "0  key features of alisha solid women s cycling s...  ...                 4\n",
              "1  fabhomedecor fabric double sofa bed  finish co...  ...                 7\n",
              "2  key features of aw bellies sandals wedges heel...  ...                 6\n",
              "3  key features of alisha solid women s cycling s...  ...                 4\n",
              "4  key features of alisha solid women s cycling s...  ...                 4\n",
              "\n",
              "[5 rows x 3 columns]"
            ]
          },
          "metadata": {
            "tags": []
          },
          "execution_count": 8
        }
      ]
    },
    {
      "cell_type": "code",
      "metadata": {
        "colab": {
          "base_uri": "https://localhost:8080/",
          "height": 265
        },
        "id": "wFQ2Dr0cz3_O",
        "outputId": "c87153fb-20a0-40d0-f4be-98a1e03b0986"
      },
      "source": [
        "c=Counter(new_df['categorical_label'])\n",
        "plt.bar(c.keys(),c.values())\n",
        "plt.show() "
      ],
      "execution_count": 9,
      "outputs": [
        {
          "output_type": "display_data",
          "data": {
            "image/png": "[encoded data removed]",
            "text/plain": [
              "<Figure size 432x288 with 1 Axes>"
            ]
          },
          "metadata": {
            "tags": [],
            "needs_background": "light"
          }
        }
      ]
    },
    {
      "cell_type": "code",
      "metadata": {
        "colab": {
          "base_uri": "https://localhost:8080/",
          "height": 265
        },
        "id": "Z4oYjqngCaSg",
        "outputId": "a173af80-d3e5-45e8-d571-60d1820b6501"
      },
      "source": [
        "df=new_df[\"description\"]\n",
        "length=[]\n",
        "for i in range(len(df)) :\n",
        "  if type(df[i])==str:\n",
        "    length.append(len(nltk.word_tokenize(df[i])))\n",
        "c= Counter(length)\n",
        "plt.bar(c.keys(),c.values())\n",
        "plt.xlim(0,200)\n",
        "plt.show() "
      ],
      "execution_count": 10,
      "outputs": [
        {
          "output_type": "display_data",
          "data": {
            "image/png": "[encoded data removed]",
            "text/plain": [
              "<Figure size 432x288 with 1 Axes>"
            ]
          },
          "metadata": {
            "tags": [],
            "needs_background": "light"
          }
        }
      ]
    },
    {
      "cell_type": "code",
      "metadata": {
        "id": "B-NF4MuczYNV"
      },
      "source": [
        "X_train, X_test, y_train, y_test = train_test_split(new_df[\"description\"], new_df[\"categorical_label\"], test_size=0.15, random_state=42)\n"
      ],
      "execution_count": 11,
      "outputs": []
    },
    {
      "cell_type": "code",
      "metadata": {
        "colab": {
          "base_uri": "https://localhost:8080/"
        },
        "id": "iCD_E6qBzb7z",
        "outputId": "0722b5ec-7ba6-4cab-a9a7-bfe0ce2d7cf3"
      },
      "source": [
        "strategy={0:2500,1:2500,2:2500,3:2500,4:5500,5:2500,6:2500,7:2500,8:2500,9:2500,10:4000,11:2500,12:2500,13:2500,14:2500,15:2500,16:2500,17:2500}\n",
        "Rand_over_sampling = RandomOverSampler(sampling_strategy=strategy)\n",
        "X_train, y_train = Rand_over_sampling.fit_resample(np.array(X_train).reshape(-1,1), y_train)"
      ],
      "execution_count": 12,
      "outputs": [
        {
          "output_type": "stream",
          "text": [
            "/usr/local/lib/python3.7/dist-packages/imblearn/utils/_validation.py:257: UserWarning: After over-sampling, the number of samples (5500) in class 4 will be larger than the number of samples in the majority class (class #4 -> 5235)\n",
            "  n_samples_majority))\n",
            "/usr/local/lib/python3.7/dist-packages/sklearn/utils/deprecation.py:87: FutureWarning: Function safe_indexing is deprecated; safe_indexing is deprecated in version 0.22 and will be removed in version 0.24.\n",
            "  warnings.warn(msg, category=FutureWarning)\n"
          ],
          "name": "stderr"
        }
      ]
    },
    {
      "cell_type": "code",
      "metadata": {
        "colab": {
          "base_uri": "https://localhost:8080/",
          "height": 265
        },
        "id": "OYK_cI5l0Wbm",
        "outputId": "19f85115-77f4-4bba-ebf3-09182886269f"
      },
      "source": [
        "c=Counter(y_train)\n",
        "plt.bar(c.keys(),c.values())\n",
        "plt.show() "
      ],
      "execution_count": 13,
      "outputs": [
        {
          "output_type": "display_data",
          "data": {
            "image/png": "[encoded data removed]",
            "text/plain": [
              "<Figure size 432x288 with 1 Axes>"
            ]
          },
          "metadata": {
            "tags": [],
            "needs_background": "light"
          }
        }
      ]
    },
    {
      "cell_type": "code",
      "metadata": {
        "id": "7LxrWznbVxG3"
      },
      "source": [
        "X_train, X_val, y_train, y_val = train_test_split(X_train, y_train, test_size=0.2, random_state=42)"
      ],
      "execution_count": 14,
      "outputs": []
    },
    {
      "cell_type": "code",
      "metadata": {
        "colab": {
          "base_uri": "https://localhost:8080/"
        },
        "id": "rV9JowD_QEyM",
        "outputId": "b9033d22-3641-40b1-f01a-8d1b11e05fcd"
      },
      "source": [
        "sent_length=128\n",
        "tokenizer=Tokenizer()\n",
        "tokenizer.fit_on_texts(X_train.reshape(-1))\n",
        "sequences = tokenizer.texts_to_sequences(X_train.reshape(-1))\n",
        "word_index = tokenizer.word_index\n",
        "voc_size = len(tokenizer.word_index) + 1\n",
        "print(\"Vocabulary Size:\", voc_size)\n",
        "embedded_docs=pad_sequences(sequences,padding='post',maxlen=sent_length)\n",
        "X_train=np.array(embedded_docs)"
      ],
      "execution_count": 15,
      "outputs": [
        {
          "output_type": "stream",
          "text": [
            "Vocabulary Size: 17079\n"
          ],
          "name": "stdout"
        }
      ]
    },
    {
      "cell_type": "code",
      "metadata": {
        "id": "TjrZs-U0XXge"
      },
      "source": [
        "sequences = tokenizer.texts_to_sequences(X_test)\n",
        "embedded_docs=pad_sequences(sequences,padding='post',maxlen=sent_length)\n",
        "X_test=np.array(embedded_docs)    "
      ],
      "execution_count": 16,
      "outputs": []
    },
    {
      "cell_type": "code",
      "metadata": {
        "id": "09jk36PKP0M3"
      },
      "source": [
        "sequences = tokenizer.texts_to_sequences(X_val.reshape(-1))\n",
        "embedded_docs=pad_sequences(sequences,padding='post',maxlen=sent_length)\n",
        "X_val=np.array(embedded_docs)  "
      ],
      "execution_count": 17,
      "outputs": []
    },
    {
      "cell_type": "code",
      "metadata": {
        "colab": {
          "base_uri": "https://localhost:8080/"
        },
        "id": "9tfCXo3yXhtv",
        "outputId": "03a921cf-1dcb-4c23-ab70-8ad23a08d340"
      },
      "source": [
        "#Buiding the LSTM Model for Category Classification\n",
        "embedding_vector_features=100\n",
        "input=Input(shape=(sent_length,), name='inputs')\n",
        "x=Embedding(voc_size,embedding_vector_features,input_length=sent_length)(input)\n",
        "x=Bidirectional(LSTM(64))(x)\n",
        "x=BatchNormalization()(x)\n",
        "x=Dense(256,activation='relu')(x)\n",
        "x=Dropout(0.4)(x)\n",
        "x=Dense(64,activation='relu')(x)\n",
        "x=Dense(18,activation='softmax',name='truth_')(x)\n",
        "model1=Model(inputs=input, outputs=x, name='LSTM')\n",
        "model1.compile(loss= 'sparse_categorical_crossentropy', optimizer='adam',metrics=['accuracy'])\n",
        "model1.summary()\n",
        "#plot_model(model1,show_layer_names=True,show_shapes=True)\n",
        "\n",
        "LSTM_save = ModelCheckpoint('/content/drive/MyDrive/IIIT_MIDAS/saved_models/'+'OS_LSTM_18.hdf5', save_best_only=True, monitor='val_loss', mode='min')"
      ],
      "execution_count": 51,
      "outputs": [
        {
          "output_type": "stream",
          "text": [
            "Model: \"LSTM\"\n",
            "_________________________________________________________________\n",
            "Layer (type)                 Output Shape              Param #   \n",
            "=================================================================\n",
            "inputs (InputLayer)          [(None, 128)]             0         \n",
            "_________________________________________________________________\n",
            "embedding_9 (Embedding)      (None, 128, 100)          1707900   \n",
            "_________________________________________________________________\n",
            "bidirectional_10 (Bidirectio (None, 128)               84480     \n",
            "_________________________________________________________________\n",
            "batch_normalization_10 (Batc (None, 128)               512       \n",
            "_________________________________________________________________\n",
            "dense_19 (Dense)             (None, 256)               33024     \n",
            "_________________________________________________________________\n",
            "dropout_15 (Dropout)         (None, 256)               0         \n",
            "_________________________________________________________________\n",
            "dense_20 (Dense)             (None, 64)                16448     \n",
            "_________________________________________________________________\n",
            "truth_ (Dense)               (None, 18)                1170      \n",
            "=================================================================\n",
            "Total params: 1,843,534\n",
            "Trainable params: 1,843,278\n",
            "Non-trainable params: 256\n",
            "_________________________________________________________________\n"
          ],
          "name": "stdout"
        }
      ]
    },
    {
      "cell_type": "code",
      "metadata": {
        "colab": {
          "base_uri": "https://localhost:8080/"
        },
        "id": "1ZWlut5MecqO",
        "outputId": "f84e3612-a517-4bbb-a280-c106b6c643a8"
      },
      "source": [
        "model1.fit(x=X_train, y=y_train, validation_data=(X_val,y_val), callbacks=LSTM_save, batch_size=64, epochs=5)"
      ],
      "execution_count": 55,
      "outputs": [
        {
          "output_type": "stream",
          "text": [
            "Epoch 1/5\n",
            "619/619 [==============================] - 20s 32ms/step - loss: 0.0134 - accuracy: 0.9954 - val_loss: 0.0169 - val_accuracy: 0.9961\n",
            "Epoch 2/5\n",
            "619/619 [==============================] - 19s 31ms/step - loss: 0.0147 - accuracy: 0.9946 - val_loss: 0.0274 - val_accuracy: 0.9939\n",
            "Epoch 3/5\n",
            "619/619 [==============================] - 19s 31ms/step - loss: 0.0105 - accuracy: 0.9963 - val_loss: 0.0206 - val_accuracy: 0.9953\n",
            "Epoch 4/5\n",
            "619/619 [==============================] - 20s 32ms/step - loss: 0.0094 - accuracy: 0.9964 - val_loss: 0.0264 - val_accuracy: 0.9935\n",
            "Epoch 5/5\n",
            "619/619 [==============================] - 20s 32ms/step - loss: 0.0130 - accuracy: 0.9956 - val_loss: 0.0304 - val_accuracy: 0.9929\n"
          ],
          "name": "stdout"
        },
        {
          "output_type": "execute_result",
          "data": {
            "text/plain": [
              "<tensorflow.python.keras.callbacks.History at 0x7f4d1cc7fd90>"
            ]
          },
          "metadata": {
            "tags": []
          },
          "execution_count": 55
        }
      ]
    },
    {
      "cell_type": "code",
      "metadata": {
        "colab": {
          "base_uri": "https://localhost:8080/"
        },
        "id": "yZFupwZYh8PK",
        "outputId": "0cb00a69-f14c-4ff1-9360-83f87041d512"
      },
      "source": [
        "print(\"FOR LSTM MODEL\")\n",
        "saved_model=load_model('/content/drive/MyDrive/IIIT_MIDAS/saved_models/'+'OS_LSTM_18.hdf5')\n",
        "y_prob = model1.predict(X_test)\n",
        "y_pred = np.argmax(y_prob,axis=1)\n",
        "accuracy = accuracy_score(y_test, y_pred)\n",
        "print('Accuracy: %f' % accuracy)\n",
        "precision = precision_score(y_test, y_pred, average='macro')\n",
        "print('Precision: %f' % precision)\n",
        "recall = recall_score(y_test, y_pred,average='macro')\n",
        "print('Recall: %f' % recall)\n",
        "f1 = f1_score(y_test, y_pred,average='macro')\n",
        "print('F1 score: %f' % f1)"
      ],
      "execution_count": 56,
      "outputs": [
        {
          "output_type": "stream",
          "text": [
            "FOR LSTM MODEL\n",
            "Accuracy: 0.961299\n",
            "Precision: 0.927617\n",
            "Recall: 0.921101\n",
            "F1 score: 0.923034\n"
          ],
          "name": "stdout"
        }
      ]
    },
    {
      "cell_type": "code",
      "metadata": {
        "colab": {
          "base_uri": "https://localhost:8080/",
          "height": 640
        },
        "id": "zmO1dPXq_nCP",
        "outputId": "6d49b446-0cbb-4dcd-b23f-42661447a96d"
      },
      "source": [
        "conf_mat = confusion_matrix(lab_enc.inverse_transform(y_test), lab_enc.inverse_transform(y_pred))\n",
        "fig, ax = plt.subplots(figsize=(10,10))\n",
        "sns.heatmap(conf_mat, annot=True, cmap=\"Blues\", fmt='d')\n",
        "plt.ylabel('Actual')\n",
        "plt.xlabel('Predicted')\n",
        "plt.title(\"CONFUSION MATRIX - LSTM\", size=16)"
      ],
      "execution_count": 57,
      "outputs": [
        {
          "output_type": "execute_result",
          "data": {
            "text/plain": [
              "Text(0.5, 1.0, 'CONFUSION MATRIX - LSTM')"
            ]
          },
          "metadata": {
            "tags": []
          },
          "execution_count": 57
        },
        {
          "output_type": "display_data",
          "data": {
            "image/png": "[encoded data removed]",
            "text/plain": [
              "<Figure size 720x720 with 2 Axes>"
            ]
          },
          "metadata": {
            "tags": [],
            "needs_background": "light"
          }
        }
      ]
    },
    {
      "cell_type": "code",
      "metadata": {
        "colab": {
          "base_uri": "https://localhost:8080/"
        },
        "id": "LsGTVWrfh0dF",
        "outputId": "f2c894f4-3695-4a4a-ec0b-cb7733190772"
      },
      "source": [
        "#Building the CNN model\n",
        "input=Input(shape=(sent_length,))\n",
        "x=Embedding(voc_size,embedding_vector_features,input_length=sent_length)(input)\n",
        "x=Conv1D(128, 5, padding='same', activation='relu' )(x)\n",
        "x=BatchNormalization()(x)\n",
        "x=MaxPooling1D(pool_size=2,strides=None)(x)\n",
        "x=Flatten()(x)\n",
        "x=Dense(256,activation='relu')(x)\n",
        "x=Dropout(0.4)(x)\n",
        "x=Dense(64,activation='relu')(x)\n",
        "x=Dense(18,activation='softmax')(x)\n",
        "model2=Model(inputs=input, outputs=x, name='CNN')\n",
        "model2.compile(loss= 'sparse_categorical_crossentropy', optimizer='adam',metrics=['accuracy'])\n",
        "model2.summary()\n",
        "#plot_model(model3,show_layer_names=True,show_shapes=True)\n",
        "\n",
        "CNN_save = ModelCheckpoint('/content/drive/MyDrive/IIIT_MIDAS/saved_models/'+'OS_CNN_18.hdf5', save_best_only=True, monitor='val_loss', mode='min')\n"
      ],
      "execution_count": 41,
      "outputs": [
        {
          "output_type": "stream",
          "text": [
            "Model: \"CNN\"\n",
            "_________________________________________________________________\n",
            "Layer (type)                 Output Shape              Param #   \n",
            "=================================================================\n",
            "input_1 (InputLayer)         [(None, 128)]             0         \n",
            "_________________________________________________________________\n",
            "embedding_7 (Embedding)      (None, 128, 100)          1707900   \n",
            "_________________________________________________________________\n",
            "conv1d_9 (Conv1D)            (None, 128, 128)          64128     \n",
            "_________________________________________________________________\n",
            "batch_normalization_8 (Batch (None, 128, 128)          512       \n",
            "_________________________________________________________________\n",
            "max_pooling1d_1 (MaxPooling1 (None, 64, 128)           0         \n",
            "_________________________________________________________________\n",
            "flatten_1 (Flatten)          (None, 8192)              0         \n",
            "_________________________________________________________________\n",
            "dense_14 (Dense)             (None, 256)               2097408   \n",
            "_________________________________________________________________\n",
            "dropout_13 (Dropout)         (None, 256)               0         \n",
            "_________________________________________________________________\n",
            "dense_15 (Dense)             (None, 64)                16448     \n",
            "_________________________________________________________________\n",
            "dense_16 (Dense)             (None, 18)                1170      \n",
            "=================================================================\n",
            "Total params: 3,887,566\n",
            "Trainable params: 3,887,310\n",
            "Non-trainable params: 256\n",
            "_________________________________________________________________\n"
          ],
          "name": "stdout"
        }
      ]
    },
    {
      "cell_type": "code",
      "metadata": {
        "colab": {
          "base_uri": "https://localhost:8080/"
        },
        "id": "hCGhVzVnoJlW",
        "outputId": "e812b33a-fb99-4a64-e580-82addab28aa2"
      },
      "source": [
        "model2.fit(x=X_train, y=y_train, validation_data=(X_val,y_val), callbacks=CNN_save, batch_size=64, epochs =10)"
      ],
      "execution_count": 42,
      "outputs": [
        {
          "output_type": "stream",
          "text": [
            "Epoch 1/10\n",
            "619/619 [==============================] - 14s 21ms/step - loss: 0.8166 - accuracy: 0.7594 - val_loss: 0.0257 - val_accuracy: 0.9948\n",
            "Epoch 2/10\n",
            "619/619 [==============================] - 13s 21ms/step - loss: 0.0168 - accuracy: 0.9946 - val_loss: 0.0133 - val_accuracy: 0.9962\n",
            "Epoch 3/10\n",
            "619/619 [==============================] - 13s 21ms/step - loss: 0.0136 - accuracy: 0.9948 - val_loss: 0.0328 - val_accuracy: 0.9921\n",
            "Epoch 4/10\n",
            "619/619 [==============================] - 13s 21ms/step - loss: 0.0356 - accuracy: 0.9907 - val_loss: 0.0293 - val_accuracy: 0.9947\n",
            "Epoch 5/10\n",
            "619/619 [==============================] - 13s 21ms/step - loss: 0.0260 - accuracy: 0.9935 - val_loss: 0.0067 - val_accuracy: 0.9983\n",
            "Epoch 6/10\n",
            "619/619 [==============================] - 13s 21ms/step - loss: 0.0058 - accuracy: 0.9976 - val_loss: 0.0093 - val_accuracy: 0.9978\n",
            "Epoch 7/10\n",
            "619/619 [==============================] - 13s 21ms/step - loss: 0.0100 - accuracy: 0.9971 - val_loss: 0.0214 - val_accuracy: 0.9959\n",
            "Epoch 8/10\n",
            "619/619 [==============================] - 13s 21ms/step - loss: 0.0427 - accuracy: 0.9917 - val_loss: 0.0131 - val_accuracy: 0.9972\n",
            "Epoch 9/10\n",
            "619/619 [==============================] - 13s 21ms/step - loss: 0.0181 - accuracy: 0.9959 - val_loss: 0.0243 - val_accuracy: 0.9960\n",
            "Epoch 10/10\n",
            "619/619 [==============================] - 13s 21ms/step - loss: 0.0127 - accuracy: 0.9970 - val_loss: 0.0197 - val_accuracy: 0.9967\n"
          ],
          "name": "stdout"
        },
        {
          "output_type": "execute_result",
          "data": {
            "text/plain": [
              "<tensorflow.python.keras.callbacks.History at 0x7f4d1c95c350>"
            ]
          },
          "metadata": {
            "tags": []
          },
          "execution_count": 42
        }
      ]
    },
    {
      "cell_type": "code",
      "metadata": {
        "colab": {
          "base_uri": "https://localhost:8080/"
        },
        "id": "KZhdb125oxvo",
        "outputId": "3d542506-973a-436b-fde7-cfe512c44be1"
      },
      "source": [
        "print(\"FOR CNN MODEL\")\n",
        "saved_model=load_model('/content/drive/MyDrive/IIIT_MIDAS/saved_models/'+'OS_CNN_18.hdf5')\n",
        "y_prob = saved_model.predict(X_test)\n",
        "y_pred = np.argmax(y_prob,axis=1)\n",
        "accuracy = accuracy_score(y_test, y_pred)\n",
        "print('Accuracy: %f' % accuracy)\n",
        "precision = precision_score(y_test, y_pred, average='macro')\n",
        "print('Precision: %f' % precision)\n",
        "recall = recall_score(y_test, y_pred,average='macro')\n",
        "print('Recall: %f' % recall)\n",
        "f1 = f1_score(y_test, y_pred,average='macro')\n",
        "print('F1 score: %f' % f1)\n"
      ],
      "execution_count": 44,
      "outputs": [
        {
          "output_type": "stream",
          "text": [
            "FOR CNN MODEL\n",
            "Accuracy: 0.972011\n",
            "Precision: 0.951529\n",
            "Recall: 0.934902\n",
            "F1 score: 0.942382\n"
          ],
          "name": "stdout"
        }
      ]
    },
    {
      "cell_type": "code",
      "metadata": {
        "colab": {
          "base_uri": "https://localhost:8080/",
          "height": 640
        },
        "id": "mAJdOb2QI34S",
        "outputId": "6975e310-4248-4895-dcda-8a00ab80f5b4"
      },
      "source": [
        "conf_mat = confusion_matrix(lab_enc.inverse_transform(y_test), lab_enc.inverse_transform(y_pred))\n",
        "fig, ax = plt.subplots(figsize=(10,10))\n",
        "sns.heatmap(conf_mat, annot=True, cmap=\"Blues\", fmt='d')\n",
        "plt.ylabel('Actual')\n",
        "plt.xlabel('Predicted')\n",
        "plt.title(\"CONFUSION MATRIX - CNN\", size=16)"
      ],
      "execution_count": 45,
      "outputs": [
        {
          "output_type": "execute_result",
          "data": {
            "text/plain": [
              "Text(0.5, 1.0, 'CONFUSION MATRIX - CNN')"
            ]
          },
          "metadata": {
            "tags": []
          },
          "execution_count": 45
        },
        {
          "output_type": "display_data",
          "data": {
            "image/png": "[encoded data removed]",
            "text/plain": [
              "<Figure size 720x720 with 2 Axes>"
            ]
          },
          "metadata": {
            "tags": [],
            "needs_background": "light"
          }
        }
      ]
    },
    {
      "cell_type": "code",
      "metadata": {
        "colab": {
          "base_uri": "https://localhost:8080/"
        },
        "id": "ryi2lakII_nX",
        "outputId": "78b8ff70-0a60-48be-ea02-ccb356b198f1"
      },
      "source": [
        "input=Input(shape=(sent_length,), name='inputs')\n",
        "x=Embedding(voc_size,embedding_vector_features,input_length=sent_length)(input)\n",
        "x=Conv1D(128, 5, padding='same', activation='relu' )(x)\n",
        "x=MaxPooling1D(pool_size=2,strides=None)(x)\n",
        "x=Bidirectional(LSTM(64))(x)\n",
        "x=BatchNormalization()(x)\n",
        "x=Flatten()(x)\n",
        "x=Dense(256,activation='relu')(x)\n",
        "x=Dropout(0.4)(x)\n",
        "truth=Dense(64,activation='relu')(x)\n",
        "truth=Dense(18,activation='softmax',name='truth_')(truth)\n",
        "model3=Model(inputs=input, outputs=truth)\n",
        "model3.compile(loss= 'sparse_categorical_crossentropy', optimizer='adam',metrics=['accuracy'])\n",
        "model3.summary()\n",
        "#plot_model(model5,show_layer_names=True,show_shapes=True)\n",
        "\n",
        "CNN_LSTM_save = ModelCheckpoint('/content/drive/MyDrive/IIIT_MIDAS/saved_models/'+'OS_CNN_LSTM_18.hdf5', save_best_only=True, monitor='val_loss', mode='min')\n"
      ],
      "execution_count": 46,
      "outputs": [
        {
          "output_type": "stream",
          "text": [
            "Model: \"model_4\"\n",
            "_________________________________________________________________\n",
            "Layer (type)                 Output Shape              Param #   \n",
            "=================================================================\n",
            "inputs (InputLayer)          [(None, 128)]             0         \n",
            "_________________________________________________________________\n",
            "embedding_8 (Embedding)      (None, 128, 100)          1707900   \n",
            "_________________________________________________________________\n",
            "conv1d_10 (Conv1D)           (None, 128, 128)          64128     \n",
            "_________________________________________________________________\n",
            "max_pooling1d_2 (MaxPooling1 (None, 64, 128)           0         \n",
            "_________________________________________________________________\n",
            "bidirectional_9 (Bidirection (None, 128)               98816     \n",
            "_________________________________________________________________\n",
            "batch_normalization_9 (Batch (None, 128)               512       \n",
            "_________________________________________________________________\n",
            "flatten_2 (Flatten)          (None, 128)               0         \n",
            "_________________________________________________________________\n",
            "dense_17 (Dense)             (None, 256)               33024     \n",
            "_________________________________________________________________\n",
            "dropout_14 (Dropout)         (None, 256)               0         \n",
            "_________________________________________________________________\n",
            "dense_18 (Dense)             (None, 64)                16448     \n",
            "_________________________________________________________________\n",
            "truth_ (Dense)               (None, 18)                1170      \n",
            "=================================================================\n",
            "Total params: 1,921,998\n",
            "Trainable params: 1,921,742\n",
            "Non-trainable params: 256\n",
            "_________________________________________________________________\n"
          ],
          "name": "stdout"
        }
      ]
    },
    {
      "cell_type": "code",
      "metadata": {
        "colab": {
          "base_uri": "https://localhost:8080/"
        },
        "id": "N-9zg27oKrBr",
        "outputId": "e578f2e9-0f1b-4a42-dcf6-6a71b53403e6"
      },
      "source": [
        "model3.fit(x=X_train, y=y_train, validation_data=(X_val,y_val), callbacks=CNN_LSTM_save, batch_size=64, epochs =10)"
      ],
      "execution_count": 47,
      "outputs": [
        {
          "output_type": "stream",
          "text": [
            "Epoch 1/10\n",
            "619/619 [==============================] - 21s 30ms/step - loss: 0.7584 - accuracy: 0.7763 - val_loss: 0.0382 - val_accuracy: 0.9887\n",
            "Epoch 2/10\n",
            "619/619 [==============================] - 17s 28ms/step - loss: 0.0216 - accuracy: 0.9936 - val_loss: 0.0331 - val_accuracy: 0.9905\n",
            "Epoch 3/10\n",
            "619/619 [==============================] - 18s 28ms/step - loss: 0.0256 - accuracy: 0.9923 - val_loss: 0.0179 - val_accuracy: 0.9944\n",
            "Epoch 4/10\n",
            "619/619 [==============================] - 17s 28ms/step - loss: 0.0134 - accuracy: 0.9954 - val_loss: 0.0181 - val_accuracy: 0.9953\n",
            "Epoch 5/10\n",
            "619/619 [==============================] - 17s 27ms/step - loss: 0.0181 - accuracy: 0.9943 - val_loss: 0.0124 - val_accuracy: 0.9960\n",
            "Epoch 6/10\n",
            "619/619 [==============================] - 17s 28ms/step - loss: 0.0109 - accuracy: 0.9963 - val_loss: 0.0145 - val_accuracy: 0.9965\n",
            "Epoch 7/10\n",
            "619/619 [==============================] - 17s 28ms/step - loss: 0.0121 - accuracy: 0.9956 - val_loss: 0.0133 - val_accuracy: 0.9968\n",
            "Epoch 8/10\n",
            "619/619 [==============================] - 17s 28ms/step - loss: 0.0095 - accuracy: 0.9968 - val_loss: 0.0148 - val_accuracy: 0.9962\n",
            "Epoch 9/10\n",
            "619/619 [==============================] - 17s 28ms/step - loss: 0.0113 - accuracy: 0.9969 - val_loss: 0.0234 - val_accuracy: 0.9945\n",
            "Epoch 10/10\n",
            "619/619 [==============================] - 17s 28ms/step - loss: 0.0081 - accuracy: 0.9970 - val_loss: 0.0149 - val_accuracy: 0.9964\n"
          ],
          "name": "stdout"
        },
        {
          "output_type": "execute_result",
          "data": {
            "text/plain": [
              "<tensorflow.python.keras.callbacks.History at 0x7f4c8e149210>"
            ]
          },
          "metadata": {
            "tags": []
          },
          "execution_count": 47
        }
      ]
    },
    {
      "cell_type": "code",
      "metadata": {
        "colab": {
          "base_uri": "https://localhost:8080/"
        },
        "id": "HUz7VHd8zBFW",
        "outputId": "1ccb0501-ee6c-4bb6-d624-fe515c1f2b08"
      },
      "source": [
        "#Testing the CNN LSTM model on test dataset\n",
        "print(\"FOR CNN LSTM MODEL\")\n",
        "saved_model=load_model('/content/drive/MyDrive/IIIT_MIDAS/saved_models/'+'OS_CNN_LSTM_18.hdf5')\n",
        "y_prob = saved_model.predict(X_test)\n",
        "y_pred = np.argmax(y_prob,axis=1)\n",
        "accuracy = accuracy_score(y_test, y_pred)\n",
        "print('Accuracy: %f' % accuracy)\n",
        "precision = precision_score(y_test, y_pred, average='macro')\n",
        "print('Precision: %f' % precision)\n",
        "recall = recall_score(y_test, y_pred,average='macro')\n",
        "print('Recall: %f' % recall)\n",
        "f1 = f1_score(y_test, y_pred,average='macro')\n",
        "print('F1 score: %f' % f1)"
      ],
      "execution_count": 49,
      "outputs": [
        {
          "output_type": "stream",
          "text": [
            "FOR CNN LSTM MODEL\n",
            "Accuracy: 0.966828\n",
            "Precision: 0.940791\n",
            "Recall: 0.928445\n",
            "F1 score: 0.933398\n"
          ],
          "name": "stdout"
        }
      ]
    },
    {
      "cell_type": "code",
      "metadata": {
        "colab": {
          "base_uri": "https://localhost:8080/",
          "height": 640
        },
        "id": "RBzAW-tsKyJ1",
        "outputId": "a07497ed-d64b-4407-b288-bbbb17aa98a8"
      },
      "source": [
        "\n",
        "conf_mat = confusion_matrix(lab_enc.inverse_transform(y_test), lab_enc.inverse_transform(y_pred))\n",
        "fig, ax = plt.subplots(figsize=(10,10))\n",
        "sns.heatmap(conf_mat, annot=True, cmap=\"Blues\", fmt='d')\n",
        "plt.ylabel('Actual')\n",
        "plt.xlabel('Predicted')\n",
        "plt.title(\"CONFUSION MATRIX - C-LSTM\", size=16)"
      ],
      "execution_count": 50,
      "outputs": [
        {
          "output_type": "execute_result",
          "data": {
            "text/plain": [
              "Text(0.5, 1.0, 'CONFUSION MATRIX - C-LSTM')"
            ]
          },
          "metadata": {
            "tags": []
          },
          "execution_count": 50
        },
        {
          "output_type": "display_data",
          "data": {
            "image/png": "[encoded data removed]",
            "text/plain": [
              "<Figure size 720x720 with 2 Axes>"
            ]
          },
          "metadata": {
            "tags": [],
            "needs_background": "light"
          }
        }
      ]
    },
    {
      "cell_type": "code",
      "metadata": {
        "id": "GatDDGm31zVy"
      },
      "source": [
        ""
      ],
      "execution_count": null,
      "outputs": []
    }
  ]
}