{
  "nbformat": 4,
  "nbformat_minor": 0,
  "metadata": {
    "colab": {
      "name": "category_prediction_with_18_category_using_capsulenet.ipynb",
      "provenance": []
    },
    "kernelspec": {
      "name": "python3",
      "display_name": "Python 3"
    },
    "language_info": {
      "name": "python"
    }
  },
  "cells": [
    {
      "cell_type": "code",
      "metadata": {
        "id": "cKb1rND6rBDU"
      },
      "source": [
        "import tensorflow as tf\n",
        "import numpy as np\n",
        "from keras import layers\n",
        "from keras.regularizers import l2\n",
        "from keras import initializers\n",
        "from keras.models import Model\n",
        "from keras.optimizers import Adam\n",
        "import keras.backend as K\n",
        "import tf.keras"
      ],
      "execution_count": null,
      "outputs": []
    },
    {
      "cell_type": "code",
      "metadata": {
        "id": "CCF5xqWgxSJM"
      },
      "source": [
        ""
      ],
      "execution_count": null,
      "outputs": []
    },
    {
      "cell_type": "code",
      "metadata": {
        "id": "Aa83AQEWV2ys",
        "colab": {
          "base_uri": "https://localhost:8080/"
        },
        "outputId": "846398f0-9d4a-480b-f312-214eaee1e853"
      },
      "source": [
        "'''Important Libraries and Modules that would be used throughout the task are imported'''\n",
        "from keras.layers import Embedding\n",
        "from keras.preprocessing.sequence import pad_sequences\n",
        "from keras.models import Sequential\n",
        "from keras.preprocessing.text import Tokenizer\n",
        "from keras.preprocessing.text import one_hot\n",
        "from keras.layers import LSTM\n",
        "from keras.layers import GRU\n",
        "from keras.layers import Dense\n",
        "from keras.layers import Input\n",
        "from keras.layers import Bidirectional\n",
        "from keras.layers import Dropout\n",
        "from keras.layers import concatenate\n",
        "from keras.layers import Flatten\n",
        "from keras.layers import Conv1D\n",
        "from keras.layers import Conv2D\n",
        "from keras.layers import MaxPooling1D\n",
        "from keras.layers import BatchNormalization\n",
        "from keras.models import Model\n",
        "from keras.layers import LeakyReLU\n",
        "from keras.layers import Lambda\n",
        "from keras.layers import Activation\n",
        "from keras.layers import Multiply\n",
        "from keras.layers import GlobalAveragePooling1D\n",
        "import tensorflow as tf\n",
        "from tensorflow import keras\n",
        "from tensorflow.keras import layers\n",
        "import pandas as pd\n",
        "import nltk\n",
        "import re\n",
        "from nltk.corpus import stopwords\n",
        "nltk.download('stopwords')\n",
        "nltk.download('punkt')\n",
        "from nltk.stem.porter import PorterStemmer\n",
        "import numpy as np\n",
        "from sklearn.model_selection import train_test_split\n",
        "from sklearn.metrics import accuracy_score\n",
        "from sklearn.metrics import classification_report\n",
        "from sklearn.metrics import confusion_matrix\n",
        "from keras.utils.vis_utils import plot_model\n",
        "from collections import Counter\n",
        "import matplotlib.pyplot as plt\n",
        "from sklearn.metrics import precision_score\n",
        "from sklearn.metrics import recall_score\n",
        "from sklearn.metrics import f1_score\n",
        "from sklearn.metrics import cohen_kappa_score\n",
        "from sklearn.metrics import roc_auc_score\n",
        "from sklearn.metrics import confusion_matrix\n",
        "from keras.callbacks import ModelCheckpoint\n",
        "from sklearn import preprocessing\n",
        "from keras.models import load_model\n",
        "import seaborn as sns"
      ],
      "execution_count": null,
      "outputs": [
        {
          "output_type": "stream",
          "text": [
            "[nltk_data] Downloading package stopwords to /root/nltk_data...\n",
            "[nltk_data]   Package stopwords is already up-to-date!\n",
            "[nltk_data] Downloading package punkt to /root/nltk_data...\n",
            "[nltk_data]   Package punkt is already up-to-date!\n"
          ],
          "name": "stdout"
        }
      ]
    },
    {
      "cell_type": "code",
      "metadata": {
        "colab": {
          "base_uri": "https://localhost:8080/"
        },
        "id": "vy06ZDzcZbrO",
        "outputId": "39361ef3-d290-48f1-c41c-345f7fc14067"
      },
      "source": [
        "from google.colab import drive\n",
        "drive.mount('/content/drive')"
      ],
      "execution_count": null,
      "outputs": [
        {
          "output_type": "stream",
          "text": [
            "Mounted at /content/drive\n"
          ],
          "name": "stdout"
        }
      ]
    },
    {
      "cell_type": "code",
      "metadata": {
        "colab": {
          "base_uri": "https://localhost:8080/",
          "height": 221
        },
        "id": "5qCKfVjSXC62",
        "outputId": "c86d4570-5863-4a81-f189-2451f617910e"
      },
      "source": [
        "#Loading of Data in Pandas DataFrame from CSV file\n",
        "#Other Features were removed from the CSV as they are not used in the tasks \n",
        "data=pd.read_csv(\"/content/drive/MyDrive/IIIT_MIDAS/flipkart_com-ecommerce_sample.csv\", encoding= 'unicode_escape')\n",
        "print(len(data))\n",
        "data.head()"
      ],
      "execution_count": null,
      "outputs": [
        {
          "output_type": "stream",
          "text": [
            "20000\n"
          ],
          "name": "stdout"
        },
        {
          "output_type": "execute_result",
          "data": {
            "text/html": [
              "<div>\n",
              "<style scoped>\n",
              "    .dataframe tbody tr th:only-of-type {\n",
              "        vertical-align: middle;\n",
              "    }\n",
              "\n",
              "    .dataframe tbody tr th {\n",
              "        vertical-align: top;\n",
              "    }\n",
              "\n",
              "    .dataframe thead th {\n",
              "        text-align: right;\n",
              "    }\n",
              "</style>\n",
              "<table border=\"1\" class=\"dataframe\">\n",
              "  <thead>\n",
              "    <tr style=\"text-align: right;\">\n",
              "      <th></th>\n",
              "      <th>product_category_tree</th>\n",
              "      <th>description</th>\n",
              "      <th>brand</th>\n",
              "    </tr>\n",
              "  </thead>\n",
              "  <tbody>\n",
              "    <tr>\n",
              "      <th>0</th>\n",
              "      <td>[\"Clothing &gt;&gt; Women's Clothing &gt;&gt; Lingerie, Sl...</td>\n",
              "      <td>Key Features of Alisha Solid Women's Cycling S...</td>\n",
              "      <td>Alisha</td>\n",
              "    </tr>\n",
              "    <tr>\n",
              "      <th>1</th>\n",
              "      <td>[\"Furniture &gt;&gt; Living Room Furniture &gt;&gt; Sofa B...</td>\n",
              "      <td>FabHomeDecor Fabric Double Sofa Bed (Finish Co...</td>\n",
              "      <td>FabHomeDecor</td>\n",
              "    </tr>\n",
              "    <tr>\n",
              "      <th>2</th>\n",
              "      <td>[\"Footwear &gt;&gt; Women's Footwear &gt;&gt; Ballerinas &gt;...</td>\n",
              "      <td>Key Features of AW Bellies Sandals Wedges Heel...</td>\n",
              "      <td>AW</td>\n",
              "    </tr>\n",
              "    <tr>\n",
              "      <th>3</th>\n",
              "      <td>[\"Clothing &gt;&gt; Women's Clothing &gt;&gt; Lingerie, Sl...</td>\n",
              "      <td>Key Features of Alisha Solid Women's Cycling S...</td>\n",
              "      <td>Alisha</td>\n",
              "    </tr>\n",
              "    <tr>\n",
              "      <th>4</th>\n",
              "      <td>[\"Pet Supplies &gt;&gt; Grooming &gt;&gt; Skin &amp; Coat Care...</td>\n",
              "      <td>Specifications of Sicons All Purpose Arnica Do...</td>\n",
              "      <td>Sicons</td>\n",
              "    </tr>\n",
              "  </tbody>\n",
              "</table>\n",
              "</div>"
            ],
            "text/plain": [
              "                               product_category_tree  ...         brand\n",
              "0  [\"Clothing >> Women's Clothing >> Lingerie, Sl...  ...        Alisha\n",
              "1  [\"Furniture >> Living Room Furniture >> Sofa B...  ...  FabHomeDecor\n",
              "2  [\"Footwear >> Women's Footwear >> Ballerinas >...  ...            AW\n",
              "3  [\"Clothing >> Women's Clothing >> Lingerie, Sl...  ...        Alisha\n",
              "4  [\"Pet Supplies >> Grooming >> Skin & Coat Care...  ...        Sicons\n",
              "\n",
              "[5 rows x 3 columns]"
            ]
          },
          "metadata": {
            "tags": []
          },
          "execution_count": 77
        }
      ]
    },
    {
      "cell_type": "code",
      "metadata": {
        "colab": {
          "base_uri": "https://localhost:8080/",
          "height": 71
        },
        "id": "svcm2XiGNM8R",
        "outputId": "dc1f44fb-778e-45a0-9129-e2e40410a923"
      },
      "source": [
        "data.description[0]"
      ],
      "execution_count": null,
      "outputs": [
        {
          "output_type": "execute_result",
          "data": {
            "application/vnd.google.colaboratory.intrinsic+json": {
              "type": "string"
            },
            "text/plain": [
              "\"Key Features of Alisha Solid Women's Cycling Shorts Cotton Lycra Navy, Red, Navy,Specifications of Alisha Solid Women's Cycling Shorts Shorts Details Number of Contents in Sales Package Pack of 3 Fabric Cotton Lycra Type Cycling Shorts General Details Pattern Solid Ideal For Women's Fabric Care Gentle Machine Wash in Lukewarm Water, Do Not Bleach Additional Details Style Code ALTHT_3P_21 In the Box 3 shorts\""
            ]
          },
          "metadata": {
            "tags": []
          },
          "execution_count": 78
        }
      ]
    },
    {
      "cell_type": "code",
      "metadata": {
        "colab": {
          "base_uri": "https://localhost:8080/",
          "height": 194
        },
        "id": "vQXVquHsXnhN",
        "outputId": "d3fc2e76-1eb4-4439-f6d4-ef73276a11f5"
      },
      "source": [
        "#Text Preprocessing\n",
        "category=[]\n",
        "description=[]\n",
        "for i in range(len(data)):\n",
        "  if type(data['description'][i]) == str :\n",
        "    category.append(data[\"product_category_tree\"][i].split('>>')[0][2:-1]) #Primary Category is being extracted from the product category tree\n",
        "    des = re.sub('[^a-zA-Z]', ' ', data['description'][i])\n",
        "    des = re.sub('[/(){}\\[\\]\\|@,.;_]', ' ', des) #Removing the symbols that are not useful in classification task\n",
        "    des = des.lower() #Converting the text into lowercase \n",
        "    description.append(des) \n",
        "\n",
        "data = pd.DataFrame()\n",
        "data[\"category\"]=category\n",
        "data[\"description\"]=description\n",
        "data.head()    \n"
      ],
      "execution_count": null,
      "outputs": [
        {
          "output_type": "execute_result",
          "data": {
            "text/html": [
              "<div>\n",
              "<style scoped>\n",
              "    .dataframe tbody tr th:only-of-type {\n",
              "        vertical-align: middle;\n",
              "    }\n",
              "\n",
              "    .dataframe tbody tr th {\n",
              "        vertical-align: top;\n",
              "    }\n",
              "\n",
              "    .dataframe thead th {\n",
              "        text-align: right;\n",
              "    }\n",
              "</style>\n",
              "<table border=\"1\" class=\"dataframe\">\n",
              "  <thead>\n",
              "    <tr style=\"text-align: right;\">\n",
              "      <th></th>\n",
              "      <th>category</th>\n",
              "      <th>description</th>\n",
              "    </tr>\n",
              "  </thead>\n",
              "  <tbody>\n",
              "    <tr>\n",
              "      <th>0</th>\n",
              "      <td>Clothing</td>\n",
              "      <td>key features of alisha solid women s cycling s...</td>\n",
              "    </tr>\n",
              "    <tr>\n",
              "      <th>1</th>\n",
              "      <td>Furniture</td>\n",
              "      <td>fabhomedecor fabric double sofa bed  finish co...</td>\n",
              "    </tr>\n",
              "    <tr>\n",
              "      <th>2</th>\n",
              "      <td>Footwear</td>\n",
              "      <td>key features of aw bellies sandals wedges heel...</td>\n",
              "    </tr>\n",
              "    <tr>\n",
              "      <th>3</th>\n",
              "      <td>Clothing</td>\n",
              "      <td>key features of alisha solid women s cycling s...</td>\n",
              "    </tr>\n",
              "    <tr>\n",
              "      <th>4</th>\n",
              "      <td>Pet Supplies</td>\n",
              "      <td>specifications of sicons all purpose arnica do...</td>\n",
              "    </tr>\n",
              "  </tbody>\n",
              "</table>\n",
              "</div>"
            ],
            "text/plain": [
              "       category                                        description\n",
              "0      Clothing  key features of alisha solid women s cycling s...\n",
              "1     Furniture  fabhomedecor fabric double sofa bed  finish co...\n",
              "2      Footwear  key features of aw bellies sandals wedges heel...\n",
              "3      Clothing  key features of alisha solid women s cycling s...\n",
              "4  Pet Supplies  specifications of sicons all purpose arnica do..."
            ]
          },
          "metadata": {
            "tags": []
          },
          "execution_count": 79
        }
      ]
    },
    {
      "cell_type": "code",
      "metadata": {
        "colab": {
          "base_uri": "https://localhost:8080/",
          "height": 299
        },
        "id": "IR_eHbamvi-1",
        "outputId": "d5e88c51-e527-446e-9758-9c517343b0d9"
      },
      "source": [
        "# Distibution of data samples to the categories\n",
        "category_counts= Counter(category)\n",
        "print(f\"Total No. of Categories :\",len(category_counts.keys()))\n",
        "plt.bar(category_counts.keys(),category_counts.values() )\n",
        "plt.title(label='Distibution of data samples to the categories')\n",
        "plt.show() "
      ],
      "execution_count": null,
      "outputs": [
        {
          "output_type": "stream",
          "text": [
            "Total No. of Categories : 266\n"
          ],
          "name": "stdout"
        },
        {
          "output_type": "display_data",
          "data": {
            "image/png": "[encoded data removed]",
            "text/plain": [
              "<Figure size 432x288 with 1 Axes>"
            ]
          },
          "metadata": {
            "tags": [],
            "needs_background": "light"
          }
        }
      ]
    },
    {
      "cell_type": "code",
      "metadata": {
        "colab": {
          "base_uri": "https://localhost:8080/",
          "height": 281
        },
        "id": "w-PePl27yZ-o",
        "outputId": "17aa98e2-1b08-4c09-eb8b-387812d7e668"
      },
      "source": [
        "#only keeping the categories with more than 100 samples\n",
        "new_dict={}\n",
        "for key, value in category_counts.items():\n",
        "  if value>100:\n",
        "    new_dict[key]=value\n",
        "plt.bar(new_dict.keys(),new_dict.values())\n",
        "plt.title(label='Distibution of data samples to the categories having more than 100 samples')\n",
        "plt.show() "
      ],
      "execution_count": null,
      "outputs": [
        {
          "output_type": "display_data",
          "data": {
            "image/png": "[encoded data removed]",
            "text/plain": [
              "<Figure size 432x288 with 1 Axes>"
            ]
          },
          "metadata": {
            "tags": [],
            "needs_background": "light"
          }
        }
      ]
    },
    {
      "cell_type": "code",
      "metadata": {
        "colab": {
          "base_uri": "https://localhost:8080/"
        },
        "id": "-g3KiGUa5Tlo",
        "outputId": "cbc2db3f-1562-4ccd-8d38-bbfcc5e6e04a"
      },
      "source": [
        "new_dict"
      ],
      "execution_count": null,
      "outputs": [
        {
          "output_type": "execute_result",
          "data": {
            "text/plain": [
              "{'Automotive': 1012,\n",
              " 'Baby Care': 483,\n",
              " 'Bags, Wallets & Belts': 265,\n",
              " 'Beauty and Personal Care': 710,\n",
              " 'Clothing': 6197,\n",
              " 'Computers': 578,\n",
              " 'Footwear': 1227,\n",
              " 'Furniture': 180,\n",
              " 'Home Decor & Festive Needs': 929,\n",
              " 'Home Furnishing': 699,\n",
              " 'Jewellery': 3531,\n",
              " 'Kitchen & Dining': 647,\n",
              " 'Mobiles & Accessories': 1099,\n",
              " 'Pens & Stationery': 313,\n",
              " 'Sports & Fitness': 166,\n",
              " 'Tools & Hardware': 391,\n",
              " 'Toys & School Supplies': 330,\n",
              " 'Watches': 530}"
            ]
          },
          "metadata": {
            "tags": []
          },
          "execution_count": 82
        }
      ]
    },
    {
      "cell_type": "code",
      "metadata": {
        "colab": {
          "base_uri": "https://localhost:8080/",
          "height": 194
        },
        "id": "Xk0V1AMitU4d",
        "outputId": "167db5f7-c898-4b71-d20e-57374b1a51c8"
      },
      "source": [
        "#Storing the description and category having more than 100 instances in dataframe\n",
        "new_description=[]\n",
        "new_category=[]\n",
        "for i in range(len(description)):\n",
        "  if category[i] in new_dict.keys():\n",
        "    new_description.append(description[i])\n",
        "    new_category.append(category[i])\n",
        "    \n",
        "new_df=pd.DataFrame()\n",
        "new_df[\"description\"]=new_description\n",
        "new_df[\"category\"]=new_category\n",
        "new_df.head()"
      ],
      "execution_count": null,
      "outputs": [
        {
          "output_type": "execute_result",
          "data": {
            "text/html": [
              "<div>\n",
              "<style scoped>\n",
              "    .dataframe tbody tr th:only-of-type {\n",
              "        vertical-align: middle;\n",
              "    }\n",
              "\n",
              "    .dataframe tbody tr th {\n",
              "        vertical-align: top;\n",
              "    }\n",
              "\n",
              "    .dataframe thead th {\n",
              "        text-align: right;\n",
              "    }\n",
              "</style>\n",
              "<table border=\"1\" class=\"dataframe\">\n",
              "  <thead>\n",
              "    <tr style=\"text-align: right;\">\n",
              "      <th></th>\n",
              "      <th>description</th>\n",
              "      <th>category</th>\n",
              "    </tr>\n",
              "  </thead>\n",
              "  <tbody>\n",
              "    <tr>\n",
              "      <th>0</th>\n",
              "      <td>key features of alisha solid women s cycling s...</td>\n",
              "      <td>Clothing</td>\n",
              "    </tr>\n",
              "    <tr>\n",
              "      <th>1</th>\n",
              "      <td>fabhomedecor fabric double sofa bed  finish co...</td>\n",
              "      <td>Furniture</td>\n",
              "    </tr>\n",
              "    <tr>\n",
              "      <th>2</th>\n",
              "      <td>key features of aw bellies sandals wedges heel...</td>\n",
              "      <td>Footwear</td>\n",
              "    </tr>\n",
              "    <tr>\n",
              "      <th>3</th>\n",
              "      <td>key features of alisha solid women s cycling s...</td>\n",
              "      <td>Clothing</td>\n",
              "    </tr>\n",
              "    <tr>\n",
              "      <th>4</th>\n",
              "      <td>key features of alisha solid women s cycling s...</td>\n",
              "      <td>Clothing</td>\n",
              "    </tr>\n",
              "  </tbody>\n",
              "</table>\n",
              "</div>"
            ],
            "text/plain": [
              "                                         description   category\n",
              "0  key features of alisha solid women s cycling s...   Clothing\n",
              "1  fabhomedecor fabric double sofa bed  finish co...  Furniture\n",
              "2  key features of aw bellies sandals wedges heel...   Footwear\n",
              "3  key features of alisha solid women s cycling s...   Clothing\n",
              "4  key features of alisha solid women s cycling s...   Clothing"
            ]
          },
          "metadata": {
            "tags": []
          },
          "execution_count": 83
        }
      ]
    },
    {
      "cell_type": "code",
      "metadata": {
        "colab": {
          "base_uri": "https://localhost:8080/",
          "height": 194
        },
        "id": "aqefxHEOctc8",
        "outputId": "a192cf39-9bf4-4a9d-889e-04261c4fa216"
      },
      "source": [
        "#Encoding the textual label to the integer labels\n",
        "lab_enc = preprocessing.LabelEncoder()\n",
        "lab_enc.fit(new_df.category)\n",
        "new_df['categorical_label'] = lab_enc.transform(new_df.category)\n",
        "new_df.head()"
      ],
      "execution_count": null,
      "outputs": [
        {
          "output_type": "execute_result",
          "data": {
            "text/html": [
              "<div>\n",
              "<style scoped>\n",
              "    .dataframe tbody tr th:only-of-type {\n",
              "        vertical-align: middle;\n",
              "    }\n",
              "\n",
              "    .dataframe tbody tr th {\n",
              "        vertical-align: top;\n",
              "    }\n",
              "\n",
              "    .dataframe thead th {\n",
              "        text-align: right;\n",
              "    }\n",
              "</style>\n",
              "<table border=\"1\" class=\"dataframe\">\n",
              "  <thead>\n",
              "    <tr style=\"text-align: right;\">\n",
              "      <th></th>\n",
              "      <th>description</th>\n",
              "      <th>category</th>\n",
              "      <th>categorical_label</th>\n",
              "    </tr>\n",
              "  </thead>\n",
              "  <tbody>\n",
              "    <tr>\n",
              "      <th>0</th>\n",
              "      <td>key features of alisha solid women s cycling s...</td>\n",
              "      <td>Clothing</td>\n",
              "      <td>4</td>\n",
              "    </tr>\n",
              "    <tr>\n",
              "      <th>1</th>\n",
              "      <td>fabhomedecor fabric double sofa bed  finish co...</td>\n",
              "      <td>Furniture</td>\n",
              "      <td>7</td>\n",
              "    </tr>\n",
              "    <tr>\n",
              "      <th>2</th>\n",
              "      <td>key features of aw bellies sandals wedges heel...</td>\n",
              "      <td>Footwear</td>\n",
              "      <td>6</td>\n",
              "    </tr>\n",
              "    <tr>\n",
              "      <th>3</th>\n",
              "      <td>key features of alisha solid women s cycling s...</td>\n",
              "      <td>Clothing</td>\n",
              "      <td>4</td>\n",
              "    </tr>\n",
              "    <tr>\n",
              "      <th>4</th>\n",
              "      <td>key features of alisha solid women s cycling s...</td>\n",
              "      <td>Clothing</td>\n",
              "      <td>4</td>\n",
              "    </tr>\n",
              "  </tbody>\n",
              "</table>\n",
              "</div>"
            ],
            "text/plain": [
              "                                         description  ... categorical_label\n",
              "0  key features of alisha solid women s cycling s...  ...                 4\n",
              "1  fabhomedecor fabric double sofa bed  finish co...  ...                 7\n",
              "2  key features of aw bellies sandals wedges heel...  ...                 6\n",
              "3  key features of alisha solid women s cycling s...  ...                 4\n",
              "4  key features of alisha solid women s cycling s...  ...                 4\n",
              "\n",
              "[5 rows x 3 columns]"
            ]
          },
          "metadata": {
            "tags": []
          },
          "execution_count": 85
        }
      ]
    },
    {
      "cell_type": "code",
      "metadata": {
        "colab": {
          "base_uri": "https://localhost:8080/",
          "height": 281
        },
        "id": "Z4oYjqngCaSg",
        "outputId": "49616784-d101-439f-d28f-95af2f3e9a3b"
      },
      "source": [
        "#analysing the sentence length of the description\n",
        "df=new_df[\"description\"]\n",
        "length=[]\n",
        "for i in range(len(df)) :\n",
        "  if type(df[i])==str:\n",
        "    length.append(len(nltk.word_tokenize(df[i])))\n",
        "c= Counter(length)\n",
        "plt.bar(c.keys(),c.values())\n",
        "plt.xlim(0,200)\n",
        "plt.title(label='Distrbution of the sentence length of descriptions')\n",
        "plt.show() "
      ],
      "execution_count": null,
      "outputs": [
        {
          "output_type": "display_data",
          "data": {
            "image/png": "[encoded data removed]",
            "text/plain": [
              "<Figure size 432x288 with 1 Axes>"
            ]
          },
          "metadata": {
            "tags": [],
            "needs_background": "light"
          }
        }
      ]
    },
    {
      "cell_type": "code",
      "metadata": {
        "id": "7LxrWznbVxG3"
      },
      "source": [
        "#Splitting the dataset into training, testing and validation data\n",
        "X_train, X_test, y_train, y_test = train_test_split(new_df[\"description\"], new_df[\"categorical_label\"], test_size=0.3, random_state=42)\n",
        "X_test, X_val, y_test, y_val = train_test_split(X_test, y_test, test_size=0.5, random_state=42)\n"
      ],
      "execution_count": null,
      "outputs": []
    },
    {
      "cell_type": "code",
      "metadata": {
        "id": "Kxs51ZE8493Q"
      },
      "source": [
        "#defining the one hot matrix for converting the label to one hot encoded form\n",
        "labels = sorted(list(set(y_train)))\n",
        "one_hot = np.zeros((len(labels), len(labels)), int)\n",
        "np.fill_diagonal(one_hot, 1)\n",
        "label_dict = dict(zip(labels, one_hot))"
      ],
      "execution_count": null,
      "outputs": []
    },
    {
      "cell_type": "code",
      "metadata": {
        "id": "f9F5gpmB5INJ"
      },
      "source": [
        "#Converting the labels to one hot encoding\n",
        "y_train = np.eye(len(label_dict))[y_train]\n",
        "y_test = np.eye(len(label_dict))[y_test]\n",
        "y_val = np.eye(len(label_dict))[y_val]"
      ],
      "execution_count": null,
      "outputs": []
    },
    {
      "cell_type": "code",
      "metadata": {
        "colab": {
          "base_uri": "https://localhost:8080/"
        },
        "id": "rV9JowD_QEyM",
        "outputId": "b0105184-091e-4cde-93bf-81fa8232dc4d"
      },
      "source": [
        "#Fitting the tokenizer on the trainig dataset \n",
        "sent_length=128\n",
        "tokenizer=Tokenizer()\n",
        "tokenizer.fit_on_texts(X_train)\n",
        "word_index = tokenizer.word_index\n",
        "voc_size = len(tokenizer.word_index) + 1\n",
        "print(\"Vocabulary Size:\", voc_size)\n"
      ],
      "execution_count": null,
      "outputs": [
        {
          "output_type": "stream",
          "text": [
            "Vocabulary Size: 16399\n"
          ],
          "name": "stdout"
        }
      ]
    },
    {
      "cell_type": "code",
      "metadata": {
        "id": "OUsXTc1zwlSV"
      },
      "source": [
        "#Converting the Description in the training data to the tokens \n",
        "sequences = tokenizer.texts_to_sequences(X_train)\n",
        "embedded_docs=pad_sequences(sequences,padding='post',maxlen=sent_length)\n",
        "X_train=np.array(embedded_docs)"
      ],
      "execution_count": null,
      "outputs": []
    },
    {
      "cell_type": "code",
      "metadata": {
        "id": "TjrZs-U0XXge"
      },
      "source": [
        "#Converting the Description in the testing data to the tokens \n",
        "sequences = tokenizer.texts_to_sequences(X_test)\n",
        "embedded_docs=pad_sequences(sequences,padding='post',maxlen=sent_length)\n",
        "X_test=np.array(embedded_docs)    "
      ],
      "execution_count": null,
      "outputs": []
    },
    {
      "cell_type": "code",
      "metadata": {
        "id": "09jk36PKP0M3"
      },
      "source": [
        "#Converting the Description in the validation data to the tokens \n",
        "sequences = tokenizer.texts_to_sequences(X_val)\n",
        "embedded_docs=pad_sequences(sequences,padding='post',maxlen=sent_length)\n",
        "X_val=np.array(embedded_docs)  "
      ],
      "execution_count": null,
      "outputs": []
    },
    {
      "cell_type": "code",
      "metadata": {
        "id": "62tvUSkUrGmc"
      },
      "source": [
        "\n",
        "class CapsuleNorm(layers.Layer):\n",
        "    \"\"\"\n",
        "    inputs: shape=[None, num_vectors, dim_vector]\n",
        "    output: shape=[None, num_vectors]\n",
        "    \"\"\"\n",
        "    def call(self, inputs, **kwargs):\n",
        "        return K.sqrt(K.sum(K.square(inputs), -1) + K.epsilon())\n",
        "\n",
        "    def compute_output_shape(self, input_shape):\n",
        "        return input_shape[:-1]\n",
        "\n",
        "    def get_config(self):\n",
        "        config = super(Length, self).get_config()\n",
        "        return config\n"
      ],
      "execution_count": null,
      "outputs": []
    },
    {
      "cell_type": "code",
      "metadata": {
        "id": "NPP4jtGTrLMR"
      },
      "source": [
        "\n",
        "class Routing(layers.Layer):\n",
        "\n",
        "    def __init__(self, num_capsule,\n",
        "                 dim_capsule,\n",
        "                 routing=False,\n",
        "                 num_routing=3,\n",
        "                 l2_constant=0.0001,\n",
        "                 kernel_initializer='glorot_uniform', **kwargs):\n",
        "\n",
        "        super(Routing, self).__init__(**kwargs)\n",
        "        self.num_capsule = num_capsule\n",
        "        self.dim_capsule = dim_capsule\n",
        "        self.routing = routing\n",
        "        self.num_routing = num_routing\n",
        "        self.l2_constant = l2_constant\n",
        "        self.kernel_initializer = initializers.get(kernel_initializer)\n",
        "\n",
        "    def build(self, input_shape):\n",
        "\n",
        "        self.input_num_capsule = input_shape[1]\n",
        "        self.input_dim_capsule = input_shape[2]\n",
        "\n",
        "        # Transform matrix\n",
        "        self.W = self.add_weight(shape=[self.num_capsule, self.input_num_capsule,\n",
        "                                        self.dim_capsule, self.input_dim_capsule],\n",
        "                                 initializer=self.kernel_initializer,\n",
        "                                 regularizer=l2(self.l2_constant),\n",
        "                                 name='capsule_weight')\n",
        "        self.built = True\n",
        "\n",
        "    def call(self, inputs, training=True):\n",
        "\n",
        "        inputs_expand = K.expand_dims(inputs, 1)\n",
        "        inputs_tiled = K.tile(inputs_expand, [1, self.num_capsule, 1, 1])\n",
        "\n",
        "        # inputs_hat.shape = [None, num_capsule, input_num_capsule, upper capsule length]\n",
        "        inputs_hat = K.map_fn(lambda x: K.batch_dot(x, self.W, [2, 3]), elems=inputs_tiled)\n",
        "        inputs_hat = K.sum(inputs_hat,axis=-1)\n",
        "\n",
        "        # dynamic routing\n",
        "        if self.routing:\n",
        "            b = tf.zeros(shape=[K.shape(inputs_hat)[0], self.num_capsule, self.input_num_capsule])\n",
        "\n",
        "            for i in range(self.num_routing):\n",
        "                # c shape = [batch_size, num_capsule, input_num_capsule]\n",
        "                c = tf.keras.activations.softmax(b, axis=1)\n",
        "                # outputs = [batch_size, num_classes, upper capsule length]\n",
        "                outputs = squash(K.batch_dot(c, inputs_hat, [2, 2]))\n",
        "\n",
        "                if i < self.routing - 1:\n",
        "                    b += K.batch_dot(outputs, inputs_hat, [2, 3])\n",
        "\n",
        "        # static routing\n",
        "        else:\n",
        "            # outputs = [batch_size, num_classes, upper capsule length]\n",
        "            outputs = K.sum(inputs_hat, axis=2)\n",
        "            outputs = squash(outputs)\n",
        "        return outputs\n",
        "\n",
        "    def compute_output_shape(self, input_shape):\n",
        "        return tuple([None, self.num_capsule, self.dim_capsule])\n",
        "\n",
        "    def get_config(self):\n",
        "        config = {\n",
        "            'num_capsule': self.num_capsule,\n",
        "            'dim_capsule': self.dim_capsule,\n",
        "            'routing': self.routing,\n",
        "            'num_routing': self.num_routing,\n",
        "            'l2_constant': self.l2_constant\n",
        "        }\n",
        "        base_config = super(Routing, self).get_config()\n",
        "        return dict(list(base_config.items()) + list(config.items()))\n",
        "\n"
      ],
      "execution_count": null,
      "outputs": []
    },
    {
      "cell_type": "code",
      "metadata": {
        "id": "tP5dWgfsrNXT"
      },
      "source": [
        "\n",
        "def squash(vectors, axis=-1):\n",
        "    \"\"\"\n",
        "    The non-linear activation used in Capsule. It drives the length of a large vector to near 1 and small vector to 0\n",
        "    :param vectors: some vectors to be squashed, N-dim tensor\n",
        "    :param axis: the axis to squash\n",
        "    :return: a Tensor with same shape as input vectors\n",
        "    \"\"\"\n",
        "    s_squared_norm = K.sum(K.square(vectors), axis, keepdims=True)\n",
        "    scale = s_squared_norm / (1 + s_squared_norm) / K.sqrt(s_squared_norm + K.epsilon())\n",
        "    return scale * vectors\n"
      ],
      "execution_count": null,
      "outputs": []
    },
    {
      "cell_type": "code",
      "metadata": {
        "id": "PoGD-cpCrPVS"
      },
      "source": [
        "def margin_loss(y_true, y_pred):\n",
        "\n",
        "    \"\"\"\n",
        "    :param y_true: [None, n_classes]\n",
        "    :param y_pred: [None, num_capsule]\n",
        "    :return: a scalar loss value.\n",
        "    \"\"\"\n",
        "    L = y_true * K.square(K.maximum(0., 0.9 - y_pred)) + \\\n",
        "        0.5 * (1 - y_true) * K.square(K.maximum(0., y_pred - 0.1))\n",
        "\n",
        "    return K.mean(K.sum(L, 1))\n"
      ],
      "execution_count": null,
      "outputs": []
    },
    {
      "cell_type": "code",
      "metadata": {
        "colab": {
          "base_uri": "https://localhost:8080/"
        },
        "id": "oNh_VHxASAAE",
        "outputId": "bae1dfc5-dbe7-4b3f-943a-c2895483d2bd"
      },
      "source": [
        "    input_tokens = layers.Input((128,))\n",
        "    embedding=Embedding(voc_size,100,input_length=sent_length)(input_tokens)\n",
        "\n",
        "    embedding = layers.Lambda(lambda x: K.expand_dims(x, axis=-1))(embedding)\n",
        "\n",
        "    # non-linear gate layer\n",
        "    elu_layer = layers.Conv2D(256, kernel_size=(3, 100),\n",
        "                              use_bias=False,\n",
        "                              kernel_regularizer=l2(0.), activation=None)(embedding)\n",
        "    elu_layer = layers.BatchNormalization()(elu_layer)\n",
        "    elu_layer = layers.Activation('elu')(elu_layer)\n",
        "\n",
        "    conv_layer = layers.Conv2D(256, kernel_size=(3,100),\n",
        "                               use_bias=False,\n",
        "                               kernel_regularizer=l2(0.), activation=None)(embedding)\n",
        "    conv_layer = layers.BatchNormalization()(conv_layer)\n",
        "\n",
        "    gate_layer = layers.Multiply()([elu_layer, conv_layer])\n",
        "\n",
        "    # dropout\n",
        "    gate_layer = layers.Dropout(0.1)(gate_layer)\n",
        "\n",
        "    # convolutional capsule layer\n",
        "    h_i = layers.Conv2D(6*10,\n",
        "                        kernel_size=(K.int_shape(gate_layer)[1], 1),\n",
        "                        use_bias=False,\n",
        "                        kernel_regularizer=l2(0.), activation=None)(gate_layer)\n",
        "    h_i = layers.Reshape((6, 10))(h_i)\n",
        "    h_i = layers.BatchNormalization()(h_i)\n",
        "\n",
        "    h_i = layers.Activation('relu')(h_i)\n",
        "\n",
        "    # dropout\n",
        "    h_i = layers.Dropout(0.1)(h_i)\n",
        "\n",
        "    # routing algorithm\n",
        "    text_caps = Routing(num_capsule=18,\n",
        "                        l2_constant=0.,\n",
        "                        dim_capsule=16,\n",
        "                        routing=False,\n",
        "                        num_routing=3)(h_i)\n",
        "\n",
        "    output = CapsuleNorm()(text_caps)\n",
        "\n",
        "    model = Model(input_tokens, output, name='text-capsnet')\n",
        "\n",
        "    model.summary()\n",
        "\n",
        "    # compile model\n",
        "    model.compile(loss=[margin_loss], optimizer=Adam(0.001, beta_1=0.7, beta_2=0.999, amsgrad=True),\n",
        "                  metrics=['accuracy'])"
      ],
      "execution_count": null,
      "outputs": [
        {
          "output_type": "stream",
          "text": [
            "Model: \"text-capsnet\"\n",
            "__________________________________________________________________________________________________\n",
            "Layer (type)                    Output Shape         Param #     Connected to                     \n",
            "==================================================================================================\n",
            "input_9 (InputLayer)            [(None, 128)]        0                                            \n",
            "__________________________________________________________________________________________________\n",
            "embedding_7 (Embedding)         (None, 128, 100)     1639900     input_9[0][0]                    \n",
            "__________________________________________________________________________________________________\n",
            "lambda_7 (Lambda)               (None, 128, 100, 1)  0           embedding_7[0][0]                \n",
            "__________________________________________________________________________________________________\n",
            "conv2d_21 (Conv2D)              (None, 126, 1, 256)  76800       lambda_7[0][0]                   \n",
            "__________________________________________________________________________________________________\n",
            "batch_normalization_21 (BatchNo (None, 126, 1, 256)  1024        conv2d_21[0][0]                  \n",
            "__________________________________________________________________________________________________\n",
            "conv2d_22 (Conv2D)              (None, 126, 1, 256)  76800       lambda_7[0][0]                   \n",
            "__________________________________________________________________________________________________\n",
            "activation_14 (Activation)      (None, 126, 1, 256)  0           batch_normalization_21[0][0]     \n",
            "__________________________________________________________________________________________________\n",
            "batch_normalization_22 (BatchNo (None, 126, 1, 256)  1024        conv2d_22[0][0]                  \n",
            "__________________________________________________________________________________________________\n",
            "multiply_7 (Multiply)           (None, 126, 1, 256)  0           activation_14[0][0]              \n",
            "                                                                 batch_normalization_22[0][0]     \n",
            "__________________________________________________________________________________________________\n",
            "dropout_14 (Dropout)            (None, 126, 1, 256)  0           multiply_7[0][0]                 \n",
            "__________________________________________________________________________________________________\n",
            "conv2d_23 (Conv2D)              (None, 1, 1, 60)     1935360     dropout_14[0][0]                 \n",
            "__________________________________________________________________________________________________\n",
            "reshape_7 (Reshape)             (None, 6, 10)        0           conv2d_23[0][0]                  \n",
            "__________________________________________________________________________________________________\n",
            "batch_normalization_23 (BatchNo (None, 6, 10)        40          reshape_7[0][0]                  \n",
            "__________________________________________________________________________________________________\n",
            "activation_15 (Activation)      (None, 6, 10)        0           batch_normalization_23[0][0]     \n",
            "__________________________________________________________________________________________________\n",
            "dropout_15 (Dropout)            (None, 6, 10)        0           activation_15[0][0]              \n",
            "__________________________________________________________________________________________________\n",
            "routing_7 (Routing)             (None, 18, 6)        17280       dropout_15[0][0]                 \n",
            "__________________________________________________________________________________________________\n",
            "capsule_norm_5 (CapsuleNorm)    (None, 18)           0           routing_7[0][0]                  \n",
            "==================================================================================================\n",
            "Total params: 3,748,228\n",
            "Trainable params: 3,747,184\n",
            "Non-trainable params: 1,044\n",
            "__________________________________________________________________________________________________\n"
          ],
          "name": "stdout"
        }
      ]
    },
    {
      "cell_type": "code",
      "metadata": {
        "colab": {
          "base_uri": "https://localhost:8080/"
        },
        "id": "6dY0b3O8rmN9",
        "outputId": "526cbb9f-6ee5-4ffc-9077-47ddadac0abc"
      },
      "source": [
        "model.fit(X_train, y_train, batch_size=40, epochs=10)"
      ],
      "execution_count": null,
      "outputs": [
        {
          "output_type": "stream",
          "text": [
            "Epoch 1/10\n",
            "338/338 [==============================] - 142s 413ms/step - loss: 0.3540 - accuracy: 0.6217\n",
            "Epoch 2/10\n",
            "338/338 [==============================] - 140s 414ms/step - loss: 0.1032 - accuracy: 0.9083\n",
            "Epoch 3/10\n",
            "338/338 [==============================] - 140s 414ms/step - loss: 0.0728 - accuracy: 0.9499\n",
            "Epoch 4/10\n",
            "338/338 [==============================] - 139s 412ms/step - loss: 0.0639 - accuracy: 0.9594\n",
            "Epoch 5/10\n",
            "338/338 [==============================] - 139s 411ms/step - loss: 0.0574 - accuracy: 0.9669\n",
            "Epoch 6/10\n",
            "338/338 [==============================] - 141s 416ms/step - loss: 0.0563 - accuracy: 0.9674\n",
            "Epoch 7/10\n",
            "338/338 [==============================] - 140s 415ms/step - loss: 0.0526 - accuracy: 0.9697\n",
            "Epoch 8/10\n",
            "338/338 [==============================] - 141s 416ms/step - loss: 0.0501 - accuracy: 0.9766\n",
            "Epoch 9/10\n",
            "338/338 [==============================] - 139s 412ms/step - loss: 0.0485 - accuracy: 0.9781\n",
            "Epoch 10/10\n",
            "338/338 [==============================] - 141s 418ms/step - loss: 0.0481 - accuracy: 0.9778\n"
          ],
          "name": "stdout"
        },
        {
          "output_type": "execute_result",
          "data": {
            "text/plain": [
              "<tensorflow.python.keras.callbacks.History at 0x7f6c534ef850>"
            ]
          },
          "metadata": {
            "tags": []
          },
          "execution_count": 58
        }
      ]
    },
    {
      "cell_type": "code",
      "metadata": {
        "colab": {
          "base_uri": "https://localhost:8080/"
        },
        "id": "_70l2GilaWkx",
        "outputId": "28482769-229e-4b95-bd19-e07824fdc443"
      },
      "source": [
        "#Testing the Capsnet model on test dataset\n",
        "print(\"FOR Capsnet MODEL\")\n",
        "#saved_model=load_model('/content/drive/MyDrive/IIIT_MIDAS/saved_models/'+'Multi_CNN.hdf5')\n",
        "y_prob = model.predict(X_test)\n",
        "y_pred = np.argmax(y_prob,axis=1)\n",
        "y_test = np.argmax(y_test,axis=1)\n",
        "accuracy = accuracy_score(y_test, y_pred)\n",
        "print('Accuracy: %f' % accuracy)\n",
        "precision = precision_score(y_test, y_pred, average='macro')\n",
        "print('Precision: %f' % precision)\n",
        "recall = recall_score(y_test, y_pred,average='macro')\n",
        "print('Recall: %f' % recall)\n",
        "f1 = f1_score(y_test, y_pred,average='macro')\n",
        "print('F1 score: %f' % f1)"
      ],
      "execution_count": null,
      "outputs": [
        {
          "output_type": "stream",
          "text": [
            "FOR Capsnet MODEL\n",
            "Accuracy: 0.951607\n",
            "Precision: 0.866211\n",
            "Recall: 0.867769\n",
            "F1 score: 0.857463\n"
          ],
          "name": "stdout"
        }
      ]
    }
  ]
}