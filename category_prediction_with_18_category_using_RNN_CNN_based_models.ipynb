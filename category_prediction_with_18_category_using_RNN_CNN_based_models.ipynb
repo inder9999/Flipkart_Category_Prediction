{
  "nbformat": 4,
  "nbformat_minor": 0,
  "metadata": {
    "colab": {
      "name": "category_prediction_with_18_category_using_RNN_CNN_based_models.ipynb",
      "provenance": [],
      "collapsed_sections": []
    },
    "kernelspec": {
      "name": "python3",
      "display_name": "Python 3"
    },
    "language_info": {
      "name": "python"
    },
    "accelerator": "GPU"
  },
  "cells": [
    {
      "cell_type": "code",
      "metadata": {
        "id": "Aa83AQEWV2ys",
        "colab": {
          "base_uri": "https://localhost:8080/"
        },
        "outputId": "dc7275b2-975f-47c5-f56b-358d4e5dd1a3"
      },
      "source": [
        "'''Important Libraries and Modules that would be used throughout the task are imported'''\n",
        "from keras.layers import Embedding\n",
        "from keras.preprocessing.sequence import pad_sequences\n",
        "from keras.models import Sequential\n",
        "from keras.preprocessing.text import Tokenizer\n",
        "from keras.preprocessing.text import one_hot\n",
        "from keras.layers import LSTM\n",
        "from keras.layers import GRU\n",
        "from keras.layers import Dense\n",
        "from keras.layers import Input\n",
        "from keras.layers import Bidirectional\n",
        "from keras.layers import Dropout\n",
        "from keras.layers import concatenate\n",
        "from keras.layers import Flatten\n",
        "from keras.layers import Conv1D\n",
        "from keras.layers import Conv2D\n",
        "from keras.layers import MaxPooling1D\n",
        "from keras.layers import BatchNormalization\n",
        "from keras.models import Model\n",
        "from keras.layers import LeakyReLU\n",
        "from keras.layers import Lambda\n",
        "from keras.layers import Activation\n",
        "from keras.layers import Multiply\n",
        "from keras.layers import GlobalAveragePooling1D\n",
        "from keras.layers import AveragePooling1D\n",
        "from keras.layers import TimeDistributed\n",
        "from keras.layers import Reshape\n",
        "import tensorflow as tf\n",
        "from keras.engine.topology import Layer\n",
        "import tensorflow as tf\n",
        "from tensorflow import keras\n",
        "from tensorflow.keras import layers\n",
        "import pandas as pd\n",
        "import nltk\n",
        "import re\n",
        "from nltk.corpus import stopwords\n",
        "nltk.download('stopwords')\n",
        "nltk.download('punkt')\n",
        "from nltk.stem.porter import PorterStemmer\n",
        "import numpy as np\n",
        "from sklearn.model_selection import train_test_split\n",
        "from sklearn.metrics import accuracy_score\n",
        "from sklearn.metrics import classification_report\n",
        "from sklearn.metrics import confusion_matrix\n",
        "from keras.utils.vis_utils import plot_model\n",
        "from collections import Counter\n",
        "import matplotlib.pyplot as plt\n",
        "from sklearn.metrics import precision_score\n",
        "from sklearn.metrics import recall_score\n",
        "from sklearn.metrics import f1_score\n",
        "from sklearn.metrics import cohen_kappa_score\n",
        "from sklearn.metrics import roc_auc_score\n",
        "from sklearn.metrics import confusion_matrix\n",
        "from keras.callbacks import ModelCheckpoint\n",
        "from sklearn import preprocessing\n",
        "from keras.models import load_model\n",
        "import seaborn as sns"
      ],
      "execution_count": 29,
      "outputs": [
        {
          "output_type": "stream",
          "text": [
            "[nltk_data] Downloading package stopwords to /root/nltk_data...\n",
            "[nltk_data]   Package stopwords is already up-to-date!\n",
            "[nltk_data] Downloading package punkt to /root/nltk_data...\n",
            "[nltk_data]   Package punkt is already up-to-date!\n"
          ],
          "name": "stdout"
        }
      ]
    },
    {
      "cell_type": "code",
      "metadata": {
        "colab": {
          "base_uri": "https://localhost:8080/"
        },
        "id": "vy06ZDzcZbrO",
        "outputId": "8eec35a4-f101-4429-c248-0b2269e20386"
      },
      "source": [
        "from google.colab import drive\n",
        "drive.mount('/content/drive')"
      ],
      "execution_count": 2,
      "outputs": [
        {
          "output_type": "stream",
          "text": [
            "Mounted at /content/drive\n"
          ],
          "name": "stdout"
        }
      ]
    },
    {
      "cell_type": "code",
      "metadata": {
        "colab": {
          "base_uri": "https://localhost:8080/",
          "height": 212
        },
        "id": "5qCKfVjSXC62",
        "outputId": "f97cec80-8950-43d8-ec37-1238a1b4c4c1"
      },
      "source": [
        "#Loading of Data in Pandas DataFrame from CSV file\n",
        "#Other Features were removed from the CSV as they are not used in the tasks \n",
        "data=pd.read_csv(\"/content/drive/MyDrive/IIIT_MIDAS/flipkart_com-ecommerce_sample.csv\", encoding= 'unicode_escape')\n",
        "print(len(data))\n",
        "data.head()"
      ],
      "execution_count": 3,
      "outputs": [
        {
          "output_type": "stream",
          "text": [
            "20000\n"
          ],
          "name": "stdout"
        },
        {
          "output_type": "execute_result",
          "data": {
            "text/html": [
              "<div>\n",
              "<style scoped>\n",
              "    .dataframe tbody tr th:only-of-type {\n",
              "        vertical-align: middle;\n",
              "    }\n",
              "\n",
              "    .dataframe tbody tr th {\n",
              "        vertical-align: top;\n",
              "    }\n",
              "\n",
              "    .dataframe thead th {\n",
              "        text-align: right;\n",
              "    }\n",
              "</style>\n",
              "<table border=\"1\" class=\"dataframe\">\n",
              "  <thead>\n",
              "    <tr style=\"text-align: right;\">\n",
              "      <th></th>\n",
              "      <th>product_category_tree</th>\n",
              "      <th>description</th>\n",
              "      <th>brand</th>\n",
              "    </tr>\n",
              "  </thead>\n",
              "  <tbody>\n",
              "    <tr>\n",
              "      <th>0</th>\n",
              "      <td>[\"Clothing &gt;&gt; Women's Clothing &gt;&gt; Lingerie, Sl...</td>\n",
              "      <td>Key Features of Alisha Solid Women's Cycling S...</td>\n",
              "      <td>Alisha</td>\n",
              "    </tr>\n",
              "    <tr>\n",
              "      <th>1</th>\n",
              "      <td>[\"Furniture &gt;&gt; Living Room Furniture &gt;&gt; Sofa B...</td>\n",
              "      <td>FabHomeDecor Fabric Double Sofa Bed (Finish Co...</td>\n",
              "      <td>FabHomeDecor</td>\n",
              "    </tr>\n",
              "    <tr>\n",
              "      <th>2</th>\n",
              "      <td>[\"Footwear &gt;&gt; Women's Footwear &gt;&gt; Ballerinas &gt;...</td>\n",
              "      <td>Key Features of AW Bellies Sandals Wedges Heel...</td>\n",
              "      <td>AW</td>\n",
              "    </tr>\n",
              "    <tr>\n",
              "      <th>3</th>\n",
              "      <td>[\"Clothing &gt;&gt; Women's Clothing &gt;&gt; Lingerie, Sl...</td>\n",
              "      <td>Key Features of Alisha Solid Women's Cycling S...</td>\n",
              "      <td>Alisha</td>\n",
              "    </tr>\n",
              "    <tr>\n",
              "      <th>4</th>\n",
              "      <td>[\"Pet Supplies &gt;&gt; Grooming &gt;&gt; Skin &amp; Coat Care...</td>\n",
              "      <td>Specifications of Sicons All Purpose Arnica Do...</td>\n",
              "      <td>Sicons</td>\n",
              "    </tr>\n",
              "  </tbody>\n",
              "</table>\n",
              "</div>"
            ],
            "text/plain": [
              "                               product_category_tree  ...         brand\n",
              "0  [\"Clothing >> Women's Clothing >> Lingerie, Sl...  ...        Alisha\n",
              "1  [\"Furniture >> Living Room Furniture >> Sofa B...  ...  FabHomeDecor\n",
              "2  [\"Footwear >> Women's Footwear >> Ballerinas >...  ...            AW\n",
              "3  [\"Clothing >> Women's Clothing >> Lingerie, Sl...  ...        Alisha\n",
              "4  [\"Pet Supplies >> Grooming >> Skin & Coat Care...  ...        Sicons\n",
              "\n",
              "[5 rows x 3 columns]"
            ]
          },
          "metadata": {
            "tags": []
          },
          "execution_count": 3
        }
      ]
    },
    {
      "cell_type": "code",
      "metadata": {
        "colab": {
          "base_uri": "https://localhost:8080/",
          "height": 69
        },
        "id": "svcm2XiGNM8R",
        "outputId": "52d8e7e5-81db-4b2a-c7a5-13726ee6b546"
      },
      "source": [
        "data.description[0]"
      ],
      "execution_count": 4,
      "outputs": [
        {
          "output_type": "execute_result",
          "data": {
            "application/vnd.google.colaboratory.intrinsic+json": {
              "type": "string"
            },
            "text/plain": [
              "\"Key Features of Alisha Solid Women's Cycling Shorts Cotton Lycra Navy, Red, Navy,Specifications of Alisha Solid Women's Cycling Shorts Shorts Details Number of Contents in Sales Package Pack of 3 Fabric Cotton Lycra Type Cycling Shorts General Details Pattern Solid Ideal For Women's Fabric Care Gentle Machine Wash in Lukewarm Water, Do Not Bleach Additional Details Style Code ALTHT_3P_21 In the Box 3 shorts\""
            ]
          },
          "metadata": {
            "tags": []
          },
          "execution_count": 4
        }
      ]
    },
    {
      "cell_type": "code",
      "metadata": {
        "colab": {
          "base_uri": "https://localhost:8080/",
          "height": 195
        },
        "id": "vQXVquHsXnhN",
        "outputId": "330ca0f3-8cfd-46ce-a328-b2beee41ae75"
      },
      "source": [
        "#Text Preprocessing\n",
        "category=[]\n",
        "description=[]\n",
        "for i in range(len(data)):\n",
        "  if type(data['description'][i]) == str :\n",
        "    category.append(data[\"product_category_tree\"][i].split('>>')[0][2:-1]) #Primary Category is being extracted from the product category tree\n",
        "    des = re.sub('[^a-zA-Z]', ' ', data['description'][i])\n",
        "    des = re.sub('[/(){}\\[\\]\\|@,.;_]', ' ', des) #Removing the symbols that are not useful in classification task\n",
        "    des = des.lower() #Converting the text into lowercase \n",
        "    description.append(des) \n",
        "\n",
        "data = pd.DataFrame()\n",
        "data[\"category\"]=category\n",
        "data[\"description\"]=description\n",
        "data.head()    \n"
      ],
      "execution_count": 5,
      "outputs": [
        {
          "output_type": "execute_result",
          "data": {
            "text/html": [
              "<div>\n",
              "<style scoped>\n",
              "    .dataframe tbody tr th:only-of-type {\n",
              "        vertical-align: middle;\n",
              "    }\n",
              "\n",
              "    .dataframe tbody tr th {\n",
              "        vertical-align: top;\n",
              "    }\n",
              "\n",
              "    .dataframe thead th {\n",
              "        text-align: right;\n",
              "    }\n",
              "</style>\n",
              "<table border=\"1\" class=\"dataframe\">\n",
              "  <thead>\n",
              "    <tr style=\"text-align: right;\">\n",
              "      <th></th>\n",
              "      <th>category</th>\n",
              "      <th>description</th>\n",
              "    </tr>\n",
              "  </thead>\n",
              "  <tbody>\n",
              "    <tr>\n",
              "      <th>0</th>\n",
              "      <td>Clothing</td>\n",
              "      <td>key features of alisha solid women s cycling s...</td>\n",
              "    </tr>\n",
              "    <tr>\n",
              "      <th>1</th>\n",
              "      <td>Furniture</td>\n",
              "      <td>fabhomedecor fabric double sofa bed  finish co...</td>\n",
              "    </tr>\n",
              "    <tr>\n",
              "      <th>2</th>\n",
              "      <td>Footwear</td>\n",
              "      <td>key features of aw bellies sandals wedges heel...</td>\n",
              "    </tr>\n",
              "    <tr>\n",
              "      <th>3</th>\n",
              "      <td>Clothing</td>\n",
              "      <td>key features of alisha solid women s cycling s...</td>\n",
              "    </tr>\n",
              "    <tr>\n",
              "      <th>4</th>\n",
              "      <td>Pet Supplies</td>\n",
              "      <td>specifications of sicons all purpose arnica do...</td>\n",
              "    </tr>\n",
              "  </tbody>\n",
              "</table>\n",
              "</div>"
            ],
            "text/plain": [
              "       category                                        description\n",
              "0      Clothing  key features of alisha solid women s cycling s...\n",
              "1     Furniture  fabhomedecor fabric double sofa bed  finish co...\n",
              "2      Footwear  key features of aw bellies sandals wedges heel...\n",
              "3      Clothing  key features of alisha solid women s cycling s...\n",
              "4  Pet Supplies  specifications of sicons all purpose arnica do..."
            ]
          },
          "metadata": {
            "tags": []
          },
          "execution_count": 5
        }
      ]
    },
    {
      "cell_type": "code",
      "metadata": {
        "colab": {
          "base_uri": "https://localhost:8080/",
          "height": 298
        },
        "id": "IR_eHbamvi-1",
        "outputId": "8e61e9d8-9acc-4255-e8e6-0295d73baeeb"
      },
      "source": [
        "# Distibution of data samples to the categories\n",
        "category_counts= Counter(category)\n",
        "print(f\"Total No. of Categories :\",len(category_counts.keys()))\n",
        "plt.bar(category_counts.keys(),category_counts.values() )\n",
        "plt.title(label='Distibution of data samples to the categories')\n",
        "plt.show() "
      ],
      "execution_count": 6,
      "outputs": [
        {
          "output_type": "stream",
          "text": [
            "Total No. of Categories : 266\n"
          ],
          "name": "stdout"
        },
        {
          "output_type": "display_data",
          "data": {
            "image/png": "[encoded data removed]",
            "text/plain": [
              "<Figure size 432x288 with 1 Axes>"
            ]
          },
          "metadata": {
            "tags": [],
            "needs_background": "light"
          }
        }
      ]
    },
    {
      "cell_type": "code",
      "metadata": {
        "colab": {
          "base_uri": "https://localhost:8080/",
          "height": 281
        },
        "id": "w-PePl27yZ-o",
        "outputId": "7b0d0f48-5ee9-45b7-b11d-b438e2d59371"
      },
      "source": [
        "#only keeping the categories with more than 100 samples\n",
        "new_dict={}\n",
        "for key, value in category_counts.items():\n",
        "  if value>100:\n",
        "    new_dict[key]=value\n",
        "plt.bar(new_dict.keys(),new_dict.values())\n",
        "plt.title(label='Distibution of data samples to the categories having more than 100 samples')\n",
        "plt.show() "
      ],
      "execution_count": 7,
      "outputs": [
        {
          "output_type": "display_data",
          "data": {
            "image/png": "[encoded data removed]",
            "text/plain": [
              "<Figure size 432x288 with 1 Axes>"
            ]
          },
          "metadata": {
            "tags": [],
            "needs_background": "light"
          }
        }
      ]
    },
    {
      "cell_type": "code",
      "metadata": {
        "colab": {
          "base_uri": "https://localhost:8080/"
        },
        "id": "-g3KiGUa5Tlo",
        "outputId": "ee48293b-c522-4b51-bcd3-572f38d43378"
      },
      "source": [
        "new_dict"
      ],
      "execution_count": 8,
      "outputs": [
        {
          "output_type": "execute_result",
          "data": {
            "text/plain": [
              "{'Automotive': 1012,\n",
              " 'Baby Care': 483,\n",
              " 'Bags, Wallets & Belts': 265,\n",
              " 'Beauty and Personal Care': 710,\n",
              " 'Clothing': 6197,\n",
              " 'Computers': 578,\n",
              " 'Footwear': 1227,\n",
              " 'Furniture': 180,\n",
              " 'Home Decor & Festive Needs': 929,\n",
              " 'Home Furnishing': 699,\n",
              " 'Jewellery': 3531,\n",
              " 'Kitchen & Dining': 647,\n",
              " 'Mobiles & Accessories': 1099,\n",
              " 'Pens & Stationery': 313,\n",
              " 'Sports & Fitness': 166,\n",
              " 'Tools & Hardware': 391,\n",
              " 'Toys & School Supplies': 330,\n",
              " 'Watches': 530}"
            ]
          },
          "metadata": {
            "tags": []
          },
          "execution_count": 8
        }
      ]
    },
    {
      "cell_type": "code",
      "metadata": {
        "colab": {
          "base_uri": "https://localhost:8080/",
          "height": 195
        },
        "id": "Xk0V1AMitU4d",
        "outputId": "31493576-122a-471d-c470-79164d84f80e"
      },
      "source": [
        "#Storing the description and category having more than 100 instances in dataframe\n",
        "new_description=[]\n",
        "new_category=[]\n",
        "for i in range(len(description)):\n",
        "  if category[i] in new_dict.keys():\n",
        "    new_description.append(description[i])\n",
        "    new_category.append(category[i])\n",
        "    \n",
        "new_df=pd.DataFrame()\n",
        "new_df[\"description\"]=new_description\n",
        "new_df[\"category\"]=new_category\n",
        "new_df.head()"
      ],
      "execution_count": 9,
      "outputs": [
        {
          "output_type": "execute_result",
          "data": {
            "text/html": [
              "<div>\n",
              "<style scoped>\n",
              "    .dataframe tbody tr th:only-of-type {\n",
              "        vertical-align: middle;\n",
              "    }\n",
              "\n",
              "    .dataframe tbody tr th {\n",
              "        vertical-align: top;\n",
              "    }\n",
              "\n",
              "    .dataframe thead th {\n",
              "        text-align: right;\n",
              "    }\n",
              "</style>\n",
              "<table border=\"1\" class=\"dataframe\">\n",
              "  <thead>\n",
              "    <tr style=\"text-align: right;\">\n",
              "      <th></th>\n",
              "      <th>description</th>\n",
              "      <th>category</th>\n",
              "    </tr>\n",
              "  </thead>\n",
              "  <tbody>\n",
              "    <tr>\n",
              "      <th>0</th>\n",
              "      <td>key features of alisha solid women s cycling s...</td>\n",
              "      <td>Clothing</td>\n",
              "    </tr>\n",
              "    <tr>\n",
              "      <th>1</th>\n",
              "      <td>fabhomedecor fabric double sofa bed  finish co...</td>\n",
              "      <td>Furniture</td>\n",
              "    </tr>\n",
              "    <tr>\n",
              "      <th>2</th>\n",
              "      <td>key features of aw bellies sandals wedges heel...</td>\n",
              "      <td>Footwear</td>\n",
              "    </tr>\n",
              "    <tr>\n",
              "      <th>3</th>\n",
              "      <td>key features of alisha solid women s cycling s...</td>\n",
              "      <td>Clothing</td>\n",
              "    </tr>\n",
              "    <tr>\n",
              "      <th>4</th>\n",
              "      <td>key features of alisha solid women s cycling s...</td>\n",
              "      <td>Clothing</td>\n",
              "    </tr>\n",
              "  </tbody>\n",
              "</table>\n",
              "</div>"
            ],
            "text/plain": [
              "                                         description   category\n",
              "0  key features of alisha solid women s cycling s...   Clothing\n",
              "1  fabhomedecor fabric double sofa bed  finish co...  Furniture\n",
              "2  key features of aw bellies sandals wedges heel...   Footwear\n",
              "3  key features of alisha solid women s cycling s...   Clothing\n",
              "4  key features of alisha solid women s cycling s...   Clothing"
            ]
          },
          "metadata": {
            "tags": []
          },
          "execution_count": 9
        }
      ]
    },
    {
      "cell_type": "code",
      "metadata": {
        "colab": {
          "base_uri": "https://localhost:8080/",
          "height": 195
        },
        "id": "aqefxHEOctc8",
        "outputId": "a6d2f140-18b1-4ba1-924a-b220688f464a"
      },
      "source": [
        "#Encoding the textual label to the integer labels\n",
        "lab_enc = preprocessing.LabelEncoder()\n",
        "lab_enc.fit(new_df.category)\n",
        "new_df['categorical_label'] = lab_enc.transform(new_df.category)\n",
        "new_df.head()"
      ],
      "execution_count": 10,
      "outputs": [
        {
          "output_type": "execute_result",
          "data": {
            "text/html": [
              "<div>\n",
              "<style scoped>\n",
              "    .dataframe tbody tr th:only-of-type {\n",
              "        vertical-align: middle;\n",
              "    }\n",
              "\n",
              "    .dataframe tbody tr th {\n",
              "        vertical-align: top;\n",
              "    }\n",
              "\n",
              "    .dataframe thead th {\n",
              "        text-align: right;\n",
              "    }\n",
              "</style>\n",
              "<table border=\"1\" class=\"dataframe\">\n",
              "  <thead>\n",
              "    <tr style=\"text-align: right;\">\n",
              "      <th></th>\n",
              "      <th>description</th>\n",
              "      <th>category</th>\n",
              "      <th>categorical_label</th>\n",
              "    </tr>\n",
              "  </thead>\n",
              "  <tbody>\n",
              "    <tr>\n",
              "      <th>0</th>\n",
              "      <td>key features of alisha solid women s cycling s...</td>\n",
              "      <td>Clothing</td>\n",
              "      <td>4</td>\n",
              "    </tr>\n",
              "    <tr>\n",
              "      <th>1</th>\n",
              "      <td>fabhomedecor fabric double sofa bed  finish co...</td>\n",
              "      <td>Furniture</td>\n",
              "      <td>7</td>\n",
              "    </tr>\n",
              "    <tr>\n",
              "      <th>2</th>\n",
              "      <td>key features of aw bellies sandals wedges heel...</td>\n",
              "      <td>Footwear</td>\n",
              "      <td>6</td>\n",
              "    </tr>\n",
              "    <tr>\n",
              "      <th>3</th>\n",
              "      <td>key features of alisha solid women s cycling s...</td>\n",
              "      <td>Clothing</td>\n",
              "      <td>4</td>\n",
              "    </tr>\n",
              "    <tr>\n",
              "      <th>4</th>\n",
              "      <td>key features of alisha solid women s cycling s...</td>\n",
              "      <td>Clothing</td>\n",
              "      <td>4</td>\n",
              "    </tr>\n",
              "  </tbody>\n",
              "</table>\n",
              "</div>"
            ],
            "text/plain": [
              "                                         description  ... categorical_label\n",
              "0  key features of alisha solid women s cycling s...  ...                 4\n",
              "1  fabhomedecor fabric double sofa bed  finish co...  ...                 7\n",
              "2  key features of aw bellies sandals wedges heel...  ...                 6\n",
              "3  key features of alisha solid women s cycling s...  ...                 4\n",
              "4  key features of alisha solid women s cycling s...  ...                 4\n",
              "\n",
              "[5 rows x 3 columns]"
            ]
          },
          "metadata": {
            "tags": []
          },
          "execution_count": 10
        }
      ]
    },
    {
      "cell_type": "code",
      "metadata": {
        "colab": {
          "base_uri": "https://localhost:8080/",
          "height": 281
        },
        "id": "Z4oYjqngCaSg",
        "outputId": "ba4cfdda-9027-4cd8-b71b-c9b924650485"
      },
      "source": [
        "#analysing the sentence length of the description\n",
        "df=new_df[\"description\"]\n",
        "length=[]\n",
        "for i in range(len(df)) :\n",
        "  if type(df[i])==str:\n",
        "    length.append(len(nltk.word_tokenize(df[i])))\n",
        "c= Counter(length)\n",
        "plt.bar(c.keys(),c.values())\n",
        "plt.xlim(0,200)\n",
        "plt.title(label='Distrbution of the sentence length of descriptions')\n",
        "plt.show() "
      ],
      "execution_count": 11,
      "outputs": [
        {
          "output_type": "display_data",
          "data": {
            "image/png": "[encoded data removed]",
            "text/plain": [
              "<Figure size 432x288 with 1 Axes>"
            ]
          },
          "metadata": {
            "tags": [],
            "needs_background": "light"
          }
        }
      ]
    },
    {
      "cell_type": "code",
      "metadata": {
        "id": "7LxrWznbVxG3"
      },
      "source": [
        "#Splitting the dataset into training, testing and validation data\n",
        "X_train, X_test, y_train, y_test = train_test_split(new_df[\"description\"], new_df[\"categorical_label\"], test_size=0.3, random_state=42)\n",
        "X_test, X_val, y_test, y_val = train_test_split(X_test, y_test, test_size=0.5, random_state=42)\n"
      ],
      "execution_count": 12,
      "outputs": []
    },
    {
      "cell_type": "code",
      "metadata": {
        "colab": {
          "base_uri": "https://localhost:8080/"
        },
        "id": "rV9JowD_QEyM",
        "outputId": "0bd42524-0797-470b-b306-28f99dce6d56"
      },
      "source": [
        "#Fitting the tokenizer on the trainig dataset \n",
        "sent_length=128\n",
        "tokenizer=Tokenizer()\n",
        "tokenizer.fit_on_texts(X_train)\n",
        "word_index = tokenizer.word_index\n",
        "voc_size = len(tokenizer.word_index) + 1\n",
        "print(\"Vocabulary Size:\", voc_size)\n"
      ],
      "execution_count": 13,
      "outputs": [
        {
          "output_type": "stream",
          "text": [
            "Vocabulary Size: 16399\n"
          ],
          "name": "stdout"
        }
      ]
    },
    {
      "cell_type": "code",
      "metadata": {
        "id": "OUsXTc1zwlSV"
      },
      "source": [
        "#Converting the Description in the training data to the tokens \n",
        "sequences = tokenizer.texts_to_sequences(X_train)\n",
        "embedded_docs=pad_sequences(sequences,padding='post',maxlen=sent_length)\n",
        "X_train=np.array(embedded_docs)"
      ],
      "execution_count": 14,
      "outputs": []
    },
    {
      "cell_type": "code",
      "metadata": {
        "id": "TjrZs-U0XXge"
      },
      "source": [
        "#Converting the Description in the testing data to the tokens \n",
        "sequences = tokenizer.texts_to_sequences(X_test)\n",
        "embedded_docs=pad_sequences(sequences,padding='post',maxlen=sent_length)\n",
        "X_test=np.array(embedded_docs)    "
      ],
      "execution_count": 15,
      "outputs": []
    },
    {
      "cell_type": "code",
      "metadata": {
        "id": "09jk36PKP0M3"
      },
      "source": [
        "#Converting the Description in the validation data to the tokens \n",
        "sequences = tokenizer.texts_to_sequences(X_val)\n",
        "embedded_docs=pad_sequences(sequences,padding='post',maxlen=sent_length)\n",
        "X_val=np.array(embedded_docs)  "
      ],
      "execution_count": 16,
      "outputs": []
    },
    {
      "cell_type": "code",
      "metadata": {
        "colab": {
          "base_uri": "https://localhost:8080/"
        },
        "id": "9tfCXo3yXhtv",
        "outputId": "8fe39806-2032-49e3-cffc-8394391c94a5"
      },
      "source": [
        "#Buiding the LSTM Model for Category Classification\n",
        "embedding_vector_features=100\n",
        "input=Input(shape=(sent_length,), name='inputs')\n",
        "x=Embedding(voc_size,embedding_vector_features,input_length=sent_length)(input)\n",
        "x=Bidirectional(LSTM(64))(x)\n",
        "x=BatchNormalization()(x)\n",
        "x=Dense(256,activation='relu')(x)\n",
        "x=Dropout(0.4)(x)\n",
        "x=Dense(64,activation='relu')(x)\n",
        "x=Dense(18,activation='softmax',name='truth_')(x)\n",
        "model1=Model(inputs=input, outputs=x, name='LSTM')\n",
        "model1.compile(loss= 'sparse_categorical_crossentropy', optimizer='adam',metrics=['accuracy'])\n",
        "model1.summary()\n",
        "#plot_model(model1,show_layer_names=True,show_shapes=True)\n",
        "\n",
        "LSTM_save = ModelCheckpoint('/content/drive/MyDrive/IIIT_MIDAS/saved_models/'+'LSTM.hdf5', save_best_only=True, monitor='val_loss', mode='min')"
      ],
      "execution_count": null,
      "outputs": [
        {
          "output_type": "stream",
          "text": [
            "Model: \"LSTM\"\n",
            "_________________________________________________________________\n",
            "Layer (type)                 Output Shape              Param #   \n",
            "=================================================================\n",
            "inputs (InputLayer)          [(None, 128)]             0         \n",
            "_________________________________________________________________\n",
            "embedding_5 (Embedding)      (None, 128, 100)          1639900   \n",
            "_________________________________________________________________\n",
            "bidirectional_5 (Bidirection (None, 128)               84480     \n",
            "_________________________________________________________________\n",
            "batch_normalization_2 (Batch (None, 128)               512       \n",
            "_________________________________________________________________\n",
            "dense_10 (Dense)             (None, 256)               33024     \n",
            "_________________________________________________________________\n",
            "dropout_5 (Dropout)          (None, 256)               0         \n",
            "_________________________________________________________________\n",
            "dense_11 (Dense)             (None, 64)                16448     \n",
            "_________________________________________________________________\n",
            "truth_ (Dense)               (None, 18)                1170      \n",
            "=================================================================\n",
            "Total params: 1,775,534\n",
            "Trainable params: 1,775,278\n",
            "Non-trainable params: 256\n",
            "_________________________________________________________________\n"
          ],
          "name": "stdout"
        }
      ]
    },
    {
      "cell_type": "code",
      "metadata": {
        "colab": {
          "base_uri": "https://localhost:8080/"
        },
        "id": "1ZWlut5MecqO",
        "outputId": "280fd7ad-8064-4158-a15f-8cffadf65953"
      },
      "source": [
        "#Training the LSTM model\n",
        "model1.fit(x=X_train, y=y_train, validation_data=(X_val,y_val), callbacks=LSTM_save, batch_size=64, epochs=10)"
      ],
      "execution_count": null,
      "outputs": [
        {
          "output_type": "stream",
          "text": [
            "Epoch 1/10\n",
            "211/211 [==============================] - 10s 35ms/step - loss: 1.3085 - accuracy: 0.6375 - val_loss: 1.1632 - val_accuracy: 0.8912\n",
            "Epoch 2/10\n",
            "211/211 [==============================] - 7s 31ms/step - loss: 0.1254 - accuracy: 0.9639 - val_loss: 0.2881 - val_accuracy: 0.9368\n",
            "Epoch 3/10\n",
            "211/211 [==============================] - 7s 31ms/step - loss: 0.0436 - accuracy: 0.9877 - val_loss: 0.1835 - val_accuracy: 0.9523\n",
            "Epoch 4/10\n",
            "211/211 [==============================] - 6s 30ms/step - loss: 0.0215 - accuracy: 0.9931 - val_loss: 0.3673 - val_accuracy: 0.9340\n",
            "Epoch 5/10\n",
            "211/211 [==============================] - 6s 30ms/step - loss: 0.0208 - accuracy: 0.9935 - val_loss: 0.2603 - val_accuracy: 0.9496\n",
            "Epoch 6/10\n",
            "211/211 [==============================] - 6s 30ms/step - loss: 0.0179 - accuracy: 0.9942 - val_loss: 0.2790 - val_accuracy: 0.9478\n",
            "Epoch 7/10\n",
            "211/211 [==============================] - 6s 30ms/step - loss: 0.0151 - accuracy: 0.9950 - val_loss: 0.2589 - val_accuracy: 0.9568\n",
            "Epoch 8/10\n",
            "211/211 [==============================] - 6s 30ms/step - loss: 0.0116 - accuracy: 0.9956 - val_loss: 0.3357 - val_accuracy: 0.9333\n",
            "Epoch 9/10\n",
            "211/211 [==============================] - 6s 30ms/step - loss: 0.0135 - accuracy: 0.9955 - val_loss: 0.2829 - val_accuracy: 0.9534\n",
            "Epoch 10/10\n",
            "211/211 [==============================] - 6s 30ms/step - loss: 0.0191 - accuracy: 0.9944 - val_loss: 0.2769 - val_accuracy: 0.9561\n"
          ],
          "name": "stdout"
        },
        {
          "output_type": "execute_result",
          "data": {
            "text/plain": [
              "<tensorflow.python.keras.callbacks.History at 0x7fba63b9e090>"
            ]
          },
          "metadata": {
            "tags": []
          },
          "execution_count": 36
        }
      ]
    },
    {
      "cell_type": "code",
      "metadata": {
        "colab": {
          "base_uri": "https://localhost:8080/"
        },
        "id": "yZFupwZYh8PK",
        "outputId": "58bb1b8d-ed74-485b-85e1-69e532fd59d7"
      },
      "source": [
        "#Testing the Model on Text Dataset\n",
        "print(\"FOR LSTM MODEL\")\n",
        "saved_model=load_model('/content/drive/MyDrive/IIIT_MIDAS/saved_models/'+'LSTM.hdf5')\n",
        "y_prob = saved_model.predict(X_test)\n",
        "y_pred = np.argmax(y_prob,axis=1)\n",
        "accuracy = accuracy_score(y_test, y_pred)\n",
        "print('Accuracy: %f' % accuracy)\n",
        "precision = precision_score(y_test, y_pred, average='macro')\n",
        "print('Precision: %f' % precision)\n",
        "recall = recall_score(y_test, y_pred,average='macro')\n",
        "print('Recall: %f' % recall)\n",
        "f1 = f1_score(y_test, y_pred,average='macro')\n",
        "print('F1 score: %f' % f1)"
      ],
      "execution_count": null,
      "outputs": [
        {
          "output_type": "stream",
          "text": [
            "FOR LSTM MODEL\n",
            "Accuracy: 0.959558\n",
            "Precision: 0.925966\n",
            "Recall: 0.915875\n",
            "F1 score: 0.917844\n"
          ],
          "name": "stdout"
        }
      ]
    },
    {
      "cell_type": "code",
      "metadata": {
        "colab": {
          "base_uri": "https://localhost:8080/",
          "height": 640
        },
        "id": "zmO1dPXq_nCP",
        "outputId": "1c90be6a-0e8a-4ff4-dffe-8debd66c2f4c"
      },
      "source": [
        "#Plotting the Confusion Matrix \n",
        "conf_mat = confusion_matrix(lab_enc.inverse_transform(y_test), lab_enc.inverse_transform(y_pred))\n",
        "fig, ax = plt.subplots(figsize=(10,10))\n",
        "sns.heatmap(conf_mat, annot=True, cmap=\"Blues\", fmt='d')\n",
        "plt.ylabel('Actual')\n",
        "plt.xlabel('Predicted')\n",
        "plt.title(\"CONFUSION MATRIX\", size=16)"
      ],
      "execution_count": null,
      "outputs": [
        {
          "output_type": "execute_result",
          "data": {
            "text/plain": [
              "Text(0.5, 1.0, 'CONFUSION MATRIX')"
            ]
          },
          "metadata": {
            "tags": []
          },
          "execution_count": 44
        },
        {
          "output_type": "display_data",
          "data": {
            "image/png": "[encoded data removed]",
            "text/plain": [
              "<Figure size 720x720 with 2 Axes>"
            ]
          },
          "metadata": {
            "tags": [],
            "needs_background": "light"
          }
        }
      ]
    },
    {
      "cell_type": "code",
      "metadata": {
        "colab": {
          "base_uri": "https://localhost:8080/"
        },
        "id": "LsGTVWrfh0dF",
        "outputId": "b0c8b6b2-1a93-46f0-af2d-38e4fe1b1445"
      },
      "source": [
        "#Building the CNN model\n",
        "input=Input(shape=(sent_length,))\n",
        "x=Embedding(voc_size,embedding_vector_features,input_length=sent_length)(input)\n",
        "x=Conv1D(128, 5, padding='same', activation='relu' )(x)\n",
        "x=BatchNormalization()(x)\n",
        "x=MaxPooling1D(pool_size=2,strides=None)(x)\n",
        "x=Flatten()(x)\n",
        "x=Dense(256,activation='relu')(x)\n",
        "x=Dropout(0.4)(x)\n",
        "x=Dense(64,activation='relu')(x)\n",
        "x=Dense(18,activation='softmax')(x)\n",
        "model2=Model(inputs=input, outputs=x, name='CNN')\n",
        "model2.compile(loss= 'sparse_categorical_crossentropy', optimizer='adam',metrics=['accuracy'])\n",
        "model2.summary()\n",
        "#plot_model(model3,show_layer_names=True,show_shapes=True)\n",
        "\n",
        "CNN_save = ModelCheckpoint('/content/drive/MyDrive/IIIT_MIDAS/saved_models/'+'CNN.hdf5', save_best_only=True, monitor='val_loss', mode='min')\n"
      ],
      "execution_count": null,
      "outputs": [
        {
          "output_type": "stream",
          "text": [
            "Model: \"CNN\"\n",
            "_________________________________________________________________\n",
            "Layer (type)                 Output Shape              Param #   \n",
            "=================================================================\n",
            "input_2 (InputLayer)         [(None, 128)]             0         \n",
            "_________________________________________________________________\n",
            "embedding_7 (Embedding)      (None, 128, 100)          1639900   \n",
            "_________________________________________________________________\n",
            "conv1d_1 (Conv1D)            (None, 128, 128)          64128     \n",
            "_________________________________________________________________\n",
            "batch_normalization_4 (Batch (None, 128, 128)          512       \n",
            "_________________________________________________________________\n",
            "max_pooling1d_1 (MaxPooling1 (None, 64, 128)           0         \n",
            "_________________________________________________________________\n",
            "flatten_1 (Flatten)          (None, 8192)              0         \n",
            "_________________________________________________________________\n",
            "dense_15 (Dense)             (None, 256)               2097408   \n",
            "_________________________________________________________________\n",
            "dropout_7 (Dropout)          (None, 256)               0         \n",
            "_________________________________________________________________\n",
            "dense_16 (Dense)             (None, 64)                16448     \n",
            "_________________________________________________________________\n",
            "dense_17 (Dense)             (None, 18)                1170      \n",
            "=================================================================\n",
            "Total params: 3,819,566\n",
            "Trainable params: 3,819,310\n",
            "Non-trainable params: 256\n",
            "_________________________________________________________________\n"
          ],
          "name": "stdout"
        }
      ]
    },
    {
      "cell_type": "code",
      "metadata": {
        "colab": {
          "base_uri": "https://localhost:8080/"
        },
        "id": "hCGhVzVnoJlW",
        "outputId": "51f28054-2338-4b95-ef5d-4e9fe71e2a4e"
      },
      "source": [
        "#Training the CNN model\n",
        "model2.fit(x=X_train, y=y_train, validation_data=(X_val,y_val), callbacks=CNN_save, batch_size=64, epochs =10)"
      ],
      "execution_count": null,
      "outputs": [
        {
          "output_type": "stream",
          "text": [
            "Epoch 1/10\n",
            "211/211 [==============================] - 5s 23ms/step - loss: 1.1740 - accuracy: 0.6731 - val_loss: 1.6280 - val_accuracy: 0.9140\n",
            "Epoch 2/10\n",
            "211/211 [==============================] - 4s 20ms/step - loss: 0.1027 - accuracy: 0.9710 - val_loss: 0.4311 - val_accuracy: 0.9513\n",
            "Epoch 3/10\n",
            "211/211 [==============================] - 4s 20ms/step - loss: 0.0349 - accuracy: 0.9897 - val_loss: 0.1688 - val_accuracy: 0.9575\n",
            "Epoch 4/10\n",
            "211/211 [==============================] - 4s 21ms/step - loss: 0.0122 - accuracy: 0.9961 - val_loss: 0.1946 - val_accuracy: 0.9610\n",
            "Epoch 5/10\n",
            "211/211 [==============================] - 4s 21ms/step - loss: 0.0088 - accuracy: 0.9968 - val_loss: 0.2046 - val_accuracy: 0.9613\n",
            "Epoch 6/10\n",
            "211/211 [==============================] - 4s 21ms/step - loss: 0.0082 - accuracy: 0.9978 - val_loss: 0.2564 - val_accuracy: 0.9596\n",
            "Epoch 7/10\n",
            "211/211 [==============================] - 4s 20ms/step - loss: 0.0092 - accuracy: 0.9970 - val_loss: 0.2208 - val_accuracy: 0.9561\n",
            "Epoch 8/10\n",
            "211/211 [==============================] - 4s 21ms/step - loss: 0.0224 - accuracy: 0.9948 - val_loss: 0.3541 - val_accuracy: 0.9496\n",
            "Epoch 9/10\n",
            "211/211 [==============================] - 4s 20ms/step - loss: 0.0236 - accuracy: 0.9933 - val_loss: 0.3622 - val_accuracy: 0.9523\n",
            "Epoch 10/10\n",
            "211/211 [==============================] - 4s 21ms/step - loss: 0.0289 - accuracy: 0.9914 - val_loss: 0.3556 - val_accuracy: 0.9516\n"
          ],
          "name": "stdout"
        },
        {
          "output_type": "execute_result",
          "data": {
            "text/plain": [
              "<tensorflow.python.keras.callbacks.History at 0x7fba002477d0>"
            ]
          },
          "metadata": {
            "tags": []
          },
          "execution_count": 51
        }
      ]
    },
    {
      "cell_type": "code",
      "metadata": {
        "colab": {
          "base_uri": "https://localhost:8080/"
        },
        "id": "KZhdb125oxvo",
        "outputId": "01915a62-f850-4e07-e983-d566602c8308"
      },
      "source": [
        "#Testing the CNN model on test dataset\n",
        "print(\"FOR CNN MODEL\")\n",
        "saved_model=load_model('/content/drive/MyDrive/IIIT_MIDAS/saved_models/'+'CNN.hdf5')\n",
        "y_prob = saved_model.predict(X_test)\n",
        "y_pred = np.argmax(y_prob,axis=1)\n",
        "accuracy = accuracy_score(y_test, y_pred)\n",
        "print('Accuracy: %f' % accuracy)\n",
        "precision = precision_score(y_test, y_pred, average='macro')\n",
        "print('Precision: %f' % precision)\n",
        "recall = recall_score(y_test, y_pred,average='macro')\n",
        "print('Recall: %f' % recall)\n",
        "f1 = f1_score(y_test, y_pred,average='macro')\n",
        "print('F1 score: %f' % f1)"
      ],
      "execution_count": null,
      "outputs": [
        {
          "output_type": "stream",
          "text": [
            "FOR CNN MODEL\n",
            "Accuracy: 0.953681\n",
            "Precision: 0.900097\n",
            "Recall: 0.883387\n",
            "F1 score: 0.890072\n"
          ],
          "name": "stdout"
        }
      ]
    },
    {
      "cell_type": "code",
      "metadata": {
        "colab": {
          "base_uri": "https://localhost:8080/",
          "height": 640
        },
        "id": "mAJdOb2QI34S",
        "outputId": "5b84af8e-91af-41a5-8953-d9dc39265edf"
      },
      "source": [
        "#Plotting the Confusion Matrix\n",
        "conf_mat = confusion_matrix(lab_enc.inverse_transform(y_test), lab_enc.inverse_transform(y_pred))\n",
        "fig, ax = plt.subplots(figsize=(10,10))\n",
        "sns.heatmap(conf_mat, annot=True, cmap=\"Blues\", fmt='d')\n",
        "plt.ylabel('Actual')\n",
        "plt.xlabel('Predicted')\n",
        "plt.title(\"CONFUSION MATRIX\", size=16)"
      ],
      "execution_count": null,
      "outputs": [
        {
          "output_type": "execute_result",
          "data": {
            "text/plain": [
              "Text(0.5, 1.0, 'CONFUSION MATRIX')"
            ]
          },
          "metadata": {
            "tags": []
          },
          "execution_count": 53
        },
        {
          "output_type": "display_data",
          "data": {
            "image/png": "[encoded data removed]",
            "text/plain": [
              "<Figure size 720x720 with 2 Axes>"
            ]
          },
          "metadata": {
            "tags": [],
            "needs_background": "light"
          }
        }
      ]
    },
    {
      "cell_type": "code",
      "metadata": {
        "colab": {
          "base_uri": "https://localhost:8080/"
        },
        "id": "ryi2lakII_nX",
        "outputId": "78484f34-d522-4539-e12b-79e2e65ec501"
      },
      "source": [
        "#Building the C_LSTM model\n",
        "input=Input(shape=(sent_length,))\n",
        "x=Embedding(voc_size,embedding_vector_features,input_length=sent_length)(input)\n",
        "x=Conv1D(128, 5, padding='same', activation='relu' )(x)\n",
        "x=MaxPooling1D(pool_size=2,strides=None)(x)\n",
        "x=Bidirectional(LSTM(64))(x)\n",
        "x=BatchNormalization()(x)\n",
        "x=Flatten()(x)\n",
        "x=Dense(256,activation='relu')(x)\n",
        "x=Dropout(0.4)(x)\n",
        "x=Dense(64,activation='relu')(x)\n",
        "x=Dense(18,activation='sigmoid',)(x)\n",
        "model3=Model(inputs=input, outputs=x, name='C-LSTM')\n",
        "model3.compile(loss= 'sparse_categorical_crossentropy', optimizer='adam',metrics=['accuracy'])\n",
        "model3.summary()\n",
        "#plot_model(model5,show_layer_names=True,show_shapes=True)\n",
        "\n",
        "CNN_LSTM_save = ModelCheckpoint('/content/drive/MyDrive/IIIT_MIDAS/saved_models/'+'CNN_LSTM.hdf5', save_best_only=True, monitor='val_loss', mode='min')\n"
      ],
      "execution_count": null,
      "outputs": [
        {
          "output_type": "stream",
          "text": [
            "Model: \"C-LSTM\"\n",
            "_________________________________________________________________\n",
            "Layer (type)                 Output Shape              Param #   \n",
            "=================================================================\n",
            "input_3 (InputLayer)         [(None, 128)]             0         \n",
            "_________________________________________________________________\n",
            "embedding_8 (Embedding)      (None, 128, 100)          1639900   \n",
            "_________________________________________________________________\n",
            "conv1d_2 (Conv1D)            (None, 128, 128)          64128     \n",
            "_________________________________________________________________\n",
            "max_pooling1d_2 (MaxPooling1 (None, 64, 128)           0         \n",
            "_________________________________________________________________\n",
            "bidirectional_6 (Bidirection (None, 128)               98816     \n",
            "_________________________________________________________________\n",
            "batch_normalization_5 (Batch (None, 128)               512       \n",
            "_________________________________________________________________\n",
            "flatten_2 (Flatten)          (None, 128)               0         \n",
            "_________________________________________________________________\n",
            "dense_18 (Dense)             (None, 256)               33024     \n",
            "_________________________________________________________________\n",
            "dropout_8 (Dropout)          (None, 256)               0         \n",
            "_________________________________________________________________\n",
            "dense_19 (Dense)             (None, 64)                16448     \n",
            "_________________________________________________________________\n",
            "dense_20 (Dense)             (None, 18)                1170      \n",
            "=================================================================\n",
            "Total params: 1,853,998\n",
            "Trainable params: 1,853,742\n",
            "Non-trainable params: 256\n",
            "_________________________________________________________________\n"
          ],
          "name": "stdout"
        }
      ]
    },
    {
      "cell_type": "code",
      "metadata": {
        "colab": {
          "base_uri": "https://localhost:8080/"
        },
        "id": "N-9zg27oKrBr",
        "outputId": "800945f8-db11-4cff-ad6c-2cfe7c780636"
      },
      "source": [
        "#training the C-LSTM model\n",
        "model3.fit(x=X_train, y=y_train, validation_data=(X_val,y_val), callbacks=CNN_LSTM_save, batch_size=64, epochs =10)"
      ],
      "execution_count": null,
      "outputs": [
        {
          "output_type": "stream",
          "text": [
            "Epoch 1/10\n",
            "211/211 [==============================] - 10s 34ms/step - loss: 1.2079 - accuracy: 0.6662 - val_loss: 1.0287 - val_accuracy: 0.9326\n",
            "Epoch 2/10\n",
            "211/211 [==============================] - 6s 30ms/step - loss: 0.1039 - accuracy: 0.9711 - val_loss: 0.2161 - val_accuracy: 0.9551\n",
            "Epoch 3/10\n",
            "211/211 [==============================] - 6s 30ms/step - loss: 0.0383 - accuracy: 0.9890 - val_loss: 0.1922 - val_accuracy: 0.9606\n",
            "Epoch 4/10\n",
            "211/211 [==============================] - 6s 30ms/step - loss: 0.0300 - accuracy: 0.9925 - val_loss: 0.2159 - val_accuracy: 0.9582\n",
            "Epoch 5/10\n",
            "211/211 [==============================] - 6s 29ms/step - loss: 0.0147 - accuracy: 0.9961 - val_loss: 0.2223 - val_accuracy: 0.9585\n",
            "Epoch 6/10\n",
            "211/211 [==============================] - 6s 29ms/step - loss: 0.0097 - accuracy: 0.9969 - val_loss: 0.2198 - val_accuracy: 0.9630\n",
            "Epoch 7/10\n",
            "211/211 [==============================] - 6s 29ms/step - loss: 0.0115 - accuracy: 0.9972 - val_loss: 0.2538 - val_accuracy: 0.9582\n",
            "Epoch 8/10\n",
            "211/211 [==============================] - 6s 29ms/step - loss: 0.0163 - accuracy: 0.9957 - val_loss: 0.4002 - val_accuracy: 0.9368\n",
            "Epoch 9/10\n",
            "211/211 [==============================] - 6s 29ms/step - loss: 0.0456 - accuracy: 0.9873 - val_loss: 0.3547 - val_accuracy: 0.9461\n",
            "Epoch 10/10\n",
            "211/211 [==============================] - 6s 29ms/step - loss: 0.0230 - accuracy: 0.9914 - val_loss: 0.3317 - val_accuracy: 0.9561\n"
          ],
          "name": "stdout"
        },
        {
          "output_type": "execute_result",
          "data": {
            "text/plain": [
              "<tensorflow.python.keras.callbacks.History at 0x7fba62c8cfd0>"
            ]
          },
          "metadata": {
            "tags": []
          },
          "execution_count": 55
        }
      ]
    },
    {
      "cell_type": "code",
      "metadata": {
        "colab": {
          "base_uri": "https://localhost:8080/"
        },
        "id": "RBzAW-tsKyJ1",
        "outputId": "17bb216e-84cb-448f-ea86-e8a2eca578bb"
      },
      "source": [
        "#Testing the C-LSTM model on test dataset\n",
        "print(\"FOR C-LSTM MODEL\")\n",
        "saved_model=load_model('/content/drive/MyDrive/IIIT_MIDAS/saved_models/'+'CNN_LSTM.hdf5')\n",
        "y_prob = saved_model.predict(X_test)\n",
        "y_pred = np.argmax(y_prob,axis=1)\n",
        "accuracy = accuracy_score(y_test, y_pred)\n",
        "print('Accuracy: %f' % accuracy)\n",
        "precision = precision_score(y_test, y_pred, average='macro')\n",
        "print('Precision: %f' % precision)\n",
        "recall = recall_score(y_test, y_pred,average='macro')\n",
        "print('Recall: %f' % recall)\n",
        "f1 = f1_score(y_test, y_pred,average='macro')\n",
        "print('F1 score: %f' % f1)"
      ],
      "execution_count": null,
      "outputs": [
        {
          "output_type": "stream",
          "text": [
            "FOR C-LSTM MODEL\n",
            "Accuracy: 0.960595\n",
            "Precision: 0.924139\n",
            "Recall: 0.905045\n",
            "F1 score: 0.912104\n"
          ],
          "name": "stdout"
        }
      ]
    },
    {
      "cell_type": "code",
      "metadata": {
        "colab": {
          "base_uri": "https://localhost:8080/",
          "height": 640
        },
        "id": "2BpNuSrbLMov",
        "outputId": "9eb30b0b-8886-423c-8071-f966d3d18976"
      },
      "source": [
        "#Plotting the Confusion Matrix\n",
        "conf_mat = confusion_matrix(lab_enc.inverse_transform(y_test), lab_enc.inverse_transform(y_pred))\n",
        "fig, ax = plt.subplots(figsize=(10,10))\n",
        "sns.heatmap(conf_mat, annot=True, cmap=\"Blues\", fmt='d')\n",
        "plt.ylabel('Actual')\n",
        "plt.xlabel('Predicted')\n",
        "plt.title(\"CONFUSION MATRIX - C_LSTM MODEL\", size=16)"
      ],
      "execution_count": null,
      "outputs": [
        {
          "output_type": "execute_result",
          "data": {
            "text/plain": [
              "Text(0.5, 1.0, 'CONFUSION MATRIX - C_LSTM MODEL')"
            ]
          },
          "metadata": {
            "tags": []
          },
          "execution_count": 57
        },
        {
          "output_type": "display_data",
          "data": {
            "image/png": "[encoded data removed]",
            "text/plain": [
              "<Figure size 720x720 with 2 Axes>"
            ]
          },
          "metadata": {
            "tags": [],
            "needs_background": "light"
          }
        }
      ]
    },
    {
      "cell_type": "code",
      "metadata": {
        "id": "sMlAbSSGAISG"
      },
      "source": [
        "#Defining a Convblock consisting of two Convolutional layers along with activation and BatchNormalization. A residual Convolutional Layer\n",
        "#has also been added to maintain the flow of gradients while backpropogating. \n",
        "class ConvBlock(Layer):\n",
        "\n",
        "    def __init__(self, n_filter, **kwargs):\n",
        "        self.output_dim = n_filter\n",
        "        self.n_filters = n_filter\n",
        "        super(ConvBlock, self).__init__(**kwargs)\n",
        "\n",
        "    def build(self, input_shape):\n",
        "        # Create a trainable weight variable for this layer.\n",
        "        self.conv1 = Conv1D(self.n_filters, 3, padding='same',activation='relu'  )\n",
        "        self.bn1 = BatchNormalization()\n",
        "        self.conv2 = Conv1D(self.n_filters, 3, padding='same', activation='relu' )\n",
        "        self.bn2 = BatchNormalization()\n",
        "        self.conv3 = Conv1D(self.n_filters, 1, padding='same', activation='relu' )\n",
        "        self.bn3 = BatchNormalization()\n",
        "        super(ConvBlock, self).build(input_shape)  # Be sure to call this somewhere!\n",
        "\n",
        "    def call(self, x):\n",
        "        x = self.conv1(x)\n",
        "        x=self.bn1(x) \n",
        "        x=self.conv2(x)\n",
        "        x=self.bn2(x)\n",
        "        y=self.conv3(x)\n",
        "        y=self.bn3(y)\n",
        "        x=x+y\n",
        "        return x\n",
        "\n",
        "    def compute_output_shape(self, input_shape):\n",
        "        return (input_shape[0], input_shape[1], self.output_dim)"
      ],
      "execution_count": 30,
      "outputs": []
    },
    {
      "cell_type": "code",
      "metadata": {
        "id": "tO6HHUp9w1jy"
      },
      "source": [
        "#defining a function that would implement the VDCNN of varying length and will provide the Accuracy, Precision, Recall and F1 score\n",
        "#for each case\n",
        "def evaluate_VDCNN(X_train,y_train,X_test,y_test,X_val,y_val):\n",
        "  n_filters=[64,128,256,256,512,512,512]\n",
        "  metric=[]\n",
        "  for i in range(1,7):\n",
        "\n",
        "    input=Input(shape=(128,))\n",
        "    x=Embedding(voc_size,100,input_length=128)(input)\n",
        "    x=Conv1D(16, 3, padding='same', activation='relu' )(x)\n",
        "    x=MaxPooling1D(pool_size=2,strides=None)(x)\n",
        "    for j in range(i):\n",
        "      x=ConvBlock(n_filters[j])(x)\n",
        "      x=MaxPooling1D(pool_size=2,strides=None)(x)  \n",
        "    x=Flatten()(x)\n",
        "    x=Dropout(0.4)(x)\n",
        "    x=Dense(256,activation='relu' )(x)\n",
        "    x=Dense(18,activation='softmax' )(x)\n",
        "    model = Model(inputs=input, outputs=x)\n",
        "    model.compile(loss= 'sparse_categorical_crossentropy', optimizer='adam',metrics=['accuracy'])\n",
        "    model.summary()\n",
        "    #plot_model(model5,show_layer_names=True,show_shapes=True)\n",
        "    #VDCNN_save = ModelCheckpoint('/content/drive/MyDrive/IIIT_MIDAS/saved_models/VDCNN'+str(i)+'.hdf5', save_best_only=True, monitor='val_loss', mode='min')\n",
        "\n",
        "    model.fit(x=X_train, y=y_train, validation_data=(X_val,y_val), batch_size=64, epochs =20)\n",
        "    #saved_model=load_model('/content/drive/MyDrive/IIIT_MIDAS/saved_models/VDCNN'+str(i)+'.hdf5')\n",
        "    y_prob = model.predict(X_test)\n",
        "    y_pred = np.argmax(y_prob,axis=1)\n",
        "    accuracy = accuracy_score(y_test, y_pred)\n",
        "    #print('Accuracy: %f' % accuracy)\n",
        "    precision = precision_score(y_test, y_pred, average='macro')\n",
        "    #print('Precision: %f' % precision)\n",
        "    recall = recall_score(y_test, y_pred,average='macro')\n",
        "    #print('Recall: %f' % recall)\n",
        "    f1 = f1_score(y_test, y_pred,average='macro')\n",
        "    #print('F1 score: %f' % f1)\n",
        "    metric.append([accuracy,precision,recall,f1])\n",
        "  return metric  \n"
      ],
      "execution_count": 41,
      "outputs": []
    },
    {
      "cell_type": "code",
      "metadata": {
        "colab": {
          "base_uri": "https://localhost:8080/"
        },
        "id": "n8ki3p8nPri2",
        "outputId": "7a3225bf-fb5c-4887-b200-2202d8039a3c"
      },
      "source": [
        "result=evaluate_VDCNN(X_train,y_train,X_test,y_test,X_val,y_val)"
      ],
      "execution_count": null,
      "outputs": [
        {
          "output_type": "stream",
          "text": [
            "Model: \"model_11\"\n",
            "_________________________________________________________________\n",
            "Layer (type)                 Output Shape              Param #   \n",
            "=================================================================\n",
            "input_13 (InputLayer)        [(None, 128)]             0         \n",
            "_________________________________________________________________\n",
            "embedding_12 (Embedding)     (None, 128, 100)          1639900   \n",
            "_________________________________________________________________\n",
            "conv1d_16 (Conv1D)           (None, 128, 16)           4816      \n",
            "_________________________________________________________________\n",
            "max_pooling1d_47 (MaxPooling (None, 64, 16)            0         \n",
            "_________________________________________________________________\n",
            "conv_block_31 (ConvBlock)    (None, 64, 64)            20416     \n",
            "_________________________________________________________________\n",
            "max_pooling1d_48 (MaxPooling (None, 32, 64)            0         \n",
            "_________________________________________________________________\n",
            "flatten_15 (Flatten)         (None, 2048)              0         \n",
            "_________________________________________________________________\n",
            "dropout_11 (Dropout)         (None, 2048)              0         \n",
            "_________________________________________________________________\n",
            "dense_22 (Dense)             (None, 256)               524544    \n",
            "_________________________________________________________________\n",
            "dense_23 (Dense)             (None, 18)                4626      \n",
            "=================================================================\n",
            "Total params: 2,194,302\n",
            "Trainable params: 2,193,918\n",
            "Non-trainable params: 384\n",
            "_________________________________________________________________\n",
            "Epoch 1/20\n",
            "211/211 [==============================] - 9s 32ms/step - loss: 1.6877 - accuracy: 0.6077 - val_loss: 11.6412 - val_accuracy: 0.0270\n",
            "Epoch 2/20\n",
            "211/211 [==============================] - 7s 31ms/step - loss: 0.1976 - accuracy: 0.9459 - val_loss: 10.0338 - val_accuracy: 0.0750\n",
            "Epoch 3/20\n",
            "211/211 [==============================] - 6s 31ms/step - loss: 0.0663 - accuracy: 0.9788 - val_loss: 0.9513 - val_accuracy: 0.7792\n",
            "Epoch 4/20\n",
            "211/211 [==============================] - 7s 31ms/step - loss: 0.0300 - accuracy: 0.9917 - val_loss: 0.2990 - val_accuracy: 0.9357\n",
            "Epoch 5/20\n",
            "211/211 [==============================] - 7s 31ms/step - loss: 0.0198 - accuracy: 0.9937 - val_loss: 0.3225 - val_accuracy: 0.9368\n",
            "Epoch 6/20\n",
            "211/211 [==============================] - 6s 31ms/step - loss: 0.0145 - accuracy: 0.9957 - val_loss: 0.3738 - val_accuracy: 0.9274\n",
            "Epoch 7/20\n",
            "211/211 [==============================] - 7s 31ms/step - loss: 0.0160 - accuracy: 0.9951 - val_loss: 0.3969 - val_accuracy: 0.9350\n",
            "Epoch 8/20\n",
            "211/211 [==============================] - 6s 31ms/step - loss: 0.0321 - accuracy: 0.9897 - val_loss: 0.8766 - val_accuracy: 0.8587\n",
            "Epoch 9/20\n",
            "211/211 [==============================] - 6s 31ms/step - loss: 0.0645 - accuracy: 0.9827 - val_loss: 0.6356 - val_accuracy: 0.8970\n",
            "Epoch 10/20\n",
            "211/211 [==============================] - 6s 30ms/step - loss: 0.0490 - accuracy: 0.9848 - val_loss: 0.4444 - val_accuracy: 0.9368\n",
            "Epoch 11/20\n",
            "211/211 [==============================] - 6s 30ms/step - loss: 0.0259 - accuracy: 0.9932 - val_loss: 0.4107 - val_accuracy: 0.9433\n",
            "Epoch 12/20\n",
            "211/211 [==============================] - 6s 31ms/step - loss: 0.0171 - accuracy: 0.9952 - val_loss: 0.3949 - val_accuracy: 0.9478\n",
            "Epoch 13/20\n",
            "211/211 [==============================] - 6s 31ms/step - loss: 0.0102 - accuracy: 0.9970 - val_loss: 0.4119 - val_accuracy: 0.9485\n",
            "Epoch 14/20\n",
            "211/211 [==============================] - 7s 31ms/step - loss: 0.0119 - accuracy: 0.9974 - val_loss: 0.4256 - val_accuracy: 0.9485\n",
            "Epoch 15/20\n",
            "211/211 [==============================] - 6s 31ms/step - loss: 0.0147 - accuracy: 0.9955 - val_loss: 0.4857 - val_accuracy: 0.9468\n",
            "Epoch 16/20\n",
            "211/211 [==============================] - 6s 30ms/step - loss: 0.0205 - accuracy: 0.9931 - val_loss: 0.4275 - val_accuracy: 0.9520\n",
            "Epoch 17/20\n",
            "211/211 [==============================] - 6s 30ms/step - loss: 0.0190 - accuracy: 0.9934 - val_loss: 0.4636 - val_accuracy: 0.9430\n",
            "Epoch 18/20\n",
            "211/211 [==============================] - 6s 30ms/step - loss: 0.0261 - accuracy: 0.9956 - val_loss: 0.5487 - val_accuracy: 0.9371\n",
            "Epoch 19/20\n",
            "211/211 [==============================] - 6s 31ms/step - loss: 0.0204 - accuracy: 0.9939 - val_loss: 0.6403 - val_accuracy: 0.9195\n",
            "Epoch 20/20\n",
            "211/211 [==============================] - 6s 31ms/step - loss: 0.0227 - accuracy: 0.9940 - val_loss: 0.4454 - val_accuracy: 0.9489\n",
            "Model: \"model_12\"\n",
            "_________________________________________________________________\n",
            "Layer (type)                 Output Shape              Param #   \n",
            "=================================================================\n",
            "input_14 (InputLayer)        [(None, 128)]             0         \n",
            "_________________________________________________________________\n",
            "embedding_13 (Embedding)     (None, 128, 100)          1639900   \n",
            "_________________________________________________________________\n",
            "conv1d_17 (Conv1D)           (None, 128, 16)           4816      \n",
            "_________________________________________________________________\n",
            "max_pooling1d_49 (MaxPooling (None, 64, 16)            0         \n",
            "_________________________________________________________________\n",
            "conv_block_32 (ConvBlock)    (None, 64, 64)            20416     \n",
            "_________________________________________________________________\n",
            "max_pooling1d_50 (MaxPooling (None, 32, 64)            0         \n",
            "_________________________________________________________________\n",
            "conv_block_33 (ConvBlock)    (None, 32, 128)           92032     \n",
            "_________________________________________________________________\n",
            "max_pooling1d_51 (MaxPooling (None, 16, 128)           0         \n",
            "_________________________________________________________________\n",
            "flatten_16 (Flatten)         (None, 2048)              0         \n",
            "_________________________________________________________________\n",
            "dropout_12 (Dropout)         (None, 2048)              0         \n",
            "_________________________________________________________________\n",
            "dense_24 (Dense)             (None, 256)               524544    \n",
            "_________________________________________________________________\n",
            "dense_25 (Dense)             (None, 18)                4626      \n",
            "=================================================================\n",
            "Total params: 2,286,334\n",
            "Trainable params: 2,285,182\n",
            "Non-trainable params: 1,152\n",
            "_________________________________________________________________\n",
            "Epoch 1/20\n",
            "211/211 [==============================] - 11s 40ms/step - loss: 1.9507 - accuracy: 0.5568 - val_loss: 7.0468 - val_accuracy: 0.0214\n",
            "Epoch 2/20\n",
            "211/211 [==============================] - 8s 38ms/step - loss: 0.3661 - accuracy: 0.8943 - val_loss: 4.4838 - val_accuracy: 0.2108\n",
            "Epoch 3/20\n",
            "211/211 [==============================] - 8s 38ms/step - loss: 0.1235 - accuracy: 0.9641 - val_loss: 0.6757 - val_accuracy: 0.8383\n",
            "Epoch 4/20\n",
            "211/211 [==============================] - 8s 38ms/step - loss: 0.0721 - accuracy: 0.9770 - val_loss: 0.3725 - val_accuracy: 0.9136\n",
            "Epoch 5/20\n",
            "211/211 [==============================] - 8s 38ms/step - loss: 0.0403 - accuracy: 0.9893 - val_loss: 0.3390 - val_accuracy: 0.9333\n",
            "Epoch 6/20\n",
            "211/211 [==============================] - 8s 38ms/step - loss: 0.0345 - accuracy: 0.9909 - val_loss: 0.7012 - val_accuracy: 0.8929\n",
            "Epoch 7/20\n",
            "211/211 [==============================] - 8s 38ms/step - loss: 0.0441 - accuracy: 0.9875 - val_loss: 0.3824 - val_accuracy: 0.9337\n",
            "Epoch 8/20\n",
            "211/211 [==============================] - 8s 38ms/step - loss: 0.0476 - accuracy: 0.9866 - val_loss: 0.6976 - val_accuracy: 0.9019\n",
            "Epoch 9/20\n",
            "211/211 [==============================] - 8s 38ms/step - loss: 0.0417 - accuracy: 0.9876 - val_loss: 0.5316 - val_accuracy: 0.9198\n",
            "Epoch 10/20\n",
            "211/211 [==============================] - 8s 38ms/step - loss: 0.0403 - accuracy: 0.9875 - val_loss: 0.9514 - val_accuracy: 0.8715\n",
            "Epoch 11/20\n",
            "211/211 [==============================] - 8s 38ms/step - loss: 0.0536 - accuracy: 0.9863 - val_loss: 0.3601 - val_accuracy: 0.9475\n",
            "Epoch 12/20\n",
            "211/211 [==============================] - 8s 38ms/step - loss: 0.0295 - accuracy: 0.9905 - val_loss: 0.3667 - val_accuracy: 0.9292\n",
            "Epoch 13/20\n",
            "211/211 [==============================] - 8s 38ms/step - loss: 0.0277 - accuracy: 0.9915 - val_loss: 0.4465 - val_accuracy: 0.9451\n",
            "Epoch 14/20\n",
            "211/211 [==============================] - 8s 38ms/step - loss: 0.0175 - accuracy: 0.9952 - val_loss: 0.4608 - val_accuracy: 0.9413\n",
            "Epoch 15/20\n",
            "211/211 [==============================] - 8s 38ms/step - loss: 0.0248 - accuracy: 0.9943 - val_loss: 0.5629 - val_accuracy: 0.9185\n",
            "Epoch 16/20\n",
            "211/211 [==============================] - 8s 38ms/step - loss: 0.0288 - accuracy: 0.9922 - val_loss: 0.5652 - val_accuracy: 0.9381\n",
            "Epoch 17/20\n",
            "211/211 [==============================] - 8s 38ms/step - loss: 0.0503 - accuracy: 0.9875 - val_loss: 0.5406 - val_accuracy: 0.9198\n",
            "Epoch 18/20\n",
            "211/211 [==============================] - 8s 38ms/step - loss: 0.0372 - accuracy: 0.9910 - val_loss: 0.3615 - val_accuracy: 0.9475\n",
            "Epoch 19/20\n",
            "211/211 [==============================] - 8s 38ms/step - loss: 0.0209 - accuracy: 0.9943 - val_loss: 0.5426 - val_accuracy: 0.9454\n",
            "Epoch 20/20\n",
            "211/211 [==============================] - 8s 38ms/step - loss: 0.0429 - accuracy: 0.9902 - val_loss: 0.5101 - val_accuracy: 0.9471\n",
            "Model: \"model_13\"\n",
            "_________________________________________________________________\n",
            "Layer (type)                 Output Shape              Param #   \n",
            "=================================================================\n",
            "input_15 (InputLayer)        [(None, 128)]             0         \n",
            "_________________________________________________________________\n",
            "embedding_14 (Embedding)     (None, 128, 100)          1639900   \n",
            "_________________________________________________________________\n",
            "conv1d_18 (Conv1D)           (None, 128, 16)           4816      \n",
            "_________________________________________________________________\n",
            "max_pooling1d_52 (MaxPooling (None, 64, 16)            0         \n",
            "_________________________________________________________________\n",
            "conv_block_34 (ConvBlock)    (None, 64, 64)            20416     \n",
            "_________________________________________________________________\n",
            "max_pooling1d_53 (MaxPooling (None, 32, 64)            0         \n",
            "_________________________________________________________________\n",
            "conv_block_35 (ConvBlock)    (None, 32, 128)           92032     \n",
            "_________________________________________________________________\n",
            "max_pooling1d_54 (MaxPooling (None, 16, 128)           0         \n",
            "_________________________________________________________________\n",
            "conv_block_36 (ConvBlock)    (None, 16, 256)           364288    \n",
            "_________________________________________________________________\n",
            "max_pooling1d_55 (MaxPooling (None, 8, 256)            0         \n",
            "_________________________________________________________________\n",
            "flatten_17 (Flatten)         (None, 2048)              0         \n",
            "_________________________________________________________________\n",
            "dropout_13 (Dropout)         (None, 2048)              0         \n",
            "_________________________________________________________________\n",
            "dense_26 (Dense)             (None, 256)               524544    \n",
            "_________________________________________________________________\n",
            "dense_27 (Dense)             (None, 18)                4626      \n",
            "=================================================================\n",
            "Total params: 2,650,622\n",
            "Trainable params: 2,647,934\n",
            "Non-trainable params: 2,688\n",
            "_________________________________________________________________\n",
            "Epoch 1/20\n",
            "211/211 [==============================] - 14s 53ms/step - loss: 1.8690 - accuracy: 0.5412 - val_loss: 4.6007 - val_accuracy: 0.0093\n",
            "Epoch 2/20\n",
            "211/211 [==============================] - 10s 47ms/step - loss: 0.4512 - accuracy: 0.8695 - val_loss: 6.0692 - val_accuracy: 0.0366\n",
            "Epoch 3/20\n",
            "211/211 [==============================] - 10s 46ms/step - loss: 0.1878 - accuracy: 0.9452 - val_loss: 1.0324 - val_accuracy: 0.7274\n",
            "Epoch 4/20\n",
            "211/211 [==============================] - 9s 45ms/step - loss: 0.1083 - accuracy: 0.9674 - val_loss: 0.4147 - val_accuracy: 0.9046\n",
            "Epoch 5/20\n",
            "211/211 [==============================] - 10s 48ms/step - loss: 0.0849 - accuracy: 0.9754 - val_loss: 0.4211 - val_accuracy: 0.9243\n",
            "Epoch 6/20\n",
            "211/211 [==============================] - 10s 47ms/step - loss: 0.0679 - accuracy: 0.9778 - val_loss: 0.3623 - val_accuracy: 0.9285\n",
            "Epoch 7/20\n",
            "211/211 [==============================] - 10s 46ms/step - loss: 0.0587 - accuracy: 0.9827 - val_loss: 0.3554 - val_accuracy: 0.9402\n",
            "Epoch 8/20\n",
            "211/211 [==============================] - 10s 46ms/step - loss: 0.0608 - accuracy: 0.9836 - val_loss: 0.3747 - val_accuracy: 0.9354\n",
            "Epoch 9/20\n",
            "211/211 [==============================] - 9s 45ms/step - loss: 0.0476 - accuracy: 0.9848 - val_loss: 0.4039 - val_accuracy: 0.9299\n",
            "Epoch 10/20\n",
            "211/211 [==============================] - 10s 48ms/step - loss: 0.0594 - accuracy: 0.9840 - val_loss: 0.3903 - val_accuracy: 0.9430\n",
            "Epoch 11/20\n",
            "211/211 [==============================] - 10s 47ms/step - loss: 0.0397 - accuracy: 0.9891 - val_loss: 0.4110 - val_accuracy: 0.9402\n",
            "Epoch 12/20\n",
            "211/211 [==============================] - 10s 46ms/step - loss: 0.0599 - accuracy: 0.9852 - val_loss: 0.4509 - val_accuracy: 0.9309\n",
            "Epoch 13/20\n",
            "211/211 [==============================] - 10s 46ms/step - loss: 0.0399 - accuracy: 0.9892 - val_loss: 0.3285 - val_accuracy: 0.9409\n",
            "Epoch 14/20\n",
            "211/211 [==============================] - 10s 46ms/step - loss: 0.0282 - accuracy: 0.9925 - val_loss: 0.3401 - val_accuracy: 0.9454\n",
            "Epoch 15/20\n",
            "211/211 [==============================] - 10s 49ms/step - loss: 0.0218 - accuracy: 0.9933 - val_loss: 0.4361 - val_accuracy: 0.9381\n",
            "Epoch 16/20\n",
            "211/211 [==============================] - 10s 47ms/step - loss: 0.0395 - accuracy: 0.9892 - val_loss: 0.4693 - val_accuracy: 0.9361\n",
            "Epoch 17/20\n",
            "211/211 [==============================] - 10s 47ms/step - loss: 0.0357 - accuracy: 0.9900 - val_loss: 0.6085 - val_accuracy: 0.9109\n",
            "Epoch 18/20\n",
            "211/211 [==============================] - 9s 45ms/step - loss: 0.0474 - accuracy: 0.9869 - val_loss: 0.4227 - val_accuracy: 0.9305\n",
            "Epoch 19/20\n",
            "211/211 [==============================] - 10s 46ms/step - loss: 0.0474 - accuracy: 0.9867 - val_loss: 0.3354 - val_accuracy: 0.9478\n",
            "Epoch 20/20\n",
            "211/211 [==============================] - 10s 48ms/step - loss: 0.0181 - accuracy: 0.9946 - val_loss: 0.3785 - val_accuracy: 0.9509\n",
            "Model: \"model_14\"\n",
            "_________________________________________________________________\n",
            "Layer (type)                 Output Shape              Param #   \n",
            "=================================================================\n",
            "input_16 (InputLayer)        [(None, 128)]             0         \n",
            "_________________________________________________________________\n",
            "embedding_15 (Embedding)     (None, 128, 100)          1639900   \n",
            "_________________________________________________________________\n",
            "conv1d_19 (Conv1D)           (None, 128, 16)           4816      \n",
            "_________________________________________________________________\n",
            "max_pooling1d_56 (MaxPooling (None, 64, 16)            0         \n",
            "_________________________________________________________________\n",
            "conv_block_37 (ConvBlock)    (None, 64, 64)            20416     \n",
            "_________________________________________________________________\n",
            "max_pooling1d_57 (MaxPooling (None, 32, 64)            0         \n",
            "_________________________________________________________________\n",
            "conv_block_38 (ConvBlock)    (None, 32, 128)           92032     \n",
            "_________________________________________________________________\n",
            "max_pooling1d_58 (MaxPooling (None, 16, 128)           0         \n",
            "_________________________________________________________________\n",
            "conv_block_39 (ConvBlock)    (None, 16, 256)           364288    \n",
            "_________________________________________________________________\n",
            "max_pooling1d_59 (MaxPooling (None, 8, 256)            0         \n",
            "_________________________________________________________________\n",
            "conv_block_40 (ConvBlock)    (None, 8, 256)            462592    \n",
            "_________________________________________________________________\n",
            "max_pooling1d_60 (MaxPooling (None, 4, 256)            0         \n",
            "_________________________________________________________________\n",
            "flatten_18 (Flatten)         (None, 1024)              0         \n",
            "_________________________________________________________________\n",
            "dropout_14 (Dropout)         (None, 1024)              0         \n",
            "_________________________________________________________________\n",
            "dense_28 (Dense)             (None, 256)               262400    \n",
            "_________________________________________________________________\n",
            "dense_29 (Dense)             (None, 18)                4626      \n",
            "=================================================================\n",
            "Total params: 2,851,070\n",
            "Trainable params: 2,846,846\n",
            "Non-trainable params: 4,224\n",
            "_________________________________________________________________\n",
            "Epoch 1/20\n",
            "211/211 [==============================] - 16s 56ms/step - loss: 1.9765 - accuracy: 0.5046 - val_loss: 3.0266 - val_accuracy: 0.0591\n",
            "Epoch 2/20\n",
            "211/211 [==============================] - 11s 52ms/step - loss: 0.5758 - accuracy: 0.8373 - val_loss: 3.0980 - val_accuracy: 0.3746\n",
            "Epoch 3/20\n",
            "211/211 [==============================] - 12s 56ms/step - loss: 0.2598 - accuracy: 0.9225 - val_loss: 1.4329 - val_accuracy: 0.7519\n",
            "Epoch 4/20\n",
            "211/211 [==============================] - 12s 56ms/step - loss: 0.1571 - accuracy: 0.9507 - val_loss: 0.4064 - val_accuracy: 0.8998\n",
            "Epoch 5/20\n",
            "211/211 [==============================] - 12s 55ms/step - loss: 0.1107 - accuracy: 0.9670 - val_loss: 0.3883 - val_accuracy: 0.9043\n",
            "Epoch 6/20\n",
            "211/211 [==============================] - 11s 54ms/step - loss: 0.0815 - accuracy: 0.9758 - val_loss: 0.4912 - val_accuracy: 0.8991\n",
            "Epoch 7/20\n",
            "211/211 [==============================] - 12s 55ms/step - loss: 0.0829 - accuracy: 0.9763 - val_loss: 0.3046 - val_accuracy: 0.9371\n",
            "Epoch 8/20\n",
            "211/211 [==============================] - 12s 56ms/step - loss: 0.0833 - accuracy: 0.9783 - val_loss: 0.3688 - val_accuracy: 0.9347\n",
            "Epoch 9/20\n",
            "211/211 [==============================] - 11s 54ms/step - loss: 0.0687 - accuracy: 0.9807 - val_loss: 0.3314 - val_accuracy: 0.9319\n",
            "Epoch 10/20\n",
            "211/211 [==============================] - 11s 52ms/step - loss: 0.0429 - accuracy: 0.9882 - val_loss: 0.3574 - val_accuracy: 0.9319\n",
            "Epoch 11/20\n",
            "211/211 [==============================] - 11s 51ms/step - loss: 0.0369 - accuracy: 0.9900 - val_loss: 0.3387 - val_accuracy: 0.9330\n",
            "Epoch 12/20\n",
            "211/211 [==============================] - 12s 55ms/step - loss: 0.0545 - accuracy: 0.9884 - val_loss: 0.3207 - val_accuracy: 0.9440\n",
            "Epoch 13/20\n",
            "211/211 [==============================] - 11s 53ms/step - loss: 0.0409 - accuracy: 0.9881 - val_loss: 0.3916 - val_accuracy: 0.9223\n",
            "Epoch 14/20\n",
            "211/211 [==============================] - 11s 51ms/step - loss: 0.0362 - accuracy: 0.9888 - val_loss: 0.4210 - val_accuracy: 0.9115\n",
            "Epoch 15/20\n",
            "211/211 [==============================] - 11s 50ms/step - loss: 0.0573 - accuracy: 0.9852 - val_loss: 0.2975 - val_accuracy: 0.9426\n",
            "Epoch 16/20\n",
            "211/211 [==============================] - 12s 56ms/step - loss: 0.0328 - accuracy: 0.9908 - val_loss: 0.3406 - val_accuracy: 0.9413\n",
            "Epoch 17/20\n",
            "211/211 [==============================] - 12s 55ms/step - loss: 0.0298 - accuracy: 0.9923 - val_loss: 0.4287 - val_accuracy: 0.9281\n",
            "Epoch 18/20\n",
            "211/211 [==============================] - 12s 55ms/step - loss: 0.0390 - accuracy: 0.9892 - val_loss: 0.3044 - val_accuracy: 0.9399\n",
            "Epoch 19/20\n",
            "211/211 [==============================] - 11s 54ms/step - loss: 0.0381 - accuracy: 0.9897 - val_loss: 0.7102 - val_accuracy: 0.8341\n",
            "Epoch 20/20\n",
            "211/211 [==============================] - 11s 51ms/step - loss: 0.0739 - accuracy: 0.9790 - val_loss: 0.3609 - val_accuracy: 0.9426\n",
            "Model: \"model_15\"\n",
            "_________________________________________________________________\n",
            "Layer (type)                 Output Shape              Param #   \n",
            "=================================================================\n",
            "input_17 (InputLayer)        [(None, 128)]             0         \n",
            "_________________________________________________________________\n",
            "embedding_16 (Embedding)     (None, 128, 100)          1639900   \n",
            "_________________________________________________________________\n",
            "conv1d_20 (Conv1D)           (None, 128, 16)           4816      \n",
            "_________________________________________________________________\n",
            "max_pooling1d_61 (MaxPooling (None, 64, 16)            0         \n",
            "_________________________________________________________________\n",
            "conv_block_41 (ConvBlock)    (None, 64, 64)            20416     \n",
            "_________________________________________________________________\n",
            "max_pooling1d_62 (MaxPooling (None, 32, 64)            0         \n",
            "_________________________________________________________________\n",
            "conv_block_42 (ConvBlock)    (None, 32, 128)           92032     \n",
            "_________________________________________________________________\n",
            "max_pooling1d_63 (MaxPooling (None, 16, 128)           0         \n",
            "_________________________________________________________________\n",
            "conv_block_43 (ConvBlock)    (None, 16, 256)           364288    \n",
            "_________________________________________________________________\n",
            "max_pooling1d_64 (MaxPooling (None, 8, 256)            0         \n",
            "_________________________________________________________________\n",
            "conv_block_44 (ConvBlock)    (None, 8, 256)            462592    \n",
            "_________________________________________________________________\n",
            "max_pooling1d_65 (MaxPooling (None, 4, 256)            0         \n",
            "_________________________________________________________________\n",
            "conv_block_45 (ConvBlock)    (None, 4, 512)            1449472   \n",
            "_________________________________________________________________\n",
            "max_pooling1d_66 (MaxPooling (None, 2, 512)            0         \n",
            "_________________________________________________________________\n",
            "flatten_19 (Flatten)         (None, 1024)              0         \n",
            "_________________________________________________________________\n",
            "dropout_15 (Dropout)         (None, 1024)              0         \n",
            "_________________________________________________________________\n",
            "dense_30 (Dense)             (None, 256)               262400    \n",
            "_________________________________________________________________\n",
            "dense_31 (Dense)             (None, 18)                4626      \n",
            "=================================================================\n",
            "Total params: 4,300,542\n",
            "Trainable params: 4,293,246\n",
            "Non-trainable params: 7,296\n",
            "_________________________________________________________________\n",
            "Epoch 1/20\n",
            "211/211 [==============================] - 19s 63ms/step - loss: 1.9663 - accuracy: 0.5164 - val_loss: 3.1198 - val_accuracy: 0.0328\n",
            "Epoch 2/20\n",
            "211/211 [==============================] - 13s 60ms/step - loss: 0.7611 - accuracy: 0.7748 - val_loss: 3.8669 - val_accuracy: 0.3614\n",
            "Epoch 3/20\n",
            "211/211 [==============================] - 13s 60ms/step - loss: 0.4419 - accuracy: 0.8656 - val_loss: 2.0581 - val_accuracy: 0.5380\n",
            "Epoch 4/20\n",
            "211/211 [==============================] - 13s 60ms/step - loss: 0.2675 - accuracy: 0.9204 - val_loss: 0.5824 - val_accuracy: 0.8525\n",
            "Epoch 5/20\n",
            "211/211 [==============================] - 13s 59ms/step - loss: 0.1853 - accuracy: 0.9449 - val_loss: 0.4742 - val_accuracy: 0.8773\n",
            "Epoch 6/20\n",
            "211/211 [==============================] - 13s 60ms/step - loss: 0.1432 - accuracy: 0.9568 - val_loss: 0.3659 - val_accuracy: 0.9095\n",
            "Epoch 7/20\n",
            "211/211 [==============================] - 13s 63ms/step - loss: 0.1161 - accuracy: 0.9656 - val_loss: 0.4003 - val_accuracy: 0.9109\n",
            "Epoch 8/20\n",
            "211/211 [==============================] - 13s 61ms/step - loss: 0.0931 - accuracy: 0.9727 - val_loss: 0.4034 - val_accuracy: 0.9219\n",
            "Epoch 9/20\n",
            "211/211 [==============================] - 13s 60ms/step - loss: 0.0931 - accuracy: 0.9719 - val_loss: 0.3257 - val_accuracy: 0.9312\n",
            "Epoch 10/20\n",
            "211/211 [==============================] - 13s 60ms/step - loss: 0.0831 - accuracy: 0.9743 - val_loss: 0.4410 - val_accuracy: 0.9167\n",
            "Epoch 11/20\n",
            "211/211 [==============================] - 14s 65ms/step - loss: 0.0760 - accuracy: 0.9787 - val_loss: 0.4936 - val_accuracy: 0.8977\n",
            "Epoch 12/20\n",
            "211/211 [==============================] - 13s 60ms/step - loss: 0.0728 - accuracy: 0.9800 - val_loss: 0.2606 - val_accuracy: 0.9471\n",
            "Epoch 13/20\n",
            "211/211 [==============================] - 12s 59ms/step - loss: 0.0652 - accuracy: 0.9818 - val_loss: 0.3529 - val_accuracy: 0.9337\n",
            "Epoch 14/20\n",
            "211/211 [==============================] - 12s 59ms/step - loss: 0.0390 - accuracy: 0.9880 - val_loss: 0.4101 - val_accuracy: 0.9229\n",
            "Epoch 15/20\n",
            "211/211 [==============================] - 14s 65ms/step - loss: 0.0603 - accuracy: 0.9834 - val_loss: 0.3794 - val_accuracy: 0.9361\n",
            "Epoch 16/20\n",
            "211/211 [==============================] - 13s 63ms/step - loss: 0.0552 - accuracy: 0.9850 - val_loss: 0.3833 - val_accuracy: 0.9292\n",
            "Epoch 17/20\n",
            "211/211 [==============================] - 13s 63ms/step - loss: 0.0552 - accuracy: 0.9850 - val_loss: 0.3833 - val_accuracy: 0.9292\n",
            "Epoch 17/20\n",
            "211/211 [==============================] - 13s 62ms/step - loss: 0.0621 - accuracy: 0.9838 - val_loss: 0.3541 - val_accuracy: 0.9278\n",
            "211/211 [==============================] - 13s 62ms/step - loss: 0.0621 - accuracy: 0.9838 - val_loss: 0.3541 - val_accuracy: 0.9278\n",
            "Epoch 18/20\n",
            "  1/211 [..............................] - ETA: 11s - loss: 0.0823 - accuracy: 0.9844Epoch 18/20\n",
            "211/211 [==============================] - 13s 64ms/step - loss: 0.0430 - accuracy: 0.9879 - val_loss: 0.3013 - val_accuracy: 0.9516\n",
            "211/211 [==============================] - 13s 64ms/step - loss: 0.0430 - accuracy: 0.9879 - val_loss: 0.3013 - val_accuracy: 0.9516\n",
            "Epoch 19/20\n",
            "  1/211 [..............................] - ETA: 10s - loss: 0.0051 - accuracy: 1.0000Epoch 19/20\n",
            "211/211 [==============================] - 13s 63ms/step - loss: 0.0418 - accuracy: 0.9890 - val_loss: 0.2532 - val_accuracy: 0.9430\n",
            "211/211 [==============================] - 13s 63ms/step - loss: 0.0418 - accuracy: 0.9890 - val_loss: 0.2532 - val_accuracy: 0.9430\n",
            "Epoch 20/20\n",
            "  1/211 [..............................] - ETA: 10s - loss: 0.0414 - accuracy: 0.9844Epoch 20/20\n",
            "211/211 [==============================] - 13s 62ms/step - loss: 0.0481 - accuracy: 0.9872 - val_loss: 0.2723 - val_accuracy: 0.9444\n",
            "211/211 [==============================] - 13s 62ms/step - loss: 0.0481 - accuracy: 0.9872 - val_loss: 0.2723 - val_accuracy: 0.9444\n",
            "Model: \"model_16\"\n",
            "_________________________________________________________________\n",
            "Layer (type)                 Output Shape              Param #   \n",
            "=================================================================\n",
            "input_18 (InputLayer)        [(None, 128)]             0         \n",
            "_________________________________________________________________\n",
            "embedding_17 (Embedding)     (None, 128, 100)          1639900   \n",
            "_________________________________________________________________\n",
            "conv1d_21 (Conv1D)           (None, 128, 16)           4816      \n",
            "_________________________________________________________________\n",
            "max_pooling1d_67 (MaxPooling (None, 64, 16)            0         \n",
            "_________________________________________________________________\n",
            "conv_block_46 (ConvBlock)    (None, 64, 64)            20416     \n",
            "_________________________________________________________________\n",
            "max_pooling1d_68 (MaxPooling (None, 32, 64)            0         \n",
            "_________________________________________________________________\n",
            "conv_block_47 (ConvBlock)    (None, 32, 128)           92032     \n",
            "_________________________________________________________________\n",
            "max_pooling1d_69 (MaxPooling (None, 16, 128)           0         \n",
            "_________________________________________________________________\n",
            "conv_block_48 (ConvBlock)    (None, 16, 256)           364288    \n",
            "_________________________________________________________________\n",
            "max_pooling1d_70 (MaxPooling (None, 8, 256)            0         \n",
            "_________________________________________________________________\n",
            "conv_block_49 (ConvBlock)    (None, 8, 256)            462592    \n",
            "_________________________________________________________________\n",
            "max_pooling1d_71 (MaxPooling (None, 4, 256)            0         \n",
            "_________________________________________________________________\n",
            "conv_block_50 (ConvBlock)    (None, 4, 512)            1449472   \n",
            "_________________________________________________________________\n",
            "max_pooling1d_72 (MaxPooling (None, 2, 512)            0         \n",
            "_________________________________________________________________\n",
            "conv_block_51 (ConvBlock)    (None, 2, 512)            1842688   \n",
            "_________________________________________________________________\n",
            "max_pooling1d_73 (MaxPooling (None, 1, 512)            0         \n",
            "_________________________________________________________________\n",
            "flatten_20 (Flatten)         (None, 512)               0         \n",
            "_________________________________________________________________\n",
            "dropout_16 (Dropout)         (None, 512)               0         \n",
            "_________________________________________________________________\n",
            "dense_32 (Dense)             (None, 256)               131328    \n",
            "_________________________________________________________________\n",
            "dense_33 (Dense)             (None, 18)                4626      \n",
            "=================================================================\n",
            "Total params: 6,012,158\n",
            "Trainable params: 6,001,790\n",
            "Non-trainable params: 10,368\n",
            "_________________________________________________________________\n",
            "Epoch 1/20\n",
            "Model: \"model_16\"\n",
            "_________________________________________________________________\n",
            "Layer (type)                 Output Shape              Param #   \n",
            "=================================================================\n",
            "input_18 (InputLayer)        [(None, 128)]             0         \n",
            "_________________________________________________________________\n",
            "embedding_17 (Embedding)     (None, 128, 100)          1639900   \n",
            "_________________________________________________________________\n",
            "conv1d_21 (Conv1D)           (None, 128, 16)           4816      \n",
            "_________________________________________________________________\n",
            "max_pooling1d_67 (MaxPooling (None, 64, 16)            0         \n",
            "_________________________________________________________________\n",
            "conv_block_46 (ConvBlock)    (None, 64, 64)            20416     \n",
            "_________________________________________________________________\n",
            "max_pooling1d_68 (MaxPooling (None, 32, 64)            0         \n",
            "_________________________________________________________________\n",
            "conv_block_47 (ConvBlock)    (None, 32, 128)           92032     \n",
            "_________________________________________________________________\n",
            "max_pooling1d_69 (MaxPooling (None, 16, 128)           0         \n",
            "_________________________________________________________________\n",
            "conv_block_48 (ConvBlock)    (None, 16, 256)           364288    \n",
            "_________________________________________________________________\n",
            "max_pooling1d_70 (MaxPooling (None, 8, 256)            0         \n",
            "_________________________________________________________________\n",
            "conv_block_49 (ConvBlock)    (None, 8, 256)            462592    \n",
            "_________________________________________________________________\n",
            "max_pooling1d_71 (MaxPooling (None, 4, 256)            0         \n",
            "_________________________________________________________________\n",
            "conv_block_50 (ConvBlock)    (None, 4, 512)            1449472   \n",
            "_________________________________________________________________\n",
            "max_pooling1d_72 (MaxPooling (None, 2, 512)            0         \n",
            "_________________________________________________________________\n",
            "conv_block_51 (ConvBlock)    (None, 2, 512)            1842688   \n",
            "_________________________________________________________________\n",
            "max_pooling1d_73 (MaxPooling (None, 1, 512)            0         \n",
            "_________________________________________________________________\n",
            "flatten_20 (Flatten)         (None, 512)               0         \n",
            "_________________________________________________________________\n",
            "dropout_16 (Dropout)         (None, 512)               0         \n",
            "_________________________________________________________________\n",
            "dense_32 (Dense)             (None, 256)               131328    \n",
            "_________________________________________________________________\n",
            "dense_33 (Dense)             (None, 18)                4626      \n",
            "=================================================================\n",
            "Total params: 6,012,158\n",
            "Trainable params: 6,001,790\n",
            "Non-trainable params: 10,368\n",
            "_________________________________________________________________\n",
            "Epoch 1/20\n",
            "211/211 [==============================] - 21s 74ms/step - loss: 2.1220 - accuracy: 0.4742 - val_loss: 2.6567 - val_accuracy: 0.1959\n",
            "211/211 [==============================] - 21s 74ms/step - loss: 2.1220 - accuracy: 0.4742 - val_loss: 2.6567 - val_accuracy: 0.1959\n",
            "Epoch 2/20\n",
            "  1/211 [..............................] - ETA: 13s - loss: 0.8664 - accuracy: 0.6875Epoch 2/20\n",
            "211/211 [==============================] - 15s 69ms/step - loss: 0.9055 - accuracy: 0.7316 - val_loss: 3.6258 - val_accuracy: 0.2184\n",
            "211/211 [==============================] - 15s 69ms/step - loss: 0.9055 - accuracy: 0.7316 - val_loss: 3.6258 - val_accuracy: 0.2184\n",
            "Epoch 3/20\n",
            "  1/211 [..............................] - ETA: 12s - loss: 0.8782 - accuracy: 0.7500Epoch 3/20\n",
            "211/211 [==============================] - 15s 69ms/step - loss: 0.5437 - accuracy: 0.8380 - val_loss: 2.1776 - val_accuracy: 0.5166\n",
            "211/211 [==============================] - 15s 69ms/step - loss: 0.5437 - accuracy: 0.8380 - val_loss: 2.1776 - val_accuracy: 0.5166\n",
            "Epoch 4/20\n",
            "  1/211 [..............................] - ETA: 12s - loss: 0.2542 - accuracy: 0.9375Epoch 4/20\n",
            "211/211 [==============================] - 15s 70ms/step - loss: 0.3888 - accuracy: 0.8861 - val_loss: 0.8466 - val_accuracy: 0.8058\n",
            "211/211 [==============================] - 15s 70ms/step - loss: 0.3888 - accuracy: 0.8861 - val_loss: 0.8466 - val_accuracy: 0.8058\n",
            "Epoch 5/20\n",
            "  1/211 [..............................] - ETA: 12s - loss: 0.2031 - accuracy: 0.9219Epoch 5/20\n",
            "211/211 [==============================] - 16s 74ms/step - loss: 0.2655 - accuracy: 0.9202 - val_loss: 0.4647 - val_accuracy: 0.8715\n",
            "211/211 [==============================] - 16s 74ms/step - loss: 0.2655 - accuracy: 0.9202 - val_loss: 0.4647 - val_accuracy: 0.8715\n",
            "Epoch 6/20\n",
            "  1/211 [..............................] - ETA: 12s - loss: 0.1252 - accuracy: 0.9531Epoch 6/20\n",
            "211/211 [==============================] - 15s 70ms/step - loss: 0.2217 - accuracy: 0.9376 - val_loss: 0.5541 - val_accuracy: 0.8390\n",
            "211/211 [==============================] - 15s 70ms/step - loss: 0.2217 - accuracy: 0.9376 - val_loss: 0.5541 - val_accuracy: 0.8390\n",
            "Epoch 7/20\n",
            "  1/211 [..............................] - ETA: 11s - loss: 0.0725 - accuracy: 0.9688Epoch 7/20\n",
            "211/211 [==============================] - 15s 70ms/step - loss: 0.1787 - accuracy: 0.9464 - val_loss: 0.3972 - val_accuracy: 0.8981\n",
            "211/211 [==============================] - 15s 70ms/step - loss: 0.1787 - accuracy: 0.9464 - val_loss: 0.3972 - val_accuracy: 0.8981\n",
            "Epoch 8/20\n",
            "  1/211 [..............................] - ETA: 14s - loss: 0.2291 - accuracy: 0.9844Epoch 8/20\n",
            "211/211 [==============================] - 15s 73ms/step - loss: 0.1432 - accuracy: 0.9593 - val_loss: 0.5223 - val_accuracy: 0.8625\n",
            "211/211 [==============================] - 15s 73ms/step - loss: 0.1432 - accuracy: 0.9593 - val_loss: 0.5223 - val_accuracy: 0.8625\n",
            "Epoch 9/20\n",
            "  1/211 [..............................] - ETA: 12s - loss: 0.1143 - accuracy: 0.9688Epoch 9/20\n",
            "211/211 [==============================] - 15s 70ms/step - loss: 0.1395 - accuracy: 0.9629 - val_loss: 0.3699 - val_accuracy: 0.9178\n",
            "211/211 [==============================] - 15s 70ms/step - loss: 0.1395 - accuracy: 0.9629 - val_loss: 0.3699 - val_accuracy: 0.9178\n",
            "Epoch 10/20\n",
            "  1/211 [..............................] - ETA: 12s - loss: 0.0142 - accuracy: 1.0000Epoch 10/20\n",
            "211/211 [==============================] - 15s 70ms/step - loss: 0.0918 - accuracy: 0.9740 - val_loss: 0.3859 - val_accuracy: 0.9178\n",
            "211/211 [==============================] - 15s 70ms/step - loss: 0.0918 - accuracy: 0.9740 - val_loss: 0.3859 - val_accuracy: 0.9178\n",
            "Epoch 11/20\n",
            "  1/211 [..............................] - ETA: 14s - loss: 0.0337 - accuracy: 0.9844Epoch 11/20\n",
            "211/211 [==============================] - 15s 73ms/step - loss: 0.0904 - accuracy: 0.9739 - val_loss: 0.5922 - val_accuracy: 0.8721\n",
            "211/211 [==============================] - 15s 73ms/step - loss: 0.0904 - accuracy: 0.9739 - val_loss: 0.5922 - val_accuracy: 0.8721\n",
            "Epoch 12/20\n",
            "  1/211 [..............................] - ETA: 13s - loss: 0.1780 - accuracy: 0.9531Epoch 12/20\n",
            "211/211 [==============================] - 15s 73ms/step - loss: 0.0972 - accuracy: 0.9710 - val_loss: 0.5457 - val_accuracy: 0.8677\n",
            "211/211 [==============================] - 15s 73ms/step - loss: 0.0972 - accuracy: 0.9710 - val_loss: 0.5457 - val_accuracy: 0.8677\n",
            "Epoch 13/20\n",
            "  1/211 [..............................] - ETA: 13s - loss: 0.0173 - accuracy: 1.0000Epoch 13/20\n",
            "211/211 [==============================] - 15s 70ms/step - loss: 0.0911 - accuracy: 0.9738 - val_loss: 0.3526 - val_accuracy: 0.9319\n",
            "211/211 [==============================] - 15s 70ms/step - loss: 0.0911 - accuracy: 0.9738 - val_loss: 0.3526 - val_accuracy: 0.9319\n",
            "Epoch 14/20\n",
            "  1/211 [..............................] - ETA: 11s - loss: 0.1181 - accuracy: 0.9844Epoch 14/20\n",
            "211/211 [==============================] - 15s 70ms/step - loss: 0.0754 - accuracy: 0.9812 - val_loss: 0.4116 - val_accuracy: 0.9126\n",
            "211/211 [==============================] - 15s 70ms/step - loss: 0.0754 - accuracy: 0.9812 - val_loss: 0.4116 - val_accuracy: 0.9126\n",
            "Epoch 15/20\n",
            "  1/211 [..............................] - ETA: 12s - loss: 0.2114 - accuracy: 0.9375Epoch 15/20\n",
            "143/211 [===================>..........] - ETA: 4s - loss: 0.0810 - accuracy: 0.9790"
          ],
          "name": "stdout"
        }
      ]
    },
    {
      "cell_type": "code",
      "metadata": {
        "colab": {
          "base_uri": "https://localhost:8080/"
        },
        "id": "DP-G3KPAUtj0",
        "outputId": "0f1ba1e5-886f-4c80-96be-295fe92289e3"
      },
      "source": [
        "result"
      ],
      "execution_count": 44,
      "outputs": [
        {
          "output_type": "execute_result",
          "data": {
            "text/plain": [
              "[[0.9502246802627031,\n",
              "  0.8824368592691857,\n",
              "  0.889087564172298,\n",
              "  0.8832671935838667],\n",
              " [0.9526443138610439,\n",
              "  0.8915105109528407,\n",
              "  0.8942890004428179,\n",
              "  0.8876946297740458],\n",
              " [0.9554096094020048,\n",
              "  0.8973856746431146,\n",
              "  0.9021078718520822,\n",
              "  0.8963498622215419],\n",
              " [0.9481507086069824,\n",
              "  0.8984841643355254,\n",
              "  0.884314298557449,\n",
              "  0.8891755577168404],\n",
              " [0.9433114414103008,\n",
              "  0.8635538619435458,\n",
              "  0.8642972853102692,\n",
              "  0.8561424505741213],\n",
              " [0.932250259246457,\n",
              "  0.8664070034871815,\n",
              "  0.8522422356399315,\n",
              "  0.851639172406492]]"
            ]
          },
          "metadata": {
            "tags": []
          },
          "execution_count": 44
        }
      ]
    },
    {
      "cell_type": "code",
      "metadata": {
        "id": "WivR9Wff26lj",
        "colab": {
          "base_uri": "https://localhost:8080/"
        },
        "outputId": "2f60f6a0-08ff-4e10-c360-568e9a25c90e"
      },
      "source": [
        "#Defining the Multi CNN model with 3 CNN'S of filter size 3, 5, 7 \n",
        "embedding_vector_features=100\n",
        "input=Input(shape=(sent_length,))\n",
        "embedd=Embedding(voc_size,embedding_vector_features,input_length=sent_length)(input)\n",
        "x1=Conv1D(128, 3, padding='same', activation='relu' )(embedd)\n",
        "x1=MaxPooling1D(pool_size=2,strides=None)(x1)\n",
        "x1=Flatten()(x1)\n",
        "x2=Conv1D(128, 5, padding='same', activation='relu' )(embedd)\n",
        "x2=MaxPooling1D(pool_size=2,strides=None)(x2)\n",
        "x2=Flatten()(x2)\n",
        "x3=Conv1D(128, 7, padding='same', activation='relu' )(embedd)\n",
        "x3=MaxPooling1D(pool_size=2,strides=None)(x3)\n",
        "x3=Flatten()(x3)\n",
        "x = concatenate([x1,x2,x3])\n",
        "x=Dense(256,activation='relu')(x)\n",
        "x=Dropout(0.4)(x)\n",
        "x=Dense(64,activation='relu')(x)\n",
        "x=Dense(18,activation='softmax')(x)\n",
        "model5=Model(inputs=input, outputs=x,name='Multi_CNN')\n",
        "model5.compile(loss= 'sparse_categorical_crossentropy', optimizer='adam',metrics=['accuracy'])\n",
        "model5.summary()\n",
        "#plot_model(model5,show_layer_names=True,show_shapes=True,to_file='multichannel.png')\n",
        "\n",
        "Multi_CNN_save = ModelCheckpoint('/content/drive/MyDrive/IIIT_MIDAS/saved_models/'+'Multi_CNN.hdf5', save_best_only=True, monitor='val_loss', mode='min')\n"
      ],
      "execution_count": 21,
      "outputs": [
        {
          "output_type": "stream",
          "text": [
            "Model: \"model_1\"\n",
            "__________________________________________________________________________________________________\n",
            "Layer (type)                    Output Shape         Param #     Connected to                     \n",
            "==================================================================================================\n",
            "input_2 (InputLayer)            [(None, 128)]        0                                            \n",
            "__________________________________________________________________________________________________\n",
            "embedding_1 (Embedding)         (None, 128, 100)     1639900     input_2[0][0]                    \n",
            "__________________________________________________________________________________________________\n",
            "conv1d_3 (Conv1D)               (None, 128, 128)     38528       embedding_1[0][0]                \n",
            "__________________________________________________________________________________________________\n",
            "conv1d_4 (Conv1D)               (None, 128, 128)     64128       embedding_1[0][0]                \n",
            "__________________________________________________________________________________________________\n",
            "conv1d_5 (Conv1D)               (None, 128, 128)     89728       embedding_1[0][0]                \n",
            "__________________________________________________________________________________________________\n",
            "max_pooling1d_3 (MaxPooling1D)  (None, 64, 128)      0           conv1d_3[0][0]                   \n",
            "__________________________________________________________________________________________________\n",
            "max_pooling1d_4 (MaxPooling1D)  (None, 64, 128)      0           conv1d_4[0][0]                   \n",
            "__________________________________________________________________________________________________\n",
            "max_pooling1d_5 (MaxPooling1D)  (None, 64, 128)      0           conv1d_5[0][0]                   \n",
            "__________________________________________________________________________________________________\n",
            "flatten_3 (Flatten)             (None, 8192)         0           max_pooling1d_3[0][0]            \n",
            "__________________________________________________________________________________________________\n",
            "flatten_4 (Flatten)             (None, 8192)         0           max_pooling1d_4[0][0]            \n",
            "__________________________________________________________________________________________________\n",
            "flatten_5 (Flatten)             (None, 8192)         0           max_pooling1d_5[0][0]            \n",
            "__________________________________________________________________________________________________\n",
            "concatenate_1 (Concatenate)     (None, 24576)        0           flatten_3[0][0]                  \n",
            "                                                                 flatten_4[0][0]                  \n",
            "                                                                 flatten_5[0][0]                  \n",
            "__________________________________________________________________________________________________\n",
            "dense_2 (Dense)                 (None, 256)          6291712     concatenate_1[0][0]              \n",
            "__________________________________________________________________________________________________\n",
            "dropout_1 (Dropout)             (None, 256)          0           dense_2[0][0]                    \n",
            "__________________________________________________________________________________________________\n",
            "dense_3 (Dense)                 (None, 64)           16448       dropout_1[0][0]                  \n",
            "__________________________________________________________________________________________________\n",
            "truth_ (Dense)                  (None, 18)           1170        dense_3[0][0]                    \n",
            "==================================================================================================\n",
            "Total params: 8,141,614\n",
            "Trainable params: 8,141,614\n",
            "Non-trainable params: 0\n",
            "__________________________________________________________________________________________________\n"
          ],
          "name": "stdout"
        }
      ]
    },
    {
      "cell_type": "code",
      "metadata": {
        "colab": {
          "base_uri": "https://localhost:8080/"
        },
        "id": "WLknn5YQbteu",
        "outputId": "7ac3f28e-3fe4-483b-f988-a629abbcc0cc"
      },
      "source": [
        "#training the Multi-CNN model\n",
        "model5.fit(x=X_train, y=y_train, validation_data=(X_val,y_val), callbacks=Multi_CNN_save, batch_size=64, epochs=10)"
      ],
      "execution_count": 22,
      "outputs": [
        {
          "output_type": "stream",
          "text": [
            "Epoch 1/10\n",
            "211/211 [==============================] - 10s 44ms/step - loss: 1.4090 - accuracy: 0.5806 - val_loss: 0.2779 - val_accuracy: 0.9274\n",
            "Epoch 2/10\n",
            "211/211 [==============================] - 9s 43ms/step - loss: 0.1823 - accuracy: 0.9459 - val_loss: 0.2013 - val_accuracy: 0.9530\n",
            "Epoch 3/10\n",
            "211/211 [==============================] - 9s 40ms/step - loss: 0.0611 - accuracy: 0.9793 - val_loss: 0.2280 - val_accuracy: 0.9537\n",
            "Epoch 4/10\n",
            "211/211 [==============================] - 8s 38ms/step - loss: 0.0370 - accuracy: 0.9889 - val_loss: 0.2662 - val_accuracy: 0.9554\n",
            "Epoch 5/10\n",
            "211/211 [==============================] - 8s 36ms/step - loss: 0.0177 - accuracy: 0.9940 - val_loss: 0.2372 - val_accuracy: 0.9596\n",
            "Epoch 6/10\n",
            "211/211 [==============================] - 8s 36ms/step - loss: 0.0142 - accuracy: 0.9956 - val_loss: 0.2646 - val_accuracy: 0.9565\n",
            "Epoch 7/10\n",
            "211/211 [==============================] - 8s 36ms/step - loss: 0.0172 - accuracy: 0.9937 - val_loss: 0.2358 - val_accuracy: 0.9589\n",
            "Epoch 8/10\n",
            "211/211 [==============================] - 8s 38ms/step - loss: 0.0236 - accuracy: 0.9939 - val_loss: 0.2695 - val_accuracy: 0.9679\n",
            "Epoch 9/10\n",
            "211/211 [==============================] - 8s 37ms/step - loss: 0.0150 - accuracy: 0.9959 - val_loss: 0.2615 - val_accuracy: 0.9630\n",
            "Epoch 10/10\n",
            "211/211 [==============================] - 8s 36ms/step - loss: 0.0095 - accuracy: 0.9974 - val_loss: 0.3021 - val_accuracy: 0.9613\n"
          ],
          "name": "stdout"
        },
        {
          "output_type": "execute_result",
          "data": {
            "text/plain": [
              "<tensorflow.python.keras.callbacks.History at 0x7f1f109eb910>"
            ]
          },
          "metadata": {
            "tags": []
          },
          "execution_count": 22
        }
      ]
    },
    {
      "cell_type": "code",
      "metadata": {
        "id": "kyidA3x9-iRB",
        "colab": {
          "base_uri": "https://localhost:8080/"
        },
        "outputId": "e4e5d403-982a-44d4-856a-c96290f63e8b"
      },
      "source": [
        "#Testing the MULTICNN model on test dataset\n",
        "print(\"FOR MULTICNN MODEL\")\n",
        "saved_model=load_model('/content/drive/MyDrive/IIIT_MIDAS/saved_models/'+'Multi_CNN.hdf5')\n",
        "y_prob = saved_model.predict(X_test)\n",
        "y_pred = np.argmax(y_prob,axis=1)\n",
        "accuracy = accuracy_score(y_test, y_pred)\n",
        "print('Accuracy: %f' % accuracy)\n",
        "precision = precision_score(y_test, y_pred, average='macro')\n",
        "print('Precision: %f' % precision)\n",
        "recall = recall_score(y_test, y_pred,average='macro')\n",
        "print('Recall: %f' % recall)\n",
        "f1 = f1_score(y_test, y_pred,average='macro')\n",
        "print('F1 score: %f' % f1)"
      ],
      "execution_count": 24,
      "outputs": [
        {
          "output_type": "stream",
          "text": [
            "FOR MULTICNN MODEL\n",
            "Accuracy: 0.967508\n",
            "Precision: 0.928093\n",
            "Recall: 0.922591\n",
            "F1 score: 0.924243\n"
          ],
          "name": "stdout"
        }
      ]
    },
    {
      "cell_type": "code",
      "metadata": {
        "colab": {
          "base_uri": "https://localhost:8080/",
          "height": 640
        },
        "id": "YvDRoQ90A0HU",
        "outputId": "8f7942a5-03c4-44de-cdfb-33ddf7b729dc"
      },
      "source": [
        "#Plotting the Confusion Matrix\n",
        "conf_mat = confusion_matrix(lab_enc.inverse_transform(y_test), lab_enc.inverse_transform(y_pred))\n",
        "fig, ax = plt.subplots(figsize=(10,10))\n",
        "sns.heatmap(conf_mat, annot=True, cmap=\"Blues\", fmt='d')\n",
        "plt.ylabel('Actual')\n",
        "plt.xlabel('Predicted')\n",
        "plt.title(\"CONFUSION MATRIX - MULTICNN MODEL\", size=16)"
      ],
      "execution_count": 25,
      "outputs": [
        {
          "output_type": "execute_result",
          "data": {
            "text/plain": [
              "Text(0.5, 1.0, 'CONFUSION MATRIX - MULTICNN MODEL')"
            ]
          },
          "metadata": {
            "tags": []
          },
          "execution_count": 25
        },
        {
          "output_type": "display_data",
          "data": {
            "image/png": "[encoded data removed]",
            "text/plain": [
              "<Figure size 720x720 with 2 Axes>"
            ]
          },
          "metadata": {
            "tags": [],
            "needs_background": "light"
          }
        }
      ]
    },
    {
      "cell_type": "code",
      "metadata": {
        "id": "7W_KXlVoLNhY"
      },
      "source": [
        ""
      ],
      "execution_count": null,
      "outputs": []
    }
  ]
}